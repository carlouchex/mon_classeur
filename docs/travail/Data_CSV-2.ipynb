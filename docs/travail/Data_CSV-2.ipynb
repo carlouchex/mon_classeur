{
 "cells": [
  {
   "attachments": {},
   "cell_type": "markdown",
   "metadata": {
    "id": "Ryw8g2QaSoT0"
   },
   "source": [
    "<center><font color=\"orange\" size=\"6\"><strong>Les données structurées au format CSV (2nde partie)</strong></font></center>\n",
    "<br>\n",
    "<center><font color=\"orange\" size=\"6\">① Lecture &nbsp;&nbsp;&nbsp;&nbsp;&nbsp;&nbsp;&nbsp;② requêtes &nbsp;&nbsp;&nbsp;&nbsp;&nbsp;&nbsp;&nbsp;③ Tris</font></center>\n",
    "<br>\n"
   ]
  },
  {
   "attachments": {},
   "cell_type": "markdown",
   "metadata": {
    "id": "Iw39n7Yy_Q3m"
   },
   "source": [
    "\n",
    "\n",
    "---\n",
    "\n",
    "<center><font color=\"orange\" size=\"6\"><b>TP d'application</b></font></center>\n",
    "\n",
    "\n",
    "---\n",
    "\n"
   ]
  },
  {
   "attachments": {},
   "cell_type": "markdown",
   "metadata": {
    "id": "VBR9FwjkkIJb"
   },
   "source": [
    "⏬ Téléchargez maintenant le fichier [villes.csv](https://ericecmorlaix.github.io/1NSI_2022-2023/villes.csv) puis importez le dans le même dossier que ce notebook. Il est trop volumineux pour un affichage rapide.... vous allez devoir travailler dessus pour savoir ce qu'il contient !\n",
    "\n",
    "Nous reprenons la fonction readCSV du [1er TP](Data_CSV-1.ipynb)"
   ]
  },
  {
   "cell_type": "code",
   "execution_count": 4,
   "metadata": {
    "id": "QqPUDQSsSoT3"
   },
   "outputs": [],
   "source": [
    "import csv\n",
    "def readCSV( filename:str ) -> list :\n",
    "    '''\n",
    "    Entrée : nom d'un fichier CSV ;\n",
    "    Sortie : la fonction renvoie les données lues dans une liste de dictionnaires et affiche le nombre d'enregistrements ;\n",
    "    '''\n",
    "    with open(filename, mode = \"r\" , encoding='utf-8' , newline = '') as csvFile :\n",
    "        reader = csv.DictReader(csvFile)\n",
    "        lu = [dict(ligne) for ligne in reader]\n",
    "    print(f'Il y a {len(lu)} enregistrements (lignes) lus dans cette table')\n",
    "    return lu\n",
    "    "
   ]
  },
  {
   "attachments": {},
   "cell_type": "markdown",
   "metadata": {
    "id": "HIOwVFld753F"
   },
   "source": [
    "<font color=\"orange\" size=\"4\">➽ Lire villes.csv et  créer la liste <u>*villes*</u> en utilisant notre fonction readCSV() :</font>"
   ]
  },
  {
   "cell_type": "code",
   "execution_count": 5,
   "metadata": {
    "colab": {
     "base_uri": "https://localhost:8080/"
    },
    "id": "UEUVZCH97MBQ",
    "outputId": "ad1167a7-248c-43fd-b1f0-6efecd28647e"
   },
   "outputs": [
    {
     "name": "stdout",
     "output_type": "stream",
     "text": [
      "Help on function readCSV in module __main__:\n",
      "\n",
      "readCSV(filename: str) -> list\n",
      "    Entrée : nom d'un fichier CSV ;\n",
      "    Sortie : la fonction renvoie les données lues dans une liste de dictionnaires et affiche le nombre d'enregistrements ;\n",
      "\n",
      "Il y a 36700 enregistrements (lignes) lus dans cette table\n"
     ]
    }
   ],
   "source": [
    "# Avec la fonction readCSV() \n",
    "help(readCSV)\n",
    "villes = readCSV('villes.csv')"
   ]
  },
  {
   "attachments": {},
   "cell_type": "markdown",
   "metadata": {
    "id": "kpVZvzndlQMd"
   },
   "source": [
    "<font color=\"orange\" size=\"4\">➽ Affichez toutes les infos de la première ville du fichier :</font>"
   ]
  },
  {
   "cell_type": "code",
   "execution_count": 6,
   "metadata": {
    "colab": {
     "base_uri": "https://localhost:8080/"
    },
    "id": "sAJJoSNClXVP",
    "outputId": "40713636-8251-47e3-8a08-cebadf99b99f"
   },
   "outputs": [
    {
     "name": "stdout",
     "output_type": "stream",
     "text": [
      "{'dep': '1', 'nom': 'Ozan', 'cp': '1190', 'nb_hab_2010': '618', 'nb_hab_1999': '469', 'nb_hab_2012': '500', 'dens': '93', 'surf': '6.6', 'long': '4.91667', 'lat': '46.3833', 'alt_min': '170', 'alt_max': '205'}\n"
     ]
    }
   ],
   "source": [
    "# votre code\n",
    "print(villes[0])\n"
   ]
  },
  {
   "attachments": {},
   "cell_type": "markdown",
   "metadata": {},
   "source": [
    "> **Résultat attendu** :\n",
    ">```\n",
    "{'dep': '1',\n",
    " 'nom': 'Ozan',\n",
    " 'cp': '1190',\n",
    " 'nb_hab_2010': '618',\n",
    " 'nb_hab_1999': '469',\n",
    " 'nb_hab_2012': '500',\n",
    " 'dens': '93',\n",
    " 'surf': '6.6',\n",
    " 'long': '4.91667',\n",
    " 'lat': '46.3833',\n",
    " 'alt_min': '170',\n",
    " 'alt_max': '205'}\n",
    " ```"
   ]
  },
  {
   "attachments": {},
   "cell_type": "markdown",
   "metadata": {
    "id": "iQoqLsHjlzvP"
   },
   "source": [
    "<font color=\"orange\" size=\"4\">➽ Affichez le nombre de villes:</font>"
   ]
  },
  {
   "cell_type": "code",
   "execution_count": 7,
   "metadata": {
    "colab": {
     "base_uri": "https://localhost:8080/"
    },
    "id": "BSU6YkvK_r_J",
    "outputId": "5e2647cd-ca66-4b79-acbf-c36e6daa0222"
   },
   "outputs": [
    {
     "name": "stdout",
     "output_type": "stream",
     "text": [
      "Il y a 36700 enregistrements (lignes) lus dans cette table\n"
     ]
    }
   ],
   "source": [
    "# votre code\n",
    "len(villes)"
   ]
  },
  {
   "attachments": {},
   "cell_type": "markdown",
   "metadata": {},
   "source": [
    "> **Résultat attendu** :\n",
    ">```\n",
    "36700\n",
    " ```"
   ]
  },
  {
   "attachments": {},
   "cell_type": "markdown",
   "metadata": {
    "id": "2vMTMq9uRTbC"
   },
   "source": [
    "<font color=\"orange\" size=\"4\">➽ Affichez les noms de toutes les villes de plus de 300000 habitants en 2012: \n",
    "\n",
    "(vous précéderez du nombre de ces villes)</font>"
   ]
  },
  {
   "cell_type": "code",
   "execution_count": 21,
   "metadata": {
    "id": "dHY6PZ89_ukh"
   },
   "outputs": [
    {
     "name": "stdout",
     "output_type": "stream",
     "text": [
      "En 2012, il y avait 5 villes de plus de 300000 habitants :\n",
      " - Nice\n",
      " - Marseille\n",
      " - Toulouse\n",
      " - Lyon\n",
      " - Paris\n"
     ]
    }
   ],
   "source": [
    "villes300k2012 = [ville['nom'] for ville in villes if int(ville['nb_hab_2012']) > 300000]\n",
    "print(f'En 2012, il y avait {len(villes300k2012)} villes de plus de 300000 habitants :')\n",
    "for nom_ville in villes300k2012:                      \n",
    "    print(f' - {nom_ville}')"
   ]
  },
  {
   "attachments": {},
   "cell_type": "markdown",
   "metadata": {},
   "source": [
    "> **Résultat attendu** :\n",
    ">```\n",
    ">En 2012, il y avait 5 villes de plus de 300000 habitants :\n",
    "> - Nice\n",
    "> - Marseille\n",
    "> - Toulouse\n",
    "> - Lyon\n",
    "> - Paris\n",
    "> ```"
   ]
  },
  {
   "attachments": {},
   "cell_type": "markdown",
   "metadata": {
    "id": "bz9kKi1FPQNS"
   },
   "source": [
    "<font color=\"orange\" size=\"4\">➽ Affichez les noms et le nombre d'habitants de toutes les villes de plus de 300000 habitants en 2012 : \n",
    "\n",
    "(vous précéderez du nombre de ces villes et vous afficherez des tuples)</font>"
   ]
  },
  {
   "cell_type": "code",
   "execution_count": 25,
   "metadata": {
    "colab": {
     "base_uri": "https://localhost:8080/"
    },
    "id": "JqtTBPoLmN8K",
    "outputId": "a51b0eec-1b85-46da-9d4c-e1768afa3944"
   },
   "outputs": [
    {
     "name": "stdout",
     "output_type": "stream",
     "text": [
      "En 2012, il y avait 5 villes de plus de 300000 habitants :\n",
      " - ('Nice', '344900')\n",
      " - ('Marseille', '851400')\n",
      " - ('Toulouse', '439600')\n",
      " - ('Lyon', '474900')\n",
      " - ('Paris', '2211000')\n"
     ]
    }
   ],
   "source": [
    "villes300k2012tuples = [(ville['nom'], ville['nb_hab_2012']) for ville in villes if int(ville['nb_hab_2012']) > 300000]\n",
    "print(f'En 2012, il y avait {len(villes300k2012tuples)} villes de plus de 300000 habitants :')\n",
    "for nom_ville in villes300k2012tuples:                      \n",
    "    print(f' - {nom_ville}')"
   ]
  },
  {
   "attachments": {},
   "cell_type": "markdown",
   "metadata": {},
   "source": [
    "> **Résultat attendu** :\n",
    ">```\n",
    "En 2012, il y avait 5 villes de plus de 300000 habitants :\n",
    "('Nice', '344900')\n",
    "('Marseille', '851400')\n",
    "('Toulouse', '439600')\n",
    "('Lyon', '474900')\n",
    "('Paris', '2211000')\n",
    "```"
   ]
  },
  {
   "attachments": {},
   "cell_type": "markdown",
   "metadata": {
    "id": "LHLHNUlQymXe"
   },
   "source": [
    "<font color=\"orange\" size=\"4\">➽ Refaire la même chose, mais cette fois en créant une liste de dictionnaires: \n",
    "\n",
    "(vous précéderez du nombre de ces villes et vous afficherez des dictionnaires)</font>"
   ]
  },
  {
   "cell_type": "code",
   "execution_count": 27,
   "metadata": {
    "id": "9rWSwrHFzT7K"
   },
   "outputs": [
    {
     "name": "stdout",
     "output_type": "stream",
     "text": [
      "En 2012, il y avait 5 villes de plus de 300000 habitants :\n",
      "{'nom': 'Nice', 'nb_hab_2012': '344900'}\n",
      "{'nom': 'Marseille', 'nb_hab_2012': '851400'}\n",
      "{'nom': 'Toulouse', 'nb_hab_2012': '439600'}\n",
      "{'nom': 'Lyon', 'nb_hab_2012': '474900'}\n",
      "{'nom': 'Paris', 'nb_hab_2012': '2211000'}\n"
     ]
    }
   ],
   "source": [
    "villes300k2012dict = [{'nom': ville['nom'], 'nb_hab_2012': ville['nb_hab_2012']} for ville in villes if int(ville['nb_hab_2012']) > 300000]\n",
    "print(f'En 2012, il y avait {len(villes300k2012dict)} villes de plus de 300000 habitants :')\n",
    "for nom_ville in villes300k2012dict:                      \n",
    "    print(nom_ville)"
   ]
  },
  {
   "attachments": {},
   "cell_type": "markdown",
   "metadata": {},
   "source": [
    "> **Résultat attendu** :\n",
    ">```\n",
    "En 2012, il y avait 5 villes de plus de 300000 habitants :\n",
    "{'nom': 'Nice', 'nb_hab_2012': '344900'}\n",
    "{'nom': 'Marseille', 'nb_hab_2012': '851400'}\n",
    "{'nom': 'Toulouse', 'nb_hab_2012': '439600'}\n",
    "{'nom': 'Lyon', 'nb_hab_2012': '474900'}\n",
    "{'nom': 'Paris', 'nb_hab_2012': '2211000'}\n",
    "```"
   ]
  },
  {
   "attachments": {},
   "cell_type": "markdown",
   "metadata": {
    "id": "hM48srdhoD-P"
   },
   "source": [
    "<font color=\"orange\" size=\"4\">➽ Triez la liste villes300k2012tuples de la plus à la moins peuplée : \n",
    "</font>"
   ]
  },
  {
   "cell_type": "code",
   "execution_count": null,
   "metadata": {
    "colab": {
     "base_uri": "https://localhost:8080/"
    },
    "id": "mCPla6b8oD-Q",
    "outputId": "1667c19c-112a-415f-eceb-d9bc8ab9f67d"
   },
   "outputs": [],
   "source": [
    "# il faut définir une fonction clef() qui prend un tuple et renvoie l'élément d'indice souhaité pour le tri\n",
    "# puis sort(key=clef(tuple))...) comme pour trier une liste de dictionnaire"
   ]
  },
  {
   "cell_type": "code",
   "execution_count": 31,
   "metadata": {},
   "outputs": [
    {
     "ename": "SyntaxError",
     "evalue": "invalid syntax. Perhaps you forgot a comma? (3268204647.py, line 9)",
     "output_type": "error",
     "traceback": [
      "\u001b[0;36m  Cell \u001b[0;32mIn[31], line 9\u001b[0;36m\u001b[0m\n\u001b[0;31m    print('En 2012, il y avit 5 villes de plus de 300000 habitants : 'ville)\u001b[0m\n\u001b[0m          ^\u001b[0m\n\u001b[0;31mSyntaxError\u001b[0m\u001b[0;31m:\u001b[0m invalid syntax. Perhaps you forgot a comma?\n"
     ]
    }
   ],
   "source": [
    "# Créez  2 clés avec notre dictionnaire\n",
    "\n",
    "def cle_villes300k2012tuples(dico) :\n",
    "    return int(dico['villes300k2012tuples'])\n",
    "\n",
    "villes.sort(key = villes300k2012tuples)\n",
    "\n",
    "for ville in villes:\n",
    "    print('En 2012, il y avit 5 villes de plus de 300000 habitants : 'ville)\n"
   ]
  },
  {
   "attachments": {},
   "cell_type": "markdown",
   "metadata": {},
   "source": [
    "> **Résultat attendu** :\n",
    ">```\n",
    "En 2012, il y avait 5 villes de plus de 300000 habitants :\n",
    "('Paris', '2211000')\n",
    "('Marseille', '851400')\n",
    "('Lyon', '474900')\n",
    "('Toulouse', '439600')\n",
    "('Nice', '344900')\n",
    "```"
   ]
  },
  {
   "attachments": {},
   "cell_type": "markdown",
   "metadata": {
    "id": "m4kBfJQA0obg"
   },
   "source": [
    "<font color=\"orange\" size=\"4\">➽ Triez de même la liste villes300k2012dict de la plus à la moins peuplée : \n",
    "</font>"
   ]
  },
  {
   "cell_type": "code",
   "execution_count": null,
   "metadata": {
    "colab": {
     "base_uri": "https://localhost:8080/"
    },
    "id": "4zot0WOy0obj",
    "outputId": "a0d9dc19-a8f9-4bf5-8fdf-d60ad6a92f3a"
   },
   "outputs": [],
   "source": [
    "# à vous"
   ]
  },
  {
   "attachments": {},
   "cell_type": "markdown",
   "metadata": {},
   "source": [
    "> **Résultat attendu** :\n",
    ">```\n",
    "En 2012, il y avait 5 villes de plus de 300000 habitants :\n",
    "{'nom': 'Paris', 'nb_hab_2012': '2211000'}\n",
    "{'nom': 'Marseille', 'nb_hab_2012': '851400'}\n",
    "{'nom': 'Lyon', 'nb_hab_2012': '474900'}\n",
    "{'nom': 'Toulouse', 'nb_hab_2012': '439600'}\n",
    "{'nom': 'Nice', 'nb_hab_2012': '344900'}\n",
    "```"
   ]
  },
  {
   "attachments": {},
   "cell_type": "markdown",
   "metadata": {
    "id": "4vkODhF9PfMx"
   },
   "source": [
    "<font color=\"orange\" size=\"4\">➽ Affichez les noms et nombres d'habitants en 2012 triés par ordre décroissant des villes situées au Finistère comptant plus de 10000 âmes : \n",
    "\n",
    "(vous précéderez du nombre de ces villes et vous afficherez des dictionnaires) :\n",
    "\n",
    "</font>"
   ]
  },
  {
   "cell_type": "code",
   "execution_count": null,
   "metadata": {
    "id": "sYsren03ppFI"
   },
   "outputs": [],
   "source": [
    "villesPlus10k_29 = ..."
   ]
  },
  {
   "attachments": {},
   "cell_type": "markdown",
   "metadata": {},
   "source": [
    "> **Résultat attendu** :\n",
    ">```\n",
    "En 2012, il y avait 11 villes de plus de 10000 habitants au Finistère :\n",
    "{'nom': 'Brest', 'nb_hab_2012': '142100'}\n",
    "{'nom': 'Quimper', 'nb_hab_2012': '63900'}\n",
    "{'nom': 'Concarneau', 'nb_hab_2012': '20100'}\n",
    "{'nom': 'Morlaix', 'nb_hab_2012': '15600'}\n",
    "{'nom': 'Douarnenez', 'nb_hab_2012': '15100'}\n",
    "{'nom': 'Landerneau', 'nb_hab_2012': '15000'}\n",
    "{'nom': 'Guipavas', 'nb_hab_2012': '13800'}\n",
    "{'nom': 'Plougastel-Daoulas', 'nb_hab_2012': '13100'}\n",
    "{'nom': 'Plouzané', 'nb_hab_2012': '11700'}\n",
    "{'nom': 'Quimperlé', 'nb_hab_2012': '11100'}\n",
    "{'nom': 'Le Relecq-Kerhuon', 'nb_hab_2012': '10800'}\n",
    "```"
   ]
  },
  {
   "attachments": {},
   "cell_type": "markdown",
   "metadata": {},
   "source": [
    "### Rappel affichage en MarkDown :\n",
    "\n",
    "La fonction `Markdown()` du module `IPython.display` permet d'afficher directement une chaine de caractères écrite en langage **Markdown** :"
   ]
  },
  {
   "cell_type": "code",
   "execution_count": 13,
   "metadata": {},
   "outputs": [
    {
     "data": {
      "text/markdown": [
       "| d | b | h |\n",
       "|:-:|:-:|:-:|\n",
       "| 0 | 0b0 | 0x0 |\n",
       "| 1 | 0b1 | 0x1 |\n",
       "| 2 | 0b10 | 0x2 |\n",
       "| 3 | 0b11 | 0x3 |\n",
       "| 4 | 0b100 | 0x4 |\n",
       "| 5 | 0b101 | 0x5 |\n",
       "| 6 | 0b110 | 0x6 |\n",
       "| 7 | 0b111 | 0x7 |\n",
       "| 8 | 0b1000 | 0x8 |\n",
       "| 9 | 0b1001 | 0x9 |\n",
       "| 10 | 0b1010 | 0xa |\n",
       "| 11 | 0b1011 | 0xb |\n",
       "| 12 | 0b1100 | 0xc |\n",
       "| 13 | 0b1101 | 0xd |\n",
       "| 14 | 0b1110 | 0xe |\n",
       "| 15 | 0b1111 | 0xf |\n"
      ],
      "text/plain": [
       "<IPython.core.display.Markdown object>"
      ]
     },
     "execution_count": 13,
     "metadata": {},
     "output_type": "execute_result"
    }
   ],
   "source": [
    "# exemple de script pour un affichage en MarkDown dans \n",
    "from IPython.display import Markdown\n",
    "\n",
    "S = \"| d | b | h |\" + \"\\n\"\n",
    "S += \"|:-:\" * 3 + \"|\" + \"\\n\"\n",
    "\n",
    "for i in range(16) :\n",
    "    S += f\"| {i} | {bin(i)} | {hex(i)} |\" + \"\\n\"\n",
    "\n",
    "Markdown(S)"
   ]
  },
  {
   "attachments": {},
   "cell_type": "markdown",
   "metadata": {},
   "source": [
    "<font color=\"orange\" size=\"4\">➽ Reprendre l'affichage des noms et nombres d'habitants en 2012 triés par ordre décroissant des villes situées au Finistère comptant plus de 10000 âmes pour obtenir un tableau tel que : \n",
    "</font>\n",
    "\n",
    "En 2012, il y avait **11** villes de plus de 10000 habitants au Finistère :\n",
    "\n",
    "| Ville | Habitants |\n",
    "|:-|-:|\n",
    "| Brest | 142100 |\n",
    "| Quimper | 63900 |\n",
    "| Concarneau | 20100 |\n",
    "| Morlaix | 15600 |\n",
    "| Douarnenez | 15100 |\n",
    "| Landerneau | 15000 |\n",
    "| Guipavas | 13800 |\n",
    "| Plougastel-Daoulas | 13100 |\n",
    "| Plouzané | 11700 |\n",
    "| Quimperlé | 11100 |\n",
    "| Le Relecq-Kerhuon | 10800 |\n"
   ]
  },
  {
   "attachments": {},
   "cell_type": "markdown",
   "metadata": {
    "id": "IlGEgW1ABOnS"
   },
   "source": [
    "Deux dernières petites choses : il est aussi possible d'ajouter des colonnes, et bien sur aussi d'enregistrer notre travail !"
   ]
  },
  {
   "attachments": {},
   "cell_type": "markdown",
   "metadata": {
    "id": "7mavAt5JPzxl"
   },
   "source": [
    "<font color=\"orange\" size=\"6\">➽ Ajouter une colonne</font>\n"
   ]
  },
  {
   "cell_type": "code",
   "execution_count": 14,
   "metadata": {
    "colab": {
     "base_uri": "https://localhost:8080/"
    },
    "id": "1GtayLhkP9h-",
    "outputId": "a781e028-4a1a-4dfd-cd0c-a2e9ea817a63"
   },
   "outputs": [
    {
     "data": {
      "text/plain": [
       "{'dep': '1',\n",
       " 'nom': 'Ozan',\n",
       " 'cp': '1190',\n",
       " 'nb_hab_2010': '618',\n",
       " 'nb_hab_1999': '469',\n",
       " 'nb_hab_2012': '500',\n",
       " 'dens': '93',\n",
       " 'surf': '6.6',\n",
       " 'long': '4.91667',\n",
       " 'lat': '46.3833',\n",
       " 'alt_min': '170',\n",
       " 'alt_max': '205',\n",
       " 'diff2012_2010': -118}"
      ]
     },
     "execution_count": 14,
     "metadata": {},
     "output_type": "execute_result"
    }
   ],
   "source": [
    "# ajoutons une clé à nos dictionnaires\n",
    "# soit une colonne si on enrengistre ensuite\n",
    "for v in villes :\n",
    "    v['diff2012_2010'] = int(v['nb_hab_2012']) - int(v['nb_hab_2010'])\n",
    "villes[0]"
   ]
  },
  {
   "attachments": {},
   "cell_type": "markdown",
   "metadata": {
    "id": "n6sMie2tP9iK"
   },
   "source": [
    "<font color=\"orange\" size=\"4\">➽ Ecrivez un script pour afficher les informations suivantes :</font>\n",
    "\n",
    "> ```\n",
    ">Il y a 14956 villes dont la population a augmenté entre 2010 et 2012 :\n",
    "> - la plus forte hausse est de +3303 pour Le Havre ;\n",
    "> - la variation totale de population pour ces villes en croissance est de 627487 ;\n",
    "> - la variation totale de population pour l'ensemble des villes Françaises est de -621369.\n",
    ">```"
   ]
  },
  {
   "cell_type": "code",
   "execution_count": null,
   "metadata": {
    "id": "qM3yB3XaTOVG"
   },
   "outputs": [],
   "source": [
    "# trier la liste des villes par diff décroissant\n",
    "\n",
    "# extraire les ville ou la diff est >=0\n",
    "# (on pourra se contenter de tuples)\n",
    "\n",
    "# afficher le nb_hab de la 1ere ville\n",
    "\n",
    "# extraire la colonne diff dans une liste et faire la somme\n",
    "\n",
    "# faire la somme des diff de toutes les villes\n"
   ]
  },
  {
   "attachments": {},
   "cell_type": "markdown",
   "metadata": {
    "id": "4QIfd2H5Dlpf"
   },
   "source": [
    "<font color=\"orange\" size=\"6\">➽ Modifier une colonne</font>\n",
    "\n",
    "Il est possible de modifer les éléments d'une colonne :\n",
    "\n",
    "- on parcours la liste\n",
    "- pour chaque élément, on modifie la colonne"
   ]
  },
  {
   "cell_type": "code",
   "execution_count": null,
   "metadata": {
    "id": "sXpBxJvQEzop"
   },
   "outputs": [],
   "source": [
    "# exemple : on va ajouter 1 habitant dans toutes les villes :\n",
    "\n",
    "print(\"avant :\")\n",
    "for i in range(5) :\n",
    "    print(f\" - {villes[i]['nom']} : {villes[i]['nb_hab_1999']}\")\n",
    "\n",
    "# modification :\n",
    "for v in villes :\n",
    "    v['nb_hab_1999'] = str( int(  v['nb_hab_1999'] ) + 1 )\n",
    "\n",
    "\n",
    "print('----------------------')\n",
    "print(\"après :\")\n",
    "for i in range(5) :\n",
    "    print(f\" - {villes[i]['nom']} : {villes[i]['nb_hab_1999']}\")"
   ]
  },
  {
   "attachments": {},
   "cell_type": "markdown",
   "metadata": {
    "id": "odcVYuHIGkBK"
   },
   "source": [
    "<font color=\"orange\" size=\"6\">➽ Modifier le type d'une ou plusieurs colonnes</font>\n",
    "\n",
    "Dans l'exemple précédent, on a converti en `int` puis reconverti en `str`.\n",
    "\n",
    "C'est un peu lourd et finalement, il serait plutôt judicieux de convertir en `int` ou `float` les colonnes numériques.\n",
    "\n",
    "Téléchargez puis importez le fichier [libCSV0.py](libCSV0.py)\n",
    "\n",
    "Il contient une librairie (très limitée) de fonctions de traitement de listes de dictionnaires. Nous examinerons son contenu ultérieurement, nous allons d'abord voir comment utiliser une librairie en s'appuyant seulement sur `help()`"
   ]
  },
  {
   "cell_type": "code",
   "execution_count": null,
   "metadata": {
    "colab": {
     "base_uri": "https://localhost:8080/"
    },
    "id": "vphOFGAeHnOE",
    "outputId": "fc48c8e8-6108-4f66-f659-b9c2a6e06ecc"
   },
   "outputs": [],
   "source": [
    "from  libCSV0 import *\n",
    "\n",
    "help(setColType)"
   ]
  },
  {
   "attachments": {},
   "cell_type": "markdown",
   "metadata": {
    "id": "5y2-b3T5Id0L"
   },
   "source": [
    "<font color=\"orange\" size=\"4\">➽ Utilisez la fonction setColType pour convertir en int une colonne</font>\n",
    "\n",
    "Convertir en `int` la colonnes `'nb_hab_1999'` :\n"
   ]
  },
  {
   "cell_type": "code",
   "execution_count": null,
   "metadata": {
    "id": "TEx9oEbxId0M"
   },
   "outputs": [],
   "source": [
    "# votre code"
   ]
  },
  {
   "cell_type": "code",
   "execution_count": null,
   "metadata": {
    "id": "a0BlajqoMaPX"
   },
   "outputs": [],
   "source": [
    "assert type(villes[0]['nb_hab_1999']) == int\n",
    "print(\"Si ce message s'affiche c'est que le test unitaire c'est bien passé...\")"
   ]
  },
  {
   "attachments": {},
   "cell_type": "markdown",
   "metadata": {
    "id": "BhNDh2Vz3_Db"
   },
   "source": [
    "<font color=\"orange\" size=\"6\">➽ Enregistrer le travail</font>\n"
   ]
  },
  {
   "cell_type": "code",
   "execution_count": 15,
   "metadata": {
    "id": "gNhFODJg4AEe"
   },
   "outputs": [],
   "source": [
    "# on extrait une portion du fichier :\n",
    "vPlus = [(v['nom'],v['nb_hab_2010'],v['nb_hab_2012'],v['diff2012_2010']) for v in villes if v['diff2012_2010'] > 0 ]\n",
    "\n",
    "# et on enregistre :\n",
    "with open('villes_hausse2012.csv', 'w', newline='') as csvfile:\n",
    "    fieldnames = ['nom', 'nb_hab_2010', 'nb_hab_2012','diff2012_2010']\n",
    "    writer = csv.DictWriter(csvfile, fieldnames=fieldnames)\n",
    "\n",
    "    writer.writeheader()\n",
    "    for v in vPlus :\n",
    "        writer.writerow({'nom': v[0], 'nb_hab_2010': v[1],'nb_hab_2012':v[2] ,'diff2012_2010':v[3]})\n"
   ]
  },
  {
   "attachments": {},
   "cell_type": "markdown",
   "metadata": {
    "id": "a4PqVScQ55Fg"
   },
   "source": [
    "> Ouvrir le fichier `villes_hausse2012.csv` créé dans le même dossier que ce notebook pour vérifier."
   ]
  },
  {
   "attachments": {},
   "cell_type": "markdown",
   "metadata": {
    "id": "UrHwTvOZVX5-"
   },
   "source": [
    "\n",
    "<center>\n",
    "\n",
    "---\n",
    "\n",
    "*Auteurs* :  **Jean-Louis Thirot - Mireille Coilhac**\n",
    "    \n",
    "Adaptation Finistérienne par <a href=\"mailto:eric.madec@ecmorlaix.fr\">Eric MADEC</a> avec `f-string` et affichage `MarkDown`     \n",
    "\n",
    "Publié sous licence CC BY-NC-SA\n",
    "\n",
    "\n",
    "---\n",
    "<a rel=\"license\" href=\"http://creativecommons.org/licenses/by-nc-sa/4.0/\"><img alt=\"Creative Commons License\" style=\"border-width:0\" width=\"200\" src=\"https://s2.qwant.com/thumbr/700x0/f/9/436dcce5e02185c0b2e1b0e7a969aa81d7b0438d0a7f2eaee89abb9661b70b/cc-by-nc-sa.svg_.png?u=http%3A%2F%2Fopensiddur.org%2Fwp-content%2Fuploads%2F2011%2F03%2Fcc-by-nc-sa.svg_.png&q=0&b=1&p=0&a=1\" /></a><br />This work is licensed under a <a rel=\"license\" href=\"http://creativecommons.org/licenses/by-nc-sa/4.0/\">Creative Commons Attribution-NonCommercial-ShareAlike 4.0 International License</a>. "
   ]
  }
 ],
 "metadata": {
  "colab": {
   "collapsed_sections": [],
   "name": "CSV lecture requetes tris 2: APPLIQUER (1ere) - sujet.ipynb",
   "provenance": []
  },
  "kernelspec": {
   "display_name": "Python 3",
   "language": "python",
   "name": "python3"
  },
  "language_info": {
   "codemirror_mode": {
    "name": "ipython",
    "version": 3
   },
   "file_extension": ".py",
   "mimetype": "text/x-python",
   "name": "python",
   "nbconvert_exporter": "python",
   "pygments_lexer": "ipython3",
   "version": "3.11.1"
  }
 },
 "nbformat": 4,
 "nbformat_minor": 1
}
