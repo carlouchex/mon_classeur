{
 "cells": [
  {
   "cell_type": "markdown",
   "metadata": {},
   "source": [
    "# Un Bloc Note pour débuter en ligne de commande"
   ]
  },
  {
   "attachments": {},
   "cell_type": "markdown",
   "metadata": {},
   "source": [
    "## Présentation :\n",
    "\n",
    "L'objectif de ce document est de vous faire découvrir par la pratique ***les supers pouvoirs de la ligne de commande*** (ce qui impliquent...).\n",
    "\n",
    "Ainsi, vous saurez dialoguer avec le sytème d'exploitation, l'[OS](https://fr.wikipedia.org/wiki/Syst%C3%A8me_d%27exploitation), de votre machine, sans recourir à une interface graphique, en mode console textuelle comme au temps de premiers ordinateurs. Mais figurez-vous que ceci n'appartient pas qu'à l'ère des \"ordinosaures\", bien au contraire...\n",
    "\n",
    "Pour débuter vous allez mener les activités suivantes dans vos environnements usuels : \n",
    "- sur votre iPad, installer les applications `a-Shell mini` et `iSH Shell` depuis la \"bibliothèque d'applications élèves\" et les démarrer ;\n",
    "- sur le serveur [www.gitpod.io](https://www.gitpod.io/){target=_blank} dans l'éditeur en ligne Visual Studio Code ouvrir un nouveau terminal ; \n",
    "- sur un PC du labo de SI, dans `Cortana` rechercher l'application `Ubuntu` et la démarrer ;\n",
    "    \n",
    "Cela à pour effet d'ouvrir une fenêtre qui émule un **Terminal** sur votre écran ;\n",
    "    \n",
    "Le caractère **`$`** s'appelle un **prompt**, c'est-à-dire une invitation à entrer au clavier une commande système dans le Terminal.\n",
    "uname\n",
    "Le programme qui interprète les instructions de commandes système est appelé **shell**\n",
    "\n",
    "> Il existe une grande variété de shells comme [sh](https://fr.wikipedia.org/wiki/Bourne_shell), [bash](https://fr.wikipedia.org/wiki/Bourne-Again_shell), [dash](https://fr.wikipedia.org/wiki/Debian_Almquist_shell), [ksh](https://fr.wikipedia.org/wiki/Korn_shell), [csh](https://fr.wikipedia.org/wiki/C_shell)..., pour les systèmes de type [UNIX](https://fr.wikipedia.org/wiki/Unix) ; \n",
    "> \n",
    "> - Notre serveur JupyterHub est installé sur une distribution Ubuntu Server, c'est un système d'exploitation de type [GNU](https://fr.wikipedia.org/wiki/GNU)/[Linux](https://fr.wikipedia.org/wiki/Noyau_Linux), aussi, le shell par défaut est donc le bash.\n",
    ">\n",
    "> - Les instructions de commandes de [a-Shell mini](https://apps.apple.com/fr/app/a-shell-mini/id1543537943?l=en#?platform=ipad) sont un portage spécifique de commandes Unix pour iOS et sont volontairement réduites (mais extensibles). Le système d'exploitation installé sur votre iPad se nomme [Darwin](https://fr.wikipedia.org/wiki/Darwin_(informatique)),  aussi [a-Shell](https://github.com/holzschu/a-shell) utilise la version [BSD](https://fr.wikipedia.org/wiki/Berkeley_Software_Distribution) : il y a donc des petites différences dans les options et le comportement des commandes par rapport au bash du projet GNU...\n",
    "\n",
    "Malgré quelques légères variations d'un OS à l'autre, les instructions de commandes pour les systèmes de type [UNIX](https://fr.wikipedia.org/wiki/Unix) sont restées les mêmes depuis les années 1960 et elles fonctionnent aussi bien sous Linux et Mac OS X que maintenant sous Windows 10 avec [PowerShell](https://fr.wikipedia.org/wiki/Windows_PowerShell) et [Windows Subsystem for Linux, WSL](https://fr.wikipedia.org/wiki/Windows_Subsystem_for_Linux). Ainsi donc, **l'apprentissage que vous allez faire ici est portable et sera très certainement durable**...\n",
    "\n",
    "Les instructions de commandes système s'écrivent donc dans un terminal après une invite et ont la forme suivante :\n",
    "\n",
    "**`nom_de_la_commande -option(s) attribut(s)`**\n",
    "\n",
    "Par exemple, depuis le serveur du lycée, on peut utiliser de telles commandes :\n",
    "- pour télécharger un fichier disponible sur le web `wget URL_du_fichier` ;\n",
    "- ou pour cloner un dépot GitHub `git clone URL_du_depot.git`.\n",
    "\n",
    "<h3 class='fa fa-graduation-cap' style=\"color: MediumSeaGreen\"> A faire vous même n°1 : </h3>\n",
    "\n",
    "- Pour connaitre votre OS, **saisir** successivement sur iPad, PC et serveur, les instructions :\n",
    "    - `uname` qui renvoie le nom du système d'exploitation de la machine ;\n",
    "    - `uname -a` qui complète avec d'autres informations concernant la version de l'OS et le hardware de la machine...\n",
    "\n",
    "    et **relever** les différences :\n",
    "\n",
    "    Dans mon terminal sur GitPod\n",
    "    *uname* affiche l'OS : ici c'est Linux\n",
    "    alors que\n",
    "    *uname -a* affiche + d'informations tels que l'OS, mon pseudo, et pleins d'autre choses..."
   ]
  },
  {
   "cell_type": "markdown",
   "metadata": {},
   "source": [
    "***\n",
    "\n",
    "## Avertissement, trucs à connaître :\n",
    "\n",
    "- **auto-complétion** : après avoir tapé les premiers caractères, il est possible d'appuyer sur la touche `Tab` qui permet d'ajouter la suite de la commande, du nom du répertoire ou du fichier. Cela évite les erreurs de frappe et est très appréciable pour éviter de saisir le nom de fichier parfois long et complexe comme le nom de certain paquet. Peut être utilisé plusieurs fois si plusieurs noms ont une partie commune. Attention, c'est sensible à la casse !\n",
    "\n",
    "\n",
    "- **historique de commande** : les flèches haut et bas permettent de rappeler des anciennes commandes ; Pour la petite histoire, c'est Bill GATES qui a codé ces touches UNIX quand il était étudiant...\n",
    "\n",
    "\n",
    "- Sur iPad, Nicolas Holzschuch, le développeur de a-Shell mini, a ajouté, comme dans `iSH Shell`, un bandeau en bas de l'application avec des bouton qui assurent, entre autres, les fonctions d'**auto-complétion** et d'**historique de commande**.\n",
    "\n",
    "<img src=\"https://ish.app/assets/iphone-keyboard.webp\" alt=\"IHM d'iSH\" width=60%>\n",
    "\n",
    "<img src=\"https://ericecmorlaix.github.io/img/OS-aShell.png\" alt=\"OS-aShell.png\" width=80%>\n",
    "\n",
    "> Nicolas Holzschuch est Directeur de recherche à l’INRIA de Grenoble-Rhône-Alpes : https://maverick.inria.fr/Members/Nicolas.Holzschuch/, c'est également lui qui développe l'application Carnets.\n",
    "\n",
    "\n",
    "***"
   ]
  },
  {
   "cell_type": "markdown",
   "metadata": {},
   "source": [
    "## Les commandes de bases à découvrir :\n",
    "\n",
    "<h3 class='fa fa-graduation-cap' style=\"color: MediumSeaGreen\"> A faire vous même n°2 : </h3>\n",
    "\n",
    "Pour aller plus avant, la suite de ce notebook présente d'autres commmandes de base à expérimenter dans un terminal...\n",
    "\n",
    "\n",
    "A mesure que vous explorez ce bloc-note et que vous pratiquez la ligne de commande, compléter le tableau suivant pour établir votre synthèse des principales instructions à retenir :\n",
    "\n",
    "|  **Commande**  |  **Option** |  **Paramètre** |  **Action**                     |\n",
    "|:--------------:|:-----------:|:--------------:|:-------------------------------:|\n",
    "| uname          |     ...     |       ...      | ...                             |\n",
    "| ...            |     ...     |       ...      | ...                             |"
   ]
  },
  {
   "cell_type": "markdown",
   "metadata": {},
   "source": [
    "#### Afficher le dossier courant, pwd = present working directory :"
   ]
  },
  {
   "cell_type": "code",
   "execution_count": null,
   "metadata": {},
   "outputs": [],
   "source": [
    "pwd"
   ]
  },
  {
   "cell_type": "markdown",
   "metadata": {},
   "source": [
    "Cette instruction permet de répondre à la question : où suis-je dans l'arborescence des dossiers ?\n",
    "\n",
    "> Sur le serveur du lycée, le texte `jupyter-pnom@r610b:~` indique que vous êtes connecté sur la machine `r610b` sous le nom d'utilisateur `jupyter-pnom` et que le dossier de travail actuel est le dossier `~`, c'est-à-dire votre dossier personnel sur le serveur `/home/jupyter-pnom`.\n",
    "\n",
    "> Le symbole `~` est donc un raccourci pour désigner le dossier personnel de l'utilisateur ; de même les symboles `.` et `..` désignent respectivement le dossier courant et le dossier parent.\n",
    "\n",
    "> Sur votre iPad, l'application a-Shell mini, comme chaque application, a son propre dossier `~`, tel que `private/var/mobile/Containers/Data/Application/1C49F07A-C30F-45E7-ADFD-8C350D68641A`, et par défaut à l'ouverture d'une fenêtre de terminal a-Shell, le dossier courant est `~/Documents`\n",
    "\n",
    "#### Deviner ce que renvoie l'instruction suivante, whoami = ... :"
   ]
  },
  {
   "cell_type": "code",
   "execution_count": null,
   "metadata": {},
   "outputs": [],
   "source": [
    "whoami"
   ]
  },
  {
   "cell_type": "markdown",
   "metadata": {},
   "source": [
    "Cette instruction permet de répondre à la question : ...\n",
    "\n",
    "#### Créer un dossier, mkdir = make directory :\n",
    "\n",
    "> Au fur et à mesure que vous exécutérez les instructions de commande suivantes, observez leur effet sur le serveur JupyterHub dans l'onglet `Home Page` et sur votre iPad avec l'application Fichiers dans le dossier a-Shell mini et ajouter vos propres commentaires d'observation..."
   ]
  },
  {
   "cell_type": "code",
   "execution_count": null,
   "metadata": {},
   "outputs": [],
   "source": [
    "mkdir monDossier"
   ]
  },
  {
   "cell_type": "markdown",
   "metadata": {},
   "source": [
    "#### Créer un fichier vide au format markdown :"
   ]
  },
  {
   "cell_type": "code",
   "execution_count": null,
   "metadata": {},
   "outputs": [],
   "source": [
    "touch monFichierMarkdown.md"
   ]
  },
  {
   "cell_type": "markdown",
   "metadata": {},
   "source": [
    "> Si le fichier existe déjà, la commande `touch` actualise le *timestamp* (l'horadatage) d'accès au fichier.\n",
    "\n",
    "#### Créer un fichier au format texte en y intégrant du contenu par redirection du flux :"
   ]
  },
  {
   "cell_type": "code",
   "execution_count": null,
   "metadata": {},
   "outputs": [],
   "source": [
    "echo \"Salut le monde\" > monFichierTexte.txt"
   ]
  },
  {
   "cell_type": "markdown",
   "metadata": {},
   "source": [
    "> `echo` est équivalent à un `print()` en python ; ainsi `echo \"Salut le monde\"` affiche en console le message `Salut le monde`.\n",
    "\n",
    "> Le symbole `>` fait une redirection du flux ; ainsi, avec la commande `echo \"Salut le monde\" > monFichierTexte.txt`, la valeur renvoyée par `echo \"Salut le monde\"` est inscrite dans le fichier `monFichierTexte.txt` qui est créé s'il n'existe pas préalablement."
   ]
  },
  {
   "cell_type": "markdown",
   "metadata": {},
   "source": [
    "#### Afficher le contenu d'un fichier :"
   ]
  },
  {
   "cell_type": "code",
   "execution_count": null,
   "metadata": {},
   "outputs": [],
   "source": [
    "cat monFichierTexte.txt"
   ]
  },
  {
   "cell_type": "markdown",
   "metadata": {},
   "source": [
    "> `cat` est la contraction en anglais de *catenate* c'est à dire concaténer..."
   ]
  },
  {
   "cell_type": "code",
   "execution_count": null,
   "metadata": {},
   "outputs": [],
   "source": [
    "less monFichierTexte.txt # touche \"Q\" pour quitter l'affichage et revenir au prompt"
   ]
  },
  {
   "cell_type": "markdown",
   "metadata": {},
   "source": [
    "> **Observer** et **expliquer** ce que produisent les instruction suivantes :\n",
    "> ```bash\n",
    "cat monFichierTexte.txt > monAutreFichierTexte.txt\n",
    "cat monAutreFichierTexte.txt\n",
    "```\n",
    "> ...\n",
    "\n",
    "\n",
    "> **Observer** et **expliquer** la différence entre les deux séquences d'instructions suivantes :\n",
    "> ```bash\n",
    "echo \"Hello world\" > monFichierTexte.txt\n",
    "cat monFichierTexte.txt\n",
    "```\n",
    "> et :\n",
    "> ```bash\n",
    "echo \"Demat d'an holl\" >> monFichierTexte.txt\n",
    "cat monFichierTexte.txt\n",
    "```\n",
    "> ...\n",
    "\n",
    "\n",
    "> **Observer** et **expliquer** ce que produit l'instruction suivante :\n",
    "> ```bash\n",
    "cat monAutreFichierTexte.txt monFichierTexte.txt > monFichierMarkdown.md\n",
    "cat monFichierMarkdown.md\n",
    "```\n",
    "> ...\n",
    "\n",
    "\n",
    "#### Afficher avec la commande [cowsay](https://debian-facile.org/doc:jeux:cowsay) = ... :"
   ]
  },
  {
   "cell_type": "code",
   "execution_count": null,
   "metadata": {},
   "outputs": [],
   "source": [
    "cowsay 'Bonjour'"
   ]
  },
  {
   "cell_type": "markdown",
   "metadata": {},
   "source": [
    "> Décrire ce que produit l'instruction `cowsay` : ....\n",
    "\n",
    "> **Observer** ce que produit l'instruction suivante sachant que le symbole `|`, *pipe* en Anglais, permet de relier le flux de sortie d'une commande au flux d'entrée d'une autre : ...\n",
    "> ```bash\n",
    "cat monAutreFichierTexte.txt | cowsay -p -T 'U '\n",
    "```\n",
    "> ...\n",
    "\n",
    "> **Expliquer** alors ce que produit l'instruction suivante en précisant que permet le symbole `;` :\n",
    "> ```bash\n",
    "cat monFichierMarkdown.md | cowsay > monFichierTexte.txt ; less monFichierTexte.txt\n",
    "```\n",
    "> ...\n",
    "\n",
    "#### Déplacer un fichier, un dossier, mv = move :"
   ]
  },
  {
   "cell_type": "code",
   "execution_count": null,
   "metadata": {},
   "outputs": [],
   "source": [
    "mv monFichierTexte.txt /home/jupyter-pnom/monDossier/ # Sur le serveur, remplacer \"pnom\" par votre nom d'utilisateur"
   ]
  },
  {
   "cell_type": "code",
   "execution_count": null,
   "metadata": {},
   "outputs": [],
   "source": [
    "mv monFichierTexte.txt monDossier/ # Sur iPad"
   ]
  },
  {
   "cell_type": "markdown",
   "metadata": {},
   "source": [
    "> - Commentez pour la destination s'il s'agit d'un chemin absolu ou relatif ;\n",
    "> - Pensez à rafraichir l'affichage dans Fichiers sur iPad comme dans l'onglet `Home Page` sur le serveur.\n",
    "\n",
    "> Remarque : `mv monFichierTexte.txt monDossier/toto.txt`permet de déplacer le fichier tout en le renommant.\n",
    "\n",
    "#### Copier dans un autre dossier, cp = copy :"
   ]
  },
  {
   "cell_type": "code",
   "execution_count": null,
   "metadata": {},
   "outputs": [],
   "source": [
    "cp monFichierMarkdown.md monDossier/ # Sur le serveur"
   ]
  },
  {
   "cell_type": "code",
   "execution_count": null,
   "metadata": {},
   "outputs": [],
   "source": [
    "cp monFichierMarkdown.md ~/Documents/monDossier/ # Sur iPad"
   ]
  },
  {
   "cell_type": "markdown",
   "metadata": {},
   "source": [
    "#### Changer de dossier courant, cd = change directory :"
   ]
  },
  {
   "cell_type": "code",
   "execution_count": null,
   "metadata": {},
   "outputs": [],
   "source": [
    "cd monDossier"
   ]
  },
  {
   "cell_type": "markdown",
   "metadata": {},
   "source": [
    "> Quelle commande permet de vérifier ce changement ?\n",
    ">\n",
    "> ..."
   ]
  },
  {
   "cell_type": "code",
   "execution_count": null,
   "metadata": {},
   "outputs": [],
   "source": [
    "     # pour vérifier..."
   ]
  },
  {
   "cell_type": "markdown",
   "metadata": {},
   "source": [
    "#### Copier et renommer un fichier :"
   ]
  },
  {
   "cell_type": "code",
   "execution_count": null,
   "metadata": {},
   "outputs": [],
   "source": [
    "cp monFichierTexte.txt monFichierTexteBis.txt"
   ]
  },
  {
   "cell_type": "markdown",
   "metadata": {},
   "source": [
    "#### Lister le contenu d'un dossier"
   ]
  },
  {
   "cell_type": "code",
   "execution_count": null,
   "metadata": {},
   "outputs": [],
   "source": [
    "ls"
   ]
  },
  {
   "cell_type": "code",
   "execution_count": null,
   "metadata": {},
   "outputs": [],
   "source": [
    "ls -a"
   ]
  },
  {
   "cell_type": "code",
   "execution_count": null,
   "metadata": {},
   "outputs": [],
   "source": [
    "ls -l"
   ]
  },
  {
   "cell_type": "code",
   "execution_count": null,
   "metadata": {},
   "outputs": [],
   "source": [
    "ls -al"
   ]
  },
  {
   "cell_type": "code",
   "execution_count": null,
   "metadata": {},
   "outputs": [],
   "source": [
    "ls .."
   ]
  },
  {
   "cell_type": "markdown",
   "metadata": {},
   "source": [
    "#### Aller au dossier racine"
   ]
  },
  {
   "cell_type": "code",
   "execution_count": null,
   "metadata": {},
   "outputs": [],
   "source": [
    "cd /"
   ]
  },
  {
   "cell_type": "code",
   "execution_count": null,
   "metadata": {},
   "outputs": [],
   "source": [
    "ls *"
   ]
  },
  {
   "cell_type": "markdown",
   "metadata": {},
   "source": [
    "#### Revenir au dossier utilisateur par défaut"
   ]
  },
  {
   "cell_type": "code",
   "execution_count": null,
   "metadata": {},
   "outputs": [],
   "source": [
    "cd"
   ]
  },
  {
   "cell_type": "code",
   "execution_count": null,
   "metadata": {},
   "outputs": [],
   "source": [
    "ls *"
   ]
  },
  {
   "cell_type": "markdown",
   "metadata": {},
   "source": [
    "#### Effacer l'affichage du  terminal"
   ]
  },
  {
   "cell_type": "code",
   "execution_count": null,
   "metadata": {},
   "outputs": [],
   "source": [
    "clear"
   ]
  },
  {
   "cell_type": "markdown",
   "metadata": {},
   "source": [
    "####  Supprimer un fichier, rm = remove : ( ATTENTION ! C'est sans retour...)"
   ]
  },
  {
   "cell_type": "code",
   "execution_count": null,
   "metadata": {},
   "outputs": [],
   "source": [
    "rm monFichierMarkdown.md"
   ]
  },
  {
   "cell_type": "markdown",
   "metadata": {},
   "source": [
    "####  Supprimer un dossier et tout son contenu : ( ATTENTION ! C'est radical et sans retour...)\n",
    "\n",
    "> `rmdir` permet de supprimer un dossier seulement s'il est vide"
   ]
  },
  {
   "cell_type": "code",
   "execution_count": null,
   "metadata": {},
   "outputs": [],
   "source": [
    "rm -rf monDossier"
   ]
  },
  {
   "cell_type": "markdown",
   "metadata": {},
   "source": [
    "### Aide et Documentation :\n",
    "\n",
    "#### Pour avoir de l'aide sur une commande :"
   ]
  },
  {
   "cell_type": "code",
   "execution_count": null,
   "metadata": {},
   "outputs": [],
   "source": [
    "rm --help"
   ]
  },
  {
   "cell_type": "markdown",
   "metadata": {},
   "source": [
    "##### ou"
   ]
  },
  {
   "cell_type": "code",
   "execution_count": null,
   "metadata": {},
   "outputs": [],
   "source": [
    "man rm # touche \"Q\" pour quitterhelp"
   ]
  },
  {
   "cell_type": "markdown",
   "metadata": {},
   "source": [
    "#### Pour obtenir l'aide général :"
   ]
  },
  {
   "cell_type": "code",
   "execution_count": null,
   "metadata": {},
   "outputs": [],
   "source": [
    "help"
   ]
  },
  {
   "cell_type": "markdown",
   "metadata": {},
   "source": [
    "### Visualiser le code ou télécharger un fichier disponible sur le web :\n",
    "\n",
    "> La commande `wget` n'est pas disponible dans a-Shell. Nous allons utiliser ici la commande [`curl`](https://fr.wikipedia.org/wiki/CURL) qui est plus commune :\n",
    "#### Afficher la météo :"
   ]
  },
  {
   "cell_type": "code",
   "execution_count": null,
   "metadata": {},
   "outputs": [],
   "source": [
    "curl wttr.in/morlaix"
   ]
  },
  {
   "cell_type": "markdown",
   "metadata": {},
   "source": [
    "#### Afficher l'entête d'une page web :"
   ]
  },
  {
   "cell_type": "code",
   "execution_count": null,
   "metadata": {},
   "outputs": [],
   "source": [
    "curl --head http://api.si.lycee.ecmorlaix.fr/APprentissageHtmlCss/"
   ]
  },
  {
   "cell_type": "markdown",
   "metadata": {},
   "source": [
    "#### Copier le code d'une page web dans un fichier dans le dossier courant : "
   ]
  },
  {
   "cell_type": "code",
   "execution_count": null,
   "metadata": {},
   "outputs": [],
   "source": [
    "curl http://api.si.lycee.ecmorlaix.fr/APprentissageHtmlCss/ > maPage.html"
   ]
  },
  {
   "cell_type": "markdown",
   "metadata": {},
   "source": [
    "#### Télécharger un fichier du web dans le dossier courant :"
   ]
  },
  {
   "cell_type": "code",
   "execution_count": null,
   "metadata": {},
   "outputs": [],
   "source": [
    "curl -O http://api.si.lycee.ecmorlaix.fr/APprentissageHtmlCss/zip/hyperliens.zip"
   ]
  },
  {
   "cell_type": "markdown",
   "metadata": {},
   "source": [
    "#### Télécharger un fichier du web dans le dossier courant en le renommant :"
   ]
  },
  {
   "cell_type": "code",
   "execution_count": null,
   "metadata": {},
   "outputs": [],
   "source": [
    "curl -o monNotebookTerminal.ipynb https://raw.githubusercontent.com/ericECmorlaix/1NSI_2021-2022/main/docs/ipycanvas-Le_BN_pour_dessiner.ipynb "
   ]
  },
  {
   "cell_type": "markdown",
   "metadata": {},
   "source": [
    "### Dézipper un fichier :"
   ]
  },
  {
   "cell_type": "markdown",
   "metadata": {},
   "source": [
    "> Sur iPad, la commande `unzip` n'est pas disponible de base dans a-Shell mini mais il est possible de l'y ajouter comme d'autres commandes à partir de la page https://github.com/holzschu/a-Shell-commands.\n",
    ">\n",
    "> Pour ce faire il faut créer un dossier nommé `bin` dans le dossier `~/Documents/` ; Puis télécharger et déplacer le fichier correspondant à la commande souhaitée dans le dossier `~/Documents/bin`.\n",
    ">\n",
    "> Il est alors possible de l'utiliser comme sur le serveur :"
   ]
  },
  {
   "cell_type": "code",
   "execution_count": null,
   "metadata": {},
   "outputs": [],
   "source": [
    "unzip hyperliens.zip"
   ]
  },
  {
   "cell_type": "markdown",
   "metadata": {},
   "source": [
    "### Zipper des fichiers :"
   ]
  },
  {
   "cell_type": "markdown",
   "metadata": {},
   "source": [
    "> Sur iPad, il faut préalablement ajouter la commande `zip` dans le dossier `~/Documents/bin`"
   ]
  },
  {
   "cell_type": "code",
   "execution_count": null,
   "metadata": {},
   "outputs": [],
   "source": [
    "zip -r monZip.zip monDossier # Compresse tout le contenu de monDossier dans un fichier monZip.zip"
   ]
  },
  {
   "cell_type": "markdown",
   "metadata": {},
   "source": [
    "<h3 class='fa fa-graduation-cap' style=\"color: darkorange\"> A faire vous même n°3 : </h3>\n",
    "    \n",
    "Renseigner vous avec le manuel et l'aide quant aux options des commandes `date` et `cowsay` pour créer un fichier contenant :\n",
    "\n",
    "```code\n",
    " ___________________________\n",
    "< Nous sommes le 06/01/2021 >\n",
    " ---------------------------\n",
    "      \\                    / \\  //\\\n",
    "       \\    |\\___/|      /   \\//  \\\\\n",
    "            /0  0  \\__  /    //  | \\ \\\n",
    "           /     /  \\/_/    //   |  \\  \\\n",
    "           @_^_@'/   \\/_   //    |   \\   \\\n",
    "           //_^_/     \\/_ //     |    \\    \\\n",
    "        ( //) |        \\///      |     \\     \\\n",
    "      ( / /) _|_ /   )  //       |      \\     _\\\n",
    "    ( // /) '/,_ _ _/  ( ; -.    |    _ _\\.-~        .-~~~^-.\n",
    "  (( / / )) ,-{        _      `-.|.-~-.           .~         `.\n",
    " (( // / ))  '/\\      /                 ~-. _ .-~      .-~^-.  \\\n",
    " (( /// ))      `.   {            }                   /      \\  \\\n",
    "  (( / ))     .----~-.\\        \\-'                 .~         \\  `. \\^-.\n",
    "             ///.----..>        \\             _ -~             `.  ^-`  ^-_\n",
    "               ///-._ _ _ _ _ _ _}^ - - - - ~                     ~-- ,.-~\n",
    "                                                                  /.-~\n",
    "```\n"
   ]
  },
  {
   "cell_type": "markdown",
   "metadata": {},
   "source": [
    "<h3 class='fa fa-graduation-cap' style=\"color: darkorange\"> A faire vous même n°4 : </h3>\n",
    "\n",
    "Pour vous entrainer en ligne de commande, résolvez ce jeu de piste  : http://luffah.xyz/bidules/Terminus/\n",
    "\n",
    "> **compléter** votre tableau des commandes utilisées et **réaliser** un plan au fur et à mesure de votre quête..."
   ]
  },
  {
   "cell_type": "markdown",
   "metadata": {},
   "source": [
    "### Rechercher :"
   ]
  },
  {
   "cell_type": "markdown",
   "metadata": {},
   "source": [
    "***\n",
    ">Pour de nombreuses commandes, il est souvent utile de faire appel à des méta-caractères :\n",
    "- Il y a évidemment le caractère `*` qui remplace un ou plusieurs caractères (ou même aucun !) ;\n",
    "- Il y a aussi `?` pour ne remplacer qu'un caractère ;\n",
    "- Si vous avez besoin d'un caractère qui est aussi un méta-caractère, utilisez `\\` (anti-slash) devant. Cela évite au caractère d' être interprété par le shell. Il l'affiche seulement.\n",
    "***\n",
    "\n",
    "##### `find` :"
   ]
  },
  {
   "cell_type": "code",
   "execution_count": null,
   "metadata": {},
   "outputs": [],
   "source": [
    "find */*.ipynb"
   ]
  },
  {
   "cell_type": "markdown",
   "metadata": {},
   "source": [
    "##### `grep` :\n",
    "\n",
    "Rechercher ce que permet **grep**. Voici un exemple simple :"
   ]
  },
  {
   "cell_type": "code",
   "execution_count": null,
   "metadata": {},
   "outputs": [],
   "source": [
    "curl -O https://www.gutenberg.org/files/2650/2650-0.txt"
   ]
  },
  {
   "cell_type": "code",
   "execution_count": null,
   "metadata": {},
   "outputs": [],
   "source": [
    "grep Title 2650-0.txt "
   ]
  },
  {
   "cell_type": "code",
   "execution_count": null,
   "metadata": {},
   "outputs": [],
   "source": [
    "grep Author 2650-0.txt"
   ]
  },
  {
   "cell_type": "code",
   "execution_count": null,
   "metadata": {},
   "outputs": [],
   "source": [
    "grep -n  madeleine 2650-0.txt "
   ]
  },
  {
   "cell_type": "markdown",
   "metadata": {},
   "source": [
    "****\n",
    "## Références aux programmes :\n",
    "\n",
    "### Architectures matérielles et systèmes d’exploitation\n",
    "\n",
    "|Contenus|Capacités attendues|Commentaires|\n",
    "|--------|-------------------|------------|\n",
    "|Systèmes d’exploitation.|Identifier les fonctions d’un système d’exploitation.<br/>Utiliser les commandes de base en ligne de commande.<br/>Gérer les droits et permissions d’accès aux fichiers.|Les différences entre systèmes d’exploitation libres et propriétaires sont évoquées.<br/>Les élèves utilisent un système d’exploitation libre.<br/>Il ne s’agit pas d’une étude théorique des systèmes d’exploitation.|\n",
    "\n",
    "****"
   ]
  },
  {
   "cell_type": "markdown",
   "metadata": {},
   "source": [
    "## Compléments\n",
    "\n",
    "### Ecrire des scripts"
   ]
  },
  {
   "cell_type": "markdown",
   "metadata": {},
   "source": [
    "> A noter qu'on peut également écrire des commandes système dans et les exécuter depuis une cellule de code ipython mais dans ce cas il faut les faire précéder d'un `!`."
   ]
  },
  {
   "cell_type": "code",
   "execution_count": null,
   "metadata": {},
   "outputs": [],
   "source": [
    "# Code à tester dans un notebook sur le serveur ou dans l'interpréteur ipython d'a-Shell mini sur votre iPad\n",
    "def Lister_le_contenu_de_ce_dossier():\n",
    "    liste_du_contenu = !ls\n",
    "    return liste_du_contenu\n",
    "\n",
    "Lister_le_contenu_de_ce_dossier()"
   ]
  },
  {
   "cell_type": "markdown",
   "metadata": {},
   "source": [
    "### Installation de paquets :\n",
    "\n",
    "L'ajout de logiciels supplémentaires dans un OS Linux peut se faire en ligne de commande en installant un ou plusieurs [paquets](https://fr.wikipedia.org/wiki/Paquet_(logiciel)).\n",
    "\n",
    "#### Ubuntu\n",
    "\n",
    "Sous Ubuntu, comme pour les distibutions basés sur Debian, l'installation d'un paquet en ligne de commande se fait depuis un dépot [APT](https://doc.ubuntu-fr.org/apt), Advanced Packaging Tool, avec la commande [`apt`](https://doc.ubuntu-fr.org/apt-cli). Pour cela, il est nécessaire d'otenir les droits d'administration avec la commande `sudo` :\n",
    "\n",
    "- saisir `sudo apt update` pour mettre à jour la liste des paquets ;\n",
    "- puis `sudo apt search un_paquet` pour rechercher un paquet ;\n",
    "- puis `sudo apt install le_paquet` pour installer le paquet... ;\n",
    "\n",
    "\n",
    "#### Alpine\n",
    "**iSH** utilise [Alpine Package Manager](https://wiki.alpinelinux.org/wiki/Alpine_Linux_package_management) :\n",
    "\n",
    "- saisir `apk update` pour mettre à jour ;\n",
    "- puis `apk search un_paquet` pour rechercher un paquet ;\n",
    "- enfin `apk add le_paquet`, pour installer le paquet...\n",
    "\n",
    "exemple pour python :\n",
    "\n",
    "- `apk search python` pour rechercher un paquet python ;\n",
    "- `apk add python3` pour installer le paquet python3.\n",
    "\n",
    "et encore :\n",
    "\n",
    "- `apk add py3-pip` pour installer pip afin de gérer l'installation d'autres modules pour Python ;\n",
    "- `apk add curl` pour télécharger depuis une URL web ;\n",
    "- `apk add git` pour pouvoir piloter un dossier depuis GitHub...\n",
    "\n"
   ]
  },
  {
   "cell_type": "markdown",
   "metadata": {},
   "source": [
    "## Ressources :\n",
    "\n",
    "### Pour conforter et aller plus loin en ligne de commande :\n",
    "\n",
    "- Une application sympathique à faire sur une Raspberry Pi : https://projects.raspberrypi.org/en/projects/pacman-terminal\n",
    "\n",
    "- https://openclassrooms.com/fr/courses/43538-reprenez-le-controle-a-laide-de-linux/37813-la-console-ca-se-mange\n",
    "\n",
    "- https://doc.ubuntu-fr.org/tutoriel/console_ligne_de_commande\n",
    "\n",
    "- https://doc.ubuntu-fr.org/commande_shell\n",
    "\n",
    "- https://linux.goffinet.org/administration/le-shell/la-ligne-de-commande/\n",
    "\n",
    "- http://jp.barralis.com/linux-man/\n",
    "\n",
    "- http://marionpatrick.free.fr/man_html/html/tuto_shell.html\n",
    "\n",
    "- http://linuxcommand.org/index.php\n",
    "\n",
    "### Pour tester en ligne :\n",
    "\n",
    "- http://weblinux.univ-reunion.fr\n",
    "- https://itsfoss.com/online-linux-terminals/\n",
    "- https://www.onworks.net/\n",
    "\n",
    "### Sur Windows 10, installer WSL, les instructions se trouvent ici : \n",
    "- https://docs.microsoft.com/fr-fr/windows/wsl/install-win10#manual-installation-steps\n",
    "- https://doc.ubuntu-fr.org/wsl\n",
    "- https://docs.microsoft.com/fr-fr/windows/terminal/\n",
    "- https://devblogs.microsoft.com/commandline/\n",
    "- https://devblogs.microsoft.com/commandline/getting-started-with-windows-terminal/\n",
    "- https://searchitoperations.techtarget.com/tip/On-Windows-PowerShell-vs-Bash-comparison-gets-interesting\n",
    "- Une chaine intéressante : https://www.youtube.com/playlist?list=PLSuzYIVSEUT4LyB66TpKeCUmbTteLYrXz"
   ]
  },
  {
   "cell_type": "markdown",
   "metadata": {},
   "source": [
    "<a rel=\"license\" href=\"http://creativecommons.org/licenses/by-sa/4.0/\"><img alt=\"Licence Creative Commons\" style=\"border-width:0\" src=\"https://i.creativecommons.org/l/by-sa/4.0/88x31.png\" /></a><br />Ce document est mis à disposition selon les termes de la <a rel=\"license\" href=\"http://creativecommons.org/licenses/by-sa/4.0/\">Licence Creative Commons Attribution -  Partage dans les Mêmes Conditions 4.0 International</a>.\n",
    "\n",
    "Pour toute question, suggestion ou commentaire : <a href=\"mailto:eric.madec@ecmorlaix.fr\">eric.madec@ecmorlaix.fr</a>"
   ]
  },
  {
   "cell_type": "code",
   "execution_count": null,
   "metadata": {},
   "outputs": [],
   "source": []
  }
 ],
 "metadata": {
  "kernelspec": {
   "display_name": "Python 3",
   "language": "python",
   "name": "python3"
  },
  "language_info": {
   "codemirror_mode": {
    "name": "ipython",
    "version": 3
   },
   "file_extension": ".py",
   "mimetype": "text/x-python",
   "name": "python",
   "nbconvert_exporter": "python",
   "pygments_lexer": "ipython3",
   "version": "3.8.5"
  },
  "toc": {
   "base_numbering": 1,
   "nav_menu": {},
   "number_sections": true,
   "sideBar": true,
   "skip_h1_title": false,
   "title_cell": "Table of Contents",
   "title_sidebar": "Contents",
   "toc_cell": false,
   "toc_position": {},
   "toc_section_display": true,
   "toc_window_display": false
  },
  "varInspector": {
   "cols": {
    "lenName": 16,
    "lenType": 16,
    "lenVar": 40
   },
   "kernels_config": {
    "python": {
     "delete_cmd_postfix": "",
     "delete_cmd_prefix": "del ",
     "library": "var_list.py",
     "varRefreshCmd": "print(var_dic_list())"
    },
    "r": {
     "delete_cmd_postfix": ") ",
     "delete_cmd_prefix": "rm(",
     "library": "var_list.r",
     "varRefreshCmd": "cat(var_dic_list()) "
    }
   },
   "types_to_exclude": [
    "module",
    "function",
    "builtin_function_or_method",
    "instance",
    "_Feature"
   ],
   "window_display": false
  }
 },
 "nbformat": 4,
 "nbformat_minor": 2
}
