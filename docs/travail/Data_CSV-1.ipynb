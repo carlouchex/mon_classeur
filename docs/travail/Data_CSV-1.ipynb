{
 "cells": [
  {
   "cell_type": "markdown",
   "metadata": {
    "id": "Ryw8g2QaSoT0"
   },
   "source": [
    "<center><font color=\"orange\" size=\"6\"><strong>Les données structurées au format CSV (1ère partie)</strong></font></center>\n",
    "<br>\n",
    "<center><font color=\"orange\" size=\"6\">① Lecture &nbsp;&nbsp;&nbsp;&nbsp;&nbsp;&nbsp;&nbsp;② requêtes &nbsp;&nbsp;&nbsp;&nbsp;&nbsp;&nbsp;&nbsp;③ Tris</font></center>\n",
    "<br>\n"
   ]
  },
  {
   "cell_type": "markdown",
   "metadata": {
    "id": "NZw8hJJvSoT0"
   },
   "source": [
    "<hr>\n",
    "\n",
    "Après avoir découvert le format CSV, nous allons maintenant, à l'aide de Python, apprendre à effectuer, dans un notebook, des traitements sur ces données.  \n",
    "\n",
    "Pour traiter des données, nous allons utiliser la bibliothèque Python `csv`. \n",
    "\n",
    "<br>\n",
    "<center><strong>  ⚠️ Attention il ne faut jamais utiliser un tableur dans cette activité.</strong></center>\n",
    "\n",
    "Pour nos premiers pas avec csv, nous allons utiliser des données très simples au format CSV : ces données sont contenues dans le fichier : [personnes.csv](https://ericecmorlaix.github.io/1NSI_2021-2022/personnes.csv) \n",
    "\n",
    "<br>\n",
    "<center><font color=\"red\"><strong>Il vous faut télécharger ce fichier et le placer dans le même dossier que ce notebook.</strong></font></center>\n",
    "\n",
    "<hr>"
   ]
  },
  {
   "cell_type": "markdown",
   "metadata": {
    "id": "yss9Mt24SoT0"
   },
   "source": [
    "\n",
    "\n",
    "---\n",
    "\n",
    "<font color=\"orange\" size=\"6\"><b>I. Lecture d'un fichier csv</b></font>\n",
    "\n",
    "\n",
    "---\n",
    "\n"
   ]
  },
  {
   "cell_type": "markdown",
   "metadata": {
    "id": "N30-nQwlSoT0"
   },
   "source": [
    "<font color=\"orange\" size=\"5\"><b>1. Méthode avec csv.reader</b></font>\n",
    "\n"
   ]
  },
  {
   "cell_type": "markdown",
   "metadata": {
    "id": "tFF78PLbSoT0"
   },
   "source": [
    "<font color=\"orange\" size=\"4\"><b>a) Lire et comprendre le fichier csv comme une liste de listes</b></font>\n",
    "\n",
    "\n"
   ]
  },
  {
   "cell_type": "markdown",
   "metadata": {
    "id": "2BOizlqbSoT0"
   },
   "source": [
    "⏬ Exécutez le code ci-dessous"
   ]
  },
  {
   "cell_type": "code",
   "execution_count": 1,
   "metadata": {
    "colab": {
     "base_uri": "https://localhost:8080/"
    },
    "id": "LMm6t7buSoT1",
    "outputId": "089382d5-3d37-48b9-b703-c99830bb2af0"
   },
   "outputs": [
    {
     "name": "stdout",
     "output_type": "stream",
     "text": [
      "[['nom', 'prenom', 'age'], ['Durand', 'Jean-Pierre', '32'], ['Dupont', 'Christophe', '51'], ['Terta', 'Henry', '37'], ['Kapri', 'Leon', '45'], ['Lenard', 'Michel', '17'], ['Lenard', 'Georges', '15'], ['Herpan', 'stephan', '22'], ['Mastic', 'Brice', '61'], ['Pouyeau', 'Maxime', '27'], ['Arox', 'Gilles', '51'], ['Follin', 'Paul', '32']]\n",
      "['nom', 'prenom', 'age']\n",
      "['Durand', 'Jean-Pierre', '32']\n",
      "['Dupont', 'Christophe', '51']\n",
      "['Terta', 'Henry', '37']\n",
      "['Kapri', 'Leon', '45']\n",
      "['Lenard', 'Michel', '17']\n",
      "['Lenard', 'Georges', '15']\n",
      "['Herpan', 'stephan', '22']\n",
      "['Mastic', 'Brice', '61']\n",
      "['Pouyeau', 'Maxime', '27']\n",
      "['Arox', 'Gilles', '51']\n",
      "['Follin', 'Paul', '32']\n"
     ]
    }
   ],
   "source": [
    "import csv\n",
    "with open('personnes.csv', mode = \"r\" , encoding='utf-8' , newline = '') as csvFile :\n",
    "    reader = csv.reader(csvFile)\n",
    "    lu = [ligne for ligne in reader]\n",
    "\n",
    "# voyons le résutat :\n",
    "print(lu)\n",
    "for ligne in lu :\n",
    "    print(ligne)"
   ]
  },
  {
   "cell_type": "markdown",
   "metadata": {
    "id": "A3fuihl_SoT1"
   },
   "source": [
    "Le code ci-dessus est très simple :  \n",
    "  \n",
    "- **import** Avec la première ligne, nous importons la bibliothèque `csv`.\n",
    "- **open** ouvre le fichier en lecture (mode = \"r\" pour read) -> cvsFile (objet de type objFile)\n",
    "- **initialisation** du lecteur (reader) de csvFile.\n",
    "- **lecture ligne par ligne** la boucle for permet d'énumérer les différentes lignes de csvFile.\n",
    "\n",
    "La première liste correspond au nom des entêtes des colonnes de la table (les **descripteurs**) ;\n",
    "\n",
    "Les listes suivantes contiennent respectivement les données enregistrées dans chaque ligne de la table (les **enregistrements**)."
   ]
  },
  {
   "cell_type": "markdown",
   "metadata": {
    "id": "9A-F8ToWD9tB"
   },
   "source": [
    "<font color=\"orange\" size=\"4\">➽ Ecrire une fonction qui lit un fichier et renvoie la liste de listes</font>"
   ]
  },
  {
   "cell_type": "code",
   "execution_count": 2,
   "metadata": {
    "id": "zGRZg4JkD51k"
   },
   "outputs": [],
   "source": [
    "import csv\n",
    "\n",
    "def readCSV1(filename: str ) -> list :\n",
    "\n",
    "    '''\n",
    "    Entrée : nom d'un fichier CSV\n",
    "    Sortie : la fonction renvoie les données lues dans une liste de listes\n",
    "    '''\n",
    "\n",
    "    with open(filename, mode = \"r\" , encoding = 'utf-8', newline = '') as csvFile :\n",
    "        reader = csv.reader(csvFile)\n",
    "        lu = [ligne for ligne in reader]\n",
    "    \n",
    "    return lu\n",
    "\n",
    "\n",
    "\n",
    "    \n",
    "    \n",
    "    "
   ]
  },
  {
   "cell_type": "code",
   "execution_count": 3,
   "metadata": {},
   "outputs": [
    {
     "data": {
      "text/plain": [
       "[['nom', 'prenom', 'age'],\n",
       " ['Durand', 'Jean-Pierre', '32'],\n",
       " ['Dupont', 'Christophe', '51'],\n",
       " ['Terta', 'Henry', '37'],\n",
       " ['Kapri', 'Leon', '45'],\n",
       " ['Lenard', 'Michel', '17'],\n",
       " ['Lenard', 'Georges', '15'],\n",
       " ['Herpan', 'stephan', '22'],\n",
       " ['Mastic', 'Brice', '61'],\n",
       " ['Pouyeau', 'Maxime', '27'],\n",
       " ['Arox', 'Gilles', '51'],\n",
       " ['Follin', 'Paul', '32']]"
      ]
     },
     "execution_count": 3,
     "metadata": {},
     "output_type": "execute_result"
    }
   ],
   "source": [
    "personnes = readCSV1('personnes.csv')\n",
    "personnes"
   ]
  },
  {
   "cell_type": "markdown",
   "metadata": {
    "id": "OMzdxTg-MpXj"
   },
   "source": [
    "✅ vérification"
   ]
  },
  {
   "cell_type": "code",
   "execution_count": 4,
   "metadata": {
    "id": "_OjCoOIlMGbW"
   },
   "outputs": [],
   "source": [
    "personnes = readCSV1('personnes.csv')\n",
    "assert personnes == [['nom', 'prenom', 'age'], ['Durand', 'Jean-Pierre', '32'], ['Dupont', 'Christophe', '51'], ['Terta', 'Henry', '37'], ['Kapri', 'Leon', '45'], ['Lenard', 'Michel', '17'], ['Lenard', 'Georges', '15'], ['Herpan', 'stephan', '22'], ['Mastic', 'Brice', '61'], ['Pouyeau', 'Maxime', '27'], ['Arox', 'Gilles', '51'], ['Follin', 'Paul', '32']]"
   ]
  },
  {
   "cell_type": "markdown",
   "metadata": {
    "id": "qwv-aXY2PAaL"
   },
   "source": [
    "<font color=\"orange\" size=\"5\"><b>2. Méthode avec csv.DictReader</b></font>"
   ]
  },
  {
   "cell_type": "markdown",
   "metadata": {
    "id": "gyHcUhweSoT2"
   },
   "source": [
    "<font color=\"orange\" size=\"4\"><b>a) Lire et comprendre le fichier csv en utilisant une liste de dictionnaires</b></font>"
   ]
  },
  {
   "cell_type": "code",
   "execution_count": 5,
   "metadata": {
    "colab": {
     "base_uri": "https://localhost:8080/"
    },
    "id": "XQZLWpQHSoT2",
    "outputId": "ee7e10b6-021d-4d39-fd8c-2a38b3992f33"
   },
   "outputs": [
    {
     "name": "stdout",
     "output_type": "stream",
     "text": [
      "[{'nom': 'Durand', 'prenom': 'Jean-Pierre', 'age': '32'}, {'nom': 'Dupont', 'prenom': 'Christophe', 'age': '51'}, {'nom': 'Terta', 'prenom': 'Henry', 'age': '37'}, {'nom': 'Kapri', 'prenom': 'Leon', 'age': '45'}, {'nom': 'Lenard', 'prenom': 'Michel', 'age': '17'}, {'nom': 'Lenard', 'prenom': 'Georges', 'age': '15'}, {'nom': 'Herpan', 'prenom': 'stephan', 'age': '22'}, {'nom': 'Mastic', 'prenom': 'Brice', 'age': '61'}, {'nom': 'Pouyeau', 'prenom': 'Maxime', 'age': '27'}, {'nom': 'Arox', 'prenom': 'Gilles', 'age': '51'}, {'nom': 'Follin', 'prenom': 'Paul', 'age': '32'}]\n"
     ]
    }
   ],
   "source": [
    "import csv\n",
    "with open('personnes.csv', mode = \"r\", encoding='utf-8', newline = '') as csvFile :\n",
    "    reader = csv.DictReader(csvFile)\n",
    "    lu = [dict(ligne) for ligne in reader]\n",
    "\n",
    "# voyons le résutat :\n",
    "print(lu)\n"
   ]
  },
  {
   "cell_type": "markdown",
   "metadata": {
    "id": "Z1L_Kt3gSoT3"
   },
   "source": [
    " \n",
    " Plutôt qu’une liste de listes, une instruction permet d’obtenir chaque **enregistrement** au format dictionnaire : **dict**.\n",
    "\n",
    "\n",
    "```\n",
    "On obtient ainsi une liste de dictionnaires, à savoir :\n",
    "\tlisteDico = [ {clé1:enr1_val1, clé2:enr1_val2, …},\n",
    "\t  {clé1:enr2_val1, clé2:enr2_val2, …},\n",
    "\t  {clé1:enr3_val1, clé2:enr3_val2, …} ]\n",
    "```\n",
    "\n",
    "Une telle structure est mieux adaptée. D'une part, les en-têtes (**descripteurs**) ne sont plus lus comme une ligne banale mais sont utilisées comme clefs dans les dictionnaires. D'autre part, chaque élément *listeDico[i]* est un dictionnaire et il sera plus facile de manipuler :\n",
    "```\n",
    "listeDico[i] = {'classe':'TG1' , 'nb_elev':'34', 'nb_garçons':'16' , 'nb_filles':'18' , 'nb_admis':'33', …}\n",
    "plutôt que  : listeDico[i] = ['TG1','34',  16 ,  18 , '33', …]\n",
    "```\n",
    "\n",
    "Dans un fichier avec beaucoup de colonnes, il est assez fastidieux de se souvenir a quoi correspond l'indice d'une colonne. dans l'exemple, *listeDico[i][3]* est le nombre de filles, tandis que avec le dictionnaire on écrira *listeDico[i]['nb_filles']*. Et imaginez quand il y a beaucoup de colonnes, comme il est difficile de retrouver quel indice de colonne correspond à quoi...\n",
    "\n"
   ]
  },
  {
   "cell_type": "markdown",
   "metadata": {
    "id": "4o5GvC6hFZHS"
   },
   "source": [
    "<font color=\"orange\" size=\"4\">➽ Ecrire une fonction qui lit un fichier et renvoie la liste de dictionnaires</font>"
   ]
  },
  {
   "cell_type": "code",
   "execution_count": 5,
   "metadata": {
    "id": "QqPUDQSsSoT3"
   },
   "outputs": [],
   "source": [
    "import csv\n",
    "\n",
    "def readCSV( filename:str ) -> list :\n",
    "    '''\n",
    "    Entrée : nom d'un fichier CSV\n",
    "    Sortie : la fonction renvoie les données lues dans une liste de dictionnaires\n",
    "    '''\n",
    "    with open(filename, mode = \"r\", encoding='utf-8', newline = '') as csvFile :\n",
    "        reader = csv.DictReader(csvFile)\n",
    "        lu = [dict(ligne) for ligne in reader]\n",
    "    return lu\n",
    "    "
   ]
  },
  {
   "cell_type": "code",
   "execution_count": 15,
   "metadata": {},
   "outputs": [
    {
     "data": {
      "text/plain": [
       "[{'nom': 'Durand', 'prenom': 'Jean-Pierre', 'age': '32'},\n",
       " {'nom': 'Dupont', 'prenom': 'Christophe', 'age': '51'},\n",
       " {'nom': 'Terta', 'prenom': 'Henry', 'age': '37'},\n",
       " {'nom': 'Kapri', 'prenom': 'Leon', 'age': '45'},\n",
       " {'nom': 'Lenard', 'prenom': 'Michel', 'age': '17'},\n",
       " {'nom': 'Lenard', 'prenom': 'Georges', 'age': '15'},\n",
       " {'nom': 'Herpan', 'prenom': 'stephan', 'age': '22'},\n",
       " {'nom': 'Mastic', 'prenom': 'Brice', 'age': '61'},\n",
       " {'nom': 'Pouyeau', 'prenom': 'Maxime', 'age': '27'},\n",
       " {'nom': 'Arox', 'prenom': 'Gilles', 'age': '51'},\n",
       " {'nom': 'Follin', 'prenom': 'Paul', 'age': '32'}]"
      ]
     },
     "execution_count": 15,
     "metadata": {},
     "output_type": "execute_result"
    }
   ],
   "source": [
    "personnes = readCSV('personnes.csv')\n",
    "personnes"
   ]
  },
  {
   "cell_type": "markdown",
   "metadata": {
    "id": "HUxC1VRlFkpp"
   },
   "source": [
    "✅ vérification"
   ]
  },
  {
   "cell_type": "code",
   "execution_count": 6,
   "metadata": {
    "colab": {
     "base_uri": "https://localhost:8080/"
    },
    "id": "ZfOgtKIjFkpq",
    "outputId": "de91c5ea-a7de-4774-f256-00329c6f9a20"
   },
   "outputs": [
    {
     "name": "stdout",
     "output_type": "stream",
     "text": [
      "{'nom': 'Durand', 'prenom': 'Jean-Pierre', 'age': '32'}\n",
      "{'nom': 'Dupont', 'prenom': 'Christophe', 'age': '51'}\n",
      "{'nom': 'Terta', 'prenom': 'Henry', 'age': '37'}\n",
      "{'nom': 'Kapri', 'prenom': 'Leon', 'age': '45'}\n",
      "{'nom': 'Lenard', 'prenom': 'Michel', 'age': '17'}\n",
      "{'nom': 'Lenard', 'prenom': 'Georges', 'age': '15'}\n",
      "{'nom': 'Herpan', 'prenom': 'stephan', 'age': '22'}\n",
      "{'nom': 'Mastic', 'prenom': 'Brice', 'age': '61'}\n",
      "{'nom': 'Pouyeau', 'prenom': 'Maxime', 'age': '27'}\n",
      "{'nom': 'Arox', 'prenom': 'Gilles', 'age': '51'}\n",
      "{'nom': 'Follin', 'prenom': 'Paul', 'age': '32'}\n"
     ]
    }
   ],
   "source": [
    "personnes = readCSV('personnes.csv')\n",
    "for elem in personnes :\n",
    "    print(elem)\n",
    "assert personnes == [{'nom': 'Durand', 'prenom': 'Jean-Pierre', 'age': '32'}, {'nom': 'Dupont', 'prenom': 'Christophe', 'age': '51'}, {'nom': 'Terta', 'prenom': 'Henry', 'age': '37'}, {'nom': 'Kapri', 'prenom': 'Leon', 'age': '45'}, {'nom': 'Lenard', 'prenom': 'Michel', 'age': '17'}, {'nom': 'Lenard', 'prenom': 'Georges', 'age': '15'}, {'nom': 'Herpan', 'prenom': 'stephan', 'age': '22'}, {'nom': 'Mastic', 'prenom': 'Brice', 'age': '61'}, {'nom': 'Pouyeau', 'prenom': 'Maxime', 'age': '27'}, {'nom': 'Arox', 'prenom': 'Gilles', 'age': '51'}, {'nom': 'Follin', 'prenom': 'Paul', 'age': '32'}]"
   ]
  },
  {
   "cell_type": "markdown",
   "metadata": {
    "id": "zhAzKZlnGDb0"
   },
   "source": [
    "<center><font size=\"5\" color=\"tomato\"><strong>A RETENIR</strong></font>\n",
    "<br>\n",
    "<img src=\"https://ericecmorlaix.github.io/img/DataTable_reader.svg\" alt=\"DataTable_reader.svg\" title=\"A RETENIR\" width=\"90%\">\n",
    "</center>"
   ]
  },
  {
   "cell_type": "markdown",
   "metadata": {
    "id": "MoZYFxcUSoT3"
   },
   "source": [
    "Quelle est la différence entre `csv.reader(mon_fichier)` et `csv.DictReader(mon_fichier)` ?"
   ]
  },
  {
   "attachments": {},
   "cell_type": "markdown",
   "metadata": {
    "id": "w28dHjv3SoT3"
   },
   "source": [
    "Réponse : csv.reader renvoie led données sous forme de listes, tandis que csv.DictReader renvoie les données sous forme de dictionnaires"
   ]
  },
  {
   "cell_type": "markdown",
   "metadata": {
    "id": "DlFlC5g_Pd3L"
   },
   "source": [
    "\n",
    "\n",
    "---\n",
    "\n",
    "<font color=\"orange\" size=\"6\"><b>II. Extraire des données suivant certains critères</b></font>\n",
    "\n",
    "\n",
    "---\n",
    "\n"
   ]
  },
  {
   "cell_type": "markdown",
   "metadata": {
    "id": "wHhPRmR1SoT3"
   },
   "source": [
    "Nous désirons sélectionner des données suivant un certain critère, par exemple trouver tous les renseignements de M. Herpan, ou trouver toutes les personnes âgées de moins de 30 ans... Quelle syntaxe allons-nous choisir?"
   ]
  },
  {
   "cell_type": "markdown",
   "metadata": {
    "id": "z4_zotLmSoT4"
   },
   "source": [
    "<font color=\"orange\" size=\"5\"><b>1. Trouver tous les renseignements des personnes portant le nom \"Lenard\"</b></font> "
   ]
  },
  {
   "cell_type": "code",
   "execution_count": 17,
   "metadata": {
    "colab": {
     "base_uri": "https://localhost:8080/"
    },
    "id": "v-Srbp7RSoT4",
    "outputId": "7e923b4f-5e5b-4ab5-90a2-0c40350b2416"
   },
   "outputs": [
    {
     "name": "stdout",
     "output_type": "stream",
     "text": [
      "{'nom': 'Lenard', 'prenom': 'Michel', 'age': '17'}\n",
      "{'nom': 'Lenard', 'prenom': 'Georges', 'age': '15'}\n"
     ]
    }
   ],
   "source": [
    "infos = [p for p in personnes if p['nom'] == 'Lenard']\n",
    "for elem in infos :\n",
    "    print(elem)"
   ]
  },
  {
   "cell_type": "markdown",
   "metadata": {},
   "source": [
    "```python\n",
    "[p for p in personnes if p['nom'] == 'Lenard']\n",
    "```"
   ]
  },
  {
   "cell_type": "markdown",
   "metadata": {
    "id": "TGHlTzynjbPY"
   },
   "source": [
    "Dans ce premier exemple on a sélectionné tous les informations, donc on prend, **pour chaque dictionnaire p** de la **liste**, tout le dictionnaire. \n",
    "\n",
    "En revanche on a mis un critère de sélection (un filtre) sur le nom.\n",
    "\n",
    "<img src=\"https://ericecmorlaix.github.io/img/DataTable_extract1.svg\" alt=\"DataTable_extract1.svg\" width=\"80%\">"
   ]
  },
  {
   "cell_type": "markdown",
   "metadata": {
    "id": "pEGWNBCPjpfj"
   },
   "source": [
    "Si on voulait extraire par exemple seulemement la colonne **nom** on prendrait **p['nom']** qui est **la valeur de la clé nom** de chaque dictionnaire p de la table :\n",
    "\n",
    "<img src=\"https://ericecmorlaix.github.io/img/DataTable-extract2.svg\" alt=\"DataTable-extract2.svg\" width=\"80%\">"
   ]
  },
  {
   "cell_type": "markdown",
   "metadata": {
    "id": "3T2u1CRUka64"
   },
   "source": [
    "<center><font color=\"darkyellow\" size=\"6\"> ⚠️</font> \n",
    "\n",
    "Ici le résultat est une **liste** de noms, et pas une liste de dictionnaire. On pourrait souhaiter (et ce sera souvent utile) conserver la structure en liste de dictionnaire, de la façon suivante :\n",
    "\n",
    "<img src=\"https://ericecmorlaix.github.io/img/DataTable-extract3.svg\" alt=\"DataTable-extract3.svg\" width=\"80%\">"
   ]
  },
  {
   "cell_type": "markdown",
   "metadata": {
    "id": "FRMokOzbkIJa"
   },
   "source": [
    "On pourrait aussi extraite une seule colonne, sans critère de sélection (filtre) des enregistrements :\n",
    "\n",
    "<img src=\"https://ericecmorlaix.github.io/img/DataTable_extract4.svg\" alt=\"DataTable_extract4.svg\" width=\"100%\">"
   ]
  },
  {
   "cell_type": "markdown",
   "metadata": {
    "id": "zA7NRh0VnZ-i"
   },
   "source": [
    "Ou bien pour sélectionner plusieurs colonnes :\n",
    "\n",
    "<img src=\"https://ericecmorlaix.github.io/img/DataTable_extract5.svg\" alt=\"DataTable_extract5.svg\" width=\"80%\">"
   ]
  },
  {
   "cell_type": "markdown",
   "metadata": {
    "id": "Kcih3mwvoKuW"
   },
   "source": [
    "Rappel sur les contructions de listes, avec append ou en compréhension :"
   ]
  },
  {
   "cell_type": "code",
   "execution_count": 18,
   "metadata": {
    "colab": {
     "base_uri": "https://localhost:8080/"
    },
    "id": "BicGesfZIagv",
    "outputId": "3b253acc-206e-4b2b-9711-a908e19d7f6d"
   },
   "outputs": [
    {
     "data": {
      "text/plain": [
       "[3, 4, 7]"
      ]
     },
     "execution_count": 18,
     "metadata": {},
     "output_type": "execute_result"
    }
   ],
   "source": [
    "l = []\n",
    "for i in [3,4,7] :\n",
    "    l.append(i)\n",
    "l"
   ]
  },
  {
   "cell_type": "code",
   "execution_count": 19,
   "metadata": {
    "colab": {
     "base_uri": "https://localhost:8080/"
    },
    "id": "BicGesfZIagv",
    "outputId": "3b253acc-206e-4b2b-9711-a908e19d7f6d"
   },
   "outputs": [
    {
     "data": {
      "text/plain": [
       "[0, 3, 6, 9]"
      ]
     },
     "execution_count": 19,
     "metadata": {},
     "output_type": "execute_result"
    }
   ],
   "source": [
    "v = [i for i in range(10) if i%3 == 0]\n",
    "v"
   ]
  },
  {
   "cell_type": "markdown",
   "metadata": {
    "id": "RWSqeCSESoT4"
   },
   "source": [
    "<font color=\"orange\" size=\"5\"><b>2. Trouver tous les renseignements des personnes âgées de plus de 30 ans</b></font>"
   ]
  },
  {
   "cell_type": "code",
   "execution_count": 9,
   "metadata": {
    "colab": {
     "base_uri": "https://localhost:8080/"
    },
    "id": "OGxKygYJSoT4",
    "outputId": "c11f2036-e285-4f38-fbeb-d98f0f578ae5"
   },
   "outputs": [
    {
     "name": "stdout",
     "output_type": "stream",
     "text": [
      "{'nom': 'Durand', 'prenom': 'Jean-Pierre', 'age': '32'}\n",
      "{'nom': 'Dupont', 'prenom': 'Christophe', 'age': '51'}\n",
      "{'nom': 'Terta', 'prenom': 'Henry', 'age': '37'}\n",
      "{'nom': 'Kapri', 'prenom': 'Leon', 'age': '45'}\n",
      "{'nom': 'Mastic', 'prenom': 'Brice', 'age': '61'}\n",
      "{'nom': 'Arox', 'prenom': 'Gilles', 'age': '51'}\n",
      "{'nom': 'Follin', 'prenom': 'Paul', 'age': '32'}\n"
     ]
    }
   ],
   "source": [
    "plus30 = [p for p in personnes if int(p['age']) > 30 ]\n",
    "for pers in plus30 :\n",
    "    print(pers)"
   ]
  },
  {
   "cell_type": "markdown",
   "metadata": {
    "id": "vkN5M6uzRQRX"
   },
   "source": [
    "<font color=\"orange\" size=\"4\">➽ afficher les noms et prénoms des personnes de plus de 30 ans</font>"
   ]
  },
  {
   "cell_type": "code",
   "execution_count": 12,
   "metadata": {
    "id": "wiEeTg3bRXB2"
   },
   "outputs": [
    {
     "name": "stdout",
     "output_type": "stream",
     "text": [
      "Durand Jean-Pierre\n",
      "Dupont Christophe\n",
      "Terta Henry\n",
      "Kapri Leon\n",
      "Mastic Brice\n",
      "Arox Gilles\n",
      "Follin Paul\n"
     ]
    }
   ],
   "source": [
    "# votre code\n",
    "plus30 = [p for p in personnes if int(p['age']) > 30]\n",
    "for pers in plus30 :\n",
    "    print(pers['nom'], pers['prenom'])\n"
   ]
  },
  {
   "cell_type": "markdown",
   "metadata": {
    "id": "qlmBTNt9SFis"
   },
   "source": [
    "<font color=\"orange\" size=\"4\">➽ afficher les noms et prénoms des personnes dont le nom commence par M</font>"
   ]
  },
  {
   "cell_type": "code",
   "execution_count": 21,
   "metadata": {
    "colab": {
     "base_uri": "https://localhost:8080/"
    },
    "id": "6lQThBxTSFjG",
    "outputId": "32c757cd-b53e-4411-dca1-8f02bc8dda9a"
   },
   "outputs": [
    {
     "ename": "NameError",
     "evalue": "name 'startswith' is not defined",
     "output_type": "error",
     "traceback": [
      "\u001b[0;31m---------------------------------------------------------------------------\u001b[0m",
      "\u001b[0;31mNameError\u001b[0m                                 Traceback (most recent call last)",
      "Cell \u001b[0;32mIn[21], line 2\u001b[0m\n\u001b[1;32m      1\u001b[0m \u001b[39m# votre code\u001b[39;00m\n\u001b[0;32m----> 2\u001b[0m M \u001b[39m=\u001b[39m [p \u001b[39mfor\u001b[39;49;00m p \u001b[39min\u001b[39;49;00m personnes \u001b[39mif\u001b[39;49;00m p[\u001b[39m'\u001b[39;49m\u001b[39mprenom\u001b[39;49m\u001b[39m'\u001b[39;49m] \u001b[39m==\u001b[39;49m startswith(\u001b[39m'\u001b[39;49m\u001b[39mM\u001b[39;49m\u001b[39m'\u001b[39;49m)]\n\u001b[1;32m      3\u001b[0m \u001b[39mfor\u001b[39;00m pers \u001b[39min\u001b[39;00m M :\n\u001b[1;32m      4\u001b[0m     \u001b[39mprint\u001b[39m(pers[\u001b[39m'\u001b[39m\u001b[39mnom\u001b[39m\u001b[39m'\u001b[39m], pers[\u001b[39m'\u001b[39m\u001b[39mprenom\u001b[39m\u001b[39m'\u001b[39m])\n",
      "Cell \u001b[0;32mIn[21], line 2\u001b[0m, in \u001b[0;36m<listcomp>\u001b[0;34m(.0)\u001b[0m\n\u001b[1;32m      1\u001b[0m \u001b[39m# votre code\u001b[39;00m\n\u001b[0;32m----> 2\u001b[0m M \u001b[39m=\u001b[39m [p \u001b[39mfor\u001b[39;00m p \u001b[39min\u001b[39;00m personnes \u001b[39mif\u001b[39;00m p[\u001b[39m'\u001b[39m\u001b[39mprenom\u001b[39m\u001b[39m'\u001b[39m] \u001b[39m==\u001b[39m startswith(\u001b[39m'\u001b[39m\u001b[39mM\u001b[39m\u001b[39m'\u001b[39m)]\n\u001b[1;32m      3\u001b[0m \u001b[39mfor\u001b[39;00m pers \u001b[39min\u001b[39;00m M :\n\u001b[1;32m      4\u001b[0m     \u001b[39mprint\u001b[39m(pers[\u001b[39m'\u001b[39m\u001b[39mnom\u001b[39m\u001b[39m'\u001b[39m], pers[\u001b[39m'\u001b[39m\u001b[39mprenom\u001b[39m\u001b[39m'\u001b[39m])\n",
      "\u001b[0;31mNameError\u001b[0m: name 'startswith' is not defined"
     ]
    }
   ],
   "source": [
    "# votre code\n",
    "M = [p for p in personnes if p['prenom'] == startswith('M')]\n",
    "for pers in M :\n",
    "    print(pers['nom'], pers['prenom'])\n"
   ]
  },
  {
   "cell_type": "markdown",
   "metadata": {
    "id": "65vetpX5SkFF"
   },
   "source": [
    "<font color=\"orange\" size=\"4\">➽ afficher l'age moyen des personnes dans le fichier</font>"
   ]
  },
  {
   "cell_type": "code",
   "execution_count": 22,
   "metadata": {
    "colab": {
     "base_uri": "https://localhost:8080/"
    },
    "id": "odNTeMLDSkFH",
    "outputId": "882100bf-34a1-4002-8f82-94f08eb683cb"
   },
   "outputs": [
    {
     "ename": "TypeError",
     "evalue": "'bool' object is not iterable",
     "output_type": "error",
     "traceback": [
      "\u001b[0;31m---------------------------------------------------------------------------\u001b[0m",
      "\u001b[0;31mTypeError\u001b[0m                                 Traceback (most recent call last)",
      "Cell \u001b[0;32mIn[22], line 2\u001b[0m\n\u001b[1;32m      1\u001b[0m \u001b[39m# il faut extraire une liste des ages, puis calculer la moyenne avec sum() et len()\u001b[39;00m\n\u001b[0;32m----> 2\u001b[0m age_moyen \u001b[39m=\u001b[39m [{\u001b[39m'\u001b[39m\u001b[39mage\u001b[39m\u001b[39m'\u001b[39m:p[\u001b[39m'\u001b[39m\u001b[39mage\u001b[39m\u001b[39m'\u001b[39m]} \u001b[39mfor\u001b[39;00m p \u001b[39min\u001b[39;00m personnes \u001b[39m==\u001b[39m \u001b[39m30\u001b[39m ]\n\u001b[1;32m      3\u001b[0m \u001b[39mprint\u001b[39m(age_moyen)\n",
      "\u001b[0;31mTypeError\u001b[0m: 'bool' object is not iterable"
     ]
    }
   ],
   "source": [
    "# il faut extraire une liste des ages, puis calculer la moyenne avec sum() et len()\n",
    "age_moyen = [{'age':p['age']} for p in personnes == 30 ]\n",
    "print(age_moyen)\n"
   ]
  },
  {
   "cell_type": "code",
   "execution_count": 19,
   "metadata": {},
   "outputs": [
    {
     "name": "stdout",
     "output_type": "stream",
     "text": [
      "Help on built-in function sum in module builtins:\n",
      "\n",
      "sum(iterable, /, start=0)\n",
      "    Return the sum of a 'start' value (default: 0) plus an iterable of numbers\n",
      "    \n",
      "    When the iterable is empty, return the start value.\n",
      "    This function is intended specifically for use with numeric values and may\n",
      "    reject non-numeric types.\n",
      "\n"
     ]
    }
   ],
   "source": [
    "help(sum)"
   ]
  },
  {
   "cell_type": "code",
   "execution_count": 20,
   "metadata": {},
   "outputs": [
    {
     "name": "stdout",
     "output_type": "stream",
     "text": [
      "Help on built-in function len in module builtins:\n",
      "\n",
      "len(obj, /)\n",
      "    Return the number of items in a container.\n",
      "\n"
     ]
    }
   ],
   "source": [
    "help(len)"
   ]
  },
  {
   "cell_type": "markdown",
   "metadata": {
    "id": "SjN2Dhw4THZL"
   },
   "source": [
    "<font color=\"orange\" size=\"4\">➽ afficher tous les noms en ordre alphabétique</font>"
   ]
  },
  {
   "cell_type": "code",
   "execution_count": 29,
   "metadata": {
    "colab": {
     "base_uri": "https://localhost:8080/"
    },
    "id": "bz5Z0X0-THZN",
    "outputId": "fc071511-6d58-4ebe-e1c2-bd23b3d7ca23"
   },
   "outputs": [
    {
     "ename": "TypeError",
     "evalue": "'<' not supported between instances of 'dict' and 'dict'",
     "output_type": "error",
     "traceback": [
      "\u001b[0;31m---------------------------------------------------------------------------\u001b[0m",
      "\u001b[0;31mTypeError\u001b[0m                                 Traceback (most recent call last)",
      "Cell \u001b[0;32mIn[29], line 3\u001b[0m\n\u001b[1;32m      1\u001b[0m \u001b[39m# il faut extraire une liste de noms puis trier avec .sort()\u001b[39;00m\n\u001b[1;32m      2\u001b[0m ordre_alpha \u001b[39m=\u001b[39m [{\u001b[39m'\u001b[39m\u001b[39mnom\u001b[39m\u001b[39m'\u001b[39m:p[\u001b[39m'\u001b[39m\u001b[39mnom\u001b[39m\u001b[39m'\u001b[39m]} \u001b[39mfor\u001b[39;00m p \u001b[39min\u001b[39;00m personnes]\n\u001b[0;32m----> 3\u001b[0m ordre_alpha\u001b[39m.\u001b[39;49msort()\n\u001b[1;32m      4\u001b[0m \u001b[39mprint\u001b[39m(nom)\n",
      "\u001b[0;31mTypeError\u001b[0m: '<' not supported between instances of 'dict' and 'dict'"
     ]
    }
   ],
   "source": [
    "# il faut extraire une liste de noms puis trier avec .sort()\n",
    "ordre_alpha = [{'nom':p['nom']} for p in personnes]\n",
    "ordre_alpha.sort()\n",
    "print(nom)\n",
    " "
   ]
  },
  {
   "cell_type": "markdown",
   "metadata": {
    "id": "OI3PgWNVThaJ"
   },
   "source": [
    "<font color=\"orange\" size=\"4\">➽ afficher toutes les informations en triant les noms en ordre alphabétique</font>"
   ]
  },
  {
   "cell_type": "code",
   "execution_count": 30,
   "metadata": {
    "colab": {
     "base_uri": "https://localhost:8080/",
     "height": 249
    },
    "id": "ebe1eEFJThaL",
    "outputId": "3fb65de2-5015-4db7-f6db-8ca990726872"
   },
   "outputs": [
    {
     "ename": "TypeError",
     "evalue": "'<' not supported between instances of 'dict' and 'dict'",
     "output_type": "error",
     "traceback": [
      "\u001b[0;31m---------------------------------------------------------------------------\u001b[0m",
      "\u001b[0;31mTypeError\u001b[0m                                 Traceback (most recent call last)",
      "Cell \u001b[0;32mIn[30], line 3\u001b[0m\n\u001b[1;32m      1\u001b[0m \u001b[39m# si on essaye de trier avec sort() comme ci-dessus :\u001b[39;00m\n\u001b[1;32m      2\u001b[0m infos \u001b[39m=\u001b[39m [ p  \u001b[39mfor\u001b[39;00m p \u001b[39min\u001b[39;00m personnes   ]\n\u001b[0;32m----> 3\u001b[0m infos\u001b[39m.\u001b[39;49msort()\n\u001b[1;32m      4\u001b[0m \u001b[39mprint\u001b[39m( noms ) \n\u001b[1;32m      5\u001b[0m \u001b[39m# essayez...\u001b[39;00m\n",
      "\u001b[0;31mTypeError\u001b[0m: '<' not supported between instances of 'dict' and 'dict'"
     ]
    }
   ],
   "source": [
    "# si on essaye de trier avec sort() comme ci-dessus :\n",
    "infos = [ p  for p in personnes   ]\n",
    "infos.sort()\n",
    "print( noms ) \n",
    "# essayez..."
   ]
  },
  {
   "cell_type": "code",
   "execution_count": 31,
   "metadata": {
    "colab": {
     "base_uri": "https://localhost:8080/"
    },
    "id": "eO80V6h1_Le6",
    "outputId": "c40bd85d-9753-4f17-ac1b-7a071a59a8cd"
   },
   "outputs": [
    {
     "name": "stdout",
     "output_type": "stream",
     "text": [
      "{'nom': 'Arox', 'prenom': 'Gilles', 'age': '51'}\n",
      "{'nom': 'Dupont', 'prenom': 'Christophe', 'age': '51'}\n",
      "{'nom': 'Durand', 'prenom': 'Jean-Pierre', 'age': '32'}\n",
      "{'nom': 'Follin', 'prenom': 'Paul', 'age': '32'}\n",
      "{'nom': 'Herpan', 'prenom': 'stephan', 'age': '22'}\n",
      "{'nom': 'Kapri', 'prenom': 'Leon', 'age': '45'}\n",
      "{'nom': 'Lenard', 'prenom': 'Michel', 'age': '17'}\n",
      "{'nom': 'Lenard', 'prenom': 'Georges', 'age': '15'}\n",
      "{'nom': 'Lenard', 'prenom': 'Michel', 'age': '17'}\n",
      "{'nom': 'Lenard', 'prenom': 'Georges', 'age': '15'}\n",
      "{'nom': 'Mastic', 'prenom': 'Brice', 'age': '61'}\n",
      "{'nom': 'Pouyeau', 'prenom': 'Maxime', 'age': '27'}\n",
      "{'nom': 'Terta', 'prenom': 'Henry', 'age': '37'}\n"
     ]
    }
   ],
   "source": [
    "# une première solution : extraire les noms, trier la liste, puis\n",
    "# parcourir la liste pour récuppérer et afficher les infos...\n",
    "# mais....\n",
    "noms = [p['nom'] for p in personnes]\n",
    "noms.sort()\n",
    "infos = []\n",
    "for nom in noms :\n",
    "    for p in personnes :\n",
    "        if p['nom'] == nom :\n",
    "            infos.append(p)\n",
    "for elem in infos :\n",
    "    print( elem ) \n",
    "# essayez..."
   ]
  },
  {
   "cell_type": "markdown",
   "metadata": {
    "id": "0399itf_aryO"
   },
   "source": [
    "Vous remarquez qu'on a doublonné Lenard Michel et Georges... pouvez expliquer pourquoi ?\n",
    "\n",
    "Dans le corrigé vous verrez qu'on pourrait quand même s'en sortir avec cette approche. Mais c'est très inélégant, et très peu efficace..."
   ]
  },
  {
   "cell_type": "markdown",
   "metadata": {
    "id": "1upu-tB2cA4g"
   },
   "source": [
    "Tout ceci est un peu fastidieux et ce n'est pas la bonne méthode pour trier nos données, mais pour vous en convaincre il fallait commencer ainsi...\n",
    "\n",
    "Nous allons voir dans la deuxième partie la bonne façon d'opérer des tris."
   ]
  },
  {
   "cell_type": "markdown",
   "metadata": {
    "id": "KmS_2g6BcVwY"
   },
   "source": [
    "\n",
    "\n",
    "---\n",
    "\n",
    "<font color=\"orange\" size=\"6\"><b>III. Trier les données suivant certaines colonnes</b></font>\n",
    "\n",
    "\n",
    "---\n",
    "\n"
   ]
  },
  {
   "cell_type": "markdown",
   "metadata": {
    "id": "KMkDaXN_c00g"
   },
   "source": [
    "<font color=\"orange\" size=\"4\"><b>Tri sur un unique critère</b></font>"
   ]
  },
  {
   "cell_type": "markdown",
   "metadata": {
    "id": "bO6uX5ZHdYJX"
   },
   "source": [
    "Reprenons notre tableau initial, nommé personnes :"
   ]
  },
  {
   "cell_type": "code",
   "execution_count": 32,
   "metadata": {
    "id": "cHUfAUTydTEV"
   },
   "outputs": [],
   "source": [
    "personnes = readCSV('personnes.csv')"
   ]
  },
  {
   "cell_type": "markdown",
   "metadata": {
    "id": "pwyu14ztddiq"
   },
   "source": [
    "Trier ce tableau avec personnes.sort() n'aurait aucun sens et provoque une erreur :"
   ]
  },
  {
   "cell_type": "code",
   "execution_count": 33,
   "metadata": {
    "colab": {
     "base_uri": "https://localhost:8080/",
     "height": 161
    },
    "id": "SHFgB4e2dk1j",
    "outputId": "8e8a1b8d-47e5-4971-f044-e34a5c80b726"
   },
   "outputs": [
    {
     "ename": "TypeError",
     "evalue": "'<' not supported between instances of 'dict' and 'dict'",
     "output_type": "error",
     "traceback": [
      "\u001b[0;31m---------------------------------------------------------------------------\u001b[0m",
      "\u001b[0;31mTypeError\u001b[0m                                 Traceback (most recent call last)",
      "Cell \u001b[0;32mIn[33], line 1\u001b[0m\n\u001b[0;32m----> 1\u001b[0m personnes\u001b[39m.\u001b[39;49msort()\n",
      "\u001b[0;31mTypeError\u001b[0m: '<' not supported between instances of 'dict' and 'dict'"
     ]
    }
   ],
   "source": [
    "personnes.sort()"
   ]
  },
  {
   "cell_type": "markdown",
   "metadata": {
    "id": "UKnDsSSBdpHE"
   },
   "source": [
    "Comprenons bien ceci :\n",
    "<font color=\"#ee3333\">TypeError:</font> '<' not supported between instances of 'dict' and 'dict'"
   ]
  },
  {
   "cell_type": "markdown",
   "metadata": {
    "id": "ydqgobTMd91H"
   },
   "source": [
    "❓ Que nous dit l'interpréteur ?"
   ]
  },
  {
   "cell_type": "markdown",
   "metadata": {
    "id": "KVt2q5mJeBDk"
   },
   "source": [
    "Pour trier, il faut faire des comparaisons entre les éléments. Or ici, nos éléments sont des dictionnaires. \n",
    "'<' n'est pas possible entre *dict* et *dict*  : on ne peut comparer deux dictionnaires.\n",
    "\n",
    "Et c'est assez logique, comment comparer Durand Jean-Pierre 32 ans et Tetra Henry 37 ans ? sur l'age ? le nom ? Nous n'avons pas précisé !\n",
    "\n",
    "C'est ce que nous allons faire en définissant une 🔑 clé de tri\n",
    "<center><font color=\"darkyellow\" size=\"5\"><strong>A RETENIR</strong></font></center>\n",
    "\n",
    "```python\n",
    "# Une clé est une fonction qui prend en argument un dictionnaire et renvoie la valeur associée à une clé du dictionnaire.\n",
    "\n",
    "    def ma_fonction ( dictionnaire )  :\n",
    "            return dictionnaire['en_tete_colonne']\n",
    "\n",
    "# Cette fonction sera associée à l’argument key de la méthode sort() : \n",
    "\n",
    "\tpersonnes.sort ( key = ma_fonction ) # Notez que key prend pour valeur le nom de la fonction sans les parenthèses.\n",
    "```\n",
    "\n"
   ]
  },
  {
   "cell_type": "code",
   "execution_count": 34,
   "metadata": {
    "id": "1mWUOC9RhjXE"
   },
   "outputs": [],
   "source": [
    "# Créez  2 clés avec notre dictionnaire\n",
    "\n",
    "def cle_age(dico) :\n",
    "    return int(dico['age'])\n",
    "\n",
    "def cle_nom(dico) :\n",
    "    return dico['nom']"
   ]
  },
  {
   "cell_type": "code",
   "execution_count": 35,
   "metadata": {
    "colab": {
     "base_uri": "https://localhost:8080/"
    },
    "id": "oD1paDE5Jhlp",
    "outputId": "93d95971-5a6a-4185-be49-4ae97da7cd52"
   },
   "outputs": [
    {
     "name": "stdout",
     "output_type": "stream",
     "text": [
      "{'nom': 'Lenard', 'prenom': 'Georges', 'age': '15'}\n",
      "{'nom': 'Lenard', 'prenom': 'Michel', 'age': '17'}\n",
      "{'nom': 'Herpan', 'prenom': 'stephan', 'age': '22'}\n",
      "{'nom': 'Pouyeau', 'prenom': 'Maxime', 'age': '27'}\n",
      "{'nom': 'Durand', 'prenom': 'Jean-Pierre', 'age': '32'}\n",
      "{'nom': 'Follin', 'prenom': 'Paul', 'age': '32'}\n",
      "{'nom': 'Terta', 'prenom': 'Henry', 'age': '37'}\n",
      "{'nom': 'Kapri', 'prenom': 'Leon', 'age': '45'}\n",
      "{'nom': 'Dupont', 'prenom': 'Christophe', 'age': '51'}\n",
      "{'nom': 'Arox', 'prenom': 'Gilles', 'age': '51'}\n",
      "{'nom': 'Mastic', 'prenom': 'Brice', 'age': '61'}\n"
     ]
    }
   ],
   "source": [
    "# Faire un tri par age :\n",
    "personnes.sort( key = cle_age )\n",
    "\n",
    "# affichage du résultat :\n",
    "for p in personnes :\n",
    "    print(p)"
   ]
  },
  {
   "cell_type": "code",
   "execution_count": 36,
   "metadata": {
    "colab": {
     "base_uri": "https://localhost:8080/"
    },
    "id": "9OKmsaE7h_pX",
    "outputId": "d985a8c4-195e-4f82-f5c7-5386914af3fb"
   },
   "outputs": [
    {
     "name": "stdout",
     "output_type": "stream",
     "text": [
      "{'nom': 'Mastic', 'prenom': 'Brice', 'age': '61'}\n",
      "{'nom': 'Dupont', 'prenom': 'Christophe', 'age': '51'}\n",
      "{'nom': 'Arox', 'prenom': 'Gilles', 'age': '51'}\n",
      "{'nom': 'Kapri', 'prenom': 'Leon', 'age': '45'}\n",
      "{'nom': 'Terta', 'prenom': 'Henry', 'age': '37'}\n",
      "{'nom': 'Durand', 'prenom': 'Jean-Pierre', 'age': '32'}\n",
      "{'nom': 'Follin', 'prenom': 'Paul', 'age': '32'}\n",
      "{'nom': 'Pouyeau', 'prenom': 'Maxime', 'age': '27'}\n",
      "{'nom': 'Herpan', 'prenom': 'stephan', 'age': '22'}\n",
      "{'nom': 'Lenard', 'prenom': 'Michel', 'age': '17'}\n",
      "{'nom': 'Lenard', 'prenom': 'Georges', 'age': '15'}\n"
     ]
    }
   ],
   "source": [
    "# ou par age décroissant :\n",
    "personnes.sort( key = cle_age , reverse=True)\n",
    "\n",
    "\n",
    "\n",
    "# affichage du résultat :\n",
    "for p in personnes :\n",
    "    print(p)"
   ]
  },
  {
   "cell_type": "code",
   "execution_count": 37,
   "metadata": {
    "colab": {
     "base_uri": "https://localhost:8080/"
    },
    "id": "D3wKqzJjJhYp",
    "outputId": "d0d45b51-e28f-4126-d713-86c874a6a69c"
   },
   "outputs": [
    {
     "name": "stdout",
     "output_type": "stream",
     "text": [
      "{'nom': 'Arox', 'prenom': 'Gilles', 'age': '51'}\n",
      "{'nom': 'Dupont', 'prenom': 'Christophe', 'age': '51'}\n",
      "{'nom': 'Durand', 'prenom': 'Jean-Pierre', 'age': '32'}\n",
      "{'nom': 'Follin', 'prenom': 'Paul', 'age': '32'}\n",
      "{'nom': 'Herpan', 'prenom': 'stephan', 'age': '22'}\n",
      "{'nom': 'Kapri', 'prenom': 'Leon', 'age': '45'}\n",
      "{'nom': 'Lenard', 'prenom': 'Michel', 'age': '17'}\n",
      "{'nom': 'Lenard', 'prenom': 'Georges', 'age': '15'}\n",
      "{'nom': 'Mastic', 'prenom': 'Brice', 'age': '61'}\n",
      "{'nom': 'Pouyeau', 'prenom': 'Maxime', 'age': '27'}\n",
      "{'nom': 'Terta', 'prenom': 'Henry', 'age': '37'}\n"
     ]
    }
   ],
   "source": [
    "# ou par noms :\n",
    "personnes.sort( key = cle_nom )\n",
    "\n",
    "\n",
    "# affichage du résultat :\n",
    "for p in personnes :\n",
    "    print(p)"
   ]
  },
  {
   "cell_type": "markdown",
   "metadata": {
    "id": "UrHwTvOZVX5-"
   },
   "source": [
    "\n",
    "<center>\n",
    "\n",
    "---\n",
    "\n",
    "*Auteurs* :  **Jean-Louis Thirot - Mireille Coilhac**\n",
    "\n",
    "Publié sous licence CC BY-NC-SA\n",
    "\n",
    "\n",
    "---\n",
    "<a rel=\"license\" href=\"http://creativecommons.org/licenses/by-nc-sa/4.0/\"><img alt=\"Creative Commons License\" style=\"border-width:0\" width=\"200\" src=\"https://s2.qwant.com/thumbr/700x0/f/9/436dcce5e02185c0b2e1b0e7a969aa81d7b0438d0a7f2eaee89abb9661b70b/cc-by-nc-sa.svg_.png?u=http%3A%2F%2Fopensiddur.org%2Fwp-content%2Fuploads%2F2011%2F03%2Fcc-by-nc-sa.svg_.png&q=0&b=1&p=0&a=1\" /></a><br />This work is licensed under a <a rel=\"license\" href=\"http://creativecommons.org/licenses/by-nc-sa/4.0/\">Creative Commons Attribution-NonCommercial-ShareAlike 4.0 International License</a>. "
   ]
  },
  {
   "cell_type": "code",
   "execution_count": null,
   "metadata": {},
   "outputs": [],
   "source": []
  }
 ],
 "metadata": {
  "colab": {
   "collapsed_sections": [],
   "name": "CVS lecture requetes tris 1 - sujet.ipynb",
   "provenance": [],
   "toc_visible": true
  },
  "kernelspec": {
   "display_name": "Python 3",
   "language": "python",
   "name": "python3"
  },
  "language_info": {
   "codemirror_mode": {
    "name": "ipython",
    "version": 3
   },
   "file_extension": ".py",
   "mimetype": "text/x-python",
   "name": "python",
   "nbconvert_exporter": "python",
   "pygments_lexer": "ipython3",
   "version": "3.11.1"
  },
  "vscode": {
   "interpreter": {
    "hash": "9ac03a0a6051494cc606d484d27d20fce22fb7b4d169f583271e11d5ba46a56e"
   }
  }
 },
 "nbformat": 4,
 "nbformat_minor": 2
}
