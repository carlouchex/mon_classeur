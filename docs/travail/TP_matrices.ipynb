{
 "cells": [
  {
   "cell_type": "markdown",
   "metadata": {},
   "source": [
    "# Construction, traitement et affichage de matrices"
   ]
  },
  {
   "cell_type": "markdown",
   "metadata": {},
   "source": [
    "## Définition :\n",
    "\n",
    "En mathématiques, une matrice $\\textbf{M}(m \\times n)$ est un tableau de nombres possédant $m$ lignes et $n$ colonnes. Chaque élément de ce tableau est repéré par deux indices i et j tel que :\n",
    "\n",
    "<img src=\"https://upload.wikimedia.org/wikipedia/commons/thumb/d/d1/Matrice.svg/495px-Matrice.svg.png\" width=\"50%\">\n",
    "<center><em>Source<a href= \"https://fr.wikipedia.org/wiki/Matrice_(math%C3%A9matiques)\"> wikipédia</a><em></center>"
   ]
  },
  {
   "cell_type": "markdown",
   "metadata": {},
   "source": [
    "## Création de matrices au format de l'afficheur d'un BBC micro:bit :\n",
    "\n",
    "On peut représenter les 25 LEDs de l'écran d'un BBC micro:bit par une matrice carrée (5x5) pour laquelle chaque élément peut prendre une valeur entière comprise entre 0 et 9. Cette valeur représente la luminosité de la LED correspondante.\n",
    "\n",
    "Par exemple, l'affichage d'un \"smiley happy\" :\n",
    "\n",
    "\n",
    "<img src=\"https://ericecmorlaix.github.io/img/bbc_happy.png\" width=\"25%\">\n",
    "<center><em>Image du simulateur <a href= \"http://jython.tobiaskohn.ch/\">TigerJython</a><em></center>\n",
    "\n",
    "correspond à la matrice :\n",
    "$$joyeux =\\begin{pmatrix}\n",
    "& 0 & 0 & 0 & 0 & 0 & \\\\\n",
    "& 0 & 9 & 0 & 9 & 0 & \\\\\n",
    "& 0 & 0 & 0 & 0 & 0 & \\\\\n",
    "& 9 & 0 & 0 & 0 & 9 & \\\\\n",
    "& 0 & 9 & 9 & 9 & 0 & \\\\\n",
    "\\end{pmatrix}$$\n",
    "\n",
    "et au tableau définit en Python tel que :"
   ]
  },
  {
   "cell_type": "code",
   "execution_count": 6,
   "metadata": {},
   "outputs": [
    {
     "data": {
      "text/plain": [
       "[[0, 0, 0, 0, 0],\n",
       " [0, 9, 0, 9, 0],\n",
       " [0, 0, 0, 0, 0],\n",
       " [9, 0, 0, 0, 9],\n",
       " [0, 9, 9, 9, 0]]"
      ]
     },
     "execution_count": 6,
     "metadata": {},
     "output_type": "execute_result"
    }
   ],
   "source": [
    "joyeux = [[0, 0, 0, 0, 0],\n",
    "          [0, 9, 0, 9, 0],\n",
    "          [0, 0, 0, 0, 0],\n",
    "          [9, 0, 0, 0, 9],\n",
    "          [0, 9, 9, 9, 0]]\n",
    "joyeux"
   ]
  },
  {
   "cell_type": "markdown",
   "metadata": {},
   "source": [
    "<h3 class='fa fa-code' style=\"color: MediumSeaGreen\"> A coder vous même :</h3>\n",
    "\n",
    "Définir le tableau pour l'affichage d'un \"smiley sad\" :"
   ]
  },
  {
   "cell_type": "code",
   "execution_count": 7,
   "metadata": {},
   "outputs": [
    {
     "data": {
      "text/plain": [
       "[[0, 0, 0, 0, 0],\n",
       " [0, 9, 0, 9, 0],\n",
       " [0, 0, 0, 0, 0],\n",
       " [0, 9, 9, 9, 0],\n",
       " [9, 0, 0, 0, 9]]"
      ]
     },
     "execution_count": 7,
     "metadata": {},
     "output_type": "execute_result"
    }
   ],
   "source": [
    "triste = [[0,0,0,0,0],\n",
    "          [0,9,0,9,0],\n",
    "          [0,0,0,0,0],\n",
    "          [0,9,9,9,0],\n",
    "          [9,0,0,0,9]]\n",
    "triste"
   ]
  },
  {
   "cell_type": "markdown",
   "metadata": {},
   "source": [
    "## Afficher une matrice :\n",
    "\n",
    "### Affichage en $\\LaTeX{}$ dans ce notebook jupyter :\n",
    "\n",
    "La fonction `print()` génère un affichage en ligne d'un tableau et non pas un format matricielle, lignes/colonnes :"
   ]
  },
  {
   "cell_type": "code",
   "execution_count": 8,
   "metadata": {},
   "outputs": [
    {
     "name": "stdout",
     "output_type": "stream",
     "text": [
      "[[0, 0, 0, 0, 0], [0, 9, 0, 9, 0], [0, 0, 0, 0, 0], [9, 0, 0, 0, 9], [0, 9, 9, 9, 0]]\n"
     ]
    }
   ],
   "source": [
    "print(joyeux)"
   ]
  },
  {
   "cell_type": "markdown",
   "metadata": {},
   "source": [
    "Pour afficher comme il se doit nos matrices dans ce document, nous allons définir une fonction basée sur la fonction `Latex()` du module `IPython.display`\n",
    "\n",
    "<h3 class='fa fa-cogs' style=\"color: darkorange\"> A faire vous même :</h3>\n",
    "\n",
    "Essayer la fonction suivante avec les matrices `joyeux` puis `triste`."
   ]
  },
  {
   "cell_type": "code",
   "execution_count": 9,
   "metadata": {},
   "outputs": [],
   "source": [
    "from IPython.display import Latex\n",
    "\n",
    "def affiche_latex(matrice) :\n",
    "    '''\n",
    "    ################################################\n",
    "    #                                              #\n",
    "    # cette fonction permet d'afficher le visuel   #\n",
    "    #                de la matrice                 #\n",
    "    ################################################\n",
    "    \n",
    "    '''\n",
    "    \n",
    "    S = '$$\\\\begin{pmatrix}'\n",
    "    for i in range(len(matrice)) :\n",
    "        S += '&'\n",
    "        for j in range(len(matrice[i])) :\n",
    "            S += f' {matrice[i][j]} &'\n",
    "        S +=\" \\\\\\\\\"\n",
    "    S +='\\\\end{pmatrix}$$'\n",
    "    return Latex(S)"
   ]
  },
  {
   "cell_type": "code",
   "execution_count": 10,
   "metadata": {},
   "outputs": [
    {
     "data": {
      "text/latex": [
       "$$\\begin{pmatrix}& 0 & 0 & 0 & 0 & 0 & \\\\& 0 & 9 & 0 & 9 & 0 & \\\\& 0 & 0 & 0 & 0 & 0 & \\\\& 9 & 0 & 0 & 0 & 9 & \\\\& 0 & 9 & 9 & 9 & 0 & \\\\\\end{pmatrix}$$"
      ],
      "text/plain": [
       "<IPython.core.display.Latex object>"
      ]
     },
     "execution_count": 10,
     "metadata": {},
     "output_type": "execute_result"
    }
   ],
   "source": [
    "affiche_latex(joyeux)"
   ]
  },
  {
   "cell_type": "code",
   "execution_count": 11,
   "metadata": {},
   "outputs": [
    {
     "data": {
      "text/latex": [
       "$$\\begin{pmatrix}& 0 & 0 & 0 & 0 & 0 & \\\\& 0 & 9 & 0 & 9 & 0 & \\\\& 0 & 0 & 0 & 0 & 0 & \\\\& 0 & 9 & 9 & 9 & 0 & \\\\& 9 & 0 & 0 & 0 & 9 & \\\\\\end{pmatrix}$$"
      ],
      "text/plain": [
       "<IPython.core.display.Latex object>"
      ]
     },
     "execution_count": 11,
     "metadata": {},
     "output_type": "execute_result"
    }
   ],
   "source": [
    "affiche_latex(triste)"
   ]
  },
  {
   "cell_type": "markdown",
   "metadata": {},
   "source": [
    "Que fait la fonction `affiche_latex()`? Rédiger une docstring pour cette fonction..."
   ]
  },
  {
   "cell_type": "code",
   "execution_count": 12,
   "metadata": {},
   "outputs": [
    {
     "name": "stdout",
     "output_type": "stream",
     "text": [
      "Help on function affiche_latex in module __main__:\n",
      "\n",
      "affiche_latex(matrice)\n",
      "    ################################################\n",
      "    #                                              #\n",
      "    # cette fonction permet d'afficher le visuel   #\n",
      "    #                de la matrice                 #\n",
      "    ################################################\n",
      "\n"
     ]
    }
   ],
   "source": [
    "help(affiche_latex)"
   ]
  },
  {
   "attachments": {},
   "cell_type": "markdown",
   "metadata": {},
   "source": [
    "J'ai ecrit plus haut dans la fonction."
   ]
  },
  {
   "cell_type": "markdown",
   "metadata": {},
   "source": [
    "### Affichage sur l'écran d'un BBC micro:bit :\n",
    "\n",
    ">La fonction: `display.set_pixel(x,y,n)` permet d’allumer la LED de la colonne `x` (nombre entier entre 0 et 4) et de la ligne `y` (nombre entier entre 0 et 4) avec un niveau d'intensité lumineuse `n` (nombre entier entre 0 et 9).\n",
    ">\n",
    ">Exemple: `display.set_pixel(1,2,7)` allume la LED située à la colonne 1 de la ligne 2 au niveau d'intensité lumineuse 7.\n",
    ">\n",
    ">[Guide pour matrice à LED](https://microbit.org/guide/hardware/leds/)"
   ]
  },
  {
   "cell_type": "markdown",
   "metadata": {},
   "source": [
    "<h3 class='fa fa-code' style=\"color: darkorange\"> A coder vous même :</h3>\n",
    "\n",
    "Dans le programme suivant, définir une fonction `affiche_microbit(matrice)` qui :\n",
    "   - prend en paramètre une matrice (5x5) dont les éléments sont des nombres entiers compris entre 0 et 9 ;\n",
    "   - parcourt cette matrice par ligne et par colonne avec deux boucles `for` imbriquées ;\n",
    "   - lit la valeur de chaque élément et l'affecte au pixel (LED) correspondant sur l'écran du BBC micro:bit. \n",
    "\n",
    "Tester votre programme sur simulateur et sur BBC micro:bit pour les matrices `joyeux` et `triste`."
   ]
  },
  {
   "cell_type": "code",
   "execution_count": 14,
   "metadata": {},
   "outputs": [
    {
     "ename": "ModuleNotFoundError",
     "evalue": "No module named 'microbit'",
     "output_type": "error",
     "traceback": [
      "\u001b[0;31m---------------------------------------------------------------------------\u001b[0m",
      "\u001b[0;31mModuleNotFoundError\u001b[0m                       Traceback (most recent call last)",
      "\u001b[1;32m/workspace/mon_classeur/docs/travail/TP_matrices.ipynb Cell 18\u001b[0m in \u001b[0;36m1\n\u001b[0;32m----> <a href='vscode-notebook-cell://carlouchex-monclasseur-6q6677bv4t2.ws-eu89b.gitpod.io/workspace/mon_classeur/docs/travail/TP_matrices.ipynb#X23sdnNjb2RlLXJlbW90ZQ%3D%3D?line=0'>1</a>\u001b[0m \u001b[39mfrom\u001b[39;00m \u001b[39mmicrobit\u001b[39;00m \u001b[39mimport\u001b[39;00m \u001b[39m*\u001b[39m\n\u001b[1;32m      <a href='vscode-notebook-cell://carlouchex-monclasseur-6q6677bv4t2.ws-eu89b.gitpod.io/workspace/mon_classeur/docs/travail/TP_matrices.ipynb#X23sdnNjb2RlLXJlbW90ZQ%3D%3D?line=2'>3</a>\u001b[0m joyeux \u001b[39m=\u001b[39m [[\u001b[39m0\u001b[39m, \u001b[39m0\u001b[39m, \u001b[39m0\u001b[39m, \u001b[39m0\u001b[39m, \u001b[39m0\u001b[39m],\n\u001b[1;32m      <a href='vscode-notebook-cell://carlouchex-monclasseur-6q6677bv4t2.ws-eu89b.gitpod.io/workspace/mon_classeur/docs/travail/TP_matrices.ipynb#X23sdnNjb2RlLXJlbW90ZQ%3D%3D?line=3'>4</a>\u001b[0m           [\u001b[39m0\u001b[39m, \u001b[39m9\u001b[39m, \u001b[39m0\u001b[39m, \u001b[39m9\u001b[39m, \u001b[39m0\u001b[39m],\n\u001b[1;32m      <a href='vscode-notebook-cell://carlouchex-monclasseur-6q6677bv4t2.ws-eu89b.gitpod.io/workspace/mon_classeur/docs/travail/TP_matrices.ipynb#X23sdnNjb2RlLXJlbW90ZQ%3D%3D?line=4'>5</a>\u001b[0m           [\u001b[39m0\u001b[39m, \u001b[39m0\u001b[39m, \u001b[39m0\u001b[39m, \u001b[39m0\u001b[39m, \u001b[39m0\u001b[39m],\n\u001b[1;32m      <a href='vscode-notebook-cell://carlouchex-monclasseur-6q6677bv4t2.ws-eu89b.gitpod.io/workspace/mon_classeur/docs/travail/TP_matrices.ipynb#X23sdnNjb2RlLXJlbW90ZQ%3D%3D?line=5'>6</a>\u001b[0m           [\u001b[39m9\u001b[39m, \u001b[39m0\u001b[39m, \u001b[39m0\u001b[39m, \u001b[39m0\u001b[39m, \u001b[39m9\u001b[39m],\n\u001b[1;32m      <a href='vscode-notebook-cell://carlouchex-monclasseur-6q6677bv4t2.ws-eu89b.gitpod.io/workspace/mon_classeur/docs/travail/TP_matrices.ipynb#X23sdnNjb2RlLXJlbW90ZQ%3D%3D?line=6'>7</a>\u001b[0m           [\u001b[39m0\u001b[39m, \u001b[39m9\u001b[39m, \u001b[39m9\u001b[39m, \u001b[39m9\u001b[39m, \u001b[39m0\u001b[39m]]\n\u001b[1;32m      <a href='vscode-notebook-cell://carlouchex-monclasseur-6q6677bv4t2.ws-eu89b.gitpod.io/workspace/mon_classeur/docs/travail/TP_matrices.ipynb#X23sdnNjb2RlLXJlbW90ZQ%3D%3D?line=8'>9</a>\u001b[0m \u001b[39mdef\u001b[39;00m \u001b[39maffiche_microbit\u001b[39m(matrice) :\n",
      "\u001b[0;31mModuleNotFoundError\u001b[0m: No module named 'microbit'"
     ]
    }
   ],
   "source": [
    "from microbit import *\n",
    "\n",
    "joyeux = [[0, 0, 0, 0, 0],\n",
    "          [0, 9, 0, 9, 0],\n",
    "          [0, 0, 0, 0, 0],\n",
    "          [9, 0, 0, 0, 9],\n",
    "          [0, 9, 9, 9, 0]]\n",
    "\n",
    "def affiche_microbit(matrice) :\n",
    "    '''\n",
    "    ################################################\n",
    "    #                                              #\n",
    "    #   Documentation de la fonction ...........   #\n",
    "    #                                              #\n",
    "    ################################################\n",
    "    \n",
    "    '''\n",
    "    for j in range(len(matrice)): \n",
    "        for i in range(len(matrice)):\n",
    "            display.set_pixel(j,i,matrice[i][j])\n",
    "            \n",
    "\n",
    "affiche_microbit(joyeux)"
   ]
  },
  {
   "cell_type": "code",
   "execution_count": 15,
   "metadata": {},
   "outputs": [
    {
     "ename": "ModuleNotFoundError",
     "evalue": "No module named 'microbit'",
     "output_type": "error",
     "traceback": [
      "\u001b[0;31m---------------------------------------------------------------------------\u001b[0m",
      "\u001b[0;31mModuleNotFoundError\u001b[0m                       Traceback (most recent call last)",
      "\u001b[1;32m/workspace/mon_classeur/docs/travail/TP_matrices.ipynb Cell 19\u001b[0m in \u001b[0;36m1\n\u001b[0;32m----> <a href='vscode-notebook-cell://carlouchex-monclasseur-6q6677bv4t2.ws-eu89b.gitpod.io/workspace/mon_classeur/docs/travail/TP_matrices.ipynb#X24sdnNjb2RlLXJlbW90ZQ%3D%3D?line=0'>1</a>\u001b[0m \u001b[39mfrom\u001b[39;00m \u001b[39mmicrobit\u001b[39;00m \u001b[39mimport\u001b[39;00m \u001b[39m*\u001b[39m\n\u001b[1;32m      <a href='vscode-notebook-cell://carlouchex-monclasseur-6q6677bv4t2.ws-eu89b.gitpod.io/workspace/mon_classeur/docs/travail/TP_matrices.ipynb#X24sdnNjb2RlLXJlbW90ZQ%3D%3D?line=2'>3</a>\u001b[0m triste \u001b[39m=\u001b[39m [[\u001b[39m0\u001b[39m,\u001b[39m0\u001b[39m,\u001b[39m0\u001b[39m,\u001b[39m0\u001b[39m,\u001b[39m0\u001b[39m],\n\u001b[1;32m      <a href='vscode-notebook-cell://carlouchex-monclasseur-6q6677bv4t2.ws-eu89b.gitpod.io/workspace/mon_classeur/docs/travail/TP_matrices.ipynb#X24sdnNjb2RlLXJlbW90ZQ%3D%3D?line=3'>4</a>\u001b[0m           [\u001b[39m0\u001b[39m,\u001b[39m9\u001b[39m,\u001b[39m0\u001b[39m,\u001b[39m9\u001b[39m,\u001b[39m0\u001b[39m],\n\u001b[1;32m      <a href='vscode-notebook-cell://carlouchex-monclasseur-6q6677bv4t2.ws-eu89b.gitpod.io/workspace/mon_classeur/docs/travail/TP_matrices.ipynb#X24sdnNjb2RlLXJlbW90ZQ%3D%3D?line=4'>5</a>\u001b[0m           [\u001b[39m0\u001b[39m,\u001b[39m0\u001b[39m,\u001b[39m0\u001b[39m,\u001b[39m0\u001b[39m,\u001b[39m0\u001b[39m],\n\u001b[1;32m      <a href='vscode-notebook-cell://carlouchex-monclasseur-6q6677bv4t2.ws-eu89b.gitpod.io/workspace/mon_classeur/docs/travail/TP_matrices.ipynb#X24sdnNjb2RlLXJlbW90ZQ%3D%3D?line=5'>6</a>\u001b[0m           [\u001b[39m0\u001b[39m,\u001b[39m9\u001b[39m,\u001b[39m9\u001b[39m,\u001b[39m9\u001b[39m,\u001b[39m0\u001b[39m],\n\u001b[1;32m      <a href='vscode-notebook-cell://carlouchex-monclasseur-6q6677bv4t2.ws-eu89b.gitpod.io/workspace/mon_classeur/docs/travail/TP_matrices.ipynb#X24sdnNjb2RlLXJlbW90ZQ%3D%3D?line=6'>7</a>\u001b[0m           [\u001b[39m9\u001b[39m,\u001b[39m0\u001b[39m,\u001b[39m0\u001b[39m,\u001b[39m0\u001b[39m,\u001b[39m9\u001b[39m]]\n\u001b[1;32m      <a href='vscode-notebook-cell://carlouchex-monclasseur-6q6677bv4t2.ws-eu89b.gitpod.io/workspace/mon_classeur/docs/travail/TP_matrices.ipynb#X24sdnNjb2RlLXJlbW90ZQ%3D%3D?line=8'>9</a>\u001b[0m \u001b[39mdef\u001b[39;00m \u001b[39maffiche_microbit\u001b[39m(matrice) :\n",
      "\u001b[0;31mModuleNotFoundError\u001b[0m: No module named 'microbit'"
     ]
    }
   ],
   "source": [
    "from microbit import *\n",
    "\n",
    "triste = [[0,0,0,0,0],\n",
    "          [0,9,0,9,0],\n",
    "          [0,0,0,0,0],\n",
    "          [0,9,9,9,0],\n",
    "          [9,0,0,0,9]]\n",
    "\n",
    "def affiche_microbit(matrice) :\n",
    "    '''\n",
    "    ################################################\n",
    "    #                                              #\n",
    "    #   Documentation de la fonction ...........   #\n",
    "    #                                              #\n",
    "    ################################################\n",
    "    \n",
    "    '''\n",
    "    for j in range(len(matrice)): \n",
    "        for i in range(len(matrice)):\n",
    "            display.set_pixel(j,i,matrice[i][j])\n",
    "            \n",
    "\n",
    "affiche_microbit(triste)"
   ]
  },
  {
   "cell_type": "markdown",
   "metadata": {},
   "source": [
    "<h3 class='fa fa-rocket' style=\"color: tomato\"> Prolongement :</h3>\n",
    "\n",
    "1. Modifier le programme pour afficher alternativement les images `joyeux` puis `triste` ;\n",
    "\n",
    "2. Redéfinir une fonction `affiche_microbit(matrice)` utilisant la classe `Image` et la fonction `display.show()` :"
   ]
  },
  {
   "cell_type": "code",
   "execution_count": 16,
   "metadata": {},
   "outputs": [
    {
     "ename": "NameError",
     "evalue": "name 'Image' is not defined",
     "output_type": "error",
     "traceback": [
      "\u001b[0;31m---------------------------------------------------------------------------\u001b[0m",
      "\u001b[0;31mNameError\u001b[0m                                 Traceback (most recent call last)",
      "\u001b[1;32m/workspace/mon_classeur/docs/travail/TP_matrices.ipynb Cell 21\u001b[0m in \u001b[0;36m1\n\u001b[0;32m----> <a href='vscode-notebook-cell://carlouchex-monclasseur-6q6677bv4t2.ws-eu89b.gitpod.io/workspace/mon_classeur/docs/travail/TP_matrices.ipynb#X26sdnNjb2RlLXJlbW90ZQ%3D%3D?line=0'>1</a>\u001b[0m monImage \u001b[39m=\u001b[39m Image(\u001b[39m'\u001b[39m\u001b[39m33333:36663:36963:36663:33333:\u001b[39m\u001b[39m'\u001b[39m)\n\u001b[1;32m      <a href='vscode-notebook-cell://carlouchex-monclasseur-6q6677bv4t2.ws-eu89b.gitpod.io/workspace/mon_classeur/docs/travail/TP_matrices.ipynb#X26sdnNjb2RlLXJlbW90ZQ%3D%3D?line=1'>2</a>\u001b[0m display\u001b[39m.\u001b[39mshow(monImage)\n",
      "\u001b[0;31mNameError\u001b[0m: name 'Image' is not defined"
     ]
    }
   ],
   "source": [
    "monImage = Image('33333:36663:36963:36663:33333:')\n",
    "display.show(monImage)"
   ]
  },
  {
   "cell_type": "markdown",
   "metadata": {},
   "source": [
    "### Affichage sur une grille IPythonBlocks dans ce notebook jupyter :\n",
    "\n",
    "Instructions de base pour l'utilisation du module [IPythonBlocks](http://www.ipythonblocks.org/) :"
   ]
  },
  {
   "cell_type": "code",
   "execution_count": 17,
   "metadata": {},
   "outputs": [
    {
     "data": {
      "text/html": [
       "<style type=\"text/css\">table.blockgrid {border: none;} .blockgrid tr {border: none;} .blockgrid td {padding: 0px;} #blocksb91c507f-d29c-41fd-a1e4-d87949340f72 td {border: 1px solid white;}</style><table id=\"blocksb91c507f-d29c-41fd-a1e4-d87949340f72\" class=\"blockgrid\"><tbody><tr><td title=\"Index: [0, 0]&#10;Color: (0, 0, 0)\" style=\"width: 30px; height: 30px;background-color: rgb(0, 0, 0);\"></td><td title=\"Index: [0, 1]&#10;Color: (0, 0, 0)\" style=\"width: 30px; height: 30px;background-color: rgb(0, 0, 0);\"></td><td title=\"Index: [0, 2]&#10;Color: (0, 0, 0)\" style=\"width: 30px; height: 30px;background-color: rgb(0, 0, 0);\"></td><td title=\"Index: [0, 3]&#10;Color: (0, 0, 0)\" style=\"width: 30px; height: 30px;background-color: rgb(0, 0, 0);\"></td><td title=\"Index: [0, 4]&#10;Color: (0, 0, 0)\" style=\"width: 30px; height: 30px;background-color: rgb(0, 0, 0);\"></td><td title=\"Index: [0, 5]&#10;Color: (0, 0, 0)\" style=\"width: 30px; height: 30px;background-color: rgb(0, 0, 0);\"></td><td title=\"Index: [0, 6]&#10;Color: (0, 0, 0)\" style=\"width: 30px; height: 30px;background-color: rgb(0, 0, 0);\"></td><td title=\"Index: [0, 7]&#10;Color: (0, 0, 0)\" style=\"width: 30px; height: 30px;background-color: rgb(0, 0, 0);\"></td></tr><tr><td title=\"Index: [1, 0]&#10;Color: (0, 0, 0)\" style=\"width: 30px; height: 30px;background-color: rgb(0, 0, 0);\"></td><td title=\"Index: [1, 1]&#10;Color: (0, 0, 0)\" style=\"width: 30px; height: 30px;background-color: rgb(0, 0, 0);\"></td><td title=\"Index: [1, 2]&#10;Color: (0, 0, 0)\" style=\"width: 30px; height: 30px;background-color: rgb(0, 0, 0);\"></td><td title=\"Index: [1, 3]&#10;Color: (0, 0, 0)\" style=\"width: 30px; height: 30px;background-color: rgb(0, 0, 0);\"></td><td title=\"Index: [1, 4]&#10;Color: (0, 0, 0)\" style=\"width: 30px; height: 30px;background-color: rgb(0, 0, 0);\"></td><td title=\"Index: [1, 5]&#10;Color: (0, 0, 0)\" style=\"width: 30px; height: 30px;background-color: rgb(0, 0, 0);\"></td><td title=\"Index: [1, 6]&#10;Color: (0, 0, 0)\" style=\"width: 30px; height: 30px;background-color: rgb(0, 0, 0);\"></td><td title=\"Index: [1, 7]&#10;Color: (0, 0, 0)\" style=\"width: 30px; height: 30px;background-color: rgb(0, 0, 0);\"></td></tr><tr><td title=\"Index: [2, 0]&#10;Color: (0, 0, 0)\" style=\"width: 30px; height: 30px;background-color: rgb(0, 0, 0);\"></td><td title=\"Index: [2, 1]&#10;Color: (0, 0, 0)\" style=\"width: 30px; height: 30px;background-color: rgb(0, 0, 0);\"></td><td title=\"Index: [2, 2]&#10;Color: (0, 0, 0)\" style=\"width: 30px; height: 30px;background-color: rgb(0, 0, 0);\"></td><td title=\"Index: [2, 3]&#10;Color: (255, 0, 0)\" style=\"width: 30px; height: 30px;background-color: rgb(255, 0, 0);\"></td><td title=\"Index: [2, 4]&#10;Color: (0, 0, 0)\" style=\"width: 30px; height: 30px;background-color: rgb(0, 0, 0);\"></td><td title=\"Index: [2, 5]&#10;Color: (0, 0, 0)\" style=\"width: 30px; height: 30px;background-color: rgb(0, 0, 0);\"></td><td title=\"Index: [2, 6]&#10;Color: (0, 0, 0)\" style=\"width: 30px; height: 30px;background-color: rgb(0, 0, 0);\"></td><td title=\"Index: [2, 7]&#10;Color: (0, 0, 0)\" style=\"width: 30px; height: 30px;background-color: rgb(0, 0, 0);\"></td></tr><tr><td title=\"Index: [3, 0]&#10;Color: (0, 0, 0)\" style=\"width: 30px; height: 30px;background-color: rgb(0, 0, 0);\"></td><td title=\"Index: [3, 1]&#10;Color: (0, 0, 0)\" style=\"width: 30px; height: 30px;background-color: rgb(0, 0, 0);\"></td><td title=\"Index: [3, 2]&#10;Color: (0, 0, 0)\" style=\"width: 30px; height: 30px;background-color: rgb(0, 0, 0);\"></td><td title=\"Index: [3, 3]&#10;Color: (0, 0, 0)\" style=\"width: 30px; height: 30px;background-color: rgb(0, 0, 0);\"></td><td title=\"Index: [3, 4]&#10;Color: (0, 0, 0)\" style=\"width: 30px; height: 30px;background-color: rgb(0, 0, 0);\"></td><td title=\"Index: [3, 5]&#10;Color: (0, 0, 0)\" style=\"width: 30px; height: 30px;background-color: rgb(0, 0, 0);\"></td><td title=\"Index: [3, 6]&#10;Color: (0, 0, 0)\" style=\"width: 30px; height: 30px;background-color: rgb(0, 0, 0);\"></td><td title=\"Index: [3, 7]&#10;Color: (0, 0, 0)\" style=\"width: 30px; height: 30px;background-color: rgb(0, 0, 0);\"></td></tr><tr><td title=\"Index: [4, 0]&#10;Color: (0, 0, 0)\" style=\"width: 30px; height: 30px;background-color: rgb(0, 0, 0);\"></td><td title=\"Index: [4, 1]&#10;Color: (0, 0, 0)\" style=\"width: 30px; height: 30px;background-color: rgb(0, 0, 0);\"></td><td title=\"Index: [4, 2]&#10;Color: (0, 0, 0)\" style=\"width: 30px; height: 30px;background-color: rgb(0, 0, 0);\"></td><td title=\"Index: [4, 3]&#10;Color: (0, 0, 0)\" style=\"width: 30px; height: 30px;background-color: rgb(0, 0, 0);\"></td><td title=\"Index: [4, 4]&#10;Color: (0, 0, 0)\" style=\"width: 30px; height: 30px;background-color: rgb(0, 0, 0);\"></td><td title=\"Index: [4, 5]&#10;Color: (0, 0, 0)\" style=\"width: 30px; height: 30px;background-color: rgb(0, 0, 0);\"></td><td title=\"Index: [4, 6]&#10;Color: (0, 0, 0)\" style=\"width: 30px; height: 30px;background-color: rgb(0, 0, 0);\"></td><td title=\"Index: [4, 7]&#10;Color: (0, 0, 0)\" style=\"width: 30px; height: 30px;background-color: rgb(0, 0, 0);\"></td></tr></tbody></table>"
      ],
      "text/plain": [
       "<ipythonblocks.ipythonblocks.BlockGrid at 0x7f4f45d9f2e0>"
      ]
     },
     "execution_count": 17,
     "metadata": {},
     "output_type": "execute_result"
    }
   ],
   "source": [
    "# On importe la fonction BlockGrid() du module ipythonblocks\n",
    "from ipythonblocks import BlockGrid\n",
    "# On crée un objet maGrille, une instance de BlockGrid\n",
    "maGrille = BlockGrid(8,5, fill=(0, 0, 0), block_size=30)\n",
    "# On accède à chaque case de la grille par ces index [i,j] pour modifier sa couleur (rouge, vert, bleu)\n",
    "maGrille[2,3]=(255, 0, 0)\n",
    "# On affiche notre grille\n",
    "maGrille"
   ]
  },
  {
   "cell_type": "markdown",
   "metadata": {},
   "source": [
    "<h3 class='fa fa-code' style=\"color: darkorange\"> A coder vous même :</h3>\n",
    "\n",
    "Dans le programme suivant, définir une fonction `affiche_ipythonblocks(matrice)` qui :\n",
    "   - prend en paramètre une matrice (5x5) dont les éléments sont des nombres entiers compris entre 0 et 9 ;\n",
    "   - parcourt cette matrice par ligne et par colonne avec deux boucles `for` imbriquées ;\n",
    "   - lit la valeur de chaque élément et l'adapte à la couleur de la case correspondante dans une grille ipythonblocks (5x5). \n",
    "\n",
    "Tester votre programme dans ce notebook pour les matrices `joyeux` et `triste`."
   ]
  },
  {
   "cell_type": "code",
   "execution_count": 18,
   "metadata": {},
   "outputs": [],
   "source": [
    "from ipythonblocks import BlockGrid\n",
    "\n",
    "def affiche_ipythonblocks(matrice) :\n",
    "    '''\n",
    "    ################################################\n",
    "    #                                              #\n",
    "    #   Documentation de la fonction ...........   #\n",
    "    #                                              #\n",
    "    ################################################\n",
    "    \n",
    "    '''\n",
    "    maGrille = BlockGrid(5,5, fill=(0, 0, 0), block_size=30) \n",
    "    for j in range(len(matrice)): \n",
    "        for i in range(len(matrice)):\n",
    "            display.set_pixel(j,i,matrice[i][j])\n",
    "            \n",
    "            \n",
    "    return"
   ]
  },
  {
   "cell_type": "code",
   "execution_count": 12,
   "metadata": {},
   "outputs": [
    {
     "ename": "NameError",
     "evalue": "name 'affiche_ipythonblocks' is not defined",
     "output_type": "error",
     "traceback": [
      "\u001b[0;31m---------------------------------------------------------------------------\u001b[0m",
      "\u001b[0;31mNameError\u001b[0m                                 Traceback (most recent call last)",
      "\u001b[1;32m/workspace/mon_classeur/docs/travail/TP_matrices.ipynb Cell 26\u001b[0m in \u001b[0;36m1\n\u001b[0;32m----> <a href='vscode-notebook-cell://carlouchex-monclasseur-6q6677bv4t2.ws-eu89.gitpod.io/workspace/mon_classeur/docs/travail/TP_matrices.ipynb#X32sdnNjb2RlLXJlbW90ZQ%3D%3D?line=0'>1</a>\u001b[0m affiche_ipythonblocks(joyeux)\n",
      "\u001b[0;31mNameError\u001b[0m: name 'affiche_ipythonblocks' is not defined"
     ]
    }
   ],
   "source": [
    "affiche_ipythonblocks(joyeux)"
   ]
  },
  {
   "cell_type": "code",
   "execution_count": 19,
   "metadata": {},
   "outputs": [
    {
     "ename": "AttributeError",
     "evalue": "'function' object has no attribute 'set_pixel'",
     "output_type": "error",
     "traceback": [
      "\u001b[0;31m---------------------------------------------------------------------------\u001b[0m",
      "\u001b[0;31mAttributeError\u001b[0m                            Traceback (most recent call last)",
      "\u001b[1;32m/workspace/mon_classeur/docs/travail/TP_matrices.ipynb Cell 27\u001b[0m in \u001b[0;36m1\n\u001b[0;32m----> <a href='vscode-notebook-cell://carlouchex-monclasseur-6q6677bv4t2.ws-eu89b.gitpod.io/workspace/mon_classeur/docs/travail/TP_matrices.ipynb#X35sdnNjb2RlLXJlbW90ZQ%3D%3D?line=0'>1</a>\u001b[0m affiche_ipythonblocks(triste)\n",
      "\u001b[1;32m/workspace/mon_classeur/docs/travail/TP_matrices.ipynb Cell 27\u001b[0m in \u001b[0;36m1\n\u001b[1;32m     <a href='vscode-notebook-cell://carlouchex-monclasseur-6q6677bv4t2.ws-eu89b.gitpod.io/workspace/mon_classeur/docs/travail/TP_matrices.ipynb#X35sdnNjb2RlLXJlbW90ZQ%3D%3D?line=12'>13</a>\u001b[0m \u001b[39mfor\u001b[39;00m j \u001b[39min\u001b[39;00m \u001b[39mrange\u001b[39m(\u001b[39mlen\u001b[39m(matrice)): \n\u001b[1;32m     <a href='vscode-notebook-cell://carlouchex-monclasseur-6q6677bv4t2.ws-eu89b.gitpod.io/workspace/mon_classeur/docs/travail/TP_matrices.ipynb#X35sdnNjb2RlLXJlbW90ZQ%3D%3D?line=13'>14</a>\u001b[0m     \u001b[39mfor\u001b[39;00m i \u001b[39min\u001b[39;00m \u001b[39mrange\u001b[39m(\u001b[39mlen\u001b[39m(matrice)):\n\u001b[0;32m---> <a href='vscode-notebook-cell://carlouchex-monclasseur-6q6677bv4t2.ws-eu89b.gitpod.io/workspace/mon_classeur/docs/travail/TP_matrices.ipynb#X35sdnNjb2RlLXJlbW90ZQ%3D%3D?line=14'>15</a>\u001b[0m         display\u001b[39m.\u001b[39;49mset_pixel(j,i,matrice[i][j])\n\u001b[1;32m     <a href='vscode-notebook-cell://carlouchex-monclasseur-6q6677bv4t2.ws-eu89b.gitpod.io/workspace/mon_classeur/docs/travail/TP_matrices.ipynb#X35sdnNjb2RlLXJlbW90ZQ%3D%3D?line=17'>18</a>\u001b[0m \u001b[39mreturn\u001b[39;00m\n",
      "\u001b[0;31mAttributeError\u001b[0m: 'function' object has no attribute 'set_pixel'"
     ]
    }
   ],
   "source": [
    "affiche_ipythonblocks(triste)"
   ]
  },
  {
   "cell_type": "markdown",
   "metadata": {},
   "source": [
    "## Création de matrices par compréhension :\n",
    "\n",
    "Déclarer une matrice élément par élément peux être fastidieux.\n",
    "\n",
    "La compréhension de liste va nous permettre d'automatiser cette tâche.\n",
    "\n",
    "<h3 class='fa fa-code' style=\"color: darkorange\"> A programmer vous même :</h3>\n",
    "\n",
    "En vous inspirant de l'exemple suivant :"
   ]
  },
  {
   "cell_type": "code",
   "execution_count": 20,
   "metadata": {},
   "outputs": [
    {
     "data": {
      "text/plain": [
       "[[0, 0, 0, 0, 0],\n",
       " [0, 0, 0, 0, 0],\n",
       " [9, 9, 9, 9, 9],\n",
       " [0, 0, 0, 0, 0],\n",
       " [0, 0, 0, 0, 0]]"
      ]
     },
     "execution_count": 20,
     "metadata": {},
     "output_type": "execute_result"
    }
   ],
   "source": [
    "moins = [[0 if i != 2 else 9 for j in range(5)] for i in range(5)]\n",
    "moins"
   ]
  },
  {
   "cell_type": "code",
   "execution_count": 21,
   "metadata": {},
   "outputs": [
    {
     "data": {
      "text/latex": [
       "$$\\begin{pmatrix}& 0 & 0 & 0 & 0 & 0 & \\\\& 0 & 0 & 0 & 0 & 0 & \\\\& 9 & 9 & 9 & 9 & 9 & \\\\& 0 & 0 & 0 & 0 & 0 & \\\\& 0 & 0 & 0 & 0 & 0 & \\\\\\end{pmatrix}$$"
      ],
      "text/plain": [
       "<IPython.core.display.Latex object>"
      ]
     },
     "execution_count": 21,
     "metadata": {},
     "output_type": "execute_result"
    }
   ],
   "source": [
    "affiche_latex(moins)"
   ]
  },
  {
   "cell_type": "code",
   "execution_count": 22,
   "metadata": {},
   "outputs": [
    {
     "ename": "AttributeError",
     "evalue": "'function' object has no attribute 'set_pixel'",
     "output_type": "error",
     "traceback": [
      "\u001b[0;31m---------------------------------------------------------------------------\u001b[0m",
      "\u001b[0;31mAttributeError\u001b[0m                            Traceback (most recent call last)",
      "\u001b[1;32m/workspace/mon_classeur/docs/travail/TP_matrices.ipynb Cell 31\u001b[0m in \u001b[0;36m1\n\u001b[0;32m----> <a href='vscode-notebook-cell://carlouchex-monclasseur-6q6677bv4t2.ws-eu89b.gitpod.io/workspace/mon_classeur/docs/travail/TP_matrices.ipynb#X42sdnNjb2RlLXJlbW90ZQ%3D%3D?line=0'>1</a>\u001b[0m affiche_ipythonblocks(moins)\n",
      "\u001b[1;32m/workspace/mon_classeur/docs/travail/TP_matrices.ipynb Cell 31\u001b[0m in \u001b[0;36m1\n\u001b[1;32m     <a href='vscode-notebook-cell://carlouchex-monclasseur-6q6677bv4t2.ws-eu89b.gitpod.io/workspace/mon_classeur/docs/travail/TP_matrices.ipynb#X42sdnNjb2RlLXJlbW90ZQ%3D%3D?line=12'>13</a>\u001b[0m \u001b[39mfor\u001b[39;00m j \u001b[39min\u001b[39;00m \u001b[39mrange\u001b[39m(\u001b[39mlen\u001b[39m(matrice)): \n\u001b[1;32m     <a href='vscode-notebook-cell://carlouchex-monclasseur-6q6677bv4t2.ws-eu89b.gitpod.io/workspace/mon_classeur/docs/travail/TP_matrices.ipynb#X42sdnNjb2RlLXJlbW90ZQ%3D%3D?line=13'>14</a>\u001b[0m     \u001b[39mfor\u001b[39;00m i \u001b[39min\u001b[39;00m \u001b[39mrange\u001b[39m(\u001b[39mlen\u001b[39m(matrice)):\n\u001b[0;32m---> <a href='vscode-notebook-cell://carlouchex-monclasseur-6q6677bv4t2.ws-eu89b.gitpod.io/workspace/mon_classeur/docs/travail/TP_matrices.ipynb#X42sdnNjb2RlLXJlbW90ZQ%3D%3D?line=14'>15</a>\u001b[0m         display\u001b[39m.\u001b[39;49mset_pixel(j,i,matrice[i][j])\n\u001b[1;32m     <a href='vscode-notebook-cell://carlouchex-monclasseur-6q6677bv4t2.ws-eu89b.gitpod.io/workspace/mon_classeur/docs/travail/TP_matrices.ipynb#X42sdnNjb2RlLXJlbW90ZQ%3D%3D?line=17'>18</a>\u001b[0m \u001b[39mreturn\u001b[39;00m\n",
      "\u001b[0;31mAttributeError\u001b[0m: 'function' object has no attribute 'set_pixel'"
     ]
    }
   ],
   "source": [
    "affiche_ipythonblocks(moins)"
   ]
  },
  {
   "cell_type": "markdown",
   "metadata": {},
   "source": [
    "Proposer des solutions pour générer par compréhension les matrices telles que :\n",
    "\n",
    "$$plein\\_feux = \\begin{pmatrix}\n",
    "& 9 & 9 & 9 & 9 & 9 & \\\\\n",
    "& 9 & 9 & 9 & 9 & 9 & \\\\\n",
    "& 9 & 9 & 9 & 9 & 9 & \\\\\n",
    "& 9 & 9 & 9 & 9 & 9 & \\\\\n",
    "& 9 & 9 & 9 & 9 & 9 & \\\\\n",
    "\\end{pmatrix}$$"
   ]
  },
  {
   "cell_type": "code",
   "execution_count": 23,
   "metadata": {},
   "outputs": [],
   "source": [
    "plein_feux = [[9 if i != -1 else 9 for j in range(5)] for i in range(5)]"
   ]
  },
  {
   "cell_type": "code",
   "execution_count": 24,
   "metadata": {},
   "outputs": [
    {
     "data": {
      "text/latex": [
       "$$\\begin{pmatrix}& 9 & 9 & 9 & 9 & 9 & \\\\& 9 & 9 & 9 & 9 & 9 & \\\\& 9 & 9 & 9 & 9 & 9 & \\\\& 9 & 9 & 9 & 9 & 9 & \\\\& 9 & 9 & 9 & 9 & 9 & \\\\\\end{pmatrix}$$"
      ],
      "text/plain": [
       "<IPython.core.display.Latex object>"
      ]
     },
     "execution_count": 24,
     "metadata": {},
     "output_type": "execute_result"
    }
   ],
   "source": [
    "affiche_latex(plein_feux)"
   ]
  },
  {
   "cell_type": "code",
   "execution_count": 25,
   "metadata": {},
   "outputs": [
    {
     "ename": "AttributeError",
     "evalue": "'function' object has no attribute 'set_pixel'",
     "output_type": "error",
     "traceback": [
      "\u001b[0;31m---------------------------------------------------------------------------\u001b[0m",
      "\u001b[0;31mAttributeError\u001b[0m                            Traceback (most recent call last)",
      "\u001b[1;32m/workspace/mon_classeur/docs/travail/TP_matrices.ipynb Cell 35\u001b[0m in \u001b[0;36m1\n\u001b[0;32m----> <a href='vscode-notebook-cell://carlouchex-monclasseur-6q6677bv4t2.ws-eu89b.gitpod.io/workspace/mon_classeur/docs/travail/TP_matrices.ipynb#X46sdnNjb2RlLXJlbW90ZQ%3D%3D?line=0'>1</a>\u001b[0m affiche_ipythonblocks(plein_feux)\n",
      "\u001b[1;32m/workspace/mon_classeur/docs/travail/TP_matrices.ipynb Cell 35\u001b[0m in \u001b[0;36m1\n\u001b[1;32m     <a href='vscode-notebook-cell://carlouchex-monclasseur-6q6677bv4t2.ws-eu89b.gitpod.io/workspace/mon_classeur/docs/travail/TP_matrices.ipynb#X46sdnNjb2RlLXJlbW90ZQ%3D%3D?line=12'>13</a>\u001b[0m \u001b[39mfor\u001b[39;00m j \u001b[39min\u001b[39;00m \u001b[39mrange\u001b[39m(\u001b[39mlen\u001b[39m(matrice)): \n\u001b[1;32m     <a href='vscode-notebook-cell://carlouchex-monclasseur-6q6677bv4t2.ws-eu89b.gitpod.io/workspace/mon_classeur/docs/travail/TP_matrices.ipynb#X46sdnNjb2RlLXJlbW90ZQ%3D%3D?line=13'>14</a>\u001b[0m     \u001b[39mfor\u001b[39;00m i \u001b[39min\u001b[39;00m \u001b[39mrange\u001b[39m(\u001b[39mlen\u001b[39m(matrice)):\n\u001b[0;32m---> <a href='vscode-notebook-cell://carlouchex-monclasseur-6q6677bv4t2.ws-eu89b.gitpod.io/workspace/mon_classeur/docs/travail/TP_matrices.ipynb#X46sdnNjb2RlLXJlbW90ZQ%3D%3D?line=14'>15</a>\u001b[0m         display\u001b[39m.\u001b[39;49mset_pixel(j,i,matrice[i][j])\n\u001b[1;32m     <a href='vscode-notebook-cell://carlouchex-monclasseur-6q6677bv4t2.ws-eu89b.gitpod.io/workspace/mon_classeur/docs/travail/TP_matrices.ipynb#X46sdnNjb2RlLXJlbW90ZQ%3D%3D?line=17'>18</a>\u001b[0m \u001b[39mreturn\u001b[39;00m\n",
      "\u001b[0;31mAttributeError\u001b[0m: 'function' object has no attribute 'set_pixel'"
     ]
    }
   ],
   "source": [
    "affiche_ipythonblocks(plein_feux)"
   ]
  },
  {
   "cell_type": "markdown",
   "metadata": {},
   "source": [
    "****\n",
    "$$plus = \\begin{pmatrix}\n",
    "& 0 & 0 & 9 & 0 & 0 & \\\\\n",
    "& 0 & 0 & 9 & 0 & 0 & \\\\\n",
    "& 9 & 9 & 9 & 9 & 9 & \\\\\n",
    "& 0 & 0 & 9 & 0 & 0 & \\\\\n",
    "& 0 & 0 & 9 & 0 & 0 & \\\\\n",
    "\\end{pmatrix}$$"
   ]
  },
  {
   "cell_type": "code",
   "execution_count": 26,
   "metadata": {},
   "outputs": [],
   "source": [
    "plus = [[0 if i != 2 and j !=2 else 9 for j in range(5)] for i in range(5)]"
   ]
  },
  {
   "cell_type": "code",
   "execution_count": 27,
   "metadata": {},
   "outputs": [
    {
     "data": {
      "text/latex": [
       "$$\\begin{pmatrix}& 0 & 0 & 9 & 0 & 0 & \\\\& 0 & 0 & 9 & 0 & 0 & \\\\& 9 & 9 & 9 & 9 & 9 & \\\\& 0 & 0 & 9 & 0 & 0 & \\\\& 0 & 0 & 9 & 0 & 0 & \\\\\\end{pmatrix}$$"
      ],
      "text/plain": [
       "<IPython.core.display.Latex object>"
      ]
     },
     "execution_count": 27,
     "metadata": {},
     "output_type": "execute_result"
    }
   ],
   "source": [
    "affiche_latex(plus)"
   ]
  },
  {
   "cell_type": "code",
   "execution_count": 28,
   "metadata": {},
   "outputs": [
    {
     "ename": "AttributeError",
     "evalue": "'function' object has no attribute 'set_pixel'",
     "output_type": "error",
     "traceback": [
      "\u001b[0;31m---------------------------------------------------------------------------\u001b[0m",
      "\u001b[0;31mAttributeError\u001b[0m                            Traceback (most recent call last)",
      "\u001b[1;32m/workspace/mon_classeur/docs/travail/TP_matrices.ipynb Cell 39\u001b[0m in \u001b[0;36m1\n\u001b[0;32m----> <a href='vscode-notebook-cell://carlouchex-monclasseur-6q6677bv4t2.ws-eu89b.gitpod.io/workspace/mon_classeur/docs/travail/TP_matrices.ipynb#X53sdnNjb2RlLXJlbW90ZQ%3D%3D?line=0'>1</a>\u001b[0m affiche_ipythonblocks(plus)\n",
      "\u001b[1;32m/workspace/mon_classeur/docs/travail/TP_matrices.ipynb Cell 39\u001b[0m in \u001b[0;36m1\n\u001b[1;32m     <a href='vscode-notebook-cell://carlouchex-monclasseur-6q6677bv4t2.ws-eu89b.gitpod.io/workspace/mon_classeur/docs/travail/TP_matrices.ipynb#X53sdnNjb2RlLXJlbW90ZQ%3D%3D?line=12'>13</a>\u001b[0m \u001b[39mfor\u001b[39;00m j \u001b[39min\u001b[39;00m \u001b[39mrange\u001b[39m(\u001b[39mlen\u001b[39m(matrice)): \n\u001b[1;32m     <a href='vscode-notebook-cell://carlouchex-monclasseur-6q6677bv4t2.ws-eu89b.gitpod.io/workspace/mon_classeur/docs/travail/TP_matrices.ipynb#X53sdnNjb2RlLXJlbW90ZQ%3D%3D?line=13'>14</a>\u001b[0m     \u001b[39mfor\u001b[39;00m i \u001b[39min\u001b[39;00m \u001b[39mrange\u001b[39m(\u001b[39mlen\u001b[39m(matrice)):\n\u001b[0;32m---> <a href='vscode-notebook-cell://carlouchex-monclasseur-6q6677bv4t2.ws-eu89b.gitpod.io/workspace/mon_classeur/docs/travail/TP_matrices.ipynb#X53sdnNjb2RlLXJlbW90ZQ%3D%3D?line=14'>15</a>\u001b[0m         display\u001b[39m.\u001b[39;49mset_pixel(j,i,matrice[i][j])\n\u001b[1;32m     <a href='vscode-notebook-cell://carlouchex-monclasseur-6q6677bv4t2.ws-eu89b.gitpod.io/workspace/mon_classeur/docs/travail/TP_matrices.ipynb#X53sdnNjb2RlLXJlbW90ZQ%3D%3D?line=17'>18</a>\u001b[0m \u001b[39mreturn\u001b[39;00m\n",
      "\u001b[0;31mAttributeError\u001b[0m: 'function' object has no attribute 'set_pixel'"
     ]
    }
   ],
   "source": [
    "affiche_ipythonblocks(plus)"
   ]
  },
  {
   "cell_type": "markdown",
   "metadata": {},
   "source": [
    "$$fois = \\begin{pmatrix}\n",
    "& 9 & 0 & 0 & 0 & 9 & \\\\\n",
    "& 0 & 9 & 0 & 9 & 0 & \\\\\n",
    "& 0 & 0 & 9 & 0 & 0 & \\\\\n",
    "& 0 & 9 & 0 & 9 & 0 & \\\\\n",
    "& 9 & 0 & 0 & 0 & 9 & \\\\\n",
    "\\end{pmatrix}$$"
   ]
  },
  {
   "cell_type": "code",
   "execution_count": 6,
   "metadata": {},
   "outputs": [],
   "source": [
    "fois = [[9 if (i==j) or (i== 4 -j) else 0 for j in range(5)] for i in range(5)]"
   ]
  },
  {
   "cell_type": "code",
   "execution_count": 7,
   "metadata": {},
   "outputs": [
    {
     "ename": "NameError",
     "evalue": "name 'affiche_latex' is not defined",
     "output_type": "error",
     "traceback": [
      "\u001b[0;31m---------------------------------------------------------------------------\u001b[0m",
      "\u001b[0;31mNameError\u001b[0m                                 Traceback (most recent call last)",
      "\u001b[1;32m/workspace/mon_classeur/docs/travail/TP_matrices.ipynb Cell 42\u001b[0m in \u001b[0;36m1\n\u001b[0;32m----> <a href='vscode-notebook-cell://carlouchex-monclasseur-6q6677bv4t2.ws-eu90.gitpod.io/workspace/mon_classeur/docs/travail/TP_matrices.ipynb#X56sdnNjb2RlLXJlbW90ZQ%3D%3D?line=0'>1</a>\u001b[0m affiche_latex(fois)\n",
      "\u001b[0;31mNameError\u001b[0m: name 'affiche_latex' is not defined"
     ]
    }
   ],
   "source": [
    "affiche_latex(fois)"
   ]
  },
  {
   "cell_type": "code",
   "execution_count": 8,
   "metadata": {},
   "outputs": [
    {
     "ename": "NameError",
     "evalue": "name 'affiche_ipythonblocks' is not defined",
     "output_type": "error",
     "traceback": [
      "\u001b[0;31m---------------------------------------------------------------------------\u001b[0m",
      "\u001b[0;31mNameError\u001b[0m                                 Traceback (most recent call last)",
      "\u001b[1;32m/workspace/mon_classeur/docs/travail/TP_matrices.ipynb Cell 43\u001b[0m in \u001b[0;36m1\n\u001b[0;32m----> <a href='vscode-notebook-cell://carlouchex-monclasseur-6q6677bv4t2.ws-eu90.gitpod.io/workspace/mon_classeur/docs/travail/TP_matrices.ipynb#X60sdnNjb2RlLXJlbW90ZQ%3D%3D?line=0'>1</a>\u001b[0m affiche_ipythonblocks(fois)\n",
      "\u001b[0;31mNameError\u001b[0m: name 'affiche_ipythonblocks' is not defined"
     ]
    }
   ],
   "source": [
    "affiche_ipythonblocks(fois)"
   ]
  },
  {
   "cell_type": "markdown",
   "metadata": {},
   "source": [
    "$$ degrade\\_Est = \\begin{pmatrix}\n",
    "& 1 & 3 & 5 & 7 & 9 & \\\\\n",
    "& 1 & 3 & 5 & 7 & 9 & \\\\\n",
    "& 1 & 3 & 5 & 7 & 9 & \\\\\n",
    "& 1 & 3 & 5 & 7 & 9 & \\\\\n",
    "& 1 & 3 & 5 & 7 & 9 & \\\\\n",
    "\\end{pmatrix}$$"
   ]
  },
  {
   "cell_type": "code",
   "execution_count": 9,
   "metadata": {},
   "outputs": [],
   "source": [
    "degrade_Est = [[i*2+1 for j in range(5)]for i in range(5)]\n",
    "degrade_Est = [[degrade_Est[i][j] for i in range(5)] for j in range(5)]"
   ]
  },
  {
   "cell_type": "code",
   "execution_count": 10,
   "metadata": {},
   "outputs": [
    {
     "ename": "NameError",
     "evalue": "name 'affiche_latex' is not defined",
     "output_type": "error",
     "traceback": [
      "\u001b[0;31m---------------------------------------------------------------------------\u001b[0m",
      "\u001b[0;31mNameError\u001b[0m                                 Traceback (most recent call last)",
      "\u001b[1;32m/workspace/mon_classeur/docs/travail/TP_matrices.ipynb Cell 46\u001b[0m in \u001b[0;36m1\n\u001b[0;32m----> <a href='vscode-notebook-cell://carlouchex-monclasseur-6q6677bv4t2.ws-eu90.gitpod.io/workspace/mon_classeur/docs/travail/TP_matrices.ipynb#X63sdnNjb2RlLXJlbW90ZQ%3D%3D?line=0'>1</a>\u001b[0m affiche_latex(degrade_Est)\n",
      "\u001b[0;31mNameError\u001b[0m: name 'affiche_latex' is not defined"
     ]
    }
   ],
   "source": [
    "affiche_latex(degrade_Est)"
   ]
  },
  {
   "cell_type": "code",
   "execution_count": 11,
   "metadata": {},
   "outputs": [
    {
     "ename": "NameError",
     "evalue": "name 'affiche_ipythonblocks' is not defined",
     "output_type": "error",
     "traceback": [
      "\u001b[0;31m---------------------------------------------------------------------------\u001b[0m",
      "\u001b[0;31mNameError\u001b[0m                                 Traceback (most recent call last)",
      "\u001b[1;32m/workspace/mon_classeur/docs/travail/TP_matrices.ipynb Cell 47\u001b[0m in \u001b[0;36m1\n\u001b[0;32m----> <a href='vscode-notebook-cell://carlouchex-monclasseur-6q6677bv4t2.ws-eu90.gitpod.io/workspace/mon_classeur/docs/travail/TP_matrices.ipynb#X64sdnNjb2RlLXJlbW90ZQ%3D%3D?line=0'>1</a>\u001b[0m affiche_ipythonblocks(degrade_Est)\n",
      "\u001b[0;31mNameError\u001b[0m: name 'affiche_ipythonblocks' is not defined"
     ]
    }
   ],
   "source": [
    "affiche_ipythonblocks(degrade_Est)"
   ]
  },
  {
   "cell_type": "markdown",
   "metadata": {},
   "source": [
    "$$ degrade\\_Sud\\_Est = \\begin{pmatrix}\n",
    "& 1 & 2 & 3 & 4 & 5 & \\\\\n",
    "& 2 & 3 & 4 & 5 & 6 & \\\\\n",
    "& 3 & 4 & 5 & 6 & 7 & \\\\\n",
    "& 4 & 5 & 6 & 7 & 8 & \\\\\n",
    "& 5 & 6 & 7 & 8 & 9 & \\\\\n",
    "\\end{pmatrix}$$"
   ]
  },
  {
   "cell_type": "code",
   "execution_count": 12,
   "metadata": {},
   "outputs": [],
   "source": [
    "degrade_Sud_Est = [[i+j+1 for j in range(5)] for i in range(5)]"
   ]
  },
  {
   "cell_type": "code",
   "execution_count": 13,
   "metadata": {},
   "outputs": [
    {
     "ename": "NameError",
     "evalue": "name 'affiche_latex' is not defined",
     "output_type": "error",
     "traceback": [
      "\u001b[0;31m---------------------------------------------------------------------------\u001b[0m",
      "\u001b[0;31mNameError\u001b[0m                                 Traceback (most recent call last)",
      "\u001b[1;32m/workspace/mon_classeur/docs/travail/TP_matrices.ipynb Cell 50\u001b[0m in \u001b[0;36m1\n\u001b[0;32m----> <a href='vscode-notebook-cell://carlouchex-monclasseur-6q6677bv4t2.ws-eu90.gitpod.io/workspace/mon_classeur/docs/travail/TP_matrices.ipynb#Y100sdnNjb2RlLXJlbW90ZQ%3D%3D?line=0'>1</a>\u001b[0m affiche_latex(degrade_Sud_Est)\n",
      "\u001b[0;31mNameError\u001b[0m: name 'affiche_latex' is not defined"
     ]
    }
   ],
   "source": [
    "affiche_latex(degrade_Sud_Est)"
   ]
  },
  {
   "cell_type": "code",
   "execution_count": 14,
   "metadata": {},
   "outputs": [
    {
     "ename": "NameError",
     "evalue": "name 'affiche_ipythonblocks' is not defined",
     "output_type": "error",
     "traceback": [
      "\u001b[0;31m---------------------------------------------------------------------------\u001b[0m",
      "\u001b[0;31mNameError\u001b[0m                                 Traceback (most recent call last)",
      "\u001b[1;32m/workspace/mon_classeur/docs/travail/TP_matrices.ipynb Cell 51\u001b[0m in \u001b[0;36m1\n\u001b[0;32m----> <a href='vscode-notebook-cell://carlouchex-monclasseur-6q6677bv4t2.ws-eu90.gitpod.io/workspace/mon_classeur/docs/travail/TP_matrices.ipynb#Y101sdnNjb2RlLXJlbW90ZQ%3D%3D?line=0'>1</a>\u001b[0m affiche_ipythonblocks(degrade_Sud_Est)\n",
      "\u001b[0;31mNameError\u001b[0m: name 'affiche_ipythonblocks' is not defined"
     ]
    }
   ],
   "source": [
    "affiche_ipythonblocks(degrade_Sud_Est)"
   ]
  },
  {
   "cell_type": "markdown",
   "metadata": {},
   "source": [
    "<h3 class='fa fa-rocket' style=\"color: tomato\"> Prolongement :</h3>\n",
    "\n",
    "Imaginer d'autres matrices (5x5) et les afficher dans ce notebook..."
   ]
  },
  {
   "cell_type": "code",
   "execution_count": null,
   "metadata": {},
   "outputs": [],
   "source": [
    "autre = []"
   ]
  },
  {
   "cell_type": "markdown",
   "metadata": {},
   "source": [
    "## Quelques opérations sur les matrices\n",
    "\n",
    "### Addition ou Soustraction de matrices :\n",
    "L'addition (ou la soustraction) de deux matrices de même dimension `mat_A` et `mat_B` est égale à la matrice dont chaque coefficient est obtenu en additionnant (ou en soustrayant) les coefficients de la matrice `mat_A` au coefficient correspondant de la matrice `mat_B`.\n",
    "\n",
    "Exemple :\n",
    "\n",
    "$$ \\begin{pmatrix}\n",
    "1 & 2 & 0 \\\\\n",
    "4 & 3 & -1 \\\\\n",
    "\\end{pmatrix} + \\begin{pmatrix}\n",
    "5 & 2 & 3 \\\\\n",
    "1 & 3 & 4 \\\\\n",
    "\\end{pmatrix} =\\begin{pmatrix}\n",
    "6 & 4 & 3 \\\\\n",
    "5 & 6 & 3 \\\\\n",
    "\\end{pmatrix}$$\n",
    "\n",
    "<h3 class='fa fa-cogs' style=\"color: darkorange\"> A faire vous même :</h3>\n",
    "\n",
    "Vérifier cet exemple et documenter la fonction `addition(mat_A, mat_B)` du script suivant :"
   ]
  },
  {
   "cell_type": "code",
   "execution_count": 3,
   "metadata": {},
   "outputs": [
    {
     "ename": "NameError",
     "evalue": "name 'affiche_latex' is not defined",
     "output_type": "error",
     "traceback": [
      "\u001b[0;31m---------------------------------------------------------------------------\u001b[0m",
      "\u001b[0;31mNameError\u001b[0m                                 Traceback (most recent call last)",
      "\u001b[1;32m/workspace/mon_classeur/docs/travail/TP_matrices.ipynb Cell 55\u001b[0m in \u001b[0;36m1\n\u001b[1;32m     <a href='vscode-notebook-cell://carlouchex-monclasseur-6q6677bv4t2.ws-eu90.gitpod.io/workspace/mon_classeur/docs/travail/TP_matrices.ipynb#Y105sdnNjb2RlLXJlbW90ZQ%3D%3D?line=10'>11</a>\u001b[0m     \u001b[39mreturn\u001b[39;00m [[(mat_A[i][j] \u001b[39m+\u001b[39m mat_B[i][j]) \u001b[39mfor\u001b[39;00m j \u001b[39min\u001b[39;00m \u001b[39mrange\u001b[39m(\u001b[39mlen\u001b[39m(mat_A[\u001b[39m0\u001b[39m]))] \u001b[39mfor\u001b[39;00m i \u001b[39min\u001b[39;00m \u001b[39mrange\u001b[39m(\u001b[39mlen\u001b[39m(mat_A))]\n\u001b[1;32m     <a href='vscode-notebook-cell://carlouchex-monclasseur-6q6677bv4t2.ws-eu90.gitpod.io/workspace/mon_classeur/docs/travail/TP_matrices.ipynb#Y105sdnNjb2RlLXJlbW90ZQ%3D%3D?line=12'>13</a>\u001b[0m \u001b[39m# et on l'affiche\u001b[39;00m\n\u001b[0;32m---> <a href='vscode-notebook-cell://carlouchex-monclasseur-6q6677bv4t2.ws-eu90.gitpod.io/workspace/mon_classeur/docs/travail/TP_matrices.ipynb#Y105sdnNjb2RlLXJlbW90ZQ%3D%3D?line=13'>14</a>\u001b[0m affiche_latex(addition([[\u001b[39m1\u001b[39m, \u001b[39m2\u001b[39m, \u001b[39m0\u001b[39m],[\u001b[39m4\u001b[39m, \u001b[39m3\u001b[39m, \u001b[39m-\u001b[39m\u001b[39m1\u001b[39m]],[[\u001b[39m5\u001b[39m, \u001b[39m2\u001b[39m, \u001b[39m3\u001b[39m],[\u001b[39m1\u001b[39m, \u001b[39m3\u001b[39m, \u001b[39m4\u001b[39m]]))\n",
      "\u001b[0;31mNameError\u001b[0m: name 'affiche_latex' is not defined"
     ]
    }
   ],
   "source": [
    "# on definie la fonction\n",
    "def addition(mat_A, mat_B) :\n",
    "    '''\n",
    "    ################################################\n",
    "    #                                              #\n",
    "    #   Documentation de la fonction ...........   #\n",
    "    #                                              #\n",
    "    ################################################\n",
    "    \n",
    "    '''    \n",
    "    return [[(mat_A[i][j] + mat_B[i][j]) for j in range(len(mat_A[0]))] for i in range(len(mat_A))]\n",
    "\n",
    "# et on l'affiche\n",
    "affiche_latex(addition([[1, 2, 0],[4, 3, -1]],[[5, 2, 3],[1, 3, 4]])) # le probleme est que la fonction'affiche_latex' n'est pas defini"
   ]
  },
  {
   "cell_type": "markdown",
   "metadata": {},
   "source": [
    "<h3 class='fa fa-code' style=\"color: darkorange\"> A programmer vous même :</h3>\n",
    "\n",
    "- Définir une fonction de soustraction de matrice ;\n",
    "- Afficher les matrices résultantes des opérations :\n",
    "    - `plein_feux - joyeux`\n",
    "    - `plein_feux - fois`\n",
    "    - `plein_feux - degrade_Est`\n",
    "    - `plein_feux - degrade_Sud_Est`\n",
    "    \n",
    "- Comparer les images résultantes avec les images retranchées..."
   ]
  },
  {
   "cell_type": "code",
   "execution_count": 4,
   "metadata": {},
   "outputs": [],
   "source": [
    "def soustraction(mat_A, mat_B) :\n",
    "    '''\n",
    "    ################################################\n",
    "    #                                              #\n",
    "    #   Documentation de la fonction ...........   #\n",
    "    #                                              #\n",
    "    ################################################\n",
    "    \n",
    "    '''\n",
    "    return []"
   ]
  },
  {
   "cell_type": "code",
   "execution_count": null,
   "metadata": {},
   "outputs": [],
   "source": [
    "affiche_latex(soustraction(plein_feux, joyeux))"
   ]
  },
  {
   "cell_type": "code",
   "execution_count": null,
   "metadata": {},
   "outputs": [],
   "source": [
    "affiche_ipythonblocks(soustraction(plein_feux, joyeux))"
   ]
  },
  {
   "cell_type": "markdown",
   "metadata": {},
   "source": [
    "### Transposition d'une matrice :\n",
    "\n",
    "La transposée $^tM$ d'une matrice $M(m\\times n)$ est la matrice $(n\\times m)$ obtenue en échangeant les lignes et les colonnes de la matrice $M$.\n",
    "\n",
    "Exemple :\n",
    "\n",
    "Pour : \n",
    "$M=\\begin{pmatrix}\n",
    "1 & 2 & 0 \\\\\n",
    "4 & 3 & -1 \\\\\n",
    "\\end{pmatrix}$\n",
    "\n",
    "Alors : \n",
    "$^tM=\\begin{pmatrix}\n",
    "1 & 4  \\\\\n",
    "2 & 3  \\\\\n",
    "0 &-1 \n",
    "\\end{pmatrix}$\n",
    "\n",
    "<h3 class='fa fa-code' style=\"color: darkorange\"> A coder vous même :</h3>\n",
    "\n",
    "Définir une fonction `transpose(matrice)` qui :\n",
    "   - prend en paramètre une matrice (mxn) dont les éléments sont des nombres entiers ;\n",
    "   - renvoie la matrice transposée (nxm). \n",
    "\n",
    "Appliquer votre fonction pour calculer les tranposées des matrices (5x5) précédentes..."
   ]
  },
  {
   "cell_type": "code",
   "execution_count": null,
   "metadata": {},
   "outputs": [],
   "source": [
    "def transpose(matrice) :\n",
    "    '''\n",
    "    ################################################\n",
    "    #                                              #\n",
    "    #   Documentation de la fonction ...........   #\n",
    "    #                                              #\n",
    "    ################################################\n",
    "    \n",
    "    '''\n",
    "    return []"
   ]
  },
  {
   "cell_type": "markdown",
   "metadata": {},
   "source": [
    "## Un peu d'animation :\n",
    "\n",
    "### Sur un BBC micro:bit :\n",
    "\n",
    "<h3 class='fa fa-cogs' style=\"color: darkorange\"> A faire vous même :</h3>\n",
    "\n",
    "- Compléter le programme suivant en y intégrant vos développements précédents puis le tester sur simulateur et sur BBC micro:bit ;\n",
    "- Expliquer le calcul `k % len(ecrans)`"
   ]
  },
  {
   "cell_type": "code",
   "execution_count": null,
   "metadata": {},
   "outputs": [],
   "source": [
    "from microbit import *\n",
    "\n",
    "plein_feux = []\n",
    "plus = []\n",
    "fois = []\n",
    "\n",
    "\n",
    "def affiche_microbit(matrice) :\n",
    "    for i \n",
    "        for j\n",
    "    return\n",
    "            \n",
    "def soustraction(mat_A, mat_B) :\n",
    "    return []\n",
    "\n",
    "\n",
    "ecrans = [plein_feux,\n",
    "          soustraction(plein_feux, plus),\n",
    "          plus,\n",
    "          soustraction(plein_feux, plein_feux),\n",
    "          fois,\n",
    "          soustraction(plein_feux, fois)]            \n",
    "            \n",
    "k = 0\n",
    " \n",
    "while k < 100 :\n",
    "    affiche_microbit(ecrans[k % len(ecrans)])\n",
    "    sleep(500)\n",
    "    k+=1"
   ]
  },
  {
   "cell_type": "markdown",
   "metadata": {},
   "source": [
    "### Avec IpythonBlocks dans ce notebook :\n",
    "\n",
    "La fonction `flash()` d'une instance de BlockGrid permet un affichage animé selon le paramètre de temps `display_time` :"
   ]
  },
  {
   "cell_type": "code",
   "execution_count": null,
   "metadata": {},
   "outputs": [],
   "source": [
    "from ipythonblocks import BlockGrid\n",
    "\n",
    "ecrans = [plein_feux,\n",
    "          soustraction(plein_feux, plus),\n",
    "          plus,\n",
    "          soustraction(plein_feux, plein_feux),\n",
    "          fois,\n",
    "          soustraction(plein_feux, fois)]            \n",
    "            \n",
    "k = 0\n",
    " \n",
    "while k < 100 :\n",
    "    affiche_ipythonblocks(ecrans[k % len(ecrans)]).flash(display_time=0.5)\n",
    "    k+=1"
   ]
  },
  {
   "cell_type": "markdown",
   "metadata": {},
   "source": [
    "## Affichage avec ipycanvas dans ce notebook jupyter :\n",
    "\n",
    "Reproduire aves le module ipycanvas un affichage similaire à celui obtenu avec IPythonBlocks :"
   ]
  },
  {
   "cell_type": "code",
   "execution_count": null,
   "metadata": {},
   "outputs": [],
   "source": [
    "from ipycanvas import Canvas\n",
    "\n",
    "def affiche_ipycanvas(matrice) :\n",
    "    maGrille = Canvas(width=..., height=...)\n",
    "    for i  \n",
    "        for j \n",
    "            \n",
    "            \n",
    "            \n",
    "    return maGrille"
   ]
  },
  {
   "cell_type": "code",
   "execution_count": null,
   "metadata": {},
   "outputs": [],
   "source": [
    "affiche_ipycanvas(joyeux)"
   ]
  },
  {
   "cell_type": "markdown",
   "metadata": {},
   "source": [
    "<h3 class='fa fa-rocket' style=\"color: tomato\"> Prolongement :</h3>\n",
    "\n",
    "Imaginer d'autres animations...\n",
    "\n",
    "Développer de nouvelles matrices...\n",
    "\n",
    "Développer de nouvelles opérations sur des matrices...\n",
    "\n",
    "Développer d'autres fonctions d'affichage :\n",
    "    - Dans un notebook avec des fonctions Ipython.display comme HTML, SVG, \n",
    "    - Pour d'autres matrices à LEDs :\n",
    "        - Matrice 8x8 pour BBC microbit\n",
    "        - SenseHat sur RaspberryPi\n",
    "        - Anneau pour BBC microbit\n",
    "        - Anneau de CPX\n",
    "        - Anneau d'Halocode     \n"
   ]
  },
  {
   "cell_type": "markdown",
   "metadata": {},
   "source": [
    "****\n",
    "## Références aux programmes :\n",
    "\n",
    "<style type=\"text/css\">\n",
    ".tg  {border-collapse:collapse;border-spacing:0;}\n",
    ".tg td{font-family:Arial, sans-serif;font-size:14px;padding:10px 5px;border-style:solid;border-width:1px;overflow:hidden;word-break:normal;border-color:black;}\n",
    ".tg th{font-family:Arial, sans-serif;font-size:14px;font-weight:normal;padding:10px 5px;border-style:solid;border-width:1px;overflow:hidden;word-break:normal;border-color:black;}\n",
    ".tg .tg-cv16{font-weight:bold;background-color:#dae8fc;border-color:inherit;text-align:center}\n",
    ".tg .tg-xldj{border-color:inherit;text-align:left}\n",
    "</style>\n",
    "<table class=\"tg\">\n",
    "  <tr>\n",
    "    <th class=\"tg-cv16\">Contenus</th>\n",
    "    <th class=\"tg-cv16\">Capacités attendues</th>\n",
    "    <th class=\"tg-cv16\">Commentaires</th>\n",
    "  </tr>\n",
    "  \n",
    "  <tr>\n",
    "    <td class=\"tg-xldj\">Tableau indexé,<br> tableau donné en compréhension</td>\n",
    "    <td class=\"tg-xldj\">Lire et modifier les éléments d’un tableau grâce à leurs index.<br> Construire un tableau par compréhension.<br> Utiliser des tableaux de tableaux pour représenter des matrices : notation a [i] [j].<br>Itérer sur les éléments d’un tableau.\n",
    "</td>\n",
    "    <td class=\"tg-xldj\">Seuls les tableaux dont les éléments sont du même type sont présentés.<br> Aucune connaissance des\n",
    "tranches (slices) n’est exigible. <br> L’aspect dynamique des tableaux de Python n’est pas évoqué.<br> Python identifie listes et tableaux. <br>Il n’est pas fait référence aux tableaux de la bibliothèque NumPy.\n",
    "</td>\n",
    "  </tr>\n",
    " \n",
    "</table>\n",
    "<br>\n",
    "<br>\n",
    "<table class=\"tg\">\n",
    "  <tr>\n",
    "    <th class=\"tg-cv16\">Contenus</th>\n",
    "    <th class=\"tg-cv16\">Capacités attendues</th>\n",
    "    <th class=\"tg-cv16\">Commentaires</th>\n",
    "  </tr>\n",
    "  <tr>\n",
    "    <td class=\"tg-xldj\">Spécification.</td>\n",
    "    <td class=\"tg-xldj\">Prototyper une fonction.<br>Décrire les préconditions sur les arguments.<br>Décrire des postconditions sur les résultats.</td>\n",
    "    <td class=\"tg-xldj\">Des assertions peuvent être utilisées pour garantir des préconditions ou des postconditions.</td>\n",
    "  </tr>\n",
    "  <tr>\n",
    "    <td class=\"tg-xldj\">Mise au point de programmes</td>\n",
    "    <td class=\"tg-xldj\">Utiliser des jeux de tests.</td>\n",
    "    <td class=\"tg-xldj\">L’importance de la qualité et du nombre des tests est mise en évidence.<br>Le succès d’un jeu de tests ne garantit pas la correction d’un programme.</td>\n",
    "  </tr>\n",
    "  <tr>\n",
    "    <td class=\"tg-xldj\">Utilisation de bibliothèques</td>\n",
    "    <td class=\"tg-xldj\">Utiliser la documentation d’une bibliothèque.</td>\n",
    "    <td class=\"tg-xldj\">Aucune connaissance exhaustive d’une bibliothèque particulière n’est exigible.</td>\n",
    "  </tr>  \n",
    "</table>"
   ]
  },
  {
   "cell_type": "markdown",
   "metadata": {},
   "source": [
    "<a rel=\"license\" href=\"http://creativecommons.org/licenses/by-sa/4.0/\"><img alt=\"Licence Creative Commons\" style=\"border-width:0\" src=\"https://i.creativecommons.org/l/by-sa/4.0/88x31.png\" /></a><br />Ce document est mis à disposition selon les termes de la <a rel=\"license\" href=\"http://creativecommons.org/licenses/by-sa/4.0/\">Licence Creative Commons Attribution -  Partage dans les Mêmes Conditions 4.0 International</a>.\n",
    "\n",
    "Pour toute question, suggestion ou commentaire : <a href=\"mailto:eric.madec@ecmorlaix.fr\">eric.madec@ecmorlaix.fr</a>"
   ]
  }
 ],
 "metadata": {
  "kernelspec": {
   "display_name": "Python 3",
   "language": "python",
   "name": "python3"
  },
  "language_info": {
   "codemirror_mode": {
    "name": "ipython",
    "version": 3
   },
   "file_extension": ".py",
   "mimetype": "text/x-python",
   "name": "python",
   "nbconvert_exporter": "python",
   "pygments_lexer": "ipython3",
   "version": "3.8.13"
  },
  "varInspector": {
   "cols": {
    "lenName": 16,
    "lenType": 16,
    "lenVar": 40
   },
   "kernels_config": {
    "python": {
     "delete_cmd_postfix": "",
     "delete_cmd_prefix": "del ",
     "library": "var_list.py",
     "varRefreshCmd": "print(var_dic_list())"
    },
    "r": {
     "delete_cmd_postfix": ") ",
     "delete_cmd_prefix": "rm(",
     "library": "var_list.r",
     "varRefreshCmd": "cat(var_dic_list()) "
    }
   },
   "types_to_exclude": [
    "module",
    "function",
    "builtin_function_or_method",
    "instance",
    "_Feature"
   ],
   "window_display": false
  }
 },
 "nbformat": 4,
 "nbformat_minor": 2
}
