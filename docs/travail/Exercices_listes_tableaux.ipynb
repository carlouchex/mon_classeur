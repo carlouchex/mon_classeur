{
 "cells": [
  {
   "attachments": {},
   "cell_type": "markdown",
   "metadata": {},
   "source": [
    "Ex1 :\n",
    "On considère la liste ```temp = [4, -5, 8, 10, -1, -2, 7, 13]```.  \n",
    "Parcourir ```temp``` pour construire la liste ```temp_pos``` qui ne contient que les éléments positifs de  ```temp```.\n"
   ]
  },
  {
   "cell_type": "code",
   "execution_count": 1,
   "metadata": {},
   "outputs": [],
   "source": [
    "temp = [4, -5, 8, 10, -1, -2, 7, 13]\n",
    "temp_pos = []\n",
    "for element in temp:\n",
    "    if element > 0:\n",
    "        temp_pos.append(element)"
   ]
  },
  {
   "cell_type": "code",
   "execution_count": 2,
   "metadata": {},
   "outputs": [
    {
     "data": {
      "text/plain": [
       "[4, 8, 10, 7, 13]"
      ]
     },
     "execution_count": 2,
     "metadata": {},
     "output_type": "execute_result"
    }
   ],
   "source": [
    "temp_pos"
   ]
  },
  {
   "cell_type": "markdown",
   "metadata": {},
   "source": [
    "Ex2 :\n",
    "\n",
    "On considère la liste ```lst = [51, 52, 66, 91, 92, 82, 65, 53, 86, 42, 79, 95]```.  \n",
    "Seuls les nombres entre 60 et 90 ont une signification : ce sont des codes ASCII (récupérables par la fonction ```chr()``` ).  \n",
    "\n",
    "Créer (en compréhension) une liste ```sol``` qui contient les lettres correspondants aux nombres ayant une signification."
   ]
  },
  {
   "cell_type": "code",
   "execution_count": 4,
   "metadata": {},
   "outputs": [],
   "source": [
    "lst = [51, 52, 66, 91, 92, 82, 65, 53, 86, 42, 79, 95]\n",
    "sol = [chr(n) for n in lst if 60<= n <= 90]"
   ]
  },
  {
   "cell_type": "code",
   "execution_count": 5,
   "metadata": {},
   "outputs": [
    {
     "data": {
      "text/plain": [
       "['B', 'R', 'A', 'V', 'O']"
      ]
     },
     "execution_count": 5,
     "metadata": {},
     "output_type": "execute_result"
    }
   ],
   "source": [
    "sol"
   ]
  },
  {
   "cell_type": "markdown",
   "metadata": {},
   "source": [
    "Ex3 :\n",
    "\n",
    "On considère la variable ```phrase = 'Bonjour les vacances sont finies'``` et la variable ```voyelles = 'aeiouy'```.\n",
    "\n",
    "Construire en compréhension la liste ```liste_voyelles``` qui contient toutes les voyelles présentes dans la variable ```phrase```."
   ]
  },
  {
   "cell_type": "code",
   "execution_count": 6,
   "metadata": {},
   "outputs": [],
   "source": [
    "phrase = 'Bonjour les vacances sont finies'\n",
    "voyelles = 'aeiouy'\n",
    "liste_voyelles = [lettre for lettre in phrase if lettre in voyelles]\n"
   ]
  },
  {
   "cell_type": "code",
   "execution_count": 7,
   "metadata": {},
   "outputs": [
    {
     "data": {
      "text/plain": [
       "['o', 'o', 'u', 'e', 'a', 'a', 'e', 'o', 'i', 'i', 'e']"
      ]
     },
     "execution_count": 7,
     "metadata": {},
     "output_type": "execute_result"
    }
   ],
   "source": [
    "liste_voyelles"
   ]
  },
  {
   "cell_type": "markdown",
   "metadata": {},
   "source": [
    "Ex4 :\n",
    "\n",
    "On considère le jeu du Morpion (ou *Tic-Tac-Toe*) dont la surface de jeu vierge est representée par le tableau :  \n",
    "```tab = [[' ', ' ', ' '], [' ', ' ', ' '], [' ', ' ', ' ']]``` \n",
    "\n",
    "Les premiers coups joués sont ceux-ci :\n",
    "- ```tab[1][1] = 'X'``` \n",
    "- ```tab[2][1] = 'O'``` \n",
    "- ```tab[2][2] = 'X'``` \n",
    "- ```tab[0][0] = 'O'``` \n",
    "\n",
    "Quel coup doit maintenant jouer le joueur  `'X'` pour s'assurer la victoire ?"
   ]
  },
  {
   "attachments": {},
   "cell_type": "markdown",
   "metadata": {},
   "source": [
    "le joueur 'X' peut gagner en jouant sur la troisieme colonne, soit tab[0][2];\n",
    "car le tableau est placé :\n",
    "'o',' ',' '\n",
    "' ','x','o'\n",
    "' ',' ','x'\n",
    "Donc si le joueur place son X en tab[0][2], le joueur o devra defendre en tab[2][0] et en tab[1][2], sauf qu'il ne peux placé qu un pion, alors la partie est assurée pour le joueur X"
   ]
  },
  {
   "attachments": {},
   "cell_type": "markdown",
   "metadata": {},
   "source": [
    "Ex5 :\n",
    "\n",
    "On considère la liste ```m``` ('m' comme *matrice*) suivante :  \n",
    "`\n",
    "```m = [[1, 9, 4], [4, 1, 8], [7, 10, 1]]``  \n",
    "\n",
    "Quelle est la somme de tous les nombres de la matrice ```m``` ?"
   ]
  },
  {
   "cell_type": "code",
   "execution_count": null,
   "metadata": {},
   "outputs": [],
   "source": [
    "m = [[1, 9, 4], [4, 1, 8], [7, 10, 1]]\n",
    "addition = \n"
   ]
  }
 ],
 "metadata": {
  "kernelspec": {
   "display_name": "Python 3",
   "language": "python",
   "name": "python3"
  },
  "language_info": {
   "codemirror_mode": {
    "name": "ipython",
    "version": 3
   },
   "file_extension": ".py",
   "mimetype": "text/x-python",
   "name": "python",
   "nbconvert_exporter": "python",
   "pygments_lexer": "ipython3",
   "version": "3.8.13"
  },
  "orig_nbformat": 4
 },
 "nbformat": 4,
 "nbformat_minor": 2
}
