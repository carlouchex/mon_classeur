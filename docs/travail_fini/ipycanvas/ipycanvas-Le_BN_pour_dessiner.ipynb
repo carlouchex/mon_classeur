{
 "cells": [
  {
   "cell_type": "markdown",
   "metadata": {},
   "source": [
    "# Le Bloc Note pour dessiner avec ipycanvas"
   ]
  },
  {
   "cell_type": "markdown",
   "metadata": {},
   "source": [
    "[**ipycanvas**](https://github.com/martinRenou/ipycanvas) est une bibliothèque légère, rapide et stable exposant l' [API Canvas du navigateur](https://developer.mozilla.org/en-US/docs/Web/API/Canvas_API) à IPython.\n",
    "\n",
    "Ce module est développé par [Martin RENOU](https://github.com/martinRenou) ingénieur logiciel scientifique chez [QuantStack](https://quantstack.net/index.html)...\n",
    "\n",
    "Il vous permet de dessiner directement dans un notebook des primitives simples à partir de Python comme du texte, des lignes, des polygones, des arcs, des images, etc.\n",
    "\n",
    "Cet ensemble d'outils simple vous permet de dessiner littéralement n'importe quoi !\n",
    "\n",
    "<img src=\"https://ericecmorlaix.github.io/img/ipycanvas-logo.svg\" alt=\"ipycanvas-logo.svg\" width = 30%>\n",
    "\n",
    "## Installation d'ipycanvas :\n",
    "\n",
    "Le module est normalement déjà disponible sur le serveur jupyterhub il suffit donc d'importer les fonctionnalités de `Canvas`:  "
   ]
  },
  {
   "cell_type": "code",
   "execution_count": 3,
   "metadata": {},
   "outputs": [
    {
     "ename": "ModuleNotFoundError",
     "evalue": "No module named 'ipycanvas'",
     "output_type": "error",
     "traceback": [
      "\u001b[0;31m---------------------------------------------------------------------------\u001b[0m",
      "\u001b[0;31mModuleNotFoundError\u001b[0m                       Traceback (most recent call last)",
      "Cell \u001b[0;32mIn [3], line 1\u001b[0m\n\u001b[0;32m----> 1\u001b[0m \u001b[39mfrom\u001b[39;00m \u001b[39mipycanvas\u001b[39;00m \u001b[39mimport\u001b[39;00m Canvas\n",
      "\u001b[0;31mModuleNotFoundError\u001b[0m: No module named 'ipycanvas'"
     ]
    }
   ],
   "source": [
    "from ipycanvas import Canvas"
   ]
  },
  {
   "cell_type": "markdown",
   "metadata": {},
   "source": [
    "> **/!\\ A faire avant pour fonctionner dans Carnet sur iPad :**\n",
    ">\n",
    "> Vérifier si le module `ipycanvas` n'est pas déjà installé :\n",
    "> ```python\n",
    "%pip list\n",
    "```\n",
    "> Sinon il faut l'installer en faisant :\n",
    "> ```python\n",
    "%pip install ipycanvas\n",
    "```\n",
    "> Après quoi, il faudra quitter ce notebook pour mieux le redémarrer dans Carnet afin de poursuivre...\n",
    "\n",
    "\n",
    "## Découverte de Canvas :\n",
    "\n",
    "> Les méthodes du module `ipycanvas` sont le reflet de celles de l'[API](https://fr.wikipedia.org/wiki/Interface_de_programmation) Web Canvas dont vous pouvez trouver des tutoriels et de la documentation en suivant ce lien: https://developer.mozilla.org/en-US/docs/Web/API/Canvas_API\n",
    ">\n",
    "> Il existe cependant quelques différences :\n",
    ">\n",
    ">    - ces méthodes correspondent plus précisément à celles de l'API Web [CanvasRenderingContext2D](https://developer.mozilla.org/en-US/docs/Web/API/CanvasRenderingContext2D) ;\n",
    ">    - ces méthodes sont écritent en **`snake_case`** au lieu de **`camelCase`** , ainsi par exemple, `canvas.fillStyle = 'red'` en JavaScript devient `canvas.fill_style = 'red'` en Python.\n",
    "\n",
    "\n",
    "<h3 class='fa fa-cog' style=\"color: MediumSeaGreen\"> A faire vous même n°1 :</h3>\n",
    "\n",
    "- Dans la cellule de code suivante, finaliser la transcription en Python du code Javascript ci-dessous correspondant à l'exemple basique présenté sur la page de l'API Web [CanvasRenderingContext2D](https://developer.mozilla.org/en-US/docs/Web/API/CanvasRenderingContext2D) et vérifier que cela produit bien le dessin attendu...\n",
    "\n",
    "HTML :\n",
    "```html\n",
    "<canvas id=\"my-house\" width=\"300\" height=\"300\"></canvas>\n",
    "```\n",
    "\n",
    "JavaScript :\n",
    "```javascript\n",
    "const canvas = document.getElementById('my-house');\n",
    "const ctx = canvas.getContext('2d');\n",
    "\n",
    "// Set line width\n",
    "ctx.lineWidth = 10;\n",
    "\n",
    "// Wall\n",
    "ctx.strokeRect(75, 140, 150, 110);\n",
    "\n",
    "// Door\n",
    "ctx.fillRect(130, 190, 40, 60);\n",
    "\n",
    "// Roof\n",
    "ctx.beginPath();\n",
    "ctx.moveTo(50, 140);\n",
    "ctx.lineTo(150, 60);\n",
    "ctx.lineTo(250, 140);\n",
    "ctx.closePath();\n",
    "ctx.stroke();\n",
    "```"
   ]
  },
  {
   "cell_type": "code",
   "execution_count": 4,
   "metadata": {},
   "outputs": [
    {
     "name": "stdout",
     "output_type": "stream",
     "text": [
      "Collecting ipycanvas\n",
      "  Using cached ipycanvas-0.13.1-py2.py3-none-any.whl (255 kB)\n",
      "Collecting ipywidgets<9,>=7.6.0\n",
      "  Downloading ipywidgets-8.0.4-py3-none-any.whl (137 kB)\n",
      "\u001b[2K     \u001b[90m━━━━━━━━━━━━━━━━━━━━━━━━━━━━━━━━━━━━━━━\u001b[0m \u001b[32m137.8/137.8 kB\u001b[0m \u001b[31m9.8 MB/s\u001b[0m eta \u001b[36m0:00:00\u001b[0m\n",
      "\u001b[?25hCollecting pillow>=6.0\n",
      "  Using cached Pillow-9.3.0-cp38-cp38-manylinux_2_28_x86_64.whl (3.3 MB)\n",
      "Collecting numpy\n",
      "  Downloading numpy-1.24.0-cp38-cp38-manylinux_2_17_x86_64.manylinux2014_x86_64.whl (17.3 MB)\n",
      "\u001b[2K     \u001b[90m━━━━━━━━━━━━━━━━━━━━━━━━━━━━━━━━━━━━━━━━\u001b[0m \u001b[32m17.3/17.3 MB\u001b[0m \u001b[31m68.1 MB/s\u001b[0m eta \u001b[36m0:00:00\u001b[0m00:01\u001b[0m00:01\u001b[0m\n",
      "\u001b[?25hCollecting jupyterlab-widgets~=3.0\n",
      "  Downloading jupyterlab_widgets-3.0.5-py3-none-any.whl (384 kB)\n",
      "\u001b[2K     \u001b[90m━━━━━━━━━━━━━━━━━━━━━━━━━━━━━━━━━━━━━━\u001b[0m \u001b[32m384.3/384.3 kB\u001b[0m \u001b[31m76.2 MB/s\u001b[0m eta \u001b[36m0:00:00\u001b[0m\n",
      "\u001b[?25hRequirement already satisfied: traitlets>=4.3.1 in /home/gitpod/.pyenv/versions/3.8.13/lib/python3.8/site-packages (from ipywidgets<9,>=7.6.0->ipycanvas) (5.4.0)\n",
      "Collecting widgetsnbextension~=4.0\n",
      "  Downloading widgetsnbextension-4.0.5-py3-none-any.whl (2.0 MB)\n",
      "\u001b[2K     \u001b[90m━━━━━━━━━━━━━━━━━━━━━━━━━━━━━━━━━━━━━━━━\u001b[0m \u001b[32m2.0/2.0 MB\u001b[0m \u001b[31m125.0 MB/s\u001b[0m eta \u001b[36m0:00:00\u001b[0m\n",
      "\u001b[?25hRequirement already satisfied: ipykernel>=4.5.1 in /home/gitpod/.pyenv/versions/3.8.13/lib/python3.8/site-packages (from ipywidgets<9,>=7.6.0->ipycanvas) (6.16.0)\n",
      "Requirement already satisfied: ipython>=6.1.0 in /home/gitpod/.pyenv/versions/3.8.13/lib/python3.8/site-packages (from ipywidgets<9,>=7.6.0->ipycanvas) (8.5.0)\n",
      "Requirement already satisfied: pyzmq>=17 in /home/gitpod/.pyenv/versions/3.8.13/lib/python3.8/site-packages (from ipykernel>=4.5.1->ipywidgets<9,>=7.6.0->ipycanvas) (24.0.1)\n",
      "Requirement already satisfied: tornado>=6.1 in /home/gitpod/.pyenv/versions/3.8.13/lib/python3.8/site-packages (from ipykernel>=4.5.1->ipywidgets<9,>=7.6.0->ipycanvas) (6.2)\n",
      "Requirement already satisfied: matplotlib-inline>=0.1 in /home/gitpod/.pyenv/versions/3.8.13/lib/python3.8/site-packages (from ipykernel>=4.5.1->ipywidgets<9,>=7.6.0->ipycanvas) (0.1.6)\n",
      "Requirement already satisfied: nest-asyncio in /home/gitpod/.pyenv/versions/3.8.13/lib/python3.8/site-packages (from ipykernel>=4.5.1->ipywidgets<9,>=7.6.0->ipycanvas) (1.5.6)\n",
      "Requirement already satisfied: psutil in /home/gitpod/.pyenv/versions/3.8.13/lib/python3.8/site-packages (from ipykernel>=4.5.1->ipywidgets<9,>=7.6.0->ipycanvas) (5.9.2)\n",
      "Requirement already satisfied: debugpy>=1.0 in /home/gitpod/.pyenv/versions/3.8.13/lib/python3.8/site-packages (from ipykernel>=4.5.1->ipywidgets<9,>=7.6.0->ipycanvas) (1.6.3)\n",
      "Requirement already satisfied: packaging in /home/gitpod/.pyenv/versions/3.8.13/lib/python3.8/site-packages (from ipykernel>=4.5.1->ipywidgets<9,>=7.6.0->ipycanvas) (21.3)\n",
      "Requirement already satisfied: jupyter-client>=6.1.12 in /home/gitpod/.pyenv/versions/3.8.13/lib/python3.8/site-packages (from ipykernel>=4.5.1->ipywidgets<9,>=7.6.0->ipycanvas) (7.3.5)\n",
      "Requirement already satisfied: stack-data in /home/gitpod/.pyenv/versions/3.8.13/lib/python3.8/site-packages (from ipython>=6.1.0->ipywidgets<9,>=7.6.0->ipycanvas) (0.5.1)\n",
      "Requirement already satisfied: prompt-toolkit<3.1.0,>3.0.1 in /home/gitpod/.pyenv/versions/3.8.13/lib/python3.8/site-packages (from ipython>=6.1.0->ipywidgets<9,>=7.6.0->ipycanvas) (3.0.31)\n",
      "Requirement already satisfied: pickleshare in /home/gitpod/.pyenv/versions/3.8.13/lib/python3.8/site-packages (from ipython>=6.1.0->ipywidgets<9,>=7.6.0->ipycanvas) (0.7.5)\n",
      "Requirement already satisfied: pexpect>4.3 in /home/gitpod/.pyenv/versions/3.8.13/lib/python3.8/site-packages (from ipython>=6.1.0->ipywidgets<9,>=7.6.0->ipycanvas) (4.8.0)\n",
      "Requirement already satisfied: jedi>=0.16 in /home/gitpod/.pyenv/versions/3.8.13/lib/python3.8/site-packages (from ipython>=6.1.0->ipywidgets<9,>=7.6.0->ipycanvas) (0.18.1)\n",
      "Requirement already satisfied: decorator in /home/gitpod/.pyenv/versions/3.8.13/lib/python3.8/site-packages (from ipython>=6.1.0->ipywidgets<9,>=7.6.0->ipycanvas) (5.1.1)\n",
      "Requirement already satisfied: backcall in /home/gitpod/.pyenv/versions/3.8.13/lib/python3.8/site-packages (from ipython>=6.1.0->ipywidgets<9,>=7.6.0->ipycanvas) (0.2.0)\n",
      "Requirement already satisfied: pygments>=2.4.0 in /home/gitpod/.pyenv/versions/3.8.13/lib/python3.8/site-packages (from ipython>=6.1.0->ipywidgets<9,>=7.6.0->ipycanvas) (2.13.0)\n",
      "Requirement already satisfied: parso<0.9.0,>=0.8.0 in /home/gitpod/.pyenv/versions/3.8.13/lib/python3.8/site-packages (from jedi>=0.16->ipython>=6.1.0->ipywidgets<9,>=7.6.0->ipycanvas) (0.8.3)\n",
      "Requirement already satisfied: entrypoints in /home/gitpod/.pyenv/versions/3.8.13/lib/python3.8/site-packages (from jupyter-client>=6.1.12->ipykernel>=4.5.1->ipywidgets<9,>=7.6.0->ipycanvas) (0.4)\n",
      "Requirement already satisfied: jupyter-core>=4.9.2 in /home/gitpod/.pyenv/versions/3.8.13/lib/python3.8/site-packages (from jupyter-client>=6.1.12->ipykernel>=4.5.1->ipywidgets<9,>=7.6.0->ipycanvas) (4.11.1)\n",
      "Requirement already satisfied: python-dateutil>=2.8.2 in /home/gitpod/.pyenv/versions/3.8.13/lib/python3.8/site-packages (from jupyter-client>=6.1.12->ipykernel>=4.5.1->ipywidgets<9,>=7.6.0->ipycanvas) (2.8.2)\n",
      "Requirement already satisfied: ptyprocess>=0.5 in /home/gitpod/.pyenv/versions/3.8.13/lib/python3.8/site-packages (from pexpect>4.3->ipython>=6.1.0->ipywidgets<9,>=7.6.0->ipycanvas) (0.7.0)\n",
      "Requirement already satisfied: wcwidth in /home/gitpod/.pyenv/versions/3.8.13/lib/python3.8/site-packages (from prompt-toolkit<3.1.0,>3.0.1->ipython>=6.1.0->ipywidgets<9,>=7.6.0->ipycanvas) (0.2.5)\n",
      "Requirement already satisfied: pyparsing!=3.0.5,>=2.0.2 in /home/gitpod/.pyenv/versions/3.8.13/lib/python3.8/site-packages (from packaging->ipykernel>=4.5.1->ipywidgets<9,>=7.6.0->ipycanvas) (3.0.9)\n",
      "Requirement already satisfied: executing in /home/gitpod/.pyenv/versions/3.8.13/lib/python3.8/site-packages (from stack-data->ipython>=6.1.0->ipywidgets<9,>=7.6.0->ipycanvas) (1.1.0)\n",
      "Requirement already satisfied: pure-eval in /home/gitpod/.pyenv/versions/3.8.13/lib/python3.8/site-packages (from stack-data->ipython>=6.1.0->ipywidgets<9,>=7.6.0->ipycanvas) (0.2.2)\n",
      "Requirement already satisfied: asttokens in /home/gitpod/.pyenv/versions/3.8.13/lib/python3.8/site-packages (from stack-data->ipython>=6.1.0->ipywidgets<9,>=7.6.0->ipycanvas) (2.0.8)\n",
      "Requirement already satisfied: six>=1.5 in /home/gitpod/.pyenv/versions/3.8.13/lib/python3.8/site-packages (from python-dateutil>=2.8.2->jupyter-client>=6.1.12->ipykernel>=4.5.1->ipywidgets<9,>=7.6.0->ipycanvas) (1.16.0)\n",
      "Installing collected packages: widgetsnbextension, pillow, numpy, jupyterlab-widgets, ipywidgets, ipycanvas\n",
      "Successfully installed ipycanvas-0.13.1 ipywidgets-8.0.4 jupyterlab-widgets-3.0.5 numpy-1.24.0 pillow-9.3.0 widgetsnbextension-4.0.5\n",
      "\n",
      "\u001b[1m[\u001b[0m\u001b[34;49mnotice\u001b[0m\u001b[1;39;49m]\u001b[0m\u001b[39;49m A new release of pip available: \u001b[0m\u001b[31;49m22.2.2\u001b[0m\u001b[39;49m -> \u001b[0m\u001b[32;49m22.3.1\u001b[0m\n",
      "\u001b[1m[\u001b[0m\u001b[34;49mnotice\u001b[0m\u001b[1;39;49m]\u001b[0m\u001b[39;49m To update, run: \u001b[0m\u001b[32;49mpip install --upgrade pip\u001b[0m\n",
      "Note: you may need to restart the kernel to use updated packages.\n"
     ]
    }
   ],
   "source": [
    "pip install ipycanvas"
   ]
  },
  {
   "cell_type": "code",
   "execution_count": 6,
   "metadata": {},
   "outputs": [
    {
     "data": {
      "application/vnd.jupyter.widget-view+json": {
       "model_id": "890ba34681e946ae8f82e40b82fb9185",
       "version_major": 2,
       "version_minor": 0
      },
      "text/plain": [
       "Canvas(height=300, width=300)"
      ]
     },
     "execution_count": 6,
     "metadata": {},
     "output_type": "execute_result"
    }
   ],
   "source": [
    "# Import module\n",
    "\n",
    "from ipycanvas import Canvas\n",
    "\n",
    "# Instance\n",
    "ctx = Canvas(width=300, height=300)\n",
    "\n",
    "# Set line width\n",
    "ctx.line_width = 10\n",
    "\n",
    "# Wall\n",
    "ctx.stroke_rect(75, 140, 150, 110)\n",
    "\n",
    "# Door\n",
    "ctx.fill_rect(130, 190, 40, 60)\n",
    "\n",
    "# Roof\n",
    "ctx.begin_path()\n",
    "ctx.move_to(50, 140)\n",
    "ctx.line_to(150, 60)\n",
    "ctx.line_to(250, 140)\n",
    "ctx.close_path()\n",
    "ctx.stroke()\n",
    "\n",
    "# Display\n",
    "ctx"
   ]
  },
  {
   "cell_type": "markdown",
   "metadata": {},
   "source": [
    "## Dessins de primitives simples :\n",
    " \n",
    "<img src=\"https://ericecmorlaix.github.io/img/ipycanvas-grid.png\" alt=\"grid.png\" width = 20% align=\"right\">\n",
    "    \n",
    "Avant de pouvoir commencer à dessiner, nous devons parler de la grille du canevas.\n",
    "\n",
    "L'origine de cette grille est positionnée dans le coin supérieur gauche à la coordonnée (0,0).\n",
    "\n",
    "Tous les éléments sont placés par rapport à cette origine.\n",
    "\n",
    "Ainsi, la position du coin supérieur gauche du carré bleu devient x pixels à partir de la gauche et y pixels à partir du haut, aux coordonnées (x, y).\n",
    "\n",
    "> Le répérage est donc un peu différent de celui que vous avez pratiqué en Mathématiques, il faudra s'adapter et aborder les choses sous un autre angle...\n",
    ">\n",
    ">Tant mieux, car c'est l'occasion de sortir de sa zone de confort pour certains, ou d'inconfort pour d'autres, afin de mieux (ré)apprendre les notions utiles à l'éxécution d'un dessin sur une machine numérique.\n",
    "\n",
    "\n",
    "###  Dessiner des rectangles :\n",
    "\n",
    "Il existe deux méthodes pour dessiner un rectangle sur le canevas :\n",
    "\n",
    "- `fill_rect(x, y, width, height=None)`: Dessine un rectangle plein. Si `height` est homis, il est défini sur la même valeur que `width`.\n",
    "\n",
    "\n",
    "- `stroke_rect(x, y, width, height=None)`: Dessine un contour rectangulaire. Si `height` est homis, il est défini sur la même valeur que `width`.\n",
    "\n",
    "\n",
    "<br>\n",
    "\n",
    "Vous pouvez également effacer une certaine zone de rectangle de canevas:\n",
    "\n",
    "- `clear_rect(x, y, width, height=None)`: Efface la zone rectangulaire spécifiée, la rendant totalement transparente. Si `height`est homis, il est défini sur la même valeur que `width`.\n",
    "\n",
    "\n",
    "<h3 class='fa fa-cog' style=\"color: MediumSeaGreen\"> A faire vous même n°2 :</h3>\n",
    "\n",
    "- Exécuter progressivement les instructions des cellules suivantes ;\n",
    "- Ajouter des commentaires pour décrire ce que produisent chacune de ces instructions ;\n",
    "- Amusez vous à changer l'ordre d'exécution des cellules..."
   ]
  },
  {
   "cell_type": "code",
   "execution_count": 7,
   "metadata": {},
   "outputs": [],
   "source": [
    "from ipycanvas import Canvas #j'importe le module ipycanvas"
   ]
  },
  {
   "cell_type": "code",
   "execution_count": 8,
   "metadata": {},
   "outputs": [],
   "source": [
    "cr = Canvas(width = 200, height = 160) #je choisis l'instance"
   ]
  },
  {
   "cell_type": "code",
   "execution_count": 9,
   "metadata": {},
   "outputs": [
    {
     "data": {
      "application/vnd.jupyter.widget-view+json": {
       "model_id": "fb17fabbf8724331ae2bd7efc9c6caa8",
       "version_major": 2,
       "version_minor": 0
      },
      "text/plain": [
       "Canvas(height=160, width=200)"
      ]
     },
     "execution_count": 9,
     "metadata": {},
     "output_type": "execute_result"
    }
   ],
   "source": [
    "cr # et j'imprime"
   ]
  },
  {
   "cell_type": "code",
   "execution_count": 10,
   "metadata": {},
   "outputs": [],
   "source": [
    "cr.fill_style = 'rgb(220, 220, 220)' #j'ajoute des modifications pour tout le reste\n",
    "cr.fill_rect(0, 0, 200, 160)"
   ]
  },
  {
   "cell_type": "code",
   "execution_count": 11,
   "metadata": {},
   "outputs": [],
   "source": [
    "cr.fill_style = \"yellow\" \n",
    "cr.fill_rect(25, 40, 150, 80)"
   ]
  },
  {
   "cell_type": "code",
   "execution_count": 12,
   "metadata": {},
   "outputs": [],
   "source": [
    "cr.stroke_style = '#FF0000'\n",
    "cr.stroke_rect(25, 40, 150, 80)"
   ]
  },
  {
   "cell_type": "code",
   "execution_count": 13,
   "metadata": {},
   "outputs": [],
   "source": [
    "cr.clear_rect(70, 50, 60)"
   ]
  },
  {
   "cell_type": "code",
   "execution_count": 14,
   "metadata": {},
   "outputs": [],
   "source": [
    "cr.clear() #j'efface"
   ]
  },
  {
   "attachments": {},
   "cell_type": "markdown",
   "metadata": {},
   "source": [
    "<h3 class='fa fa-code' style=\"color: darkorange\"> A faire vous même n°3 :</h3>\n",
    "\n",
    "- Que permet la fonction `clear()` ?\n",
    "\n",
    "elle permet de netoyer\n",
    "\n",
    "\n",
    "- Considérant que le gris correspond à l'image d'un fond (background) il aurait été intéressant de pouvoir effacer le jaune sans traverser tout l'arrière plan. Non verrons plus tard qu'ipycanvas propose des solutions évoluées pour éviter cela, mais à ce stade, que proposeriez vous de faire pour ça :\n",
    "\n",
    "...\n",
    "\n",
    "\n",
    "- En vous inspirant du code de l'exemple basique du \"A faire vous même n°1\", ajouter une instruction qui permette d'épaissir le cadre rouge du rectangle dessiné en bordure..."
   ]
  },
  {
   "cell_type": "code",
   "execution_count": 15,
   "metadata": {},
   "outputs": [
    {
     "data": {
      "application/vnd.jupyter.widget-view+json": {
       "model_id": "4ec361ebdd0d49e8874216e9b9e9a4de",
       "version_major": 2,
       "version_minor": 0
      },
      "text/plain": [
       "Canvas(height=160, width=200)"
      ]
     },
     "execution_count": 15,
     "metadata": {},
     "output_type": "execute_result"
    }
   ],
   "source": [
    "from ipycanvas import Canvas\n",
    "cr = Canvas (width = 200, height = 160)\n",
    "\n",
    "cr.line_width = 8\n",
    "\n",
    "cr.fill_style = 'rgb(220, 220, 220)'\n",
    "cr.fill_rect(0, 0, 200, 160)\n",
    "cr.fill_style = \"yellow\"\n",
    "cr.fill_rect (25, 40, 150, 80)\n",
    "cr.stroke_style = '#FF0000'\n",
    "cr.stroke_rect (25, 40, 150, 80)\n",
    "cr.clear_rect (70, 50, 60)\n",
    "\n",
    "cr"
   ]
  },
  {
   "cell_type": "markdown",
   "metadata": {},
   "source": [
    "### Les couleurs\n",
    "\n",
    "Le Canvas a deux attributs de couleur, un pour les traits et un pour les surfaces. Vous pouvez également modifier la transparence globale.\n",
    "\n",
    "`stroke_style: (couleur HTML valide)` La couleur des rectangles et des tracés. La valeur par défaut est `\"black\"` ;\n",
    "\n",
    "`fill_style: (couleur HTML valide)` La couleur de remplissage des rectangles et des chemins. La valeur par défaut est `\"black\"` ;\n",
    "\n",
    "`global_alpha: (float)` Niveau de transparence. Par défaut à 1.0.\n",
    "\n",
    "`couleur HTML valide` est une chaine de caractère (type `str`) telle que `'rgb(220, 220, 220)'`, `\"yellow\"`, `'#FF0000'`, `\"rgba(0, 0, 255, 0.5)\"`, ...\n",
    "\n",
    "Pour plus d'information à ce sujet : https://www.w3schools.com/colors/colors_picker.asp\n",
    "\n",
    "\n",
    "<h3 class='fa fa-code' style=\"color: darkorange\"> A faire vous même n°4 :</h3>\n",
    "\n",
    "- Produire un code qui dessine le drapeu Français ;"
   ]
  },
  {
   "cell_type": "code",
   "execution_count": 16,
   "metadata": {},
   "outputs": [
    {
     "data": {
      "application/vnd.jupyter.widget-view+json": {
       "model_id": "e8ea41750b824448a3338a4e04d0ef59",
       "version_major": 2,
       "version_minor": 0
      },
      "text/plain": [
       "Canvas(height=140, width=200)"
      ]
     },
     "execution_count": 16,
     "metadata": {},
     "output_type": "execute_result"
    }
   ],
   "source": [
    "from ipycanvas import Canvas\n",
    "dfr = Canvas(width = 200, height = 140)\n",
    "dfr"
   ]
  },
  {
   "cell_type": "code",
   "execution_count": 17,
   "metadata": {},
   "outputs": [],
   "source": [
    "# A compléter\n",
    "# le fond\n",
    "dfr.fill_style = '#FAFAFA'\n",
    "dfr.fill_rect(0, 0, 200, 140)\n",
    "# la couleur bleu\n",
    "dfr.fill_style = '#0055A4'\n",
    "dfr.fill_rect (10, 16, 60, 108)\n",
    "# la couleur balnche\n",
    "dfr. fill_style = '#FFFFFF'\n",
    "dfr.fill_rect (70, 16, 60, 108)\n",
    "# la couleur rouge\n",
    "dfr.fill_style = '#EF4135'\n",
    "dfr.fill_rect(130, 16, 60, 108)"
   ]
  },
  {
   "cell_type": "markdown",
   "metadata": {},
   "source": [
    "### Dessiner des cercles :\n",
    "\n",
    "Il existe deux méthodes pour dessiner un cercle (ou plus exactement un arc de cercle refermé) sur le canevas :\n",
    "\n",
    "- `fill_arc(x, y, radius, start_angle, end_angle, anticlockwise=False)` : Dessine un arc plein fermé centré sur `(x, y)` avec un rayon `radius`, la forme dessinée se situe entre `start_angle` et `end_angle` en radians, du coté d'un parcours dans le sens des aiguilles d'une montre par défaut `anticlockwise=False` ;\n",
    "\n",
    "- `stroke_arc(x, y, radius, start_angle, end_angle, anticlockwise=False)`: Dessine un contour d'arc fermé centré sur `(x, y)` avec un rayon `radius`,  la forme dessinée se situe entre `start_angle` et `end_angle` en radians, du coté d'un parcours dans le sens des aiguilles d'une montre par défaut `anticlockwise=False` ;\n",
    "\n",
    "> Ici encore, à l'inverse du sens trigonométrique tel que vu en Mathématiques, les angles sont orientés positivement dans le sens des aiguilles d'une montre.\n",
    ">\n",
    "> Aussi, nous utiliserons [les propriétés trigonométriques du triangle de Pythagore](https://www.jeuxmaths.fr/cours/trigonometrie.php), avec l'hypoténuse égale au rayon `radius` de notre arc de cercle : $$rayon * sin(angle) = opposé$$$$rayon * cos(angle) = adjacent$$\n",
    "\n",
    "\n",
    "<h3 class='fa fa-cog' style=\"color: MediumSeaGreen\"> A faire vous même n°5 :</h3>\n",
    "\n",
    "- Exécuter progressivement les instructions des cellules suivantes ;\n",
    "- Ajouter des commentaires pour décrire ce que produisent chacune de ces instructions ;\n",
    "- Remplacer les couleurs rouge, verte et bleue par du jaune, cyan et magenta..."
   ]
  },
  {
   "cell_type": "code",
   "execution_count": 18,
   "metadata": {},
   "outputs": [],
   "source": [
    "from ipycanvas import Canvas #j'importe le module"
   ]
  },
  {
   "cell_type": "code",
   "execution_count": 19,
   "metadata": {},
   "outputs": [],
   "source": [
    "from math import pi, sin, cos #j,importe un autre module"
   ]
  },
  {
   "cell_type": "code",
   "execution_count": 20,
   "metadata": {},
   "outputs": [],
   "source": [
    "cc = Canvas(width = 200, height = 200 + 2) #la taille"
   ]
  },
  {
   "cell_type": "code",
   "execution_count": 21,
   "metadata": {},
   "outputs": [
    {
     "data": {
      "application/vnd.jupyter.widget-view+json": {
       "model_id": "c939aeae47c5464681e5afd69930f005",
       "version_major": 2,
       "version_minor": 0
      },
      "text/plain": [
       "Canvas(height=202, width=200)"
      ]
     },
     "execution_count": 21,
     "metadata": {},
     "output_type": "execute_result"
    }
   ],
   "source": [
    "cc #j'imprime"
   ]
  },
  {
   "cell_type": "code",
   "execution_count": 22,
   "metadata": {},
   "outputs": [],
   "source": [
    "cc.line_width = 2 #je modifien pour le reste"
   ]
  },
  {
   "cell_type": "code",
   "execution_count": 23,
   "metadata": {},
   "outputs": [],
   "source": [
    "cc.stroke_style = 'yellow'\n",
    "cc.stroke_arc(100 - 50 * cos(pi/6), 100 - 50 * sin(pi/6), 50, - pi/6, pi/2, True) # ca imprime un bout de cercle jaune"
   ]
  },
  {
   "cell_type": "code",
   "execution_count": 24,
   "metadata": {},
   "outputs": [],
   "source": [
    "cc.stroke_style = 'cyan'\n",
    "cc.stroke_arc(100 + 50 * cos(pi/6), 100 - 50 * sin(pi/6), 50, pi/2, 7*pi/6, True) #uj autre bout de cercle cyan"
   ]
  },
  {
   "cell_type": "code",
   "execution_count": 25,
   "metadata": {},
   "outputs": [],
   "source": [
    "cc.stroke_style = '#9933FF'\n",
    "cc.stroke_arc(100, 100 + 50, 50, - pi/6, 7*pi/6, False) #un autre bout de cercle magmenta"
   ]
  },
  {
   "cell_type": "code",
   "execution_count": 26,
   "metadata": {},
   "outputs": [],
   "source": [
    "cc.fill_style = \"rgba(255, 0, 0, 0.3)\"\n",
    "cc.fill_arc(100 - 50 * cos(pi/6), 100 - 50 * sin(pi/6), 50, 0, 2*pi) #un cerle rose apprait"
   ]
  },
  {
   "cell_type": "code",
   "execution_count": 27,
   "metadata": {},
   "outputs": [],
   "source": [
    "cc.fill_style = \"rgba(0, 255, 0, 0.3)\"\n",
    "cc.fill_arc(100 + 50 * cos(pi/6), 100 - 50 * sin(pi/6), 50, 0, 2*pi) #un cercle vert apparait"
   ]
  },
  {
   "cell_type": "code",
   "execution_count": 28,
   "metadata": {},
   "outputs": [],
   "source": [
    "cc.fill_style = \"rgba(0, 0, 255, 0.3)\"\n",
    "cc.fill_arc(100, 100 + 50, 50, 0, 2*pi) #et un autre cerle mauve"
   ]
  },
  {
   "cell_type": "markdown",
   "metadata": {},
   "source": [
    "<h3 class='fa fa-code' style=\"color: darkorange\"> A faire vous même n°6 :</h3>\n",
    "\n",
    "- Produire un code qui dessine le drapeau du Bangladesh ;"
   ]
  },
  {
   "cell_type": "code",
   "execution_count": 29,
   "metadata": {},
   "outputs": [
    {
     "data": {
      "application/vnd.jupyter.widget-view+json": {
       "model_id": "6eaac49901824c1d858c36b283579dee",
       "version_major": 2,
       "version_minor": 0
      },
      "text/plain": [
       "Canvas(height=140, width=200)"
      ]
     },
     "execution_count": 29,
     "metadata": {},
     "output_type": "execute_result"
    }
   ],
   "source": [
    "from ipycanvas import Canvas\n",
    "dba = Canvas(width = 200, height = 140)\n",
    "dba"
   ]
  },
  {
   "cell_type": "code",
   "execution_count": 33,
   "metadata": {},
   "outputs": [],
   "source": [
    "# A compléter\n",
    "from math import pi\n",
    "# Background\n",
    "dba.fill_style = '#FAFAFA'\n",
    "dba.fill_rect (0, 0, 200, 140)\n",
    "# Fond\n",
    "dba.fill_style = '#006747'\n",
    "dba.fill_rect (10, 16, 180, 108)\n",
    "# Cercle\n",
    "dba.fill_style = '#DA291C'\n",
    "dba.fill_arc (91, 70, 36, 0, 2*pi)"
   ]
  },
  {
   "cell_type": "markdown",
   "metadata": {},
   "source": [
    "### Des dessins paramétrés :\n",
    "\n",
    "Nous allons utiliser des variables pour paramétrer notre code ce qui va nous permettre par la suite de faire évoluer le dessin produit très simplement.\n",
    "\n",
    "<h3 class='fa fa-cog' style=\"color: MediumSeaGreen\"> A faire vous même n°7 :</h3>\n",
    "\n",
    "- Dans la cellule de code suivante, finaliser le paramétrage de l'exemple du *A faire vous même n°5* en utilisant les variables `rayon` et `largeur` et vérifier qu'il produit la même figure que précédemment ;\n",
    "\n",
    "- Ensuite, modifier seulement la valeur de la variable `epaisseur`, quel effet cela produit ?\n",
    "\n",
    "...\n",
    "\n",
    "- Proposer alors un autre nom pour cette variable : ..."
   ]
  },
  {
   "cell_type": "code",
   "execution_count": 36,
   "metadata": {},
   "outputs": [
    {
     "data": {
      "application/vnd.jupyter.widget-view+json": {
       "model_id": "5c9e4c51b7c14c33a27acaef13b451e0",
       "version_major": 2,
       "version_minor": 0
      },
      "text/plain": [
       "Canvas(height=505, width=500)"
      ]
     },
     "execution_count": 36,
     "metadata": {},
     "output_type": "execute_result"
    }
   ],
   "source": [
    "from ipycanvas import Canvas\n",
    "from math import pi, sin, cos\n",
    "\n",
    "# Variables pour le paramétrage \n",
    "epaisseur = 5 # valeur entière de 1 à 9\n",
    "rayon = epaisseur * 25\n",
    "largeur = rayon * 4\n",
    "\n",
    "# Finir le paramétrage du code avec les variables rayon et largeur et le commenter\n",
    "cc = Canvas(width = largeur, height = largeur + epaisseur)\n",
    "\n",
    "# Paramétrage de l'épaisseur des traits\n",
    "cc.line_width = epaisseur\n",
    "\n",
    "cc.stroke_style = 'red'\n",
    "cc.stroke_arc(largeur/2 + rayon * cos(pi/6), largeur/2 - rayon, - pi/6, pi/2, True)\n",
    "\n",
    "cc.stroke_style = 'green'\n",
    "cc.stroke_arc(largeur/2 + rayon * cos(pi/6), largeur/2 - rayon, pi/2, 7*pi/6, True)\n",
    "\n",
    "cc.stroke_style = 'blue'\n",
    "cc.stroke_arc(largeur/2, largeur/2 + rayon, rayon, - pi/6, 7*pi/6, False)\n",
    "\n",
    "cc.fill_style = \"rgba(255, 0, 0, 0.3)\"\n",
    "cc.fill_arc(largeur/2 + rayon * cos(pi/6), largeur/2 - rayon * sin(pi/6), rayon , 0, 2*pi)\n",
    "\n",
    "cc.fill_style = \"rgba(0, 255, 0, 0.3)\"\n",
    "cc.fill_arc(largeur/2 + rayon * cos(pi/6), largeur/2 - rayon * sin(pi/6), rayon , 0, 2*pi)\n",
    "\n",
    "cc.fill_style = \"rgba(0, 0, 255, 0.3)\"\n",
    "cc.fill_arc(largeur/2, largeur/2 + rayon, rayon, 0, 2*pi)\n",
    "\n",
    "# Affichage du canvas\n",
    "cc"
   ]
  },
  {
   "cell_type": "markdown",
   "metadata": {},
   "source": [
    "<h3 class='fa fa-code' style=\"color: darkorange\"> A faire vous même n°8 :</h3>\n",
    "\n",
    "- Dans la cellule suivante, reprendre le code correspondant au drapeau du Bangladesh et le paramétrer pour qu'il produise aussi les drapeaux des Palaos ou du Japon en ne changeant que les valeurs de quelques variables ;"
   ]
  },
  {
   "cell_type": "code",
   "execution_count": 5,
   "metadata": {},
   "outputs": [
    {
     "data": {
      "application/vnd.jupyter.widget-view+json": {
       "model_id": "8db45b94f5fe4c7695f6913273024cc9",
       "version_major": 2,
       "version_minor": 0
      },
      "text/plain": [
       "Canvas(height=140, width=200)"
      ]
     },
     "execution_count": 5,
     "metadata": {},
     "output_type": "execute_result"
    }
   ],
   "source": [
    "# A compléter\n",
    "from ipycanvas import Canvas\n",
    "from math import pi, sin, cos\n",
    "couleur_fond = '#FFFFFF' \n",
    "couleur_disque = '#BC002D'\n",
    "position_disque = 100\n",
    "\n",
    "# Instance\n",
    "dp = Canvas (width = 200, height = 140)\n",
    "\n",
    "# Background\n",
    "dp.fill_style = '#FAFAFA'\n",
    "dp.fill_rect (0, 0, 200, 140)\n",
    "\n",
    "# Fond\n",
    "dp.fill_style = couleur_fond\n",
    "dp. fill_rect (10, 16, 180, 108)\n",
    "\n",
    "# Disque\n",
    "dp.fill_style = couleur_disque\n",
    "dp.fill_arc (position_disque, 70, 36, 0, 2*pi)\n",
    "\n",
    "dp\n",
    "\n"
   ]
  },
  {
   "cell_type": "markdown",
   "metadata": {},
   "source": [
    "A ce stade, on analyse qu'il serait intéressant de pouvoir regrouper plusieurs informations variables simples dans une seule variable. Plusieurs structures sont envisageables alors pour organiser ces données élémentaires en variable ainsi construite :\n",
    "- une variable `pays` pour chaque pays informations élémentaires le concernant... ;\n",
    "- une variable `couleurs_fond` qui regrouperait toutes les valeurs de `couleur_fond` selon les pays, et de même avec `couleurs_disque` et `positions_disque` ;\n",
    "\n",
    "\n",
    "On peut même envisager une structure plus globale qui regrouperait toutes ces informations...\n",
    "\n",
    "Un question se pose alors, comment va-t'on extraire chaque information élémentaire d'une telle structure ?\n"
   ]
  },
  {
   "cell_type": "markdown",
   "metadata": {},
   "source": [
    "## Un peu d'interactivité avec ipywidgets :\n",
    "\n",
    "Jupyter dispose d'un module pour afficher dans un notebook des éléments HTML de dialogue comme des boutons ou des slider afin de permettre à l'utilisateur d'interagir avec le code via cette interface homme machine (IHM). Il s'agit d'[ipywidgets](https://github.com/jupyter-widgets/ipywidgets).\n",
    "\n",
    "Il est donc possible d'installer un dialogue entre l'utilisateur et le dessin que produit ipycanvas grace à ipywidgets.\n",
    "\n",
    "Nous ne ferons ici qu'une rapide introduction afin de comprendre le principe du fonctionnement et de découvrir les éléments qui sont nécessaires pour la mise en place de cette interractivité.\n",
    "\n",
    "<h3 class='fa fa-cog' style=\"color: MediumSeaGreen\"> A faire vous même n°9 :</h3>\n",
    "\n",
    "- Exécuter la cellule de code suivante, qui contient un exemple proposé par [Martin RENOU](https://github.com/martinRenou) afin de déplacer la balle dans le canvas grace à deux sliders..."
   ]
  },
  {
   "cell_type": "code",
   "execution_count": 6,
   "metadata": {},
   "outputs": [
    {
     "data": {
      "application/vnd.jupyter.widget-view+json": {
       "model_id": "bd334aa260464e0799509d1852519483",
       "version_major": 2,
       "version_minor": 0
      },
      "text/plain": [
       "IntSlider(value=150, description='x:', max=300)"
      ]
     },
     "metadata": {},
     "output_type": "display_data"
    },
    {
     "data": {
      "application/vnd.jupyter.widget-view+json": {
       "model_id": "40c7faa9ee8a401a90cfbf128897b6fa",
       "version_major": 2,
       "version_minor": 0
      },
      "text/plain": [
       "IntSlider(value=150, description='y:', max=300)"
      ]
     },
     "metadata": {},
     "output_type": "display_data"
    },
    {
     "data": {
      "application/vnd.jupyter.widget-view+json": {
       "model_id": "2d474307523b4908b9949d8d3a133c5d",
       "version_major": 2,
       "version_minor": 0
      },
      "text/plain": [
       "Canvas(height=300, width=300)"
      ]
     },
     "metadata": {},
     "output_type": "display_data"
    }
   ],
   "source": [
    "# Code exemple proposé par Martin RENOU développeur d'ipycanvas \n",
    "from math import pi\n",
    "\n",
    "from ipywidgets import IntSlider, VBox\n",
    "from ipycanvas import Canvas, hold_canvas\n",
    "\n",
    "# Create x and y sliders, which will control the ball position\n",
    "x_slider = IntSlider(description='x:', min=0, max=300, value=150)\n",
    "y_slider = IntSlider(description='y:', min=0, max=300, value=150)\n",
    "\n",
    "canvas = Canvas(width=300, height=300)\n",
    "\n",
    "# Function that will clear the canvas and redraw the ball\n",
    "def redraw_circle(x, y):\n",
    "    with hold_canvas(canvas):\n",
    "        canvas.clear()\n",
    "        \n",
    "        ### C'est dans cette zone de la fonction redraw_circle() qu'il y a l'instruction du dessin\n",
    "        \n",
    "        canvas.fill_arc(x, y, 20, 0, 2 * pi)\n",
    "        \n",
    "        ###\n",
    "        \n",
    "\n",
    "# Observe sliders changes, and call redraw_circle whenever the sliders change\n",
    "x_slider.observe(lambda _: redraw_circle(x_slider.value, y_slider.value))\n",
    "y_slider.observe(lambda _: redraw_circle(x_slider.value, y_slider.value))\n",
    "\n",
    "# Initial draw\n",
    "redraw_circle(x_slider.value, y_slider.value)\n",
    "\n",
    "display(x_slider)\n",
    "display(y_slider)\n",
    "display(canvas)"
   ]
  },
  {
   "cell_type": "markdown",
   "metadata": {},
   "source": [
    "<h3 class='fa fa-code' style=\"color: darkorange\"> A faire vous même n°10 :</h3>\n",
    "\n",
    "- Dans la cellule suivante, coller les instructions du dessin de la figure paramétrée de l'activité n°7 afin de piloter l'échelle du dessin avec un slider et vérifier le bon fonctionnement..."
   ]
  },
  {
   "cell_type": "code",
   "execution_count": 8,
   "metadata": {},
   "outputs": [
    {
     "data": {
      "application/vnd.jupyter.widget-view+json": {
       "model_id": "250b4589006c4a859a6a51fbf7e490ad",
       "version_major": 2,
       "version_minor": 0
      },
      "text/plain": [
       "IntSlider(value=2, description='épaisseur :', max=9, min=1)"
      ]
     },
     "metadata": {},
     "output_type": "display_data"
    },
    {
     "data": {
      "application/vnd.jupyter.widget-view+json": {
       "model_id": "c54733c06c4349bf8bb6ff1138b15bce",
       "version_major": 2,
       "version_minor": 0
      },
      "text/plain": [
       "Canvas(height=909, width=900)"
      ]
     },
     "metadata": {},
     "output_type": "display_data"
    }
   ],
   "source": [
    "from math import pi, sin, cos\n",
    "from ipywidgets import IntSlider, VBox\n",
    "from ipycanvas import Canvas, hold_canvas\n",
    "\n",
    "# Création d'un slider pour controler le facteur d'échelle défini par l'épaisseur des traits de la figure\n",
    "e_slider = IntSlider(description='épaisseur :', min=1, max=9, value=2)\n",
    "\n",
    "# Création d'un canvas support pour notre dessin\n",
    "cc = Canvas(width = 100 * e_slider.max, height = 101 * e_slider.max)\n",
    "\n",
    "# Fonction pour effacer le canvas et y redessiner la figure\n",
    "def figure(epaisseur):\n",
    "    with hold_canvas(cc):\n",
    "        cc.clear()\n",
    "        \n",
    "        # Variables pour le paramétrage       \n",
    "        rayon = epaisseur * 25\n",
    "        largeur = rayon * 4 \n",
    "               \n",
    "        #### Coller dans cette zone de la fonction l'ensemble des instructions de dessin de la figure paramétrée     \n",
    "        cc.line_width = epaisseur\n",
    "        \n",
    "        cc.stroke_style = 'red'\n",
    "        cc.stroke_arc(largeur/2 + rayon * cos(pi/6), largeur/2 - rayon, - pi/6, pi/2, True)\n",
    "        \n",
    "        cc.stroke_style = 'green'\n",
    "        cc.stroke_arc(largeur/2 + rayon * cos(pi/6), largeur/2 - rayon, pi/2, 7*pi/6, True)\n",
    "        \n",
    "        cc.stroke_style = 'blue'\n",
    "        cc.stroke_arc(largeur/2, largeur/2 + rayon, rayon, - pi/6, 7*pi/6, False)\n",
    "        \n",
    "        cc.fill_style = \"rgba(255, 0, 0, 0.3)\"\n",
    "        cc.fill_arc(largeur/2 + rayon * cos(pi/6), largeur/2 - rayon * sin(pi/6), rayon , 0, 2*pi)\n",
    "        \n",
    "        cc.fill_style = \"rgba(0, 255, 0, 0.3)\"\n",
    "        cc.fill_arc(largeur/2 + rayon * cos(pi/6), largeur/2 - rayon * sin(pi/6), rayon , 0, 2*pi)\n",
    "        \n",
    "        cc.fill_style = \"rgba(0, 0, 255, 0.3)\"\n",
    "        cc.fill_arc(largeur/2, largeur/2 + rayon, rayon, 0, 2*pi)                   \n",
    "     \n",
    "        ###\n",
    "        \n",
    "        \n",
    "# Cette fonction observe à chaque instant l'état du slider et en cas de changement elle rappelle la fonction figure()\n",
    "e_slider.observe(lambda _: figure(e_slider.value))\n",
    "\n",
    "\n",
    "# Premier appel à la fonction figure() pour produire le dessin initial\n",
    "figure(e_slider.value)\n",
    "\n",
    "# Affichage du slider et du canvas\n",
    "display(e_slider)\n",
    "display(cc)"
   ]
  },
  {
   "cell_type": "markdown",
   "metadata": {},
   "source": [
    "Nous reviendrons donc plus tard et plus avant sur la programmation d'une IHM telle que celle d'ipywidgets, ce qu'il faut comprendre et retenir à ce stade c'est que **pour installer l'interactivité il est essentiel de paramétrer le code avec des variables et de le structurer dans des fonctions...**"
   ]
  },
  {
   "cell_type": "markdown",
   "metadata": {},
   "source": [
    "## Un point fait tout  !\n",
    "<img src=\"https://cdn.pixabay.com/photo/2020/06/20/03/02/art-with-points-5319501_960_720.png\" alt=\"grid.png\" width = 20% align=\"right\">\n",
    "\n",
    "Une image matricielle étant constituée de pixels (picture elements), nous devrions pouvoir, à l'instar du [Pointillisme](https://hitart.fr/le-pointillisme/#1_L%E2%80%99HISTOIRE_DU_DESSIN_POINTILLISME), en défininissant une fonction personalisée `point()` et à l'aide de boucles et de tests conditionnels, écrire des scripts pour dessiner des images géométriques.\n",
    "\n",
    "Aussi, en y ajoutant un peu de pseudo-aléatoire nous pourrions écrire et même partager des programmes qui produisent de l'[Art génératif](https://aiartists.org/generative-art-design)...\n",
    "\n",
    "<img src=\"https://ericecmorlaix.github.io/img/ipycanvas_generatif.png\" alt=\"grid.png\"  align=\"center\">\n",
    "\n",
    "### Premières fonctions personalisées :\n",
    "\n",
    "<h3 class='fa fa-cogs' style=\"color: mediumseagreen\"> A faire vous même n°11 :</h3>\n",
    "\n",
    "- Exécuter la cellule suivante qui dessine dans un canvas nommé `toile` un arrière plan de couleur `linen` (blanc lin, #FAF0E6) et définit une fonction `point(x, y, couleur, taille)` qui dessine un dique de couleur `couleur`, de rayon `taille`, et dont le centre a pour coordonnés `x` et `y`;\n",
    "- Essayer plusieurs fois d'appeler la fonction `point(x, y, couleur, taille)` en lui passant différentes valeurs...\n",
    "\n",
    "- A la lecture de la [dernière documentation d'ipycanvas](https://ipycanvas.readthedocs.io/en/latest/drawing_shapes.html), proposer une version plus simple pour réaliser la fonction `point(x, y, couleur, taille)`...\n"
   ]
  },
  {
   "cell_type": "code",
   "execution_count": 9,
   "metadata": {},
   "outputs": [
    {
     "data": {
      "application/vnd.jupyter.widget-view+json": {
       "model_id": "349934f9d1984fd49d2ce565c44095ab",
       "version_major": 2,
       "version_minor": 0
      },
      "text/plain": [
       "Canvas(height=200, width=200)"
      ]
     },
     "execution_count": 9,
     "metadata": {},
     "output_type": "execute_result"
    }
   ],
   "source": [
    "from ipycanvas import Canvas\n",
    "from math import pi, sin, cos\n",
    "\n",
    "# Toile support du dessin\n",
    "toile = Canvas(width = 200, height = 200)\n",
    "\n",
    "# Background, l'arrière plan\n",
    "toile.fill_style = 'linen'\n",
    "toile.fill_rect(0, 0, toile.width, toile.height)\n",
    "\n",
    "# Fonction point\n",
    "def point(x, y, couleur, taille) :\n",
    "    toile.fill_style = couleur\n",
    "    toile.fill_arc(x, y, taille, 0, 2*pi)\n",
    "\n",
    "toile    "
   ]
  },
  {
   "cell_type": "code",
   "execution_count": 10,
   "metadata": {},
   "outputs": [],
   "source": [
    "point(toile.width/2, toile.height/2, 'darkorange', 2)"
   ]
  },
  {
   "cell_type": "code",
   "execution_count": 11,
   "metadata": {},
   "outputs": [
    {
     "ename": "TraitError",
     "evalue": "The 'fill_style' trait of a Canvas instance expected a valid HTML color or a _CanvasGradient or a Pattern, not the ellipsis Ellipsis.",
     "output_type": "error",
     "traceback": [
      "\u001b[0;31m---------------------------------------------------------------------------\u001b[0m",
      "\u001b[0;31mTraitError\u001b[0m                                Traceback (most recent call last)",
      "Cell \u001b[0;32mIn [11], line 1\u001b[0m\n\u001b[0;32m----> 1\u001b[0m point(\u001b[39m.\u001b[39m\u001b[39m.\u001b[39m\u001b[39m.\u001b[39m, \u001b[39m.\u001b[39m\u001b[39m.\u001b[39m\u001b[39m.\u001b[39m, \u001b[39m.\u001b[39m\u001b[39m.\u001b[39m\u001b[39m.\u001b[39m, \u001b[39m.\u001b[39m\u001b[39m.\u001b[39m\u001b[39m.\u001b[39m)\n",
      "Cell \u001b[0;32mIn [9], line 13\u001b[0m, in \u001b[0;36mpoint\u001b[0;34m(x, y, couleur, taille)\u001b[0m\n\u001b[1;32m     12\u001b[0m \u001b[39mdef\u001b[39;00m \u001b[39mpoint\u001b[39m(x, y, couleur, taille) :\n\u001b[0;32m---> 13\u001b[0m     toile\u001b[39m.\u001b[39;49mfill_style \u001b[39m=\u001b[39m couleur\n\u001b[1;32m     14\u001b[0m     toile\u001b[39m.\u001b[39mfill_arc(x, y, taille, \u001b[39m0\u001b[39m, \u001b[39m2\u001b[39m\u001b[39m*\u001b[39mpi)\n",
      "File \u001b[0;32m~/.pyenv/versions/3.8.13/lib/python3.8/site-packages/ipycanvas/canvas.py:1531\u001b[0m, in \u001b[0;36mCanvas.__setattr__\u001b[0;34m(self, name, value)\u001b[0m\n\u001b[1;32m   1530\u001b[0m \u001b[39mdef\u001b[39;00m \u001b[39m__setattr__\u001b[39m(\u001b[39mself\u001b[39m, name, value):\n\u001b[0;32m-> 1531\u001b[0m     \u001b[39msuper\u001b[39;49m(Canvas, \u001b[39mself\u001b[39;49m)\u001b[39m.\u001b[39;49m\u001b[39m__setattr__\u001b[39;49m(name, value)\n\u001b[1;32m   1533\u001b[0m     \u001b[39mif\u001b[39;00m name \u001b[39min\u001b[39;00m \u001b[39mself\u001b[39m\u001b[39m.\u001b[39mATTRS:\n\u001b[1;32m   1534\u001b[0m         \u001b[39m# If it's a Widget we need to serialize it\u001b[39;00m\n\u001b[1;32m   1535\u001b[0m         \u001b[39mif\u001b[39;00m \u001b[39misinstance\u001b[39m(value, Widget):\n",
      "File \u001b[0;32m~/.pyenv/versions/3.8.13/lib/python3.8/site-packages/traitlets/traitlets.py:715\u001b[0m, in \u001b[0;36mTraitType.__set__\u001b[0;34m(self, obj, value)\u001b[0m\n\u001b[1;32m    713\u001b[0m     \u001b[39mraise\u001b[39;00m TraitError(\u001b[39m'\u001b[39m\u001b[39mThe \u001b[39m\u001b[39m\"\u001b[39m\u001b[39m%s\u001b[39;00m\u001b[39m\"\u001b[39m\u001b[39m trait is read-only.\u001b[39m\u001b[39m'\u001b[39m \u001b[39m%\u001b[39m \u001b[39mself\u001b[39m\u001b[39m.\u001b[39mname)\n\u001b[1;32m    714\u001b[0m \u001b[39melse\u001b[39;00m:\n\u001b[0;32m--> 715\u001b[0m     \u001b[39mself\u001b[39;49m\u001b[39m.\u001b[39;49mset(obj, value)\n",
      "File \u001b[0;32m~/.pyenv/versions/3.8.13/lib/python3.8/site-packages/traitlets/traitlets.py:689\u001b[0m, in \u001b[0;36mTraitType.set\u001b[0;34m(self, obj, value)\u001b[0m\n\u001b[1;32m    688\u001b[0m \u001b[39mdef\u001b[39;00m \u001b[39mset\u001b[39m(\u001b[39mself\u001b[39m, obj, value):\n\u001b[0;32m--> 689\u001b[0m     new_value \u001b[39m=\u001b[39m \u001b[39mself\u001b[39;49m\u001b[39m.\u001b[39;49m_validate(obj, value)\n\u001b[1;32m    690\u001b[0m     \u001b[39mtry\u001b[39;00m:\n\u001b[1;32m    691\u001b[0m         old_value \u001b[39m=\u001b[39m obj\u001b[39m.\u001b[39m_trait_values[\u001b[39mself\u001b[39m\u001b[39m.\u001b[39mname]\n",
      "File \u001b[0;32m~/.pyenv/versions/3.8.13/lib/python3.8/site-packages/traitlets/traitlets.py:721\u001b[0m, in \u001b[0;36mTraitType._validate\u001b[0;34m(self, obj, value)\u001b[0m\n\u001b[1;32m    719\u001b[0m     \u001b[39mreturn\u001b[39;00m value\n\u001b[1;32m    720\u001b[0m \u001b[39mif\u001b[39;00m \u001b[39mhasattr\u001b[39m(\u001b[39mself\u001b[39m, \u001b[39m\"\u001b[39m\u001b[39mvalidate\u001b[39m\u001b[39m\"\u001b[39m):\n\u001b[0;32m--> 721\u001b[0m     value \u001b[39m=\u001b[39m \u001b[39mself\u001b[39;49m\u001b[39m.\u001b[39;49mvalidate(obj, value)  \u001b[39m# type:ignore[attr-defined]\u001b[39;00m\n\u001b[1;32m    722\u001b[0m \u001b[39mif\u001b[39;00m obj\u001b[39m.\u001b[39m_cross_validation_lock \u001b[39mis\u001b[39;00m \u001b[39mFalse\u001b[39;00m:\n\u001b[1;32m    723\u001b[0m     value \u001b[39m=\u001b[39m \u001b[39mself\u001b[39m\u001b[39m.\u001b[39m_cross_validate(obj, value)\n",
      "File \u001b[0;32m~/.pyenv/versions/3.8.13/lib/python3.8/site-packages/traitlets/traitlets.py:2185\u001b[0m, in \u001b[0;36mUnion.validate\u001b[0;34m(self, obj, value)\u001b[0m\n\u001b[1;32m   2183\u001b[0m         \u001b[39mexcept\u001b[39;00m TraitError:\n\u001b[1;32m   2184\u001b[0m             \u001b[39mcontinue\u001b[39;00m\n\u001b[0;32m-> 2185\u001b[0m \u001b[39mself\u001b[39;49m\u001b[39m.\u001b[39;49merror(obj, value)\n",
      "File \u001b[0;32m~/.pyenv/versions/3.8.13/lib/python3.8/site-packages/traitlets/traitlets.py:827\u001b[0m, in \u001b[0;36mTraitType.error\u001b[0;34m(self, obj, value, error, info)\u001b[0m\n\u001b[1;32m    821\u001b[0m \u001b[39melse\u001b[39;00m:\n\u001b[1;32m    822\u001b[0m     e \u001b[39m=\u001b[39m \u001b[39m\"\u001b[39m\u001b[39mThe \u001b[39m\u001b[39m'\u001b[39m\u001b[39m{}\u001b[39;00m\u001b[39m'\u001b[39m\u001b[39m trait expected \u001b[39m\u001b[39m{}\u001b[39;00m\u001b[39m, not \u001b[39m\u001b[39m{}\u001b[39;00m\u001b[39m.\u001b[39m\u001b[39m\"\u001b[39m\u001b[39m.\u001b[39mformat(\n\u001b[1;32m    823\u001b[0m         \u001b[39mself\u001b[39m\u001b[39m.\u001b[39mname,\n\u001b[1;32m    824\u001b[0m         \u001b[39mself\u001b[39m\u001b[39m.\u001b[39minfo(),\n\u001b[1;32m    825\u001b[0m         describe(\u001b[39m\"\u001b[39m\u001b[39mthe\u001b[39m\u001b[39m\"\u001b[39m, value),\n\u001b[1;32m    826\u001b[0m     )\n\u001b[0;32m--> 827\u001b[0m \u001b[39mraise\u001b[39;00m TraitError(e)\n",
      "\u001b[0;31mTraitError\u001b[0m: The 'fill_style' trait of a Canvas instance expected a valid HTML color or a _CanvasGradient or a Pattern, not the ellipsis Ellipsis."
     ]
    }
   ],
   "source": [
    "point(..., ..., ..., ...)"
   ]
  },
  {
   "cell_type": "code",
   "execution_count": null,
   "metadata": {},
   "outputs": [],
   "source": [
    "# Fonction point() plus simple\n",
    "def point(x, y, couleur, taille) :\n",
    "    toile.fill_style = couleur\n",
    "    # A compléter..."
   ]
  },
  {
   "cell_type": "code",
   "execution_count": null,
   "metadata": {},
   "outputs": [],
   "source": [
    "point(..., ..., ..., ...)"
   ]
  },
  {
   "cell_type": "code",
   "execution_count": null,
   "metadata": {},
   "outputs": [],
   "source": [
    "point(..., ..., ..., ...)"
   ]
  },
  {
   "cell_type": "markdown",
   "metadata": {},
   "source": [
    "<h3 class='fa fa-code' style=\"color: darkorange\"> A faire vous même n°12 :</h3>\n",
    "\n",
    "- Modifier le script précédent pour définir une fonction `background()` qui applique la `couleur_fond` qui lui est passée en paramètre, sur toute la `toile` ;\n",
    "- Faire des appels successifs à votre fonction `background()` en lui passant différentes valeurs pour `couleur_fond` et en alternant avec des appels à la fonction `point()` ;\n",
    "- Quel effet cela produit ?\n",
    "..."
   ]
  },
  {
   "cell_type": "code",
   "execution_count": 15,
   "metadata": {},
   "outputs": [],
   "source": [
    "# Fonction background à définir\n",
    "def background(couleur_fond) :\n",
    "    # A compléter...   \n",
    "    toile.fill_style = couleur_fond\n",
    "    toile.fill_rect(0, 0, toile.width, toile.height)\n",
    "    "
   ]
  },
  {
   "cell_type": "code",
   "execution_count": 16,
   "metadata": {},
   "outputs": [
    {
     "data": {
      "application/vnd.jupyter.widget-view+json": {
       "model_id": "349934f9d1984fd49d2ce565c44095ab",
       "version_major": 2,
       "version_minor": 0
      },
      "text/plain": [
       "Canvas(height=200, width=200)"
      ]
     },
     "execution_count": 16,
     "metadata": {},
     "output_type": "execute_result"
    }
   ],
   "source": [
    "toile"
   ]
  },
  {
   "cell_type": "code",
   "execution_count": 17,
   "metadata": {},
   "outputs": [],
   "source": [
    "background('snow')"
   ]
  },
  {
   "cell_type": "code",
   "execution_count": 18,
   "metadata": {},
   "outputs": [],
   "source": [
    "point(toile.width/2, toile.height/2, 'purple', 20)"
   ]
  },
  {
   "cell_type": "code",
   "execution_count": 19,
   "metadata": {},
   "outputs": [
    {
     "ename": "TraitError",
     "evalue": "The 'fill_style' trait of a Canvas instance expected a valid HTML color or a _CanvasGradient or a Pattern, not the ellipsis Ellipsis.",
     "output_type": "error",
     "traceback": [
      "\u001b[0;31m---------------------------------------------------------------------------\u001b[0m",
      "\u001b[0;31mTraitError\u001b[0m                                Traceback (most recent call last)",
      "Cell \u001b[0;32mIn [19], line 1\u001b[0m\n\u001b[0;32m----> 1\u001b[0m background(\u001b[39m.\u001b[39m\u001b[39m.\u001b[39m\u001b[39m.\u001b[39m)\n",
      "Cell \u001b[0;32mIn [15], line 4\u001b[0m, in \u001b[0;36mbackground\u001b[0;34m(couleur_fond)\u001b[0m\n\u001b[1;32m      2\u001b[0m \u001b[39mdef\u001b[39;00m \u001b[39mbackground\u001b[39m(couleur_fond) :\n\u001b[1;32m      3\u001b[0m     \u001b[39m# A compléter...   \u001b[39;00m\n\u001b[0;32m----> 4\u001b[0m     toile\u001b[39m.\u001b[39;49mfill_style \u001b[39m=\u001b[39m couleur_fond\n\u001b[1;32m      5\u001b[0m     toile\u001b[39m.\u001b[39mfill_rect(\u001b[39m0\u001b[39m, \u001b[39m0\u001b[39m, toile\u001b[39m.\u001b[39mwidth, toile\u001b[39m.\u001b[39mheight)\n",
      "File \u001b[0;32m~/.pyenv/versions/3.8.13/lib/python3.8/site-packages/ipycanvas/canvas.py:1531\u001b[0m, in \u001b[0;36mCanvas.__setattr__\u001b[0;34m(self, name, value)\u001b[0m\n\u001b[1;32m   1530\u001b[0m \u001b[39mdef\u001b[39;00m \u001b[39m__setattr__\u001b[39m(\u001b[39mself\u001b[39m, name, value):\n\u001b[0;32m-> 1531\u001b[0m     \u001b[39msuper\u001b[39;49m(Canvas, \u001b[39mself\u001b[39;49m)\u001b[39m.\u001b[39;49m\u001b[39m__setattr__\u001b[39;49m(name, value)\n\u001b[1;32m   1533\u001b[0m     \u001b[39mif\u001b[39;00m name \u001b[39min\u001b[39;00m \u001b[39mself\u001b[39m\u001b[39m.\u001b[39mATTRS:\n\u001b[1;32m   1534\u001b[0m         \u001b[39m# If it's a Widget we need to serialize it\u001b[39;00m\n\u001b[1;32m   1535\u001b[0m         \u001b[39mif\u001b[39;00m \u001b[39misinstance\u001b[39m(value, Widget):\n",
      "File \u001b[0;32m~/.pyenv/versions/3.8.13/lib/python3.8/site-packages/traitlets/traitlets.py:715\u001b[0m, in \u001b[0;36mTraitType.__set__\u001b[0;34m(self, obj, value)\u001b[0m\n\u001b[1;32m    713\u001b[0m     \u001b[39mraise\u001b[39;00m TraitError(\u001b[39m'\u001b[39m\u001b[39mThe \u001b[39m\u001b[39m\"\u001b[39m\u001b[39m%s\u001b[39;00m\u001b[39m\"\u001b[39m\u001b[39m trait is read-only.\u001b[39m\u001b[39m'\u001b[39m \u001b[39m%\u001b[39m \u001b[39mself\u001b[39m\u001b[39m.\u001b[39mname)\n\u001b[1;32m    714\u001b[0m \u001b[39melse\u001b[39;00m:\n\u001b[0;32m--> 715\u001b[0m     \u001b[39mself\u001b[39;49m\u001b[39m.\u001b[39;49mset(obj, value)\n",
      "File \u001b[0;32m~/.pyenv/versions/3.8.13/lib/python3.8/site-packages/traitlets/traitlets.py:689\u001b[0m, in \u001b[0;36mTraitType.set\u001b[0;34m(self, obj, value)\u001b[0m\n\u001b[1;32m    688\u001b[0m \u001b[39mdef\u001b[39;00m \u001b[39mset\u001b[39m(\u001b[39mself\u001b[39m, obj, value):\n\u001b[0;32m--> 689\u001b[0m     new_value \u001b[39m=\u001b[39m \u001b[39mself\u001b[39;49m\u001b[39m.\u001b[39;49m_validate(obj, value)\n\u001b[1;32m    690\u001b[0m     \u001b[39mtry\u001b[39;00m:\n\u001b[1;32m    691\u001b[0m         old_value \u001b[39m=\u001b[39m obj\u001b[39m.\u001b[39m_trait_values[\u001b[39mself\u001b[39m\u001b[39m.\u001b[39mname]\n",
      "File \u001b[0;32m~/.pyenv/versions/3.8.13/lib/python3.8/site-packages/traitlets/traitlets.py:721\u001b[0m, in \u001b[0;36mTraitType._validate\u001b[0;34m(self, obj, value)\u001b[0m\n\u001b[1;32m    719\u001b[0m     \u001b[39mreturn\u001b[39;00m value\n\u001b[1;32m    720\u001b[0m \u001b[39mif\u001b[39;00m \u001b[39mhasattr\u001b[39m(\u001b[39mself\u001b[39m, \u001b[39m\"\u001b[39m\u001b[39mvalidate\u001b[39m\u001b[39m\"\u001b[39m):\n\u001b[0;32m--> 721\u001b[0m     value \u001b[39m=\u001b[39m \u001b[39mself\u001b[39;49m\u001b[39m.\u001b[39;49mvalidate(obj, value)  \u001b[39m# type:ignore[attr-defined]\u001b[39;00m\n\u001b[1;32m    722\u001b[0m \u001b[39mif\u001b[39;00m obj\u001b[39m.\u001b[39m_cross_validation_lock \u001b[39mis\u001b[39;00m \u001b[39mFalse\u001b[39;00m:\n\u001b[1;32m    723\u001b[0m     value \u001b[39m=\u001b[39m \u001b[39mself\u001b[39m\u001b[39m.\u001b[39m_cross_validate(obj, value)\n",
      "File \u001b[0;32m~/.pyenv/versions/3.8.13/lib/python3.8/site-packages/traitlets/traitlets.py:2185\u001b[0m, in \u001b[0;36mUnion.validate\u001b[0;34m(self, obj, value)\u001b[0m\n\u001b[1;32m   2183\u001b[0m         \u001b[39mexcept\u001b[39;00m TraitError:\n\u001b[1;32m   2184\u001b[0m             \u001b[39mcontinue\u001b[39;00m\n\u001b[0;32m-> 2185\u001b[0m \u001b[39mself\u001b[39;49m\u001b[39m.\u001b[39;49merror(obj, value)\n",
      "File \u001b[0;32m~/.pyenv/versions/3.8.13/lib/python3.8/site-packages/traitlets/traitlets.py:827\u001b[0m, in \u001b[0;36mTraitType.error\u001b[0;34m(self, obj, value, error, info)\u001b[0m\n\u001b[1;32m    821\u001b[0m \u001b[39melse\u001b[39;00m:\n\u001b[1;32m    822\u001b[0m     e \u001b[39m=\u001b[39m \u001b[39m\"\u001b[39m\u001b[39mThe \u001b[39m\u001b[39m'\u001b[39m\u001b[39m{}\u001b[39;00m\u001b[39m'\u001b[39m\u001b[39m trait expected \u001b[39m\u001b[39m{}\u001b[39;00m\u001b[39m, not \u001b[39m\u001b[39m{}\u001b[39;00m\u001b[39m.\u001b[39m\u001b[39m\"\u001b[39m\u001b[39m.\u001b[39mformat(\n\u001b[1;32m    823\u001b[0m         \u001b[39mself\u001b[39m\u001b[39m.\u001b[39mname,\n\u001b[1;32m    824\u001b[0m         \u001b[39mself\u001b[39m\u001b[39m.\u001b[39minfo(),\n\u001b[1;32m    825\u001b[0m         describe(\u001b[39m\"\u001b[39m\u001b[39mthe\u001b[39m\u001b[39m\"\u001b[39m, value),\n\u001b[1;32m    826\u001b[0m     )\n\u001b[0;32m--> 827\u001b[0m \u001b[39mraise\u001b[39;00m TraitError(e)\n",
      "\u001b[0;31mTraitError\u001b[0m: The 'fill_style' trait of a Canvas instance expected a valid HTML color or a _CanvasGradient or a Pattern, not the ellipsis Ellipsis."
     ]
    }
   ],
   "source": [
    "background(...)"
   ]
  },
  {
   "cell_type": "markdown",
   "metadata": {},
   "source": [
    "### Avec des boucles :\n",
    "\n",
    "Pour automatiser des appels répétitifs aux fonctions `point()` et `background()`, on peut avantageusement les inscrire dans des boucles de répétition...\n",
    "\n",
    "\n",
    "<h3 class='fa fa-cogs' style=\"color: mediumseagreen\"> A faire vous même n°13 :</h3>\n",
    "\n",
    "- Exécuter les deux cellules suivantes ;\n",
    "- Commenter le code pour décrire ce que produisent chacun des blocs d'instructions de la seconde cellule ;\n",
    "- Décommenter l'instruction `rayon = rayon + 1` et réexécuter cette cellule, puis décrire ce qu'il se passe alors :\n",
    "\n",
    "    ...\n",
    "- Amusez-vous à modifier les valeurs des paramètres variables..."
   ]
  },
  {
   "cell_type": "code",
   "execution_count": null,
   "metadata": {},
   "outputs": [],
   "source": [
    "# Code de définition d'un nouveau canvas\n",
    "from ipycanvas import Canvas\n",
    "from math import pi, sin, cos\n",
    "\n",
    "# Toile support du dessin\n",
    "toile = Canvas(width = 200, height = 200)\n",
    "\n",
    "# Fonction point\n",
    "def point(x, y, couleur, taille) :\n",
    "    toile.fill_style = couleur\n",
    "    toile.fill_arc(x, y, taille, 0, 2*pi)\n",
    "\n",
    "toile "
   ]
  },
  {
   "cell_type": "code",
   "execution_count": null,
   "metadata": {},
   "outputs": [],
   "source": [
    "# Code applicatif\n",
    "#\n",
    "toile.clear()\n",
    "\n",
    "#\n",
    "n = 48\n",
    "rayon = 12\n",
    "\n",
    "#\n",
    "for i in range(2*n) :\n",
    "    point(toile.width/2 + rayon * cos(i * 2*pi/n), toile.height/2 - rayon * sin(i * 2*pi/n) , 'tomato', 2)\n",
    "    # rayon = rayon + 1\n",
    "    "
   ]
  },
  {
   "cell_type": "markdown",
   "metadata": {},
   "source": [
    "<h3 class='fa fa-code' style=\"color: darkorange\"> A faire vous même n°14 :</h3>\n",
    "\n",
    "- Avec votre fonction `background()` et en appelant votre fonction `point()` dans une boucle, écrire les scripts pour reproduire les dessins de lignes suivantes :\n",
    "\n",
    "\n",
    "| Verticale  | Diagonale 1  |  Diagonale 2 |\n",
    "|:-:|:-:|:-:|\n",
    "| <img src=\"https://ericecmorlaix.github.io/img/ipycanvas-ligne_verticale.png\" width=\"50%\"> | <img src=\"https://ericecmorlaix.github.io/img/ipycanvas-ligne_diagonale_1.png\" width=\"50%\"> | <img src=\"https://ericecmorlaix.github.io/img/ipycanvas-ligne_diagonale_2.png\" width=\"50%\">  |\n",
    "\n",
    "\n",
    "| Pontillée | Parabolique |Sinusoïdale |\n",
    "|:-:|:-:|:-:|\n",
    "| <img src=\"https://ericecmorlaix.github.io/img/ipycanvas-ligne_horizontale_pointillee.png\" width=\"50%\">  |<img src=\"https://ericecmorlaix.github.io/img/ipycanvas-ligne_parabolique.png\" width=\"50%\">  |<img src=\"https://ericecmorlaix.github.io/img/ipycanvas-ligne_sinusoidale.png\" width=\"50%\">  |\n",
    "\n",
    "- Avec votre fonction `background()` et en utilisant votre fonction `point()` et des tests conditionnels dans une boucle écrire un script pour reproduire le dessin d'une ligne horizontale pointillée tricolore avec les couleurs du drapeau Français tel que :\n",
    "\n",
    "<img src=\"https://ericecmorlaix.github.io/img/ipycanvas-ligne_horizontale_tricolore.png\" width=\"30%\">"
   ]
  },
  {
   "cell_type": "code",
   "execution_count": 25,
   "metadata": {},
   "outputs": [
    {
     "ename": "SyntaxError",
     "evalue": "invalid syntax (107615311.py, line 23)",
     "output_type": "error",
     "traceback": [
      "\u001b[0;36m  Cell \u001b[0;32mIn [25], line 23\u001b[0;36m\u001b[0m\n\u001b[0;31m    toile\u001b[0m\n\u001b[0m    ^\u001b[0m\n\u001b[0;31mSyntaxError\u001b[0m\u001b[0;31m:\u001b[0m invalid syntax\n"
     ]
    }
   ],
   "source": [
    "# Code de définition d'un nouveau canvas\n",
    "from ipycanvas import Canvas\n",
    "from math import pi, sin, cos\n",
    "\n",
    "# Toile support du dessin\n",
    "toile = Canvas(width = 600, height = 600, sync_image_data=True)\n",
    "\n",
    "# Fonction background()\n",
    "def background(couleur_fond) :\n",
    "    # A compléter...\n",
    "    toile.fill_style = couleur_fond\n",
    "    toile.fill_rect(0, 0, toile.width, toile.height)\n",
    "    \n",
    "# Fonction point()\n",
    "def point(x, y, couleur, taille) :\n",
    "    # A compléter...\n",
    "    toile.fill_style = couleur\n",
    "    toile.fill_arc(x, y, taille, 0, 2*pi\n",
    "    \n",
    "    \n",
    "\n",
    "# Affichage\n",
    "toile "
   ]
  },
  {
   "cell_type": "code",
   "execution_count": 23,
   "metadata": {},
   "outputs": [],
   "source": [
    "# Code applicatif  ligne verticale    \n",
    "background('black')\n",
    "\n",
    "for i in range(toile.height):\n",
    "    point(toile.width/2, i, 'white', 8)\n",
    "\n"
   ]
  },
  {
   "cell_type": "code",
   "execution_count": 27,
   "metadata": {},
   "outputs": [],
   "source": [
    "# Code applicatif  ligne diagonale 1    \n",
    "background('black')\n",
    "\n",
    "for i in range(toile.height):\n",
    "    point(i, toile.height -i, 'white', 8)\n"
   ]
  },
  {
   "cell_type": "code",
   "execution_count": null,
   "metadata": {},
   "outputs": [],
   "source": [
    "# Code applicatif  ligne diagonale 2    \n",
    "background('black')\n",
    "\n",
    "for i in range(toile.height):\n",
    "    point(i, i, 'white', 8)\n",
    "\n"
   ]
  },
  {
   "cell_type": "code",
   "execution_count": null,
   "metadata": {},
   "outputs": [],
   "source": [
    "# Code applicatif ligne horizontale pointillée   \n",
    "background('black')\n",
    "\n",
    "for i in range(10, toile.width, 20):\n",
    "    point(i, toile.width/2, 'white', 8)\n",
    "\n"
   ]
  },
  {
   "cell_type": "code",
   "execution_count": null,
   "metadata": {},
   "outputs": [],
   "source": [
    "# Code applicatif ligne parabolique  \n",
    "\n",
    "\n",
    "\n",
    "\n"
   ]
  },
  {
   "cell_type": "code",
   "execution_count": null,
   "metadata": {},
   "outputs": [],
   "source": [
    "# Code applicatif ligne sinusoïdale  \n",
    "\n",
    "\n",
    "\n"
   ]
  },
  {
   "cell_type": "code",
   "execution_count": null,
   "metadata": {},
   "outputs": [],
   "source": [
    "# Code applicatif ligne horizontale tricolore    \n",
    "\n",
    "\n",
    "\n",
    "\n",
    "\n",
    "\n",
    "\n"
   ]
  },
  {
   "cell_type": "markdown",
   "metadata": {},
   "source": [
    "<h3 class='fa fa-rocket' style=\"color: tomato\"> A faire vous même n°15 :</h3>\n",
    "\n",
    "Programmer des scripts pour reproduire les drapeaux de la Finlande et de la Jamaïque..."
   ]
  },
  {
   "cell_type": "markdown",
   "metadata": {},
   "source": [
    "### Encore des boucles avec de l'aléatoire et un peu d'animation :\n",
    "\n",
    "<h3 class='fa fa-cogs' style=\"color: mediumseagreen\"> A faire vous même n°16 :</h3>\n",
    "\n",
    "- Coller dans la première cellule la définition de vos fonctions `background(couleur_fond)` et `point(x, y, couleur, taille)`;\n",
    "- Exécuter les deux cellules suivantes ;\n",
    "- Commenter le code pour décrire ce que produisent chacun des blocs d'instructions de la seconde cellule ;\n",
    "- Décommenter les instructions  `background('black')` et `sleep(0.2)`, réexécuter cette cellule, puis décrire ce qu'il se passe alors :\n",
    "...\n",
    "- Ajouter une condition pour que la fonction `background('black')` ne soit appelée qu'une fois tous les 15 tours de la boucle ;\n",
    "- Ajouter alors un choix aléatoire de la couleur `couleur_fond` **sans transparence** avant chaque rafraichissement de l'arrière plan ;\n",
    "- Amusez-vous à modifier d'autres paramètres et/ou ajouter d'autres fonctionnalités..."
   ]
  },
  {
   "cell_type": "code",
   "execution_count": 20,
   "metadata": {},
   "outputs": [
    {
     "data": {
      "application/vnd.jupyter.widget-view+json": {
       "model_id": "c594486f870e402583db7afb886699a7",
       "version_major": 2,
       "version_minor": 0
      },
      "text/plain": [
       "Canvas(height=200, width=200)"
      ]
     },
     "execution_count": 20,
     "metadata": {},
     "output_type": "execute_result"
    }
   ],
   "source": [
    "# Code de définition d'un nouveau canvas\n",
    "from ipycanvas import Canvas\n",
    "from math import pi, sin, cos\n",
    "from time import sleep\n",
    "\n",
    "# Toile support du dessin\n",
    "toile = Canvas(width = 200, height = 200)\n",
    "\n",
    "\n",
    "\n",
    "# Fonction background()\n",
    "def background(couleur_fond) :\n",
    "    # A compléter...\n",
    "    toile.fill_style = couleur_fond\n",
    "    toile.fill_rect(0, 0, toile.width, toile.height)\n",
    "    \n",
    "\n",
    "\n",
    "\n",
    "# Fonction point()\n",
    "def point(x, y, couleur, taille) :\n",
    "    # A compléter...\n",
    "    toile.fill_style = couleur\n",
    "    toile.fill_arc(x, y, taille, 0, 2*pi)\n",
    "\n",
    "    \n",
    "\n",
    "\n",
    "\n",
    "toile "
   ]
  },
  {
   "cell_type": "code",
   "execution_count": null,
   "metadata": {},
   "outputs": [],
   "source": [
    "# Code applicatif\n",
    "#\n",
    "toile.clear()\n",
    "\n",
    "#\n",
    "from random import choice, randint\n",
    "\n",
    "#\n",
    "for n in range(300) :\n",
    "    #\n",
    "    choix = \"0123456789ABCDEF\"\n",
    "    couleur = \"#\"\n",
    "    for k in range(8) :\n",
    "        couleur += choice(choix)\n",
    "    \n",
    "    #\n",
    "    x = randint(0, toile.width) #\n",
    "    y = randint(0, toile.width) #\n",
    "    taille = randint(10, 20) #\n",
    "    \n",
    "    # \n",
    "    # background('black')\n",
    "    \n",
    "    #\n",
    "    point(x, y, couleur, taille)\n",
    "    \n",
    "    # \n",
    "    # sleep(0.2)"
   ]
  },
  {
   "cell_type": "markdown",
   "metadata": {},
   "source": [
    "<h3 class='fa fa-code' style=\"color: darkorange\"> A faire vous même n°17 :</h3>\n",
    "\n",
    "- Avec votre fonction `background()` et en utilisant votre fonction `point()` et des tests conditionnels dans des boucles imbriquées, écrire un script pour reproduire une animation similaire à la vidéo ci-dessous :\n",
    "\n",
    "<center><video width=\"400\" controls src=\"https://ericecmorlaix.github.io/img/AnimationDrapeauFrancais.MP4\"></center>"
   ]
  },
  {
   "cell_type": "code",
   "execution_count": null,
   "metadata": {},
   "outputs": [],
   "source": [
    "# Code de définition d'un nouveau canvas\n",
    "from ipycanvas import Canvas\n",
    "from math import pi, sin, cos\n",
    "from time import sleep\n",
    "\n",
    "# Toile support du dessin\n",
    "toile = Canvas(width = 300, height = 200)\n",
    "\n",
    "# Fonction background\n",
    "def background(couleur_fond) :\n",
    "    # A compléter...\n",
    "    \n",
    "# Fonction point\n",
    "def point(x, y, couleur, taille) :\n",
    "    # A compléter...\n",
    "    \n",
    "toile "
   ]
  },
  {
   "cell_type": "code",
   "execution_count": null,
   "metadata": {},
   "outputs": [],
   "source": [
    "# Code applicatif \n",
    "\n",
    "\n",
    "\n",
    "\n",
    "\n",
    "\n",
    "\n",
    "\n",
    "\n",
    "\n"
   ]
  },
  {
   "cell_type": "markdown",
   "metadata": {},
   "source": [
    "### Encore d'autres fonctions personnalisées à partager :\n",
    "\n",
    "<h3 class='fa fa-code' style=\"color: tomato\"> A faire vous même n°18 :</h3>\n",
    "\n",
    "- Dans la cellule suivante, ajouter votre fonction `background()`, et définir une fonction `point_carre(x, y, couleur, taille)` qui dessine un carré plein, de couleur `couleur`, de coté `taille`, et dont le centre a pour coordonnés `x` et `y`, et l'utiliser à la place de la fonction `point()` dans l'un ou l'autre des codes des activités précédentes...\n",
    "\n",
    "> **/!\\ Attention** : Les coordonnées de la méthode `fill_rect(x, y, width, height=None)` sont définies dans le coin suppérieur gauche du rectangle or ici nous souhaitons que les coordonnées de la fonction  `point_carre(x, y, couleur, taille)` soient définies au centre de la figure. \n",
    "\n",
    "- Les fonctions `point()` et `point_carre()` sont-elles transposables ?\n",
    "\n",
    "...\n",
    "\n",
    "\n",
    "\n",
    "> Ne pas confondre point carré et [Poincaré](https://fr.wikipedia.org/wiki/Henri_Poincar%C3%A9)... ;)"
   ]
  },
  {
   "cell_type": "code",
   "execution_count": null,
   "metadata": {},
   "outputs": [],
   "source": [
    "# Code de définition d'un nouveau canvas\n",
    "from ipycanvas import Canvas\n",
    "from math import pi, sin, cos\n",
    "from time import sleep\n",
    "\n",
    "# Toile support du dessin\n",
    "toile = Canvas(width = 200, height = 200)\n",
    "  \n",
    "# Fonction background()\n",
    "def background(couleur_fond) :\n",
    "    # A compléter\n",
    "    \n",
    "# Fonction point()\n",
    "def point(x, y, couleur, taille) :\n",
    "    # A compléter...\n",
    "\n",
    "# Fonction point_carre()\n",
    "def point_carre(x, y, couleur, taille) :\n",
    "    # A définir\n",
    "\n",
    "toile "
   ]
  },
  {
   "cell_type": "code",
   "execution_count": null,
   "metadata": {},
   "outputs": [],
   "source": [
    "# Ajouter votre code applicatif à tester ci-dessous\n",
    "\n",
    "#\n",
    "toile.clear()\n",
    "\n",
    "# ...\n"
   ]
  },
  {
   "cell_type": "markdown",
   "metadata": {},
   "source": [
    "<h3 class='fa fa-code' style=\"color: tomato\"> A faire vous même n°19 :</h3>\n",
    "\n",
    "- Ajouter la définition de votre fonctions `point_carre()` dans la cellule suivante de code de définition d'un nouveau canvas.\n",
    "\n",
    "- Définir une fonction `cercle(x, y, couleur, taille, epaisseur)` qui dessine le contour d'un cercle de couleur `couleur`, d'épaisseur de trait `epaisseur`, de rayon `taille`, et dont le centre a pour coordonnés `x` et `y` ; \n",
    "\n",
    "- Définir une fonction `carre(x, y, couleur, taille, epaisseur)` qui dessine le contour d'un carré de couleur `couleur`, d'épaisseur de trait `epaisseur`, de coté `taille`, et dont le centre a pour coordonnés `x` et `y` ;\n",
    "\n",
    "- Enregistrer tout le code de cette première cellule dans un nouveau fichier nommé `mon_module_toile.py` à placer dans le même dossier répertoire que ce notebook.\n",
    "\n",
    "- Exécuter le code de la seconde cellule suivante afin d'importer toutes les fonctions du fichier `mon_module_toile.py` dans l'environnement Python de ce notebook.\n",
    "\n",
    "- Tester vos fonctions avec le code applicatif proposé dans la troisième cellule suivante que vous commenterez...\n",
    "\n",
    "- Echanger votre fichier `mon_module_toile.py` avec celui de votre binôme, vos programmes sont-ils transposables ?\n",
    "\n",
    "...\n",
    "\n",
    "- Soyez créatif, personnaliser votre travai en y ajoutant de nouvelles fonctionnalités..."
   ]
  },
  {
   "cell_type": "code",
   "execution_count": null,
   "metadata": {},
   "outputs": [],
   "source": [
    "# Code de définition d'un nouveau canvas à enregistrer dans un fichier nommé mon_module_toile.py\n",
    "from ipycanvas import Canvas\n",
    "from math import pi, sin, cos\n",
    "\n",
    "\n",
    "# Création d'une toile support pour le  dessin\n",
    "toile = Canvas(width = int(input('Largeur en pixels ?')), height = int(input('Hauteur en pixels ?')))  \n",
    "    \n",
    "# Fonction point()\n",
    "def point(x, y, couleur, taille) :\n",
    "    # A compléter...\n",
    "\n",
    "# Fonction point_carre()\n",
    "def point_carre(x, y, couleur, taille) :\n",
    "    # A définir\n",
    "    \n",
    "# Fonction cercle()\n",
    "def cercle(x, y, couleur, taille, epaisseur) :\n",
    "    # A définir\n",
    "    \n",
    "# Fonction carre()\n",
    "def carre(x, y, couleur, taille, epaisseur) :\n",
    "    # A définir"
   ]
  },
  {
   "cell_type": "code",
   "execution_count": null,
   "metadata": {},
   "outputs": [],
   "source": [
    "from mon_module_toile import *\n",
    "toile"
   ]
  },
  {
   "cell_type": "code",
   "execution_count": null,
   "metadata": {},
   "outputs": [],
   "source": [
    "# code applicatif pour tester toutes les nouvelles fonctions du fichier mon_module_toile.py\n",
    "\n",
    "#\n",
    "toile.clear()\n",
    "\n",
    "#\n",
    "from random import choice, randint\n",
    "from time import sleep\n",
    "\n",
    "#\n",
    "for n in range(300) :\n",
    "    #\n",
    "    choix = \"0123456789ABCDEF\"\n",
    "    couleur = \"#\"\n",
    "    for k in range(8) :\n",
    "        couleur += choice(choix)\n",
    "    \n",
    "    #\n",
    "    x = randint(0, toile.width) #\n",
    "    y = randint(0, toile.height) #\n",
    "    taille = randint(10, 20) #\n",
    "    epaisseur = randint(1, 10) #\n",
    "    \n",
    "    # \n",
    "    if n % 4 == 0 :\n",
    "        point(x, y, couleur, taille)\n",
    "    elif n % 4 == 1 :\n",
    "        carre(x, y, couleur, taille, epaisseur)\n",
    "    elif n % 4 == 2 :\n",
    "        cercle(x, y, couleur, taille, epaisseur)\n",
    "    else :\n",
    "        point_carre(x, y, couleur, taille)\n",
    "    \n",
    "    # \n",
    "    sleep(0.2)"
   ]
  },
  {
   "cell_type": "markdown",
   "metadata": {},
   "source": [
    "> **_Whaou, trop beau !_**\n",
    ">\n",
    "> Le résultat vous satisfait ?\n",
    ">\n",
    "> Si oui, faire un simple clic droit sur le canvas pour en télécharger un fichier image au format PNG.\n",
    ">\n",
    "> **_Cool, trop fort !_**"
   ]
  },
  {
   "cell_type": "markdown",
   "metadata": {},
   "source": [
    "### En route vers la modularité :\n",
    "\n",
    "Maintenant que vous avez écrit votre premier micro-module, un programme python qui regroupe toutes vos fonctions personnalisées destinées à un domaine d'application spécifique, pour permettre son partage et son réemploi futur par vous même ou tout autre utilisateur il va s'avérer utile de documenter votre code et en particulier de bien spécifier vos fonctions personalisées.\n",
    "\n",
    "Par exemple regardons comment [Martin RENOU](https://github.com/martinRenou) a documenté le code du module `ipycanvas` en exécutant la cellule de code suivante :"
   ]
  },
  {
   "cell_type": "code",
   "execution_count": null,
   "metadata": {},
   "outputs": [],
   "source": [
    "# Importation du module ipycanvas de Martin RENOU\n",
    "from ipycanvas import Canvas\n",
    "\n",
    "# Création d'un nouveau canvas pour l'exemple\n",
    "bar = Canvas(width = 100, height = 100)\n",
    "\n",
    "# Appel à l'aide...\n",
    "help(bar.scale)"
   ]
  },
  {
   "cell_type": "markdown",
   "metadata": {},
   "source": [
    "Vous saurez dorénavant qu'il existe une méthode `scale()` que vous pourrez bien appliquer à vos canvas en suivant son mode d'emploi indiqué dans cette documentation.\n",
    "\n",
    "Observez aussi que, bien que Français, Martin a choisi l'Anglais pour documenter le code de son module...\n",
    "\n",
    "Nous y reviendrons plus tard et de façon plus précise à l'occasion d'un notebook spécifique sur les fonctions et leur spécification.... Mais pour l'instant et à minima, il s'agit d'écrire une docstring, c'est à dire une chaine de caractères multignes inscrite entre deux triplets d'apostrophes `'` (ou de guillements) `\"`  en entête de toutes vos fonctions tel que (tester les cellules de codes suivantes) :"
   ]
  },
  {
   "cell_type": "code",
   "execution_count": null,
   "metadata": {},
   "outputs": [],
   "source": [
    "# Une fonction documentée mais qui ne fait rien, en fait, elle passe son tour...\n",
    "\n",
    "def foo() :\n",
    "\n",
    "    '''\n",
    "    Ceci est une chaine de caractères multilignes\n",
    "\n",
    "    Elle sert à documenter ma fonction pour des usages futures\n",
    "\n",
    "    Je peux y mettre tout ce que je veux... Même de l'art ASCCI... Mais en responsabilité... \n",
    "\n",
    "    C'est ce texte qui s'affichera lors d'un appel à l'aide concernant ma fonction !\n",
    "\n",
    "    '''\n",
    "    pass"
   ]
  },
  {
   "cell_type": "code",
   "execution_count": null,
   "metadata": {},
   "outputs": [],
   "source": [
    "foo()"
   ]
  },
  {
   "cell_type": "code",
   "execution_count": null,
   "metadata": {},
   "outputs": [],
   "source": [
    "help(foo)"
   ]
  },
  {
   "cell_type": "code",
   "execution_count": null,
   "metadata": {},
   "outputs": [],
   "source": [
    "? foo"
   ]
  },
  {
   "cell_type": "markdown",
   "metadata": {},
   "source": [
    "> [Pourquoi les noms `foo` et `bar` ?](https://whatis.techtarget.com/fr/definition/foo-en-programmation-informatique)\n",
    ">\n",
    "> Voir aussi d'autres [variables métasyntaxiques](https://fr.wikipedia.org/wiki/Variable_m%C3%A9tasyntaxique#:~:text=bar%2C%20suite%20de%20foo%20%3A%20foobar,fum%20%C3%A9galement%2C%20mais%20plus%20rare.)...\n",
    "\n",
    "<h3 class='fa fa-code' style=\"color: green\"> A faire vous même n°20 :</h3>\n",
    "\n",
    "- Prenez le temps de bien documenter vos fonctions..."
   ]
  },
  {
   "cell_type": "markdown",
   "metadata": {},
   "source": [
    "## Des chemins tout tracés :\n",
    "\n",
    "Un chemin est une liste de points, reliés par des segments de lignes qui peuvent être de différentes formes, courbes ou non, de largeur et de couleur différentes. Un chemin peut resté ouvert ou être fermé.\n",
    "\n",
    "\n",
    "Voici les étapes à programmer pour dessiner avec des chemins :\n",
    "\n",
    "- Tout d'abord, créer le chemin avec `begin_path()` ;\n",
    "\n",
    "- Ensuite, ajouter successivement toutes les commandes de dessin nécessaires pour définir le tracé à inclure dans le chemin telles que par exemple :\n",
    "    - `move_to(x, y)` : Déplace le crayon vers les coordonnées spécifiées par `x` et `y` ;\n",
    "    - `line_to(x, y)` : Ajoute une ligne droite au chemin actuel en connectant le dernier point du chemin aux coordonnées `(x, y)` spécifiées ;\n",
    "    - `arc(x, y, radius, start_angle, end_angle, anticlockwise=False)` : Crée un arc de cercle centré en `(x, y)` avec un rayon  `radius`. Le chemin commence à `start_angle` et se termine `end_angle` en radians, et se déplace dans la direction donnée par `anticlockwise` qui par défaut est `False` donc dans le sens des aiguilles d'une montre ;\n",
    "    - `rect(x, y, width, height)` : Dessine un rectangle dont le coin supérieur gauche est spécifié par `(x, y)` de largeur `width` et de hauteur `height`;\n",
    "    - d'autres méthodes sont possibles : https://ipycanvas.readthedocs.io/en/latest/drawing_shapes.html#draw-commands\n",
    "    - l'instruction `close_path()` ajoute une ligne droite au chemin, allant au début du chemin actuel ;\n",
    "\n",
    "- Lorsque le chemin est défini, on peut faire dessiner le contour du tracé avec l'instruction `stroke()` et/ou peindre une forme pleine en remplissant la zone contenue dans le tracé avec l'instruction `fill(rule)`."
   ]
  },
  {
   "cell_type": "markdown",
   "metadata": {},
   "source": [
    "<h3 class='fa fa-cogs' style=\"color: mediumseagreen\"> A faire vous même n°21 :</h3>\n",
    "\n",
    "- Exécuter le code de la cellule suivante à plusieurs reprises tout en décommentant progressivement les instructions rendues inactives dans le script ;\n",
    "\n",
    "- Lorsque l'ensemble des instructions sont actives (décommentées) proposer un nom pour intituler le dessin produit : ... ;\n",
    "\n",
    "- Ajouter des commentaires pour définir ce que réalise chaque bloc d'instructions ;\n",
    "\n",
    "- Enfin, lorsque l'ensemble des instructions sont actives (décommentées) remplacer la valeur `False` de `anticlockwise` par un `True`, quel titre donner maintenant à ce dessin : ... ;\n",
    "\n",
    "- En maintenant la valeur de `anticlockwise` sur `True`, désactiver (commenter) à nouveau progressivement les instructions pour retrouver l'état initial du code mais pas celui du dessin..."
   ]
  },
  {
   "cell_type": "code",
   "execution_count": null,
   "metadata": {},
   "outputs": [],
   "source": [
    "from ipycanvas import Canvas\n",
    "from math import pi, sin, cos\n",
    "\n",
    "#\n",
    "canvas = Canvas(width=300, height=300)\n",
    "\n",
    "#\n",
    "# canvas.fill_style = 'green'\n",
    "# canvas.fill_rect(0, 0, canvas.width, canvas.height)\n",
    "\n",
    "#\n",
    "canvas.begin_path()\n",
    "\n",
    "#\n",
    "# canvas.move_to(canvas.width/2, canvas.height/2)\n",
    "canvas.arc(canvas.width/2, canvas.height/2, 100, -pi/6, pi/6, False)\n",
    "# canvas.close_path()\n",
    "\n",
    "#\n",
    "# canvas.fill_style = 'orange'\n",
    "# canvas.fill()\n",
    "\n",
    "#\n",
    "# canvas.line_width = 4\n",
    "# canvas.stroke_style = 'purple'\n",
    "canvas.stroke()\n",
    "\n",
    "#\n",
    "canvas"
   ]
  },
  {
   "cell_type": "markdown",
   "metadata": {},
   "source": [
    "<h3 class='fa fa-code' style=\"color: darkorange\"> A faire vous même n°22 :</h3>\n",
    "\n",
    "- En employant les méthodes de tracés de chemins, représenter les anneaux olympiques tels que :\n",
    "\n",
    "<img src=\"https://upload.wikimedia.org/wikipedia/commons/thumb/a/a7/Olympic_flag.svg/1200px-Olympic_flag.svg.png\" width=\"60%\">\n",
    "\n",
    "\n",
    "<h3 class='fa fa-rocket' style=\"color: tomato\"> A faire vous même n°23 :</h3>\n",
    "\n",
    "- Soyez créatif pour imaginer un code qui dessine votre Avatar graphique pour GitHub et/ou Office365..."
   ]
  },
  {
   "cell_type": "markdown",
   "metadata": {},
   "source": [
    "****\n",
    "## Références aux programmes :\n",
    "\n",
    "#### Langages et programmation\n",
    "\n",
    "|Contenus|Capacités attendues|Commentaires|\n",
    "|--------|-------------------|------------|\n",
    "|Constructions élémentaires.|Mettre en évidence un corpus de constructions élémentaires.|Séquences, affectation, conditionnelles, boucles bornées, boucles non bornées, appels de fonction.|\n",
    "|Diversité et unité des langages de programmation.|Repérer, dans un nouveau langage de programmation, les traits communs et les traits particuliers à ce langage.|Les manières dont un même programme simple s’écrit dans différents langages sont comparées.|\n",
    "|Spécification.|Prototyper une fonction.<br/>Décrire les préconditions sur les arguments.<br/>Décrire des postconditions sur les résultats.|Des assertions peuvent être utilisées pour garantir des préconditions ou des postconditions.|\n",
    "|Utilisation de bibliothèques.|Utiliser la documentation d’une bibliothèque.|Aucune connaissance exhaustive d’une bibliothèque particulière n’est exigible.|\n",
    "\n",
    "\n"
   ]
  },
  {
   "cell_type": "markdown",
   "metadata": {},
   "source": [
    "## Ressources :\n",
    "\n",
    "- https://blog.jupyter.org/ipycanvas-a-python-canvas-for-jupyter-bbb51e4777f7\n",
    "- https://github.com/martinRenou/ipycanvas/\n",
    "- https://ipycanvas.readthedocs.io/en/latest/?badge=latest"
   ]
  },
  {
   "cell_type": "markdown",
   "metadata": {},
   "source": [
    "***  \n",
    "\n",
    "> **Félicitations !** Vous êtes parvenu au bout des activités de ce bloc note.\n",
    ">\n",
    "> Vous êtes maintenant capable de coder des scripts basés sur le module `ipycanvas` pour produire de superbes dessins dans l'environnement interactif jupyter notebook.\n",
    ">\n",
    "> Aussi vous en savez suffisamment pour développer des mini-projets tels que [Dessiner_ma_rue.ipynb](maRue.ipynb), ou bientôt [Let_it_snow.ipynb](Let_it_snow.ipynb) ou encore [Coder_ma_carte_de_voeux.ipynb](Coder_ma_carte_de_voeux.ipynb)...\n",
    "\n",
    "\n",
    "> Pour explorer plus avant d'autres fonctionnalités de jupyter notebook repassez par le [Sommaire](index.ipynb).\n",
    "\n",
    "***"
   ]
  },
  {
   "cell_type": "markdown",
   "metadata": {},
   "source": [
    "<a rel=\"license\" href=\"http://creativecommons.org/licenses/by-sa/4.0/\"><img alt=\"Licence Creative Commons\" style=\"border-width:0\" src=\"https://i.creativecommons.org/l/by-sa/4.0/88x31.png\" /></a><br />Ce document original s'appuie sur le développement du module `ipycanvas` par [Martin RENOU](https://github.com/martinRenou) ingénieur logiciel scientifique chez [QuantStack](https://quantstack.net/index.html) et est mis à disposition selon les termes de la <a rel=\"license\" href=\"http://creativecommons.org/licenses/by-sa/4.0/\">Licence Creative Commons Attribution -  Partage dans les Mêmes Conditions 4.0 International</a>.\n",
    "\n",
    "Pour toute question, suggestion ou commentaire : <a href=\"mailto:eric.madec@ecmorlaix.fr\">eric.madec@ecmorlaix.fr</a>"
   ]
  },
  {
   "cell_type": "code",
   "execution_count": null,
   "metadata": {},
   "outputs": [],
   "source": []
  }
 ],
 "metadata": {
  "kernelspec": {
   "display_name": "Python 3",
   "language": "python",
   "name": "python3"
  },
  "language_info": {
   "codemirror_mode": {
    "name": "ipython",
    "version": 3
   },
   "file_extension": ".py",
   "mimetype": "text/x-python",
   "name": "python",
   "nbconvert_exporter": "python",
   "pygments_lexer": "ipython3",
   "version": "3.8.13 (default, Oct  4 2022, 14:00:32) \n[GCC 9.4.0]"
  },
  "toc": {
   "base_numbering": 1,
   "nav_menu": {},
   "number_sections": true,
   "sideBar": true,
   "skip_h1_title": false,
   "title_cell": "Table of Contents",
   "title_sidebar": "Contents",
   "toc_cell": false,
   "toc_position": {},
   "toc_section_display": true,
   "toc_window_display": false
  },
  "varInspector": {
   "cols": {
    "lenName": 16,
    "lenType": 16,
    "lenVar": 40
   },
   "kernels_config": {
    "python": {
     "delete_cmd_postfix": "",
     "delete_cmd_prefix": "del ",
     "library": "var_list.py",
     "varRefreshCmd": "print(var_dic_list())"
    },
    "r": {
     "delete_cmd_postfix": ") ",
     "delete_cmd_prefix": "rm(",
     "library": "var_list.r",
     "varRefreshCmd": "cat(var_dic_list()) "
    }
   },
   "types_to_exclude": [
    "module",
    "function",
    "builtin_function_or_method",
    "instance",
    "_Feature"
   ],
   "window_display": false
  },
  "vscode": {
   "interpreter": {
    "hash": "110cc1dee26208153f2972f08a2ad52b6a56238dc66d48e87fb757ef2996db56"
   }
  }
 },
 "nbformat": 4,
 "nbformat_minor": 4
}
