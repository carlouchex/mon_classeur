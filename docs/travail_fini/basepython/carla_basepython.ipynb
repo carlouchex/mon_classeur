{
 "cells": [
  {
   "cell_type": "code",
   "execution_count": 4,
   "metadata": {},
   "outputs": [
    {
     "data": {
      "text/plain": [
       "'hello world'"
      ]
     },
     "execution_count": 4,
     "metadata": {},
     "output_type": "execute_result"
    }
   ],
   "source": [
    "'heelo ' + 'world'\n",
    "'hhelo' + ' world'\n",
    "'hello' + ' ' + 'world'"
   ]
  },
  {
   "cell_type": "markdown",
   "metadata": {},
   "source": [
    "ajout d'un espace"
   ]
  },
  {
   "cell_type": "code",
   "execution_count": 6,
   "metadata": {},
   "outputs": [
    {
     "data": {
      "text/plain": [
       "'Hello'"
      ]
     },
     "execution_count": 6,
     "metadata": {},
     "output_type": "execute_result"
    }
   ],
   "source": [
    "mot = 'Hello'\n",
    "mot"
   ]
  },
  {
   "cell_type": "markdown",
   "metadata": {},
   "source": [
    "une variable"
   ]
  },
  {
   "cell_type": "code",
   "execution_count": 8,
   "metadata": {},
   "outputs": [
    {
     "name": "stdout",
     "output_type": "stream",
     "text": [
      "Goodbye\n"
     ]
    }
   ],
   "source": [
    "mot = 'Goodbye'\n",
    "print(mot)"
   ]
  },
  {
   "cell_type": "markdown",
   "metadata": {},
   "source": [
    "le mot print pour afficher"
   ]
  },
  {
   "cell_type": "code",
   "execution_count": 1,
   "metadata": {},
   "outputs": [
    {
     "name": "stdout",
     "output_type": "stream",
     "text": [
      "W\n",
      "o\n",
      "r\n",
      "l\n",
      "d\n"
     ]
    }
   ],
   "source": [
    "nom = 'World'\n",
    "for caractere in nom: print(caractere)"
   ]
  },
  {
   "cell_type": "markdown",
   "metadata": {},
   "source": [
    "caractere = lettre du mot"
   ]
  },
  {
   "cell_type": "code",
   "execution_count": 1,
   "metadata": {},
   "outputs": [
    {
     "name": "stdout",
     "output_type": "stream",
     "text": [
      "World\n",
      "World\n",
      "World\n",
      "World\n",
      "World\n"
     ]
    }
   ],
   "source": [
    "nom = 'World'\n",
    "for _ in nom:\n",
    "    print(nom)"
   ]
  },
  {
   "cell_type": "code",
   "execution_count": 1,
   "metadata": {},
   "outputs": [
    {
     "name": "stdout",
     "output_type": "stream",
     "text": [
      "+World+\n",
      "W     W\n",
      "o     o\n",
      "r     r\n",
      "l     l\n",
      "d     d\n",
      "+World+\n"
     ]
    }
   ],
   "source": [
    "nom = 'World'\n",
    "ligne = '+' + nom + '+'\n",
    "espace = ''\n",
    "for _ in nom:\n",
    "    espace += ' '\n",
    "\n",
    "print(ligne)\n",
    "for caractere in nom:\n",
    "    print(caractere + espace + caractere)\n",
    "print(ligne)\n"
   ]
  },
  {
   "cell_type": "code",
   "execution_count": 2,
   "metadata": {},
   "outputs": [
    {
     "name": "stdout",
     "output_type": "stream",
     "text": [
      "W\n",
      " o\n",
      "  r\n",
      "   l\n",
      "    d\n"
     ]
    }
   ],
   "source": [
    "nom = 'World'\n",
    "espace = ''\n",
    "\n",
    "for caractere in nom:\n",
    "    print(espace + caractere)\n",
    "    espace += ' '"
   ]
  },
  {
   "cell_type": "code",
   "execution_count": 3,
   "metadata": {},
   "outputs": [
    {
     "name": "stdout",
     "output_type": "stream",
     "text": [
      "Hello World?\n"
     ]
    }
   ],
   "source": [
    "phrase = 'Hello World'\n",
    "ravi = False\n",
    "confus = True\n",
    "if ravi:\n",
    "    phrase += '!'\n",
    "if confus:\n",
    "    phrase += '?'\n",
    "\n",
    "print(phrase)"
   ]
  },
  {
   "cell_type": "code",
   "execution_count": 4,
   "metadata": {},
   "outputs": [
    {
     "name": "stdout",
     "output_type": "stream",
     "text": [
      "H!e!l!l!o! !W!o!r!l!d!\n"
     ]
    }
   ],
   "source": [
    "phrase = 'Hello World'\n",
    "ravi = True\n",
    "\n",
    "\n",
    "if ravi:\n",
    "    nouvelle_phrase = ''\n",
    "    for caractere in phrase:\n",
    "        nouvelle_phrase += caractere + '!'\n",
    "    phrase = nouvelle_phrase\n",
    "\n",
    "print(phrase)"
   ]
  },
  {
   "cell_type": "code",
   "execution_count": 5,
   "metadata": {},
   "outputs": [
    {
     "name": "stdout",
     "output_type": "stream",
     "text": [
      "H!e!l!l!o! !W!o!r!l!d!\n"
     ]
    }
   ],
   "source": [
    "phrase = 'Hello World'\n",
    "ravi = True\n",
    "\n",
    "nouvelle_phrase = ''\n",
    "for caractere in phrase:\n",
    "    nouvelle_phrase += caractere\n",
    "    if ravi:\n",
    "        nouvelle_phrase += '!'\n",
    "\n",
    "phrase = nouvelle_phrase\n",
    "print(phrase)"
   ]
  },
  {
   "cell_type": "code",
   "execution_count": 6,
   "metadata": {},
   "outputs": [
    {
     "name": "stdout",
     "output_type": "stream",
     "text": [
      "H\n"
     ]
    }
   ],
   "source": [
    "phrase = 'Hello World'\n",
    "\n",
    "inclus = True\n",
    "nouvelle_phrase = ''\n",
    "for caractere in phrase:\n",
    "    if inclus:\n",
    "        nouvelle_phrase += caractere\n",
    "    inclus = False\n",
    "\n",
    "print(nouvelle_phrase)"
   ]
  },
  {
   "cell_type": "code",
   "execution_count": 7,
   "metadata": {},
   "outputs": [
    {
     "name": "stdout",
     "output_type": "stream",
     "text": [
      "ello World\n"
     ]
    }
   ],
   "source": [
    "phrase = 'Hello World'\n",
    "\n",
    "inclus = False\n",
    "nouvelle_phrase = ''\n",
    "for caractere in phrase:\n",
    "    if inclus:\n",
    "        nouvelle_phrase += caractere\n",
    "    inclus = True\n",
    "\n",
    "print(nouvelle_phrase)"
   ]
  },
  {
   "cell_type": "code",
   "execution_count": 8,
   "metadata": {},
   "outputs": [
    {
     "name": "stdout",
     "output_type": "stream",
     "text": [
      "Non\n"
     ]
    }
   ],
   "source": [
    "condition = False\n",
    "if condition:\n",
    "    print('Oui')\n",
    "else:\n",
    "    print('Non')"
   ]
  },
  {
   "cell_type": "markdown",
   "metadata": {},
   "source": [
    "la condition if=si et else=sinon"
   ]
  },
  {
   "cell_type": "code",
   "execution_count": 9,
   "metadata": {},
   "outputs": [
    {
     "name": "stdout",
     "output_type": "stream",
     "text": [
      "Oui\n"
     ]
    }
   ],
   "source": [
    "condition = True\n",
    "if condition:\n",
    "    print('Oui')\n",
    "else:\n",
    "    print('Non')"
   ]
  },
  {
   "cell_type": "code",
   "execution_count": 10,
   "metadata": {},
   "outputs": [
    {
     "name": "stdout",
     "output_type": "stream",
     "text": [
      "HELLO WORLD\n"
     ]
    }
   ],
   "source": [
    "phrase = 'Hello World'\n",
    "ravi = True\n",
    "if ravi:\n",
    "    phrase = phrase.upper()\n",
    "else:\n",
    "    phrase = phrase.lower()\n",
    "print(phrase)"
   ]
  },
  {
   "cell_type": "markdown",
   "metadata": {},
   "source": [
    ".upper= majuscule"
   ]
  },
  {
   "cell_type": "code",
   "execution_count": 11,
   "metadata": {},
   "outputs": [
    {
     "name": "stdout",
     "output_type": "stream",
     "text": [
      "hello world\n"
     ]
    }
   ],
   "source": [
    "phrase = 'Hello World'\n",
    "ravi = False\n",
    "if ravi:\n",
    "    phrase = phrase.upper()\n",
    "else:\n",
    "    phrase = phrase.lower()\n",
    "print(phrase)"
   ]
  },
  {
   "cell_type": "markdown",
   "metadata": {},
   "source": [
    ".lower=minuscule"
   ]
  },
  {
   "cell_type": "code",
   "execution_count": 1,
   "metadata": {},
   "outputs": [
    {
     "name": "stdout",
     "output_type": "stream",
     "text": [
      "Hello world\n"
     ]
    }
   ],
   "source": [
    "phrase = 'Hello world'\n",
    "majuscule = True\n",
    "nouvelle_phrase = ''\n",
    "for caractere in phrase:\n",
    "    if majuscule:\n",
    "        caractere = caractere.upper()\n",
    "    else:\n",
    "        caractere = caractere.lower()\n",
    "    nouvelle_phrase += caractere\n",
    "    majuscule = False\n",
    "\n",
    "print(nouvelle_phrase)"
   ]
  },
  {
   "cell_type": "code",
   "execution_count": 2,
   "metadata": {},
   "outputs": [
    {
     "name": "stdout",
     "output_type": "stream",
     "text": [
      "Un dErNiEr eXeRcIcE Et vOuS PoUrEz vOuS RePoSeR\n"
     ]
    }
   ],
   "source": [
    "phrase = 'un dernier exercice et vous pourez vous reposer'\n",
    "majuscule = True\n",
    "nouvelle_phrase = ''\n",
    "for caractere in phrase:\n",
    "    if majuscule:\n",
    "        caractere = caractere.upper()\n",
    "        majuscule = False\n",
    "    else:\n",
    "        caractere = caractere.lower()\n",
    "        majuscule = True\n",
    "    nouvelle_phrase += caractere\n",
    "\n",
    "print(nouvelle_phrase)"
   ]
  },
  {
   "cell_type": "code",
   "execution_count": 3,
   "metadata": {},
   "outputs": [
    {
     "name": "stdout",
     "output_type": "stream",
     "text": [
      "M3li$$@\n"
     ]
    }
   ],
   "source": [
    "nom = 'Melissa'\n",
    "nouveau_nom = ''\n",
    "for c in nom:\n",
    "    if c == 's':\n",
    "        c = '$'\n",
    "    if c == 'e':\n",
    "        c = '3'\n",
    "    if c == 'a':\n",
    "        c = '@'\n",
    "    nouveau_nom += c\n",
    "\n",
    "print(nouveau_nom)"
   ]
  },
  {
   "cell_type": "markdown",
   "metadata": {},
   "source": [
    "utilisation du =="
   ]
  },
  {
   "cell_type": "code",
   "execution_count": 4,
   "metadata": {},
   "outputs": [
    {
     "name": "stdout",
     "output_type": "stream",
     "text": [
      "TCATCGCAG\n"
     ]
    }
   ],
   "source": [
    "adn = 'AGTAGCGTC'\n",
    "adn_inverse = ''\n",
    "for caractere in adn:\n",
    "    if caractere == 'A':\n",
    "        caractere = 'T'\n",
    "    else: \n",
    "        if caractere == 'T':\n",
    "         caractere = 'A'\n",
    "    if caractere == 'G':\n",
    "        caractere = 'C'\n",
    "    else:\n",
    "        if caractere == 'C':\n",
    "         caractere = 'G'\n",
    "    adn_inverse += caractere\n",
    "\n",
    "print(adn_inverse)"
   ]
  },
  {
   "cell_type": "code",
   "execution_count": 5,
   "metadata": {},
   "outputs": [
    {
     "name": "stdout",
     "output_type": "stream",
     "text": [
      "TCATCGCAG\n"
     ]
    }
   ],
   "source": [
    "adn = 'AGTAGCGTC'\n",
    "adn_inverse = ''\n",
    "for caractere in adn:\n",
    "    if caractere == 'A':\n",
    "        caractere = 'T'\n",
    "    elif caractere == 'T':\n",
    "         caractere = 'A'\n",
    "    elif caractere == 'G':\n",
    "        caractere = 'C'\n",
    "    elif  caractere == 'C':\n",
    "         caractere = 'G'\n",
    "    adn_inverse += caractere\n",
    "\n",
    "print(adn_inverse)"
   ]
  },
  {
   "cell_type": "markdown",
   "metadata": {},
   "source": [
    "utilisation du mot elif= sinon si"
   ]
  },
  {
   "cell_type": "code",
   "execution_count": 6,
   "metadata": {},
   "outputs": [
    {
     "name": "stdout",
     "output_type": "stream",
     "text": [
      "La touch  d mon clavir st cassé\n"
     ]
    }
   ],
   "source": [
    "phrase = 'La touche e de mon clavier est cassée'\n",
    "nouvelle_phrase = ''\n",
    "for c in phrase:\n",
    "    if c != 'e':\n",
    "        nouvelle_phrase += c\n",
    "print(nouvelle_phrase)"
   ]
  },
  {
   "cell_type": "markdown",
   "metadata": {},
   "source": [
    "Le contraire de l'opérateur « est égal à » == est l'opérateur « est différent de » !="
   ]
  },
  {
   "cell_type": "code",
   "execution_count": 7,
   "metadata": {},
   "outputs": [
    {
     "name": "stdout",
     "output_type": "stream",
     "text": [
      "B\n"
     ]
    }
   ],
   "source": [
    "pourcentage = 73\n",
    "\n",
    "if pourcentage < 40:\n",
    "    note = 'F'\n",
    "elif pourcentage < 60:\n",
    "    note = 'C'\n",
    "elif pourcentage < 80:\n",
    "    note = 'B'\n",
    "else:\n",
    "    note = 'A'\n",
    "\n",
    "print(note)"
   ]
  },
  {
   "cell_type": "markdown",
   "metadata": {},
   "source": [
    "< (inférieur) et > (supérieur) sont deux autres opérateurs classiques. a < b signifie que « a est strictement inférieur à b"
   ]
  },
  {
   "cell_type": "code",
   "execution_count": 2,
   "metadata": {},
   "outputs": [
    {
     "name": "stdout",
     "output_type": "stream",
     "text": [
      "10\n"
     ]
    }
   ],
   "source": [
    "x_1 = 30\n",
    "x_2 = 10\n",
    "x_3 = 20\n",
    "if x_1 < x_2:\n",
    "    if x_1 < x_3:\n",
    "        premier = x_1\n",
    "    else:\n",
    "        premier = x_3\n",
    "else:\n",
    "    if x_2 < x_3:\n",
    "        premier = x_2\n",
    "    else:\n",
    "        premier = x_3\n",
    "print(premier)"
   ]
  },
  {
   "cell_type": "markdown",
   "metadata": {},
   "source": [
    "c'est la valeur de x2 qui est sorti"
   ]
  },
  {
   "cell_type": "code",
   "execution_count": 3,
   "metadata": {},
   "outputs": [
    {
     "name": "stdout",
     "output_type": "stream",
     "text": [
      "Ceci\n",
      "est\n",
      "une\n",
      "liste\n"
     ]
    }
   ],
   "source": [
    "mots = ['Ceci', 'est', 'une', 'liste']\n",
    "\n",
    "for mot in mots:\n",
    "    print(mot)\n",
    "    "
   ]
  },
  {
   "cell_type": "markdown",
   "metadata": {},
   "source": [
    "faire une liste"
   ]
  },
  {
   "cell_type": "code",
   "execution_count": 4,
   "metadata": {},
   "outputs": [
    {
     "name": "stdout",
     "output_type": "stream",
     "text": [
      "['Hello', 1, 4]\n"
     ]
    }
   ],
   "source": [
    "x = 1\n",
    "choses = ['Hello', x, x + 3]\n",
    "print(choses)\n",
    "    "
   ]
  },
  {
   "cell_type": "markdown",
   "metadata": {},
   "source": [
    "[] = la liste\n",
    ", = passez a la ligne dans une liste"
   ]
  },
  {
   "cell_type": "code",
   "execution_count": 5,
   "metadata": {},
   "outputs": [
    {
     "name": "stdout",
     "output_type": "stream",
     "text": [
      "23\n"
     ]
    }
   ],
   "source": [
    "nombres = [3, 1, 4, 1, 5, 9]\n",
    "\n",
    "total = 0\n",
    "for nombre in nombres:\n",
    "    total += nombre\n",
    "\n",
    "print(total)"
   ]
  },
  {
   "cell_type": "markdown",
   "metadata": {},
   "source": [
    "ajout d'un for in executer avec uen liste"
   ]
  },
  {
   "cell_type": "code",
   "execution_count": 1,
   "metadata": {},
   "outputs": [
    {
     "name": "stdout",
     "output_type": "stream",
     "text": [
      "Ceciestuneliste\n"
     ]
    }
   ],
   "source": [
    "mots = ['Ceci', 'est', 'une', 'liste']\n",
    "\n",
    "total = ''\n",
    "for mot in mots:\n",
    "    total += mot\n",
    "\n",
    "print(total)"
   ]
  },
  {
   "cell_type": "code",
   "execution_count": null,
   "metadata": {},
   "outputs": [],
   "source": []
  }
 ],
 "metadata": {
  "kernelspec": {
   "display_name": "Python 3.8.13 64-bit ('shims')",
   "language": "python",
   "name": "python3"
  },
  "language_info": {
   "codemirror_mode": {
    "name": "ipython",
    "version": 3
   },
   "file_extension": ".py",
   "mimetype": "text/x-python",
   "name": "python",
   "nbconvert_exporter": "python",
   "pygments_lexer": "ipython3",
   "version": "3.8.13 (default, Sep  6 2022, 16:33:03) \n[GCC 9.4.0]"
  },
  "orig_nbformat": 4,
  "vscode": {
   "interpreter": {
    "hash": "9ac03a0a6051494cc606d484d27d20fce22fb7b4d169f583271e11d5ba46a56e"
   }
  }
 },
 "nbformat": 4,
 "nbformat_minor": 2
}
