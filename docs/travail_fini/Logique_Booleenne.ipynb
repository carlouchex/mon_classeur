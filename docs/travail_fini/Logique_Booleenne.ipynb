{
 "cells": [
  {
   "cell_type": "markdown",
   "metadata": {},
   "source": [
    "# Logique Boléenne :"
   ]
  },
  {
   "cell_type": "markdown",
   "metadata": {},
   "source": [
    "## Un peu d'histoire :\n",
    "\n",
    "En 1847, le Britanique [George Boole](https://fr.wikipedia.org/wiki/George_Boole) développe un algèbre binaire pour traduire des raisonnements logiques sous forme d'équations dites booléennes.\n",
    "\n",
    "En 1938, l'Américain Claude Shannon prouve que les circuits électriques peuvent résoudre tous les problèmes que l'algèbre de Boole peut résoudre.\n",
    "\n",
    "Ceci et les travaux d'Alan Turing de 1936 constituent les fondements de l'informatique."
   ]
  },
  {
   "cell_type": "markdown",
   "metadata": {},
   "source": [
    "## Algèbre de Boole :\n",
    "\n",
    "Un **booléen** ne peut prendre que deux valeurs distinctes :\n",
    "- soit **`True = 1`** (Vrai) ;\n",
    "- soit **`False = 0`** (Faux).\n",
    "\n",
    "On peut **affecter un booléen** à une variable. Il s'agit alors d'une variable binaire."
   ]
  },
  {
   "cell_type": "code",
   "execution_count": 2,
   "metadata": {},
   "outputs": [
    {
     "data": {
      "text/plain": [
       "bool"
      ]
     },
     "execution_count": 2,
     "metadata": {},
     "output_type": "execute_result"
    }
   ],
   "source": [
    "continuer = False\n",
    "type(continuer)"
   ]
  },
  {
   "cell_type": "markdown",
   "metadata": {},
   "source": [
    "Les conditions, comparaisons et tests d'égalité, sont des expressions qui produisent un résultat **booléen**"
   ]
  },
  {
   "cell_type": "code",
   "execution_count": 3,
   "metadata": {},
   "outputs": [],
   "source": [
    "while continuer:              #la condition est vraie, on exécute le bloc de la boucle while\n",
    "    print(\"demat\")\n",
    "    poursuivre = input(\"Voulez-vous continuer ? o/n : \")\n",
    "    if poursuivre.lower() == 'n':\n",
    "        print(\"kenavo\")\n",
    "        continuer = False     #la condition est fausse, on sort de la boucle"
   ]
  },
  {
   "cell_type": "markdown",
   "metadata": {},
   "source": [
    "Les opérations fondamentales de l'[algèbre de Boole](https://fr.wikipedia.org/wiki/Alg%C3%A8bre_de_Boole_(logique)) sont :\n",
    "* la **conjonction**, **ET**, se note : `and`, $\\bullet$, $\\&$ , $∧$ \n",
    "* la **disjonction**, **OU**, se note : `or`, $+$, $|$ , $∨$  \n",
    "* la **négation** : **NON**, se note : `not`, $\\bar{ }$, ~, $¬$\n",
    "\n",
    "Avec ces opérateurs de base, nous allons pouvoir définir des **fonctions logiques**, exprimer des conditions qui combinent plusieurs tests."
   ]
  },
  {
   "cell_type": "code",
   "execution_count": 4,
   "metadata": {},
   "outputs": [
    {
     "name": "stdout",
     "output_type": "stream",
     "text": [
      "Ce nombre appartient à l'intervalle [0 ; 10]\n"
     ]
    }
   ],
   "source": [
    "x = 5\n",
    "if (x >= 0) and (x <= 10):\n",
    "    print(\"Ce nombre appartient à l'intervalle [0 ; 10]\")\n",
    "else:\n",
    "    print(\"Ce nombre n'appartient pas à l'intervalle [0 ; 10]\")"
   ]
  },
  {
   "cell_type": "markdown",
   "metadata": {},
   "source": [
    "> Ici, les parenthèses permettent de mieux visualiser les tests.\n",
    "\n",
    "L'algèbre de Boole répond à [des règles](https://fr.wikipedia.org/wiki/Alg%C3%A8bre_de_Boole_(logique)#Propri%C3%A9t%C3%A9s), ainsi l’opérateur `and` est prioritaire sur l’opérateur `or` mais il vaut mieux utiliser des parenthèses pour plus de clarté : $ a + b \\bullet c = a + (b \\bullet c)$\n",
    "\n",
    "## Table de vérité :\n",
    "\n",
    "Pour chaque fonction logique, on peut établir une **table de vérité**. Un tableau qui présente toutes les combinaisons de valeurs possibles pour une ou plusieurs variables, et la valeur associée de la fonction décrite. Le nombre de combinaisons est $2^n$ avec $n$ le nombre de variables booléennes combinées.\n",
    "\n",
    "\n",
    "### Fontion ET (AND):\n",
    "La conjonction dont l'[expression booléenne](https://fr.wikipedia.org/wiki/Expression_bool%C3%A9enne_(programmation_informatique)) est `a and b`, est réalisée lorsque les conditions `a` et `b` sont toutes deux réalisées :\n",
    "\n",
    "\n",
    "|  a  |  b  |  ET |\n",
    "|:---:|:---:|:---:|\n",
    "|  0  |  0  |  0  |\n",
    "|  0  |  1  |  0  |\n",
    "|  1  |  0  |  0  |\n",
    "|  1  |  1  |  1  |\n",
    "\n",
    "Equation booléenne : $a \\bullet b = a \\& b = a ∧ b$"
   ]
  },
  {
   "cell_type": "markdown",
   "metadata": {},
   "source": [
    "<h3 class='fa fa-cogs' style=\"color: MediumSeaGreen\"> A faire vous-même :</h3>\n",
    "\n",
    "Modifier le programme suivant pour obtenir une table de vérité avec le même ordre de combinaisons logiques que ci-dessus."
   ]
  },
  {
   "cell_type": "code",
   "execution_count": 8,
   "metadata": {},
   "outputs": [
    {
     "data": {
      "text/markdown": [
       "|  a  |  b  |  ET |\n",
       "|:---:|:---:|:---:|\n",
       "|  False  |  False  |  False  |\n",
       "|  False  |  True  |  False  |\n",
       "|  True  |  False  |  False  |\n",
       "|  True  |  True  |  True  |\n"
      ],
      "text/plain": [
       "<IPython.core.display.Markdown object>"
      ]
     },
     "execution_count": 8,
     "metadata": {},
     "output_type": "execute_result"
    }
   ],
   "source": [
    "# Table de vérité en Markdown par Python de l'opérateur ET :\n",
    "from IPython.display import Markdown\n",
    "    \n",
    "table ='''|  a  |  b  |  ET |\n",
    "|:---:|:---:|:---:|\\n'''\n",
    "\n",
    "for a in [False,True]:\n",
    "    for b in [False,True]:\n",
    "        table += f\"|  {a}  |  {b}  |  {a and b}  |\\n\"\n",
    "        \n",
    "Markdown(table)        "
   ]
  },
  {
   "cell_type": "markdown",
   "metadata": {},
   "source": [
    "### Fontion OU (OR) :\n",
    "La disjonction dont l'[expression booléenne](https://fr.wikipedia.org/wiki/Expression_bool%C3%A9enne_(programmation_informatique)) est `a or b`, est réalisée lorsqu'au moins l'une des conditions `a` ou `b` est réalisée :\n",
    "\n",
    "\n",
    "|  a  |  b  |  OU |\n",
    "|:---:|:---:|:---:|\n",
    "|  0  |  0  |  0  |\n",
    "|  0  |  1  |  1  |\n",
    "|  1  |  0  |  1  |\n",
    "|  1  |  1  |  1  |\n",
    "\n",
    "Equation booléenne : $a + b = a | b = a ∨ b$\n",
    "\n",
    "<h3 class='fa fa-code' style=\"color: MediumSeaGreen\"> A programmer vous-même :</h3>"
   ]
  },
  {
   "cell_type": "code",
   "execution_count": 10,
   "metadata": {},
   "outputs": [
    {
     "data": {
      "text/markdown": [
       "|  a  |  b  |  OU |\n",
       "|:---:|:---:|:---:|\n",
       "|  False  |  False  |  False  |\n",
       "|  False  |  True  |  True  |\n",
       "|  True  |  False  |  True  |\n",
       "|  True  |  True  |  True  |\n"
      ],
      "text/plain": [
       "<IPython.core.display.Markdown object>"
      ]
     },
     "execution_count": 10,
     "metadata": {},
     "output_type": "execute_result"
    }
   ],
   "source": [
    "# Table de vérité en Markdown par  Python de l'opérateur OU :\n",
    "from IPython.display import Markdown\n",
    "    \n",
    "table ='''|  a  |  b  |  OU |\n",
    "|:---:|:---:|:---:|\\n'''\n",
    "\n",
    "for a in [False,True]:\n",
    "    for b in [False,True]:\n",
    "        table += f\"|  {a}  |  {b}  |  {a or b}  |\\n\"\n",
    "\n",
    "Markdown(table)                "
   ]
  },
  {
   "cell_type": "markdown",
   "metadata": {},
   "source": [
    "### Fontion NON (NOT) :\n",
    "La négation dont l'[expression booléenne](https://fr.wikipedia.org/wiki/Expression_bool%C3%A9enne_(programmation_informatique)) est `not a`, est réalisée lorsque la condition `a` n'est pas réalisée  :\n",
    "\n",
    "|  A  | NON |\n",
    "|:---:|:---:|\n",
    "|  0  |  1  |\n",
    "|  1  |  0  |\n",
    "\n",
    "Equation booléenne : $\\bar{a} =$ ~$a = ¬a$\n",
    "\n",
    "<h3 class='fa fa-code' style=\"color: MediumSeaGreen\"> A programmer vous-même :</h3>"
   ]
  },
  {
   "cell_type": "code",
   "execution_count": 5,
   "metadata": {},
   "outputs": [
    {
     "data": {
      "text/markdown": [
       "|  a  |  NON |\n",
       "|:---:|:---:|\n",
       "|  False  | True  |\n",
       "|  True  | False  |\n"
      ],
      "text/plain": [
       "<IPython.core.display.Markdown object>"
      ]
     },
     "execution_count": 5,
     "metadata": {},
     "output_type": "execute_result"
    }
   ],
   "source": [
    "# Table de vérité en Markdown par Python de l'opérateur NON :\n",
    "from IPython.display import Markdown\n",
    "    \n",
    "table ='''|  a  |  NON |\n",
    "|:---:|:---:|\\n'''\n",
    "\n",
    "for a in [False,True]:\n",
    "    table += f\"|  {a}  | { not a }  |\\n\"\n",
    "\n",
    "Markdown(table)                "
   ]
  },
  {
   "cell_type": "markdown",
   "metadata": {},
   "source": [
    "## Autres Fonctions logiques :\n",
    "\n",
    "A partir des trois fonctions de bases ET, OU, NON, on peut en construire d'autres telles que :\n",
    "\n",
    "### Fonction OU-Exclusif (XOR) :\n",
    "\n",
    "|  A  |  B  |   NOR  |\n",
    "|:---:|:---:|:------:|\n",
    "|  0  |  0  |    0   |\n",
    "|  0  |  1  |    1   |\n",
    "|  1  |  0  |    1   |\n",
    "|  1  |  1  |    0   |\n",
    "\n",
    "<h3 class='fa fa-code' style=\"color: MediumSeaGreen\"> A programmer vous-même :</h3>\n",
    "\n",
    "Vérifier que les [expressions booléennes](https://fr.wikipedia.org/wiki/Expression_bool%C3%A9enne_(programmation_informatique)) `((not a) and b) or (a and (not b))` et `a ^ b` sont équivalentes."
   ]
  },
  {
   "cell_type": "code",
   "execution_count": 8,
   "metadata": {},
   "outputs": [
    {
     "data": {
      "text/markdown": [
       "|  a  |  b  |  XOR |\n",
       "|:---:|:---:|:---:|\n",
       "|  False  |  False  |  False  |\n",
       "|  False  |  True  |  True  |\n",
       "|  True  |  False  |  True  |\n",
       "|  True  |  True  |  False  |\n"
      ],
      "text/plain": [
       "<IPython.core.display.Markdown object>"
      ]
     },
     "execution_count": 8,
     "metadata": {},
     "output_type": "execute_result"
    }
   ],
   "source": [
    "# Table de vérité en Markdown par Python de l'opérateur OU-Exclusif :\n",
    "from IPython.display import Markdown\n",
    "    \n",
    "table ='''|  a  |  b  |  XOR |\n",
    "|:---:|:---:|:---:|\\n'''\n",
    "\n",
    "for a in [False,True]:\n",
    "    for b in [False,True]:\n",
    "        table += f\"|  {a}  |  {b}  |  {a ^ b}  |\\n\"\n",
    "\n",
    "Markdown(table)     "
   ]
  },
  {
   "cell_type": "code",
   "execution_count": 15,
   "metadata": {},
   "outputs": [
    {
     "data": {
      "text/markdown": [
       "|  a  |  b  |  XOR |\n",
       "|:---:|:---:|:---:|\n",
       "|  False  |  False  |  False  |\n",
       "|  False  |  True  |  True  |\n",
       "|  True  |  False  |  True  |\n",
       "|  True  |  True  |  False  |\n"
      ],
      "text/plain": [
       "<IPython.core.display.Markdown object>"
      ]
     },
     "execution_count": 15,
     "metadata": {},
     "output_type": "execute_result"
    }
   ],
   "source": [
    "from IPython.display import Markdown\n",
    "    \n",
    "table ='''|  a  |  b  |  XOR |\n",
    "|:---:|:---:|:---:|\\n'''\n",
    "\n",
    "for a in [False,True]:\n",
    "    for b in [False,True]:\n",
    "        table += f\"|  {a}  |  {b}  |  {((not a) and b) or (a and (not b))}  |\\n\"\n",
    "\n",
    "Markdown(table)    "
   ]
  },
  {
   "cell_type": "markdown",
   "metadata": {},
   "source": [
    "### Fonction NON-ET (NAND) :\n",
    "\n",
    "|  A  |  B  |  NAND  |\n",
    "|:---:|:---:|:------:|\n",
    "|  0  |  0  |    1   |\n",
    "|  0  |  1  |    1   |\n",
    "|  1  |  0  |    1   |\n",
    "|  1  |  1  |    0   |\n",
    "\n",
    "<h3 class='fa fa-code' style=\"color: MediumSeaGreen\"> A programmer vous-même :</h3>\n",
    "\n",
    "Vérifier que les [expressions booléennes](https://fr.wikipedia.org/wiki/Expression_bool%C3%A9enne_(programmation_informatique)) `not (a and b)` et `(not a) or (not b)` sont équivalentes."
   ]
  },
  {
   "cell_type": "code",
   "execution_count": 13,
   "metadata": {},
   "outputs": [
    {
     "data": {
      "text/markdown": [
       "|  a  |  b  |  NAND |\n",
       "|:---:|:---:|:---:|\n",
       "|  False  |  False  |  True  |\n",
       "|  False  |  True  |  True  |\n",
       "|  True  |  False  |  True  |\n",
       "|  True  |  True  |  False  |\n"
      ],
      "text/plain": [
       "<IPython.core.display.Markdown object>"
      ]
     },
     "execution_count": 13,
     "metadata": {},
     "output_type": "execute_result"
    }
   ],
   "source": [
    "# Table de vérité en Markdown par Python de l'opérateur NON-ET :\n",
    "from IPython.display import Markdown\n",
    "    \n",
    "table ='''|  a  |  b  |  NAND |\n",
    "|:---:|:---:|:---:|\\n'''\n",
    "\n",
    "for a in [False,True]:\n",
    "    for b in [False,True]:\n",
    "        table += f\"|  {a}  |  {b}  |  {not (a and b)}  |\\n\"\n",
    "\n",
    "Markdown(table)    "
   ]
  },
  {
   "cell_type": "code",
   "execution_count": 14,
   "metadata": {},
   "outputs": [
    {
     "data": {
      "text/markdown": [
       "|  a  |  b  |  NAND |\n",
       "|:---:|:---:|:---:|\n",
       "|  False  |  False  |  True  |\n",
       "|  False  |  True  |  True  |\n",
       "|  True  |  False  |  True  |\n",
       "|  True  |  True  |  False  |\n"
      ],
      "text/plain": [
       "<IPython.core.display.Markdown object>"
      ]
     },
     "execution_count": 14,
     "metadata": {},
     "output_type": "execute_result"
    }
   ],
   "source": [
    "from IPython.display import Markdown\n",
    "    \n",
    "table ='''|  a  |  b  |  NAND |\n",
    "|:---:|:---:|:---:|\\n'''\n",
    "\n",
    "for a in [False,True]:\n",
    "    for b in [False,True]:\n",
    "        table += f\"|  {a}  |  {b}  |  {(not a) or (not b)}  |\\n\"\n",
    "\n",
    "Markdown(table)    "
   ]
  },
  {
   "cell_type": "markdown",
   "metadata": {},
   "source": [
    "### Fonction NON-OU (NOR) :\n",
    "\n",
    "|  A  |  B  |   NOR  |\n",
    "|:---:|:---:|:------:|\n",
    "|  0  |  0  |    1   |\n",
    "|  0  |  1  |    0   |\n",
    "|  1  |  0  |    0   |\n",
    "|  1  |  1  |    0   |\n",
    "\n",
    "<h3 class='fa fa-code' style=\"color: MediumSeaGreen\"> A programmer vous-même :</h3>\n",
    "\n",
    "Vérifier que les [expressions booléennes](https://fr.wikipedia.org/wiki/Expression_bool%C3%A9enne_(programmation_informatique)) `not (a or b)` et `(not a) and (not b)` sont équivalentes."
   ]
  },
  {
   "cell_type": "code",
   "execution_count": 16,
   "metadata": {},
   "outputs": [
    {
     "data": {
      "text/markdown": [
       "|  a  |  b  |  NOR |\n",
       "|:---:|:---:|:---:|\n",
       "|  False  |  False  |  True  |\n",
       "|  False  |  True  |  False  |\n",
       "|  True  |  False  |  False  |\n",
       "|  True  |  True  |  False  |\n"
      ],
      "text/plain": [
       "<IPython.core.display.Markdown object>"
      ]
     },
     "execution_count": 16,
     "metadata": {},
     "output_type": "execute_result"
    }
   ],
   "source": [
    "# Table de vérité en Markdown par Python de l'opérateur NON-OU :\n",
    "from IPython.display import Markdown\n",
    "    \n",
    "table ='''|  a  |  b  |  NOR |\n",
    "|:---:|:---:|:---:|\\n'''\n",
    "\n",
    "for a in [False,True]:\n",
    "    for b in [False,True]:\n",
    "        table += f\"|  {a}  |  {b}  |  {not (a or b)}  |\\n\"\n",
    "\n",
    "Markdown(table)     "
   ]
  },
  {
   "cell_type": "code",
   "execution_count": 17,
   "metadata": {},
   "outputs": [
    {
     "data": {
      "text/markdown": [
       "|  a  |  b  |  NOR |\n",
       "|:---:|:---:|:---:|\n",
       "|  False  |  False  |  True  |\n",
       "|  False  |  True  |  False  |\n",
       "|  True  |  False  |  False  |\n",
       "|  True  |  True  |  False  |\n"
      ],
      "text/plain": [
       "<IPython.core.display.Markdown object>"
      ]
     },
     "execution_count": 17,
     "metadata": {},
     "output_type": "execute_result"
    }
   ],
   "source": [
    "from IPython.display import Markdown\n",
    "    \n",
    "table ='''|  a  |  b  |  NOR |\n",
    "|:---:|:---:|:---:|\\n'''\n",
    "\n",
    "for a in [False,True]:\n",
    "    for b in [False,True]:\n",
    "        table += f\"|  {a}  |  {b}  |  {(not a) and (not b)}  |\\n\"\n",
    "\n",
    "Markdown(table)    "
   ]
  },
  {
   "attachments": {},
   "cell_type": "markdown",
   "metadata": {},
   "source": [
    "> Les lois de [De Morgan](https://fr.wikipedia.org/wiki/Lois_de_De_Morgan) :\n",
    ">\n",
    ">$$\\overline{a \\bullet b} = \\overline{a} + \\overline{b}$$\n",
    ">\n",
    ">$$\\overline{a + b} = \\overline{a} \\bullet \\overline{b}$$\n",
    ">\n",
    "> Exemple : Le contraire d'être *riche et célèbre* est non riche ou non connu\n"
   ]
  },
  {
   "cell_type": "markdown",
   "metadata": {},
   "source": [
    "## Application à l'addition binaire :"
   ]
  },
  {
   "cell_type": "code",
   "execution_count": 18,
   "metadata": {},
   "outputs": [
    {
     "ename": "ModuleNotFoundError",
     "evalue": "No module named 'metakernel'",
     "output_type": "error",
     "traceback": [
      "\u001b[0;31m---------------------------------------------------------------------------\u001b[0m",
      "\u001b[0;31mModuleNotFoundError\u001b[0m                       Traceback (most recent call last)",
      "Cell \u001b[0;32mIn [18], line 1\u001b[0m\n\u001b[0;32m----> 1\u001b[0m \u001b[39mfrom\u001b[39;00m \u001b[39mmetakernel\u001b[39;00m \u001b[39mimport\u001b[39;00m register_ipython_magics\n\u001b[1;32m      2\u001b[0m register_ipython_magics()\n",
      "\u001b[0;31mModuleNotFoundError\u001b[0m: No module named 'metakernel'"
     ]
    }
   ],
   "source": [
    "from metakernel import register_ipython_magics\n",
    "register_ipython_magics()"
   ]
  },
  {
   "cell_type": "code",
   "execution_count": 19,
   "metadata": {},
   "outputs": [
    {
     "name": "stderr",
     "output_type": "stream",
     "text": [
      "UsageError: Cell magic `%%tutor` not found.\n"
     ]
    }
   ],
   "source": [
    "%%tutor\n",
    "\n",
    "n = [0, 1, 0]\n",
    "p = [0, 1, 1]\n",
    "r = []\n",
    "\n",
    "c = False\n",
    "for i in range(2, -1, -1):\n",
    "    a = n[i]\n",
    "    b = p[i]\n",
    "    unite = (a and not(b) and not(c)) or\\\n",
    "        (not(a) and b and not(c)) or\\\n",
    "        (not(a) and not(b) and c) or\\\n",
    "        (a and b and c)\n",
    "    r = [int(unite)] + r\n",
    "    c = (a and b) or (b and c) or (a and c)\n",
    "r = [int(c)] + r\n",
    "\n",
    "print(r)"
   ]
  },
  {
   "cell_type": "markdown",
   "metadata": {},
   "source": [
    "## Opération booléenne bit à bit :\n",
    "\n",
    "Dans beaucoup de langages, ``and`` et ``or`` sont écrits ``&&`` et ``||``.\n",
    "\n",
    "Ces symboles existent égalemant en Python, mais ils sont là pour réaliser des opérations binaires bit à bit :"
   ]
  },
  {
   "cell_type": "code",
   "execution_count": 23,
   "metadata": {},
   "outputs": [
    {
     "data": {
      "text/plain": [
       "(13, '0b1101', '0xd')"
      ]
     },
     "execution_count": 23,
     "metadata": {},
     "output_type": "execute_result"
    }
   ],
   "source": [
    "masque = 0b00001111\n",
    "resultat = 0b10011101 & masque\n",
    "resultat, bin(resultat), hex(resultat)"
   ]
  },
  {
   "cell_type": "markdown",
   "metadata": {},
   "source": [
    "> Les `1` du masque définissent les bits qui seront conservés dans le résultat."
   ]
  },
  {
   "cell_type": "code",
   "execution_count": 21,
   "metadata": {},
   "outputs": [
    {
     "data": {
      "text/plain": [
       "'0b10011111'"
      ]
     },
     "execution_count": 21,
     "metadata": {},
     "output_type": "execute_result"
    }
   ],
   "source": [
    "bin(0b10011101 | 0b00001111)"
   ]
  },
  {
   "cell_type": "code",
   "execution_count": 22,
   "metadata": {},
   "outputs": [
    {
     "data": {
      "text/plain": [
       "'0b10010010'"
      ]
     },
     "execution_count": 22,
     "metadata": {},
     "output_type": "execute_result"
    }
   ],
   "source": [
    "bin(0b10011101 ^ 0b00001111)"
   ]
  },
  {
   "attachments": {},
   "cell_type": "markdown",
   "metadata": {},
   "source": [
    "<h3 class='fa fa-cogs' style=\"color: darkorange\"> A faire vous-même :</h3>\n",
    "\n",
    "- Calculer les opérations binaires suivantes :\n",
    "\n",
    "```\n",
    "# calcul A\n",
    "   1100\n",
    "&  0111\n",
    "0100\n",
    "\n",
    "\n",
    "# calcul B\n",
    "   1100\n",
    "|  0111\n",
    "1111\n",
    "   \n",
    "\n",
    "# calcul C\n",
    "   1100\n",
    "^  0111\n",
    "1011\n",
    "\n",
    "\n",
    "# calcul D\n",
    "~  1100\n",
    "&  0111\n",
    "0000\n",
    "\n",
    "\n",
    "```\n",
    "- Vérifier vos résultats avec Python en décimal, puis en binaire et en hexadécimal :    "
   ]
  },
  {
   "cell_type": "code",
   "execution_count": 29,
   "metadata": {},
   "outputs": [
    {
     "data": {
      "text/plain": [
       "-2"
      ]
     },
     "execution_count": 29,
     "metadata": {},
     "output_type": "execute_result"
    }
   ],
   "source": [
    "~  True"
   ]
  },
  {
   "cell_type": "code",
   "execution_count": 38,
   "metadata": {},
   "outputs": [
    {
     "data": {
      "text/plain": [
       "(4, '0b100', '0x4')"
      ]
     },
     "execution_count": 38,
     "metadata": {},
     "output_type": "execute_result"
    }
   ],
   "source": [
    "#calcul A\n",
    "masque = 0b1100\n",
    "resultat = 0b0111 & masque\n",
    "resultat, bin(resultat), hex(resultat)"
   ]
  },
  {
   "cell_type": "code",
   "execution_count": 37,
   "metadata": {},
   "outputs": [
    {
     "data": {
      "text/plain": [
       "(15, '0b1111', '0xf')"
      ]
     },
     "execution_count": 37,
     "metadata": {},
     "output_type": "execute_result"
    }
   ],
   "source": [
    "#calcul b\n",
    "masque = 0b1100\n",
    "resultat = 0b0111 | masque\n",
    "resultat, bin(resultat), hex(resultat)"
   ]
  },
  {
   "cell_type": "code",
   "execution_count": 39,
   "metadata": {},
   "outputs": [
    {
     "data": {
      "text/plain": [
       "(11, '0b1011', '0xb')"
      ]
     },
     "execution_count": 39,
     "metadata": {},
     "output_type": "execute_result"
    }
   ],
   "source": [
    "#calcul c\n",
    "masque = 0b1100\n",
    "resultat = 0b0111 ^ masque\n",
    "resultat, bin(resultat), hex(resultat)"
   ]
  },
  {
   "cell_type": "code",
   "execution_count": 40,
   "metadata": {},
   "outputs": [
    {
     "data": {
      "text/plain": [
       "(3, '0b11', '0x3')"
      ]
     },
     "execution_count": 40,
     "metadata": {},
     "output_type": "execute_result"
    }
   ],
   "source": [
    "#calcul d\n",
    "masque = ~ 0b1100\n",
    "resultat = 0b0111 & masque\n",
    "resultat, bin(resultat), hex(resultat)"
   ]
  },
  {
   "cell_type": "code",
   "execution_count": null,
   "metadata": {},
   "outputs": [],
   "source": [
    "# calcul A\n",
    "12 & 7"
   ]
  },
  {
   "cell_type": "code",
   "execution_count": null,
   "metadata": {},
   "outputs": [],
   "source": [
    "# calcul B\n",
    "12 | 7"
   ]
  },
  {
   "cell_type": "code",
   "execution_count": null,
   "metadata": {},
   "outputs": [],
   "source": [
    "# calcul C\n",
    "12 ^ 7"
   ]
  },
  {
   "cell_type": "code",
   "execution_count": null,
   "metadata": {},
   "outputs": [],
   "source": [
    "# calcul D\n",
    "~12 & 7"
   ]
  },
  {
   "cell_type": "markdown",
   "metadata": {},
   "source": [
    "> [Le OU exclusif (XOR) est une méthode de cryptographie moderne](https://www.dcode.fr/chiffre-xor) qui s'est développée avec l'avènement de l'informatique. Elle consiste à chiffrer un message en binaire avec une clé répétée par une multiplication par OU Exclusif.\n",
    ">\n",
    "> Ainsi le chiffrement de la chaine de caractères `'NSI'` avec la clé `'f'` produit `'(5/'`...\n",
    "\n",
    "\n",
    "## Caractère séquentiel (shortcuts) :\n",
    "\n",
    "En Python, les opérateurs ``and`` et ``or`` sont séquentiels : L'opérande de droite n'est évaluée que si l'opérande de gauche ne permet pas de trouver le résultat. On parle d'évaluation fainéante...\n",
    "\n",
    "Pour ``a and b`` :\n",
    "- Si a est False, inutile d'évaluer b, ce sera False ;\n",
    "- Si a est True, alors il faudra évaluer b pour savoir.\n",
    "\n",
    "Pour ``a or b`` : \n",
    "- si a est True, inutile d'évaluer b, ce sera True ;\n",
    "- si a est False, il faudra évaluer b pour savoir.\n",
    "\n",
    "Illustration : http://sametmax.com/quelques-astuces-a-propos-de-and-et-or/\n"
   ]
  },
  {
   "cell_type": "markdown",
   "metadata": {},
   "source": [
    "## Applications :\n",
    "\n",
    "<h3 class='fa fa-graduation-cap' style=\"color: darkorange\">France IOI - Zones de couleurs : </h3>\n",
    "\n",
    "Coller ci-dessous le code de votre programme qui a permis sur [France IOI](http://www.france-ioi.org/algo/task.php?idChapter=648&idTask=496) de résoudre le besoin suivant :\n",
    "\n",
    "**Ce que doit faire votre programme :**\n",
    "\n",
    "Sur une table est placée une feuille de papier rectangulaire de 90 cm de large et 70 cm de haut, composée de zones de différentes couleurs, comme le décrit la figure ci-dessous. Un certain nombre de personnes placent l'une après l'autre un jeton où elles le souhaitent sur la table, à l'exception des frontières entre les différentes zones.\n",
    "\n",
    "[![zones_couleurs.png](http://data.france-ioi.org/Task/2611ff10f44b2ea3d7a6ab0ce364a1cb/zones_couleurs.png)](http://www.france-ioi.org/algo/task.php?idChapter=648&idTask=496)\n",
    "\n",
    "On vous donne en entrée le nombre de jetons qui ont été déposés, puis, pour chaque jeton, ses coordonnées sur la feuille par rapport à l'origine en haut à gauche, sous la forme d'une abscisse et d'une ordonnée entre −1 000 et 1 000.\n",
    "\n",
    "Votre programme devra qualifier chaque jeton avec l'un des textes suivants, en fonction de la couleur sur laquelle il se trouve :\n",
    "\n",
    "- « En dehors de la feuille »\n",
    "- « Dans une zone jaune »\n",
    "- « Dans une zone bleue »\n",
    "- « Dans une zone rouge »\n",
    "\n",
    "Essayez d'écrire votre programme de sorte qu'il y ait au maximum une condition par possibilité de texte affiché.\n",
    "\n",
    "\n",
    "**Exemple**\n",
    "\n",
    "entrée :\n",
    "\n",
    "```\n",
    "4\n",
    "16\n",
    "12\n",
    "30\n",
    "22\n",
    "64\n",
    "62\n",
    "-5\n",
    "86\n",
    "```\n",
    "\n",
    "sortie :\n",
    "\n",
    "```\n",
    "Dans une zone bleue\n",
    "Dans une zone jaune\n",
    "Dans une zone rouge\n",
    "En dehors de la feuille\n",
    "```\n",
    "\n",
    "**Commentaires**\n",
    "\n",
    "Dans l'exemple, on a 4 jetons, de coordonnées (16 ; 12), (30 ; 22), (64 ; 62) et (-5 ; 86)."
   ]
  },
  {
   "cell_type": "code",
   "execution_count": null,
   "metadata": {},
   "outputs": [],
   "source": [
    "# Votre code France-IOI\n",
    "nbr_jetons = int(input())\n",
    "\n",
    "for jeton in range(nbr_jetons):\n",
    "   x = int(input())\n",
    "   y = int(input())\n",
    "\n",
    "   if (x < 0 or y > 0 or x > 90 or y > 70):\n",
    "       print(\"Hors de la feuille\")\n",
    "\n",
    "   else:\n",
    "       if ((x > 10 and x < 85 and y > 10 and y < 55)\n",
    "           and not(x > 25 and x < 50 and y > 20 and y < 45)):\n",
    "           print(\"Afficher la zone bleu\")\n",
    "       elif (((x > 15 and x < 45) or (x > 60 and x < 85))\n",
    "           and (y > 60 and y < 70)):\n",
    "           print(\"Dans une zone rouge\")\n",
    "       else:\n",
    "           print(\"Dans une zone jaune\")"
   ]
  },
  {
   "cell_type": "code",
   "execution_count": null,
   "metadata": {},
   "outputs": [],
   "source": [
    "#essaie\n",
    "nombre_de jetons = (input())\n",
    "\n",
    "for jetons in range (nombre_de_jetons)\n",
    "x = int(input())\n",
    "y = int(input())\n",
    "\n",
    "#delimitations\n",
    "if x "
   ]
  },
  {
   "cell_type": "markdown",
   "metadata": {},
   "source": [
    "<h3 class='fa fa-rocket' style=\"color: tomato\">Animation avec ipycanvas : </h3>\n",
    "\n",
    "Coder avec le module ipycanvas une animation graphique qui illustre la logique booléenne à l'image du gif de Google en hommage à [George Boole](https://fr.wikipedia.org/wiki/George_Boole) :\n",
    "\n",
    "<br>\n",
    "<img  src=\"https://ericecmorlaix.github.io/img/doodle_George.gif\" alt=\"doodle_George\">\n",
    "<br>\n",
    "\n",
    "Si vous ne connaissez pas ce module, il vous faut donc préalablement le prendre en main en faisant, par exemple, les activités de [ipycanvas-Le_BN_pour_dessiner.ipynb\n",
    "](ipycanvas-Le_BN_pour_dessiner.ipynb)...\n",
    "\n",
    "De plus certaines autres fonctionnalités d'ipycanvas pourraient s'avérer utiles dans ce cas d'application :\n",
    "\n",
    "- Les textes : https://ipycanvas.readthedocs.io/en/latest/drawing_text.html\n",
    "\n",
    "- Le style dessin à main levé avec `RoughCanvas` : https://ipycanvas.readthedocs.io/en/latest/rough_canvas.html\n",
    "\n",
    "- Les boucles d'animation : https://ipycanvas.readthedocs.io/en/latest/animations.html"
   ]
  },
  {
   "cell_type": "code",
   "execution_count": null,
   "metadata": {},
   "outputs": [],
   "source": [
    "# Votre code d'animation avec ipycanvas\n"
   ]
  },
  {
   "attachments": {},
   "cell_type": "markdown",
   "metadata": {},
   "source": [
    "# Autour des boolens"
   ]
  },
  {
   "cell_type": "code",
   "execution_count": null,
   "metadata": {},
   "outputs": [],
   "source": [
    "#exercice\n",
    "# Exemple donné de traduction de condition\n",
    "# prop_1 : \"3 est strictement inférieur à 4\"\n",
    "prop_1 = True\n",
    "\n",
    "# prop_2 : \"3 est supérieur ou égal à 4\"\n",
    "prop_2 = False\n",
    "\n",
    "# prop_3 : \"le caractère 'n' est dans la chaine 'bonjour'\"\n",
    "prop_3 = True\n",
    "\n",
    "# prop_4 : \"Le calcul 3 + 5 * 2 vaut 16\"\n",
    "prop_4 = False\n",
    "\n",
    "# prop_5 : \"5 est un nombre pair\"\n",
    "prop_5 = False\n",
    "\n",
    "# prop_6 : \"12 est dans la liste [k for k in range(12)]\"\n",
    "prop_6 = False\n",
    "\n",
    "# prop_7 : \"'ju' n'est pas dans 'bonjour'\"\n",
    "prop_7 = True\n",
    "\n",
    "# prop_8 : \"3 est égal à 1 + 2 et 'a' est dans 'Boole'\"\n",
    "prop_8 = False\n",
    "\n",
    "# prop_9 : \"3 est égal à 1 + 2 ou 'a' est dans 'Boole'\"\n",
    "prop_9 = True\n",
    "\n",
    "# prop_10 : \"6 est un nombre pair et un multiple de 3\"\n",
    "prop_10 = True\n",
    "\n",
    "# prop_11 : \"648 est dans les tables de 2, de 3 et de 4\"\n",
    "prop_11 = True\n",
    "\n",
    "# prop_12 : \"25 est strictement compris entre 24 et 26\"\n",
    "prop_12 = True\n",
    "\n",
    "# prop_13 : \"'a' est dans 'hello' ou dans 'hallo'\"\n",
    "prop_13 = True\n",
    "\n",
    "# prop_14 : \"8 est égal à 4 * 2 et différent de 9 - 1\"\n",
    "prop_14 = False\n",
    "\n",
    "# prop_15 : \"7 est entre 1 et 5 (inclus l'un et l'autre) ou strictement supérieur à 6\"\n",
    "prop_15 = True\n",
    "\n",
    "# prop_16: \"5 est strictement compris entre 7 et 8 ou (8 est strictement inférieur à 9)\"\n",
    "prop_16 = True\n",
    "\n",
    "# prop_17: \"7 est strictement inférieur à 5 et ...\n",
    "# ...(8 est strictement supérieur à 5 ou strictment inférieur à 9)\"\n",
    "prop_17 = False"
   ]
  },
  {
   "cell_type": "code",
   "execution_count": null,
   "metadata": {},
   "outputs": [],
   "source": [
    "#corection\n",
    "# Exemple donné de traduction de condition\n",
    "# prop_1 : \"3 est strictement inférieur à 4\"\n",
    "prop_1 = 3 < 4\n",
    "\n",
    "# prop_2 : \"3 est supérieur ou égal à 4\"\n",
    "prop_2 = 3 >= 4\n",
    "\n",
    "# prop_3 : \"le caractère 'n' est dans la chaine 'bonjour'\"\n",
    "prop_3 = \"n\" in \"bonjour\"\n",
    "\n",
    "# prop_4 : \"Le calcul 3 + 5 * 2 vaut 16\"\n",
    "prop_4 = 3 + 5 * 2 == 16\n",
    "\n",
    "# prop_5 : \"5 est un nombre pair\"\n",
    "prop_5 = 5 % 2 == 0\n",
    "\n",
    "# prop_6 : \"12 est dans la liste [k for k in range(12)]\"\n",
    "prop_6 = 12 in [k for k in range(12)]\n",
    "\n",
    "# prop_7 : \"'ju' n'est pas dans 'bonjour'\"\n",
    "prop_7 = \"ju\" not in \"bonjour\"\n",
    "\n",
    "# prop_8 : \"3 est égal à 1 + 2 et 'a' est dans 'Boole'\"\n",
    "prop_8 = (3 == 1 + 2) and (\"a\" in \"Boole\")\n",
    "\n",
    "# prop_9 : \"3 est égal à 1 + 2 ou 'a' est dans 'Boole'\"\n",
    "prop_9 = (3 == 1 + 2) or (\"a\" in \"Boole\")\n",
    "\n",
    "# prop_10 : \"6 est un nombre pair et un multiple de 3\"\n",
    "prop_10 = (6 % 2 == 0) and (6 % 3 == 0)\n",
    "\n",
    "# prop_11 : \"648 est dans les tables de 2, de 3 et de 4\"\n",
    "prop_11 = ((648 % 2 == 0) and (648 % 3 == 0)) and (648 % 4 == 0)\n",
    "\n",
    "# prop_12 : \"25 est strictement compris entre 24 et 26\"\n",
    "prop_12 = (25 > 24) and (25 < 26)\n",
    "# prop_12 : \"ou\"\n",
    "prop_12 = 24 < 25 < 26\n",
    "\n",
    "# prop_13 : \"'a' est dans 'hello' ou dans 'hallo'\"\n",
    "prop_13 = (\"a\" in \"hello\") or (\"a\" in \"hallo\")\n",
    "\n",
    "# prop_14 : \"8 est égal à 4 * 2 et différent de 9 - 1\"\n",
    "prop_14 = (8 == 4 * 2) and (8 != 9 - 1)\n",
    "\n",
    "# prop_15 : \"7 est entre 1 et 5 (inclus l'un et l'autre) ou strictement supérieur à 6\"\n",
    "prop_15 = (7 >= 1) and (7 <= 5) or (7 >= 6)\n",
    "# prop_15 : \"ou\"\n",
    "prop_15 = (1 <= 7 <= 5) or (7 >= 6)\n",
    "\n",
    "# prop_16: \"5 est strictement compris entre 7 ou 8 est strictement inférieur à 9\"\n",
    "prop_16 = (7 < 5 and 5 < 8) or 8 < 9\n",
    "\n",
    "# prop_17: \"7 est strictement inférieur à 5 et ...\n",
    "# ...(8 est strictement supérieur à 5 ou strictment inférieur à 9)\"\n",
    "prop_17 = 7 < 5 and (5 < 8 or 8 < 9)\n"
   ]
  },
  {
   "attachments": {},
   "cell_type": "markdown",
   "metadata": {},
   "source": [
    "# operateurs booléens"
   ]
  },
  {
   "cell_type": "code",
   "execution_count": 4,
   "metadata": {},
   "outputs": [],
   "source": [
    "#exercice\n",
    "def non(a):\n",
    "    resultat=False\n",
    "    if a == True:\n",
    "       resultat = False\n",
    "    else :\n",
    "        resultat = True\n",
    "    return resultat\n",
    "\n",
    "\n",
    "def et(a, b):\n",
    "    resultat=False\n",
    "    if a == True:\n",
    "        if b == True:\n",
    "            resultat=True\n",
    "    else:\n",
    "        resultat=False\n",
    "    return resultat\n",
    "\n",
    "\n",
    "def ou(a, b):\n",
    "    resultat=True\n",
    "    if a == True:\n",
    "        resultat=True\n",
    "    elif b == True:\n",
    "        resultat=True\n",
    "    else:\n",
    "        resultat=False\n",
    "    return resultat\n",
    "\n",
    "\n",
    "def ou_exclusif(a, b):\n",
    "    resultat=False\n",
    "    if a == True:\n",
    "        if b == True:\n",
    "            resultat=False\n",
    "        else:\n",
    "            resultat=True\n",
    "    else:\n",
    "        if b == True:\n",
    "            resultat=True\n",
    "        else:\n",
    "            resultat=False\n",
    "    return resultat\n",
    "\n",
    "\n",
    "def non_ou(a, b):\n",
    "    resultat=False\n",
    "    if a == False:\n",
    "        if b == False:\n",
    "            resultat=True\n",
    "        else:\n",
    "            resultat=False\n",
    "    else:\n",
    "        resultat=False\n",
    "    return resultat\n",
    "\n",
    "\n",
    "def non_et(a, b):\n",
    "    resultat= True\n",
    "    if a == True:\n",
    "        if b == True:\n",
    "            resultat=False\n",
    "        else:\n",
    "            resultat=True\n",
    "    else:\n",
    "        resultat=True\n",
    "    return resultat\n",
    "\n",
    "\n",
    "# Tests\n",
    "assert non(True) == False\n",
    "assert et(True, False) == False\n",
    "assert ou(True, False) == True\n",
    "assert ou_exclusif(True, True) == False\n",
    "assert non_ou(False, True) == False\n",
    "assert non_et(False, True) == True\n"
   ]
  },
  {
   "cell_type": "code",
   "execution_count": null,
   "metadata": {},
   "outputs": [],
   "source": [
    "#correction\n",
    "def non(a):\n",
    "    if a:\n",
    "        return False\n",
    "    else:\n",
    "        return True\n",
    "\n",
    "\n",
    "def et(a, b):\n",
    "    if a:\n",
    "        if b:\n",
    "            return True\n",
    "    return False\n",
    "\n",
    "\n",
    "def ou(a, b):\n",
    "    if a:\n",
    "        return True\n",
    "    elif b:\n",
    "        return True\n",
    "    return False\n",
    "\n",
    "\n",
    "def ou_exclusif(a, b):\n",
    "    return ou(et(a, non(b)), et(non(a), b))\n",
    "\n",
    "\n",
    "def non_ou(a, b):\n",
    "    return non(ou(a, b))\n",
    "\n",
    "\n",
    "def non_et(a, b):\n",
    "    return non(et(a, b))\n",
    "\n",
    "\n",
    "# Tests\n",
    "assert non(True) == False\n",
    "assert et(True, False) == False\n",
    "assert ou(True, False) == True\n",
    "assert ou_exclusif(True, True) == False\n",
    "assert non_ou(False, True) == False\n",
    "assert non_et(False, True) == True\n"
   ]
  },
  {
   "attachments": {},
   "cell_type": "markdown",
   "metadata": {},
   "source": [
    "# années bissextiles"
   ]
  },
  {
   "cell_type": "code",
   "execution_count": null,
   "metadata": {},
   "outputs": [],
   "source": [
    "#essaie\n",
    "def est_bissextile(annee):\n",
    "    if (annee) /4:\n",
    "        if not(annee)/100:\n",
    "            resultat=True\n",
    "        elif (annee)/400:\n",
    "            resultat=True\n",
    "        else:\n",
    "            resultat=False\n",
    "    else:\n",
    "        resultat=False\n",
    "    return resultat\n",
    "       \n",
    "# Tests\n",
    "assert est_bissextile(2022) == False\n",
    "assert est_bissextile(2020) == True\n",
    "assert est_bissextile(2100) == False\n",
    "assert est_bissextile(2400) == True\n",
    "\n"
   ]
  },
  {
   "cell_type": "code",
   "execution_count": 7,
   "metadata": {},
   "outputs": [
    {
     "data": {
      "text/plain": [
       "125.0"
      ]
     },
     "execution_count": 7,
     "metadata": {},
     "output_type": "execute_result"
    }
   ],
   "source": [
    "annee = 500\n",
    "annee / 4"
   ]
  },
  {
   "cell_type": "code",
   "execution_count": 8,
   "metadata": {},
   "outputs": [
    {
     "data": {
      "text/plain": [
       "125"
      ]
     },
     "execution_count": 8,
     "metadata": {},
     "output_type": "execute_result"
    }
   ],
   "source": [
    "annee // 4"
   ]
  },
  {
   "cell_type": "code",
   "execution_count": 9,
   "metadata": {},
   "outputs": [
    {
     "data": {
      "text/plain": [
       "True"
      ]
     },
     "execution_count": 9,
     "metadata": {},
     "output_type": "execute_result"
    }
   ],
   "source": [
    "annee % 4 == 0"
   ]
  },
  {
   "cell_type": "code",
   "execution_count": null,
   "metadata": {},
   "outputs": [],
   "source": [
    "#exercice\n",
    "def est_bissextile(annee):\n",
    "    if (annee) %4 == 0:\n",
    "        if not(annee)%100==0:\n",
    "            resultat=True\n",
    "        elif (annee)%400==0:\n",
    "            resultat=True\n",
    "        else:\n",
    "            resultat=False\n",
    "    else:\n",
    "        resultat=False\n",
    "    return resultat\n",
    "       \n",
    "# Tests\n",
    "assert est_bissextile(2022) == False\n",
    "assert est_bissextile(2020) == True\n",
    "assert est_bissextile(2100) == False\n",
    "assert est_bissextile(2400) == True"
   ]
  },
  {
   "cell_type": "code",
   "execution_count": null,
   "metadata": {},
   "outputs": [],
   "source": [
    "#solution\n",
    "def est_bissextile(annee):\n",
    "    if annee % 4 != 0:\n",
    "        return False\n",
    "    if annee % 100 != 0:\n",
    "        return True\n",
    "    if annee % 400 != 0:\n",
    "        return False\n",
    "    return True\n",
    "\n",
    "\n",
    "# Tests\n",
    "assert est_bissextile(2022) == False\n",
    "assert est_bissextile(2020) == True\n",
    "assert est_bissextile(2100) == False\n",
    "assert est_bissextile(2400) == True"
   ]
  },
  {
   "cell_type": "markdown",
   "metadata": {},
   "source": [
    "## Pour Aller plus loin :\n",
    "\n",
    "- https://python.developpez.com/cours/DiveIntoPython/php/frdiveintopython/power_of_introspection/and_or.php\n",
    "- https://docs.python.org/fr/3/library/operator.html\n"
   ]
  },
  {
   "cell_type": "markdown",
   "metadata": {},
   "source": [
    "<a rel=\"license\" href=\"http://creativecommons.org/licenses/by-sa/4.0/\"><img alt=\"Licence Creative Commons\" style=\"border-width:0\" src=\"https://i.creativecommons.org/l/by-sa/4.0/88x31.png\" /></a><br />Ce document est mis à disposition selon les termes de la <a rel=\"license\" href=\"http://creativecommons.org/licenses/by-sa/4.0/\">Licence Creative Commons Attribution -  Partage dans les Mêmes Conditions 4.0 International</a>.\n",
    "\n",
    "Pour toute question, suggestion ou commentaire : <a href=\"mailto:eric.madec@ecmorlaix.fr\">eric.madec@ecmorlaix.fr</a>"
   ]
  },
  {
   "cell_type": "code",
   "execution_count": null,
   "metadata": {},
   "outputs": [],
   "source": []
  }
 ],
 "metadata": {
  "kernelspec": {
   "display_name": "Python 3",
   "language": "python",
   "name": "python3"
  },
  "language_info": {
   "codemirror_mode": {
    "name": "ipython",
    "version": 3
   },
   "file_extension": ".py",
   "mimetype": "text/x-python",
   "name": "python",
   "nbconvert_exporter": "python",
   "pygments_lexer": "ipython3",
   "version": "3.8.13 (default, Oct  4 2022, 14:00:32) \n[GCC 9.4.0]"
  },
  "toc": {
   "base_numbering": 1,
   "nav_menu": {},
   "number_sections": true,
   "sideBar": true,
   "skip_h1_title": false,
   "title_cell": "Table of Contents",
   "title_sidebar": "Contents",
   "toc_cell": false,
   "toc_position": {},
   "toc_section_display": true,
   "toc_window_display": false
  },
  "varInspector": {
   "cols": {
    "lenName": 16,
    "lenType": 16,
    "lenVar": 40
   },
   "kernels_config": {
    "python": {
     "delete_cmd_postfix": "",
     "delete_cmd_prefix": "del ",
     "library": "var_list.py",
     "varRefreshCmd": "print(var_dic_list())"
    },
    "r": {
     "delete_cmd_postfix": ") ",
     "delete_cmd_prefix": "rm(",
     "library": "var_list.r",
     "varRefreshCmd": "cat(var_dic_list()) "
    }
   },
   "types_to_exclude": [
    "module",
    "function",
    "builtin_function_or_method",
    "instance",
    "_Feature"
   ],
   "window_display": false
  },
  "vscode": {
   "interpreter": {
    "hash": "110cc1dee26208153f2972f08a2ad52b6a56238dc66d48e87fb757ef2996db56"
   }
  }
 },
 "nbformat": 4,
 "nbformat_minor": 2
}
