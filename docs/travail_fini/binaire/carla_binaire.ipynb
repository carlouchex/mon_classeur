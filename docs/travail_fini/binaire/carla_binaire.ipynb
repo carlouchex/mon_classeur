{
 "cells": [
  {
   "cell_type": "markdown",
   "metadata": {},
   "source": [
    "# Le Bloc Note pour apprendre à coder en binaire"
   ]
  },
  {
   "cell_type": "markdown",
   "metadata": {},
   "source": [
    "## Phase 0, mise en bouche :\n",
    "\n",
    "### Le tour de magie de l'informaticien :\n",
    "\n",
    "<img src=\"https://ericecmorlaix.github.io/img/Binaire-TourDeMagie.svg\" alt=\"5 cartes\" width=80%>\n",
    "\n",
    "Choisissez un nombre entier compris entre 1 et 31 ?\n",
    "\n",
    "Un informaticien est capable de le retrouver en vous posant cinq questions...\n",
    "\n",
    "<center><a href=\"https://culturemath.ens.fr/thematiques/college/tour-de-magie-binaire\">Cliquez ici pour trouver une explication, si besoin...\"</a></center>\n",
    "\n",
    "### L'affirmation de l'informaticien : \n",
    "\n",
    "<img src=\"data:image/svg+xml;base64,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\" width=60% />\n",
    "\n",
    "<center><a href=\"https://www.lemonde.fr/blog/binaire/2014/02/10/les-blagues-sur-linformatique-episode-1/\">Cliquez ici pour trouver une explication, si besoin...\"</a></center>"
   ]
  },
  {
   "cell_type": "markdown",
   "metadata": {},
   "source": [
    "## Saurez-vous compter comme un ordinateur  ?\n",
    "\n",
    "Pour apprendre à compter comme le font les ordinateurs, vous allez commencer par jouer en binôme avec des cartes...\n",
    "\n",
    "### Préparation :\n",
    "Disposez les cinq cartes que vous avez reçues sur la table en face de vous en respectant l’ordre ci-dessous  :\n",
    "\n",
    "<img src=\"https://ericecmorlaix.github.io/img/5_Cartes.svg\" alt=\"5 cartes\" width=60%>\n",
    "\n",
    "### Phase 1 :\n",
    "Demandez à votre binôme de choisir un entier au hasard (ex :  $6$ , $21$, $15$ …) ;\n",
    "\n",
    "Retournez ou ne retournez pas certaines cartes de façon à compter autant de points visibles que le nombre entier choisi ;\n",
    "\n",
    "Maintenant inversez les rôles, et demandez à votre binôme d’afficher un autre entier que vous avez choisi au hasard..."
   ]
  },
  {
   "cell_type": "markdown",
   "metadata": {},
   "source": [
    "Existe-t-il un nombre qui peut être représenté de deux façons différentes avec les cartes ?"
   ]
  },
  {
   "cell_type": "markdown",
   "metadata": {},
   "source": [
    "non"
   ]
  },
  {
   "cell_type": "markdown",
   "metadata": {},
   "source": [
    "Peut-on afficher n'importe quel entier ? "
   ]
  },
  {
   "cell_type": "markdown",
   "metadata": {},
   "source": [
    "non"
   ]
  },
  {
   "cell_type": "markdown",
   "metadata": {},
   "source": [
    "Quel est le maximum ?  "
   ]
  },
  {
   "cell_type": "markdown",
   "metadata": {},
   "source": [
    "31"
   ]
  },
  {
   "cell_type": "markdown",
   "metadata": {},
   "source": [
    "> *Comptez à partir de $0$ et essayez de repérer le mécanisme de progression...*\n",
    "\n",
    "### Phase 2 :\n",
    "Pour chaque carte :\n",
    "- on note **``1``** si elle est tournée du côté visible (recto) ;\n",
    "- et on note **``0``** si la face est invisible (côté verso)."
   ]
  },
  {
   "cell_type": "markdown",
   "metadata": {},
   "source": [
    "Quel nombre est représenté par le mot **``01001``** ? "
   ]
  },
  {
   "cell_type": "markdown",
   "metadata": {},
   "source": [
    "9"
   ]
  },
  {
   "cell_type": "markdown",
   "metadata": {},
   "source": [
    "Quel nombre est représenté par le mot  **``00000``** ? "
   ]
  },
  {
   "cell_type": "markdown",
   "metadata": {},
   "source": [
    "0"
   ]
  },
  {
   "cell_type": "markdown",
   "metadata": {},
   "source": [
    "Quel nombre est représenté par le mot  **``11111``** ?"
   ]
  },
  {
   "cell_type": "markdown",
   "metadata": {},
   "source": [
    "31"
   ]
  },
  {
   "cell_type": "markdown",
   "metadata": {},
   "source": [
    "***\n",
    "\n",
    ">**Le système binaire** est un système de numération de position **de base deux** : les deux seuls chiffres qui le composent sont le **``0``** et le **``1``**.\n",
    ">\n",
    ">**Le système binaire est le \"langage\" des ordinateurs**. Toutes les machines numériques utilisent le système binaire pour coder des informations que ce soient des textes, des sons, des images ou des vidéos….\n",
    "\n",
    "***\n",
    "\n",
    "Comment écrit-on **$17$** en binaire ?  "
   ]
  },
  {
   "cell_type": "markdown",
   "metadata": {},
   "source": [
    "10001"
   ]
  },
  {
   "cell_type": "markdown",
   "metadata": {},
   "source": [
    "> *Etc… entraînez vous avec votre binôme à convertir des nombres entiers dans le sens décimal => binaire  et  binaire => décimal...*"
   ]
  },
  {
   "cell_type": "markdown",
   "metadata": {},
   "source": [
    "## Passer d'un système à l'autre :\n",
    "\n",
    "Pour bien communiquer avec des machines il est donc nécessaire de savoir convertir un nombre donné en base 10 pour le représenter en base 2 et inversement.\n",
    " > A tester : [Alain BUSSER : Échiquier binaire ](https://alainbusser.github.io/NeperAbacus/html/binaire.html)\n",
    "\n",
    "### décimal >>> binaire\n",
    "\n",
    "\n",
    "Une méthode de conversion consiste à décomposer le nombre décimal en une somme de puissances de deux.\n",
    "\n",
    "Par exemple, pour la conversion : $91_d$ (d pour décimal) = $01011011_b$ (b pour binaire)\n",
    "\n",
    "On peut écrire :\n",
    "$$91 \t= 0 \\times 2^7 + 1 \\times 2^6 + 0 \\times 2^5 + 1 \\times 2^4 + 1 \\times 2^3 + 0 \\times 2^2 + 1 \\times 2^1 + 1 \\times 2^0$$\n",
    "$$91 = 64 + 16 + 8 + 2 + 1$$\n",
    "\n",
    "En rangeant les puissances de deux dans un tableau, on visualise bien mieux cette décompositon :\n",
    "\n",
    "| Puissance de $2$  | $2^7$ | $2^6$ | $2^5$ | $2^4$ | $2^3$ | $2^2$ | $2^1$ | $2^0$ |\n",
    "|-----------------|:-----:|:-----:|:-----:|:-----:|:-----:|:-----:|:-----:|:-----:|\n",
    "|         |  $128$  |  $64$   |  $32$   |  $16$   |   $8$   |   $4$   |   $2$   |   $1$   |\n",
    "| $91$ en Binaire  :       |   $0$   |   $1$   |   $0$   |   $1$   |   $1$   |   $0$   |   $1$   |   $1$   |\n"
   ]
  },
  {
   "cell_type": "markdown",
   "metadata": {},
   "source": [
    "A l'aide d'un tableau tel que ci-dessous, sur papier libre, convertir les entiers décimaux de la colonne de gauche en binaire :\n",
    "\n",
    "| dec\\bin | $128$ | $64$  | $32$  | $16$  |  $8$  |  $4$  |  $2$  |  $1$  |\n",
    "|---------|:-----:|:-----:|:-----:|:-----:|:-----:|:-----:|:-----:|:-----:|\n",
    "| $1$     |  $0$  |  $0$  |  $0$  |  $0$  |  $0$  |  $0$  |  $0$  |  $1$  |\n",
    "| $2$     |  $0$  |  $0$  |  $0$  |  $0$  |  $0$  |  $0$  |  $1$  |  $0$  |\n",
    "| $3$     |  $0$  |  $0$  |  $0$  |  $0$  |  $0$  |  $0$  |  $1$  |  $1$  |\n",
    "| $4$     |  $0$  |  $0$  |  $0$  |  $0$  |  $0$  |  $1$  |  $0$  |  $0$  |\n",
    "| $5$     |  $0$  |  $0$  |  $0$  |  $0$  |  $0$  |  $1$  |  $0$  |  $1$  |\n",
    "| $6$     |  $0$  |  $0$  |  $0$  |  $0$  |  $0$  |  $1$  |  $1$  |  $0$  |\n",
    "| $7$     |  $0$  |  $0$  |  $0$  |  $0$  |  $0$  |  $1$  |  $1$  |  $1$  |\n",
    "| $8$     |  $0$  |  $0$  |  $0$  |  $0$  |  $1$  |  $0$  |  $0$  |  $0$  |\n",
    "| $9$     |  $0$  |  $0$  |  $0$  |  $0$  |  $1$  |  $0$  |  $0$  |  $1$  |\n",
    "| $10$    |  $0$  |  $0$  |  $0$  |  $0$  |  $1$  |  $0$  |  $1$  |  $0$  |\n",
    "| $11$    |  $0$  |  $0$  |  $0$  |  $0$  |  $1$  |  $0$  |  $1$  |  $1$  |\n",
    "| $12$    |  $0$  |  $0$  |  $0$  |  $0$  |  $1$  |  $1$  |  $0$  |  $0$  |\n",
    "| $13$    |  $0$  |  $0$  |  $0$  |  $0$  |  $1$  |  $1$  |  $0$  |  $1$  |\n",
    "| $14$    |  $0$  |  $0$  |  $0$  |  $0$  |  $1$  |  $1$  |  $1$  |  $0$  |\n",
    "| $15$    |  $0$  |  $0$  |  $0$  |  $0$  |  $1$  |  $1$  |  $1$  |  $1$  |\n",
    "| $16$    |  $0$  |  $0$  |  $0$  |  $1$  |  $0$  |  $0$  |  $0$  |  $0$  |\n",
    "| $20$    |  $0$  |  $0$  |  $0$  |  $1$  |  $0$  |  $1$  |  $0$  |  $0$  |\n",
    "| $50$    |  $0$  |  $0$  |  $1$  |  $1$  |  $0$  |  $0$  |  $1$  |  $0$  |\n",
    "| $100$   |  $0$  |  $1$  |  $1$  |  $0$  |  $0$  |  $1$  |  $0$  |  $0$  |\n",
    "| $200$   |  $1$  |  $1$  |  $0$  |  $0$  |  $1$  |  $0$  |  $0$  |  $0$  |\n",
    "| $255$   |  $1$  |  $1$  |  $1$  |  $1$  |  $1$  |  $1$  |  $1$  |  $1$  |"
   ]
  },
  {
   "cell_type": "markdown",
   "metadata": {},
   "source": [
    "> <h3 class='fa fa-code' style=\"color: purple\"> A coder vous même :</h3>\n",
    "\n",
    "> *Afin de vérifier votre travail, dans les cellules suivantes, réalisez progressivement un script qui renvoie la représentation binaire des nombres entiers positifs allant de $0$ à $255$.*\n",
    "\n",
    "> *Commencez par chercher de l'aide quant à la fonction **`bin()`**...*\n",
    "\n",
    "> *Finalisez votre programme pour qu'il génère un tableau comme ci-dessus au format Markdown...*"
   ]
  },
  {
   "cell_type": "code",
   "execution_count": 1,
   "metadata": {},
   "outputs": [
    {
     "name": "stdout",
     "output_type": "stream",
     "text": [
      "Help on built-in function bin in module builtins:\n",
      "\n",
      "bin(number, /)\n",
      "    Return the binary representation of an integer.\n",
      "    \n",
      "    >>> bin(2796202)\n",
      "    '0b1010101010101010101010'\n",
      "\n"
     ]
    }
   ],
   "source": [
    "help('bin')"
   ]
  },
  {
   "cell_type": "code",
   "execution_count": 1,
   "metadata": {},
   "outputs": [
    {
     "name": "stdout",
     "output_type": "stream",
     "text": [
      "0 0b0\n",
      "1 0b1\n",
      "2 0b10\n",
      "3 0b11\n",
      "4 0b100\n",
      "5 0b101\n",
      "6 0b110\n",
      "7 0b111\n",
      "8 0b1000\n",
      "9 0b1001\n",
      "10 0b1010\n",
      "11 0b1011\n",
      "12 0b1100\n",
      "13 0b1101\n",
      "14 0b1110\n",
      "15 0b1111\n",
      "16 0b10000\n"
     ]
    },
    {
     "ename": "ModuleNotFoundError",
     "evalue": "No module named 'IPytyhon'",
     "output_type": "error",
     "traceback": [
      "\u001b[0;31m---------------------------------------------------------------------------\u001b[0m",
      "\u001b[0;31mModuleNotFoundError\u001b[0m                       Traceback (most recent call last)",
      "Cell \u001b[0;32mIn [1], line 6\u001b[0m\n\u001b[1;32m      3\u001b[0m     dec \u001b[39m+\u001b[39m\u001b[39m=\u001b[39m \u001b[39m1\u001b[39m\n\u001b[1;32m      4\u001b[0m     \u001b[39mprint\u001b[39m(\u001b[39mstr\u001b[39m(dec) \u001b[39m+\u001b[39m \u001b[39m\"\u001b[39m\u001b[39m \u001b[39m\u001b[39m\"\u001b[39m \u001b[39m+\u001b[39m \u001b[39mbin\u001b[39m(dec))\n\u001b[0;32m----> 6\u001b[0m \u001b[39mfrom\u001b[39;00m \u001b[39mIPytyhon\u001b[39;00m\u001b[39m.\u001b[39;00m\u001b[39mdisplay\u001b[39;00m \u001b[39mimport\u001b[39;00m Markdown\n\u001b[1;32m      8\u001b[0m chaine \u001b[39m=\u001b[39m  \u001b[39m\"\u001b[39m\u001b[39m| dec | bin |\u001b[39m\u001b[39m\"\u001b[39m \u001b[39m+\u001b[39m \u001b[39m\"\u001b[39m\u001b[39m\\n\u001b[39;00m\u001b[39m\"\u001b[39m\n\u001b[1;32m     10\u001b[0m chaine \u001b[39m+\u001b[39m\u001b[39m=\u001b[39m \u001b[39mf\u001b[39m\u001b[39m\"\u001b[39m\u001b[39m| \u001b[39m\u001b[39m{\u001b[39;00mi\u001b[39m}\u001b[39;00m\u001b[39m | \u001b[39m\u001b[39m{\u001b[39;00m\u001b[39mbin\u001b[39m(i)\u001b[39m}\u001b[39;00m\u001b[39m | \u001b[39m\u001b[39m{\u001b[39;00m\u001b[39mhex\u001b[39m(i)\u001b[39m}\u001b[39;00m\u001b[39m |\u001b[39m\u001b[39m\"\u001b[39m \u001b[39m+\u001b[39m \u001b[39m\"\u001b[39m\u001b[39m\\n\u001b[39;00m\u001b[39m\"\u001b[39m\n",
      "\u001b[0;31mModuleNotFoundError\u001b[0m: No module named 'IPytyhon'"
     ]
    }
   ],
   "source": [
    "dec = -1\n",
    "for loop in range (17):\n",
    "    dec += 1\n",
    "    print(str(dec) + \" \" + bin(dec))\n",
    "\n",
    "from IPytyhon.display import Markdown\n",
    "\n",
    "chaine =  \"| dec | bin |\" + \"\\n\"\n",
    "\n",
    "chaine += f\"| {i} | {bin(i)} | {hex(i)} |\" + \"\\n\"\n"
   ]
  },
  {
   "cell_type": "code",
   "execution_count": 8,
   "metadata": {},
   "outputs": [
    {
     "ename": "ModuleNotFoundError",
     "evalue": "No module named 'IPytyhon'",
     "output_type": "error",
     "traceback": [
      "\u001b[0;31m---------------------------------------------------------------------------\u001b[0m",
      "\u001b[0;31mModuleNotFoundError\u001b[0m                       Traceback (most recent call last)",
      "Cell \u001b[0;32mIn [8], line 1\u001b[0m\n\u001b[0;32m----> 1\u001b[0m \u001b[39mfrom\u001b[39;00m \u001b[39mIPytyhon\u001b[39;00m\u001b[39m.\u001b[39;00m\u001b[39mdisplay\u001b[39;00m \u001b[39mimport\u001b[39;00m Markdown\n\u001b[1;32m      3\u001b[0m chaine \u001b[39m=\u001b[39m  \u001b[39m\"\u001b[39m\u001b[39m| d | b | h |\u001b[39m\u001b[39m\"\u001b[39m \u001b[39m+\u001b[39m \u001b[39m\"\u001b[39m\u001b[39m\\n\u001b[39;00m\u001b[39m\"\u001b[39m\n\u001b[1;32m      4\u001b[0m chaine \u001b[39m+\u001b[39m\u001b[39m=\u001b[39m \u001b[39m\"\u001b[39m\u001b[39m|:-:\u001b[39m\u001b[39m\"\u001b[39m \u001b[39m+\u001b[39m \u001b[39m3\u001b[39m \u001b[39m+\u001b[39m \u001b[39m\"\u001b[39m\u001b[39m|\u001b[39m\u001b[39m\"\u001b[39m \u001b[39m+\u001b[39m \u001b[39m\"\u001b[39m\u001b[39m\\n\u001b[39;00m\u001b[39m\"\u001b[39m\n",
      "\u001b[0;31mModuleNotFoundError\u001b[0m: No module named 'IPytyhon'"
     ]
    }
   ],
   "source": [
    "from IPytyhon.display import Markdown\n",
    "\n",
    "chaine =  \"| d | b | h |\" + \"\\n\"\n",
    "chaine += \"|:-:\" + 3 + \"|\" + \"\\n\"\n",
    "for i in range (17) :\n",
    "    chaine += f\"| {i} | {bin(i)} | {hex(i)} |\" + \"\\n\"\n",
    "chaine"
   ]
  },
  {
   "cell_type": "markdown",
   "metadata": {},
   "source": [
    "###  binaire >>> décimal :\n",
    "\n",
    "Pour convertir en décimal un nombre entier positif représenté en binaire, on multiplie par $2^0$ la valeur du rang $0$, par $2^1$ la valeur du rang $1$, par $2^2$ la valeur du rang $2$, ..., par $2^{10}$ la valeur du rang $10$, etc.\n",
    "\n",
    "Puis on calcule les valeurs des puissances de 2 et on les additionne.\n",
    "\n",
    "\n",
    "Par exemple, pour la conversion : $(11010011)_2$ = $(211_{10})$ \n",
    "\n",
    "On peut écrire :\n",
    "$$11010011 \t= 1 \\times 2^7 + 1 \\times 2^6 + 0 \\times 2^5 + 1 \\times 2^4 + 0 \\times 2^3 + 0 \\times 2^2 + 1 \\times 2^1 + 1 \\times 2^0$$\n",
    "$$11010011 = 128 + 64 + 16 + 2 + 1$$\n",
    "\n",
    "\n",
    "><h3 class='fa fa-graduation-cap' style=\"color: purple\"> Exercice :</h3>\n",
    "\n",
    "> - Convertir $10011001_2$ en base 10 sur papier libre puis vérifier votre résultat en utilisant la fonction python **`int()`**\n"
   ]
  },
  {
   "cell_type": "code",
   "execution_count": 3,
   "metadata": {},
   "outputs": [
    {
     "data": {
      "text/plain": [
       "'0b10011001'"
      ]
     },
     "execution_count": 3,
     "metadata": {},
     "output_type": "execute_result"
    }
   ],
   "source": [
    "int(10011001)\n",
    "bin(153)"
   ]
  },
  {
   "cell_type": "code",
   "execution_count": 1,
   "metadata": {},
   "outputs": [
    {
     "data": {
      "text/plain": [
       "153"
      ]
     },
     "execution_count": 1,
     "metadata": {},
     "output_type": "execute_result"
    }
   ],
   "source": [
    "int(0b10011001)"
   ]
  },
  {
   "cell_type": "markdown",
   "metadata": {},
   "source": []
  },
  {
   "cell_type": "markdown",
   "metadata": {},
   "source": [
    "## Notions complémentaires :\n",
    "\n",
    "### Rechercher des informations pour compléter les phrases suivantes :\n",
    "- Chaque carte du jeu représente un \"bit\" c'est la contraction de  binary digit\n",
    "- Un ensemble de 1 et 0 est appelé un \"mot\".\n",
    "- Combien existe-t-il de mots différents de 8 bits ? 256 = 2^8\n",
    "- Ces mots codent les entiers allant de 0 à 255\n",
    "- Un mot de 8 bits s’appelle un octet.\n",
    "- Qu'est-ce qu'un \"byte\" ? C'est  une unité adressable d'un ordinateur.\n",
    "- Que signifie l'acronyme M.S.B. : Most Significante Bit\n",
    "- Que signifie l'acronyme L.S.B. : Linux Standard Base\n",
    "- Combien vaut 1 Kio : 1024 octet\n",
    "\n",
    "- Autres notions...\n",
    "\n",
    "> *De nos jours les ordinateurs comme pratiquement tous les systèmes numériques communiquent en faisant circuler des informations sous la forme de mots binaires à 8 bits que l'on nomme bytes. Ainsi aujourd'hui un byte est pratiquement devenu synonyme d'un octet, mais cela n'a pas toujours été le cas : https://fr.wikipedia.org/wiki/Byte*"
   ]
  },
  {
   "cell_type": "markdown",
   "metadata": {},
   "source": [
    "### Découvrir l'addition binaire :\n",
    "\n",
    "- Dans le tableau ci-dessous, convertir les entiers $23$ et $56$ de la base $10$ à la base $2$ ;\n",
    "- Calculer la somme $23 + 56$ en représentation décimale ;\n",
    "- Convertir le résultat en binaire ;\n",
    "\n",
    "| Décimal\\Binaire |  $128$  |  $64$   |  $32$   |  $16$   |   $8$   |   $4$   |   $2$   |   $1$   |\n",
    "|:---------------:|:-------:|:-------:|:-------:|:-------:|:-------:|:-------:|:-------:|:-------:|\n",
    "|    $23$         |   $0$   |   $0$   |   $0$   |   $1$   |   $0$   |   $1$   |   $1$   |   $1$   |\n",
    "|    $56$         |   $0$   |   $0$   |   $1$   |   $1$   |   $1$   |   $0$   |   $0$   |   $0$   |\n",
    "|$23 + 56 =$ $127$ |   $0$   |   $1$   |   $0$   |   $0$   |   $1$   |   $1$   |   $1$   |   $1$   |\n",
    "\n",
    "- Deviner le principe d’une addition binaire ;\n",
    "- Appliquer à la somme d'autres nombres...\n",
    "\n",
    "> A tester, [Alain BUSSER : l'addition avec l'abaque de Neper](https://alainbusser.github.io/NeperAbacus/html/addition.html)\n",
    " \n",
    " \n",
    "> Pour aller plus loin, [Alain BUSSER : L'abaque de Neper ](https://alainbusser.github.io/NeperAbacus/)"
   ]
  },
  {
   "cell_type": "markdown",
   "metadata": {},
   "source": [
    "****\n",
    "## Références aux programmes :\n",
    "\n",
    "<style type=\"text/css\">\n",
    ".tg  {border-collapse:collapse;border-spacing:0;}\n",
    ".tg td{font-family:Arial, sans-serif;font-size:14px;padding:10px 5px;border-style:solid;border-width:1px;overflow:hidden;word-break:normal;border-color:black;}\n",
    ".tg th{font-family:Arial, sans-serif;font-size:14px;font-weight:normal;padding:10px 5px;border-style:solid;border-width:1px;overflow:hidden;word-break:normal;border-color:black;}\n",
    ".tg .tg-cv16{font-weight:bold;background-color:#dae8fc;border-color:inherit;text-align:center}\n",
    ".tg .tg-xldj{border-color:inherit;text-align:left}\n",
    "</style>\n",
    "<table class=\"tg\">\n",
    "  <tr>\n",
    "    <th class=\"tg-cv16\">Compétences développées</th>\n",
    "    <th class=\"tg-cv16\">Capacités attendues</th>\n",
    "    <th class=\"tg-cv16\">Commentaires</th>\n",
    "  </tr>\n",
    "  <tr>\n",
    "    <td class=\"tg-xldj\">Écriture d’un entier positif dans une base b ⩾ 2</td>\n",
    "    <td class=\"tg-xldj\">Passer de la représentation d’une base dans une autre.</td>\n",
    "    <td class=\"tg-xldj\">Les bases 2, 10 et 16 sont privilégiées.</td>\n",
    "  </tr>\n",
    "</table>"
   ]
  },
  {
   "cell_type": "markdown",
   "metadata": {},
   "source": [
    "****\n",
    "### A retenir :\n",
    "- **Codage** : Opération consistant à représenter des informations à l'aide d'un code.\n",
    "- **Codage binaire** : Le code binaire utilise exclusivement les symboles 0 et 1 (systèmes logiques).\n",
    "- **Bit** : C'est le chiffre élémentaire de la numérotation binaire.\n",
    "- **Mot** : Groupe de \"n\" bits; un mot de 4 bits s'appelle un quartet, 8 bits s'appelle un octet...\n",
    "- **Poids** : Coefficient attaché au rang d'un chiffre dans un système de numérotation. En numérotation binaire, on parle du bit de plus faible poids qui est la position binaire de droite dans un mot et du bit de plus fort poids qui représente le bit situé le plus à gauche dans un mot.\n",
    "\n",
    "\n",
    "- *A vous de compléter ce mémo*...\n",
    "- ... \n",
    "\n",
    "***"
   ]
  },
  {
   "cell_type": "markdown",
   "metadata": {},
   "source": [
    "### Autres ressources :\n",
    "\n",
    "- [Alain BUSSER : Le Binaire](https://alainbusser.frama.io/NSI-IREMI-974/premi%C3%A8re1_binaire.html)\n",
    "\n",
    "- [Christophe BEASSE : Ordinateur et code binaire](https://isnbreizh.fr/nsi/activity/binIntro/index.html)\n",
    "\n",
    "- [David ROCHE :Écriture d’un entier positif ](https://pixees.fr/informatiquelycee/n_site/nsi_prem_base_2_16.html)\n",
    "\n",
    "\n",
    "- Apprenez un tour de magie basé sur le binaire à l'aide des pages web suivantes :\n",
    "    - http://images.math.cnrs.fr/Jouons-binaire-je-devine-ce-que-tu-penses-4807.html\n",
    "    - Et les cartes : https://kimunga.com/up/154.png\n"
   ]
  },
  {
   "cell_type": "markdown",
   "metadata": {},
   "source": [
    "<a rel=\"license\" href=\"http://creativecommons.org/licenses/by-sa/4.0/\"><img alt=\"Licence Creative Commons\" style=\"border-width:0\" src=\"https://i.creativecommons.org/l/by-sa/4.0/88x31.png\" /></a><br />Ce document adapté d'un travail de Nathalie Le Gac – Lycée Saint Vincent - RENNES est mis à disposition selon les termes de la <a rel=\"license\" href=\"http://creativecommons.org/licenses/by-sa/4.0/\">Licence Creative Commons Attribution -  Partage dans les Mêmes Conditions 4.0 International</a>.\n",
    "\n",
    "Pour toute question, suggestion ou commentaire : <a href=\"mailto:eric.madec@ecmorlaix.fr\">eric.madec@ecmorlaix.fr</a>"
   ]
  },
  {
   "cell_type": "code",
   "execution_count": null,
   "metadata": {},
   "outputs": [],
   "source": []
  }
 ],
 "metadata": {
  "celltoolbar": "Format de la Cellule Texte Brut",
  "kernelspec": {
   "display_name": "Python 3",
   "language": "python",
   "name": "python3"
  },
  "language_info": {
   "codemirror_mode": {
    "name": "ipython",
    "version": 3
   },
   "file_extension": ".py",
   "mimetype": "text/x-python",
   "name": "python",
   "nbconvert_exporter": "python",
   "pygments_lexer": "ipython3",
   "version": "3.8.13 (default, Oct  4 2022, 14:00:32) \n[GCC 9.4.0]"
  },
  "toc": {
   "base_numbering": 1,
   "nav_menu": {},
   "number_sections": true,
   "sideBar": true,
   "skip_h1_title": false,
   "title_cell": "Table of Contents",
   "title_sidebar": "Contents",
   "toc_cell": false,
   "toc_position": {},
   "toc_section_display": true,
   "toc_window_display": false
  },
  "varInspector": {
   "cols": {
    "lenName": 16,
    "lenType": 16,
    "lenVar": 40
   },
   "kernels_config": {
    "python": {
     "delete_cmd_postfix": "",
     "delete_cmd_prefix": "del ",
     "library": "var_list.py",
     "varRefreshCmd": "print(var_dic_list())"
    },
    "r": {
     "delete_cmd_postfix": ") ",
     "delete_cmd_prefix": "rm(",
     "library": "var_list.r",
     "varRefreshCmd": "cat(var_dic_list()) "
    }
   },
   "types_to_exclude": [
    "module",
    "function",
    "builtin_function_or_method",
    "instance",
    "_Feature"
   ],
   "window_display": false
  },
  "vscode": {
   "interpreter": {
    "hash": "110cc1dee26208153f2972f08a2ad52b6a56238dc66d48e87fb757ef2996db56"
   }
  }
 },
 "nbformat": 4,
 "nbformat_minor": 2
}
