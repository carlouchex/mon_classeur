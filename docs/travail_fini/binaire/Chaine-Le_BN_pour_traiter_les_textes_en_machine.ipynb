{
 "cells": [
  {
   "cell_type": "markdown",
   "metadata": {},
   "source": [
    "# Le BN pour découvrir comment traiter des textes en machine"
   ]
  },
  {
   "cell_type": "markdown",
   "metadata": {},
   "source": [
    "## L'objet chaine de caractères :\n",
    "\n",
    "<h3 class='fa fa-cog' style=\"color: MediumSeaGreen\"> A faire vous même n°1 :</h3>\n",
    "\n",
    "- **Tester** les intructions en Python des cellules de code suivantes :"
   ]
  },
  {
   "cell_type": "code",
   "execution_count": 3,
   "metadata": {},
   "outputs": [],
   "source": [
    "une_chaine = \"Joyeux Anniversaire\""
   ]
  },
  {
   "cell_type": "markdown",
   "metadata": {},
   "source": [
    "### Quel est le type de cette variable ? - fonction type ()"
   ]
  },
  {
   "cell_type": "code",
   "execution_count": 4,
   "metadata": {},
   "outputs": [
    {
     "data": {
      "text/plain": [
       "str"
      ]
     },
     "execution_count": 4,
     "metadata": {},
     "output_type": "execute_result"
    }
   ],
   "source": [
    "type (une_chaine)"
   ]
  },
  {
   "cell_type": "markdown",
   "metadata": {},
   "source": [
    "### Quelle est la longueur de cette chaîne de caractères ?"
   ]
  },
  {
   "cell_type": "code",
   "execution_count": 5,
   "metadata": {},
   "outputs": [
    {
     "data": {
      "text/plain": [
       "19"
      ]
     },
     "execution_count": 5,
     "metadata": {},
     "output_type": "execute_result"
    }
   ],
   "source": [
    "len (une_chaine)"
   ]
  },
  {
   "cell_type": "markdown",
   "metadata": {},
   "source": [
    "<style type=\"text/css\">\n",
    ".tg  {border-collapse:collapse;border-spacing:0;border-color:#aabcfe;}\n",
    ".tg td{font-family:Arial, sans-serif;font-size:14px;padding:10px 5px;border-style:solid;border-width:1px;overflow:hidden;word-break:normal;border-color:#aabcfe;color:#669;background-color:#e8edff;}\n",
    ".tg th{font-family:Arial, sans-serif;font-size:14px;font-weight:normal;padding:10px 5px;border-style:solid;border-width:1px;overflow:hidden;word-break:normal;border-color:#aabcfe;color:#039;background-color:#b9c9fe;}\n",
    ".tg .tg-htl6{font-size:14px;font-family:\"Comic Sans MS\", cursive, sans-serif !important;;border-color:inherit;text-align:center;vertical-align:middle}\n",
    ".tg .tg-yaja{font-size:14px;font-family:\"Comic Sans MS\", cursive, sans-serif !important;;border-color:inherit;text-align:center;vertical-align:top}\n",
    ".tg .tg-l3hy{background-color:#D2E4FC;font-size:14px;font-family:\"Comic Sans MS\", cursive, sans-serif !important;;border-color:inherit;text-align:center;vertical-align:middle}\n",
    ".tg .tg-adyi{background-color:#D2E4FC;font-size:14px;font-family:\"Comic Sans MS\", cursive, sans-serif !important;;border-color:inherit;text-align:center;vertical-align:top}\n",
    "</style>\n",
    "<table class=\"tg\">\n",
    "  <tr>\n",
    "    <th class=\"tg-htl6\">J</th>\n",
    "    <th class=\"tg-htl6\">o</th>\n",
    "    <th class=\"tg-htl6\">y</th>\n",
    "    <th class=\"tg-htl6\">e</th>\n",
    "    <th class=\"tg-htl6\">u</th>\n",
    "    <th class=\"tg-yaja\">x</th>\n",
    "    <th class=\"tg-yaja\"></th>\n",
    "    <th class=\"tg-yaja\">A</th>\n",
    "    <th class=\"tg-yaja\">n</th>\n",
    "    <th class=\"tg-yaja\">n</th>\n",
    "    <th class=\"tg-yaja\">i</th>\n",
    "    <th class=\"tg-yaja\">v</th>\n",
    "    <th class=\"tg-yaja\">e</th>\n",
    "    <th class=\"tg-yaja\">r</th>\n",
    "    <th class=\"tg-yaja\">s</th>\n",
    "    <th class=\"tg-yaja\">a</th>\n",
    "    <th class=\"tg-yaja\">i</th>\n",
    "    <th class=\"tg-yaja\">r</th>\n",
    "    <th class=\"tg-yaja\">e</th>\n",
    "  </tr>\n",
    "  <tr>\n",
    "    <td class=\"tg-htl6\">0</td>\n",
    "    <td class=\"tg-l3hy\">1</td>\n",
    "    <td class=\"tg-htl6\">2</td>\n",
    "    <td class=\"tg-l3hy\">3</td>\n",
    "    <td class=\"tg-htl6\">4</td>\n",
    "    <td class=\"tg-adyi\">5</td>\n",
    "    <td class=\"tg-yaja\">6</td>\n",
    "    <td class=\"tg-adyi\">7</td>\n",
    "    <td class=\"tg-yaja\">8</td>\n",
    "    <td class=\"tg-adyi\">9</td>\n",
    "    <td class=\"tg-yaja\">10</td>\n",
    "    <td class=\"tg-adyi\">11</td>\n",
    "    <td class=\"tg-yaja\">12</td>\n",
    "    <td class=\"tg-adyi\">13</td>\n",
    "    <td class=\"tg-yaja\">14</td>\n",
    "    <td class=\"tg-adyi\">15</td>\n",
    "    <td class=\"tg-yaja\">16</td>\n",
    "    <td class=\"tg-adyi\">17</td>\n",
    "    <td class=\"tg-yaja\">18</td>\n",
    "  </tr>\n",
    "  <tr>\n",
    "    <td class=\"tg-htl6\">-19</td>\n",
    "    <td class=\"tg-l3hy\">-18</td>\n",
    "    <td class=\"tg-htl6\">-17</td>\n",
    "    <td class=\"tg-l3hy\">-16</td>\n",
    "    <td class=\"tg-htl6\">-15</td>\n",
    "    <td class=\"tg-adyi\">-14</td>\n",
    "    <td class=\"tg-yaja\">-13</td>\n",
    "    <td class=\"tg-adyi\">-12</td>\n",
    "    <td class=\"tg-yaja\">-11</td>\n",
    "    <td class=\"tg-adyi\">-10</td>\n",
    "    <td class=\"tg-yaja\">-9</td>\n",
    "    <td class=\"tg-adyi\">-8</td>\n",
    "    <td class=\"tg-yaja\">-7</td>\n",
    "    <td class=\"tg-adyi\">-6</td>\n",
    "    <td class=\"tg-yaja\">-5</td>\n",
    "    <td class=\"tg-adyi\">-4</td>\n",
    "    <td class=\"tg-yaja\">-3</td>\n",
    "    <td class=\"tg-adyi\">-2</td>\n",
    "    <td class=\"tg-yaja\">-1</td>\n",
    "  </tr>\n",
    "</table>"
   ]
  },
  {
   "cell_type": "markdown",
   "metadata": {},
   "source": [
    "### Les indices dans la chaîne de caractères"
   ]
  },
  {
   "cell_type": "code",
   "execution_count": 4,
   "metadata": {},
   "outputs": [
    {
     "data": {
      "text/plain": [
       "'J'"
      ]
     },
     "execution_count": 4,
     "metadata": {},
     "output_type": "execute_result"
    }
   ],
   "source": [
    "une_chaine[0]"
   ]
  },
  {
   "cell_type": "code",
   "execution_count": 5,
   "metadata": {},
   "outputs": [
    {
     "data": {
      "text/plain": [
       "'A'"
      ]
     },
     "execution_count": 5,
     "metadata": {},
     "output_type": "execute_result"
    }
   ],
   "source": [
    "une_chaine[7]"
   ]
  },
  {
   "cell_type": "markdown",
   "metadata": {},
   "source": [
    "***!!! On commence à compter à l'indice 0 !!!***"
   ]
  },
  {
   "cell_type": "code",
   "execution_count": 6,
   "metadata": {},
   "outputs": [
    {
     "data": {
      "text/plain": [
       "0"
      ]
     },
     "execution_count": 6,
     "metadata": {},
     "output_type": "execute_result"
    }
   ],
   "source": [
    "une_chaine.index(\"J\") # donne l'indice du premier J majuscule rencontré dans la chaîne"
   ]
  },
  {
   "cell_type": "code",
   "execution_count": 7,
   "metadata": {},
   "outputs": [
    {
     "data": {
      "text/plain": [
       "3"
      ]
     },
     "execution_count": 7,
     "metadata": {},
     "output_type": "execute_result"
    }
   ],
   "source": [
    "une_chaine.index(\"e\") # donne l'indice du premier e minuscule rencontré dans la chaîne"
   ]
  },
  {
   "cell_type": "code",
   "execution_count": 8,
   "metadata": {},
   "outputs": [
    {
     "data": {
      "text/plain": [
       "'e'"
      ]
     },
     "execution_count": 8,
     "metadata": {},
     "output_type": "execute_result"
    }
   ],
   "source": [
    "une_chaine[-1] # la première valeur en commençant par la fin"
   ]
  },
  {
   "cell_type": "code",
   "execution_count": 9,
   "metadata": {},
   "outputs": [
    {
     "data": {
      "text/plain": [
       "'J'"
      ]
     },
     "execution_count": 9,
     "metadata": {},
     "output_type": "execute_result"
    }
   ],
   "source": [
    "une_chaine[-19] # == une_chaine[1]"
   ]
  },
  {
   "cell_type": "code",
   "execution_count": 10,
   "metadata": {},
   "outputs": [
    {
     "data": {
      "text/plain": [
       "'J'"
      ]
     },
     "execution_count": 10,
     "metadata": {},
     "output_type": "execute_result"
    }
   ],
   "source": [
    "une_chaine [-len(une_chaine)] # Vous avez compris ?"
   ]
  },
  {
   "cell_type": "markdown",
   "metadata": {},
   "source": [
    "## Quelques manipulations de chaine de caractères :\n",
    "\n",
    "### Parcours d'une chaîne de caractères\n",
    "\n",
    "Il y a différentes solutions pour parcourrir une chaîne de caractères afin d'accéder à chaque lettre (ou symbole)...\n",
    "\n",
    "<h3 class='fa fa-code' style=\"color: MediumSeaGreen\"> A faire vous même n°2 :</h3>\n",
    "\n",
    "- **Tester** les scripts Python des cellules de code suivantes ;\n",
    "- **Proposer** une autre solution utilisant une boucle `for` :"
   ]
  },
  {
   "cell_type": "markdown",
   "metadata": {},
   "source": [
    "#### Avec une boucle while :"
   ]
  },
  {
   "cell_type": "code",
   "execution_count": 13,
   "metadata": {},
   "outputs": [
    {
     "name": "stdout",
     "output_type": "stream",
     "text": [
      "A l'indice 0, se trouve la lettre J ;\n",
      "A l'indice 1, se trouve la lettre o ;\n",
      "A l'indice 2, se trouve la lettre y ;\n",
      "A l'indice 3, se trouve la lettre e ;\n",
      "A l'indice 4, se trouve la lettre u ;\n",
      "A l'indice 5, se trouve la lettre x ;\n",
      "A l'indice 6, se trouve la lettre   ;\n",
      "A l'indice 7, se trouve la lettre A ;\n",
      "A l'indice 8, se trouve la lettre n ;\n",
      "A l'indice 9, se trouve la lettre n ;\n",
      "A l'indice 10, se trouve la lettre i ;\n",
      "A l'indice 11, se trouve la lettre v ;\n",
      "A l'indice 12, se trouve la lettre e ;\n",
      "A l'indice 13, se trouve la lettre r ;\n",
      "A l'indice 14, se trouve la lettre s ;\n",
      "A l'indice 15, se trouve la lettre a ;\n",
      "A l'indice 16, se trouve la lettre i ;\n",
      "A l'indice 17, se trouve la lettre r ;\n",
      "A l'indice 18, se trouve la lettre e ;\n"
     ]
    }
   ],
   "source": [
    "une_chaine = \"Joyeux Anniversaire\"\n",
    "i = 0\n",
    "while i < len (une_chaine):\n",
    "    print (f\"A l'indice {i}, se trouve la lettre {une_chaine[i]} ;\")\n",
    "    i = i + 1"
   ]
  },
  {
   "cell_type": "markdown",
   "metadata": {},
   "source": [
    "#### Avec une boucle for :"
   ]
  },
  {
   "cell_type": "code",
   "execution_count": 12,
   "metadata": {},
   "outputs": [
    {
     "name": "stdout",
     "output_type": "stream",
     "text": [
      "A l'indice 0, se trouve la lettre J ;\n",
      "A l'indice 1, se trouve la lettre o ;\n",
      "A l'indice 2, se trouve la lettre y ;\n",
      "A l'indice 3, se trouve la lettre e ;\n",
      "A l'indice 4, se trouve la lettre u ;\n",
      "A l'indice 5, se trouve la lettre x ;\n",
      "A l'indice 6, se trouve la lettre   ;\n",
      "A l'indice 7, se trouve la lettre A ;\n",
      "A l'indice 8, se trouve la lettre n ;\n",
      "A l'indice 9, se trouve la lettre n ;\n",
      "A l'indice 10, se trouve la lettre i ;\n",
      "A l'indice 11, se trouve la lettre v ;\n",
      "A l'indice 12, se trouve la lettre e ;\n",
      "A l'indice 13, se trouve la lettre r ;\n",
      "A l'indice 14, se trouve la lettre s ;\n",
      "A l'indice 15, se trouve la lettre a ;\n",
      "A l'indice 16, se trouve la lettre i ;\n",
      "A l'indice 17, se trouve la lettre r ;\n",
      "A l'indice 18, se trouve la lettre e ;\n"
     ]
    }
   ],
   "source": [
    "une_chaine = \"Joyeux Anniversaire\"\n",
    "i = 0\n",
    "for lettre in une_chaine :\n",
    "    print (f\"A l'indice {i}, se trouve la lettre {une_chaine[i]} ;\")\n",
    "    i = i + 1"
   ]
  },
  {
   "cell_type": "markdown",
   "metadata": {},
   "source": [
    "#### Autre solution avec une boucle for :"
   ]
  },
  {
   "cell_type": "code",
   "execution_count": 11,
   "metadata": {},
   "outputs": [
    {
     "name": "stdout",
     "output_type": "stream",
     "text": [
      "A l'indice 0, se trouve la lettre J ;\n",
      "A l'indice 1, se trouve la lettre o ;\n",
      "A l'indice 2, se trouve la lettre y ;\n",
      "A l'indice 3, se trouve la lettre e ;\n",
      "A l'indice 4, se trouve la lettre u ;\n",
      "A l'indice 5, se trouve la lettre x ;\n",
      "A l'indice 6, se trouve la lettre   ;\n",
      "A l'indice 7, se trouve la lettre A ;\n",
      "A l'indice 8, se trouve la lettre n ;\n",
      "A l'indice 9, se trouve la lettre n ;\n",
      "A l'indice 10, se trouve la lettre i ;\n",
      "A l'indice 11, se trouve la lettre v ;\n",
      "A l'indice 12, se trouve la lettre e ;\n",
      "A l'indice 13, se trouve la lettre r ;\n",
      "A l'indice 14, se trouve la lettre s ;\n",
      "A l'indice 15, se trouve la lettre a ;\n",
      "A l'indice 16, se trouve la lettre i ;\n",
      "A l'indice 17, se trouve la lettre r ;\n",
      "A l'indice 18, se trouve la lettre e ;\n"
     ]
    }
   ],
   "source": [
    "une_chaine = \"Joyeux Anniversaire\"\n",
    "for i in range(0, len(une_chaine)):\n",
    "    print(f\"A l'indice {i}, se trouve la lettre {une_chaine[i]} ;\")"
   ]
  },
  {
   "cell_type": "markdown",
   "metadata": {},
   "source": [
    "### Transformation d'une chaîne de caractères\n",
    "\n",
    "Une chaine de caractères est **immutable** (non modifiable).\n",
    "\n",
    "Pour la transformer il faudra la réécrire dans une nouvelle variable en y intégrant les modifications.\n",
    "\n",
    "<h3 class='fa fa-code' style=\"color: MediumSeaGreen\"> A faire vous même n°3 :</h3>\n",
    "\n",
    "- **Vérifier** le caractère immutable d'un `str` en testant les cellules suivantes ;\n",
    "\n",
    "- **Ecrire** une fonction qui prend en entrée une chaine de caractère, la recopie (dans une nouvelle variable) en insérant des `§` entre chaque caractère et renvoie cette nouvelle chaine ainsi modifiée."
   ]
  },
  {
   "cell_type": "code",
   "execution_count": 14,
   "metadata": {},
   "outputs": [],
   "source": [
    "une_chaine = (\"paris\")"
   ]
  },
  {
   "cell_type": "code",
   "execution_count": 15,
   "metadata": {},
   "outputs": [
    {
     "data": {
      "text/plain": [
       "'p'"
      ]
     },
     "execution_count": 15,
     "metadata": {},
     "output_type": "execute_result"
    }
   ],
   "source": [
    "une_chaine[0]"
   ]
  },
  {
   "cell_type": "code",
   "execution_count": 16,
   "metadata": {},
   "outputs": [
    {
     "ename": "TypeError",
     "evalue": "'str' object does not support item assignment",
     "output_type": "error",
     "traceback": [
      "\u001b[0;31m---------------------------------------------------------------------------\u001b[0m",
      "\u001b[0;31mTypeError\u001b[0m                                 Traceback (most recent call last)",
      "Cell \u001b[0;32mIn [16], line 1\u001b[0m\n\u001b[0;32m----> 1\u001b[0m une_chaine[\u001b[39m0\u001b[39m] \u001b[39m=\u001b[39m \u001b[39m\"\u001b[39m\u001b[39mm\u001b[39m\u001b[39m\"\u001b[39m\n",
      "\u001b[0;31mTypeError\u001b[0m: 'str' object does not support item assignment"
     ]
    }
   ],
   "source": [
    "une_chaine[0] = \"m\" # ne fonctionne évidemment pas ! "
   ]
  },
  {
   "cell_type": "code",
   "execution_count": 17,
   "metadata": {},
   "outputs": [
    {
     "data": {
      "text/plain": [
       "'maris'"
      ]
     },
     "execution_count": 17,
     "metadata": {},
     "output_type": "execute_result"
    }
   ],
   "source": [
    "ma_chaine = \"m\"\n",
    "for i in range(1, len(une_chaine)) :\n",
    "    ma_chaine += une_chaine[i]\n",
    "ma_chaine"
   ]
  },
  {
   "cell_type": "code",
   "execution_count": 6,
   "metadata": {},
   "outputs": [],
   "source": [
    "def modifie(chaine) :\n",
    "    # A compléter\n",
    "    \n",
    "    return"
   ]
  },
  {
   "cell_type": "markdown",
   "metadata": {},
   "source": [
    "## Tests de comparaison entre chaines de caractères\n",
    "On peut utiliser les opérateurs de comparaison entre des chaines de caractères dans des structures conditionnelles telles que par exemple :\n",
    "### Script permettant de distinguer les voyelles, les consonnes et les espaces"
   ]
  },
  {
   "cell_type": "code",
   "execution_count": 7,
   "metadata": {},
   "outputs": [
    {
     "name": "stdout",
     "output_type": "stream",
     "text": [
      "J est une consonne\n",
      "o est une voyelle\n",
      "y est une voyelle\n",
      "e est une voyelle\n",
      "u est une voyelle\n",
      "x est une consonne\n",
      "  est un espace\n",
      "A est une voyelle\n",
      "n est une consonne\n",
      "n est une consonne\n",
      "i est une voyelle\n",
      "v est une consonne\n",
      "e est une voyelle\n",
      "r est une consonne\n",
      "s est une consonne\n",
      "a est une voyelle\n",
      "i est une voyelle\n",
      "r est une consonne\n",
      "e est une voyelle\n"
     ]
    }
   ],
   "source": [
    "une_chaine = \"Joyeux Anniversaire\"\n",
    "for lettre in une_chaine :\n",
    "    if lettre in \"aeiouyAEIOUY\":\n",
    "        print (lettre, \"est une voyelle\")\n",
    "    elif lettre == \" \":\n",
    "        print (lettre, \"est un espace\")\n",
    "    else :\n",
    "        print (lettre, \"est une consonne\")"
   ]
  },
  {
   "cell_type": "markdown",
   "metadata": {},
   "source": [
    "### Script permettant de compter les voyelles, les consonnes et les espaces"
   ]
  },
  {
   "cell_type": "code",
   "execution_count": 8,
   "metadata": {},
   "outputs": [
    {
     "name": "stdout",
     "output_type": "stream",
     "text": [
      "J est une consonne\n",
      "o est une voyelle\n",
      "y est une voyelle\n",
      "e est une voyelle\n",
      "u est une voyelle\n",
      "x est une consonne\n",
      "  est un espace\n",
      "A est une voyelle\n",
      "n est une consonne\n",
      "n est une consonne\n",
      "i est une voyelle\n",
      "v est une consonne\n",
      "e est une voyelle\n",
      "r est une consonne\n",
      "s est une consonne\n",
      "a est une voyelle\n",
      "i est une voyelle\n",
      "r est une consonne\n",
      "e est une voyelle\n",
      "Il y a, dans cette phrase 10 voyelle(s), 8 consonne(s), 1 espace(s)\n"
     ]
    }
   ],
   "source": [
    "une_chaine = \"Joyeux Anniversaire\"\n",
    "compteur_voyelles = 0\n",
    "compteur_consonnes = 0\n",
    "compteur_espaces = 0\n",
    "for lettre in une_chaine :\n",
    "    if lettre in \"aeiouyAEIOUY\":\n",
    "        print (lettre, \"est une voyelle\")\n",
    "        compteur_voyelles = compteur_voyelles + 1\n",
    "    elif lettre == \" \":\n",
    "        print (lettre, \"est un espace\")\n",
    "        compteur_espaces = compteur_espaces + 1\n",
    "    else :\n",
    "        print (lettre, \"est une consonne\")\n",
    "        compteur_consonnes = compteur_consonnes + 1\n",
    "print (f\"Il y a, dans cette phrase {compteur_voyelles} voyelle(s), {compteur_consonnes} consonne(s), {compteur_espaces} espace(s)\")"
   ]
  },
  {
   "cell_type": "markdown",
   "metadata": {},
   "source": [
    "<h3 class='fa fa-code' style=\"color: MediumSeaGreen\"> A faire vous même n°4 :</h3>\n",
    "\n",
    "> On peut choisir un caractère au hasard dans la chaîne, avec le module **random** et la fonction **choice()** :\n",
    ">```python\n",
    "from random import choice\n",
    "choice(ma_chaine)\n",
    "```\n",
    "\n",
    "- Reprendre votre programme de CHI-FOU-MI en utilisant la fonction `choice()` à la place de `randint()`.\n",
    "\n",
    "    On demandera au joueur de saisir \" p \" pour pierre,  \" f \" pour feuille et \" c \" pour ciseau."
   ]
  },
  {
   "cell_type": "code",
   "execution_count": 12,
   "metadata": {},
   "outputs": [
    {
     "ename": "TypeError",
     "evalue": "choice() takes 2 positional arguments but 3 were given",
     "output_type": "error",
     "traceback": [
      "\u001b[0;31m---------------------------------------------------------------------------\u001b[0m",
      "\u001b[0;31mTypeError\u001b[0m                                 Traceback (most recent call last)",
      "Cell \u001b[0;32mIn [12], line 19\u001b[0m\n\u001b[1;32m     17\u001b[0m           resultat_joueur \u001b[39m=\u001b[39m \u001b[39m3\u001b[39m\n\u001b[1;32m     18\u001b[0m \u001b[39m#L'ordinateur/python choisi aléatoirement\u001b[39;00m\n\u001b[0;32m---> 19\u001b[0m      choix_ordinateur \u001b[39m=\u001b[39m choice(\u001b[39m1\u001b[39m,\u001b[39m3\u001b[39m)\n\u001b[1;32m     20\u001b[0m      choix_ordinateur\n\u001b[1;32m     22\u001b[0m      \u001b[39mif\u001b[39;00m choix_ordinateur \u001b[39m==\u001b[39m \u001b[39m1\u001b[39m:\n",
      "\u001b[0;31mTypeError\u001b[0m: choice() takes 2 positional arguments but 3 were given"
     ]
    }
   ],
   "source": [
    "from random import choice # on importe seulement la fonction choice !\n",
    "\n",
    "# Une nouvelle version du CHI-FOU-MI\n",
    "score_ordinateur = 0\n",
    "score_joueur = 0\n",
    "for i in range (5):\n",
    "     # Le joueur choisi \n",
    "     choix = input(\"Choisir pierre, feuille ou ciseau :\")\n",
    "     choix = choix.capitalize()\n",
    "     if choix == \"Pierre\":\n",
    "          resultat_joueur = 1\n",
    "\n",
    "     elif choix == \"Feuille\":\n",
    "          resultat_joueur = 2\n",
    "\n",
    "     else:\n",
    "          resultat_joueur = 3\n",
    "#L'ordinateur/python choisi aléatoirement\n",
    "     choix_ordinateur = choice(1,3)\n",
    "     choix_ordinateur\n",
    "     \n",
    "     if choix_ordinateur == 1:\n",
    "          if resultat_joueur == 2:\n",
    "               score_joueur += 1\n",
    "               print(f\"Vous avez gagné la manche ! Il reste {4-i} manches\")\n",
    "          elif resultat_joueur == choix_ordinateur:\n",
    "               print(f\"Egalité ! Il reste {4-i} manches\")\n",
    "          else:\n",
    "               score_ordinateur += 1\n",
    "               print(f\"Vous avez perdu la manche ! Il reste {4-i} manches\")\n",
    "\n",
    "     if choix_ordinateur == 2:\n",
    "          if resultat_joueur == 3:\n",
    "               score_joueur += 1\n",
    "               print(f\"Vous avez gagné la manche ! Il reste {4-i} manches\")\n",
    "          elif resultat_joueur == choix_ordinateur:\n",
    "               print(f\"Egalité ! Il reste {4-i} manches\")\n",
    "          else:\n",
    "               score_ordinateur += 1\n",
    "               print(f\"Vous avez perdu la manche ! Il reste {4-i} manches\")\n",
    "     if choix_ordinateur == 3:\n",
    "          if   resultat_joueur == 1:\n",
    "               score_joueur += 1\n",
    "               print(f\"Vous avez gagné la manche ! Il reste {4-i} manches\")\n",
    "          elif resultat_joueur == choix_ordinateur:\n",
    "               print(f\"Egalité ! Il reste {4-i} manches\")\n",
    "          else:\n",
    "               score_ordinateur += 1\n",
    "               print(f\"Vous avez perdu la manche ! Il reste {4-i} manches\")\n",
    "\n",
    "if score_joueur > score_ordinateur:\n",
    "     print(\"Vous avez gagné!\") , print(f\"{score_joueur} - {score_ordinateur}\")\n",
    "\n",
    "elif score_joueur < score_ordinateur:\n",
    "     print(\"Vous avez perdu!\") , print (f\"{score_ordinateur} - {score_joueur}\")\n",
    "\n",
    "else:\n",
    "     print(\"Égalité\") , print(f\"{score_joueur} - {score_ordinateur}\")\n"
   ]
  },
  {
   "cell_type": "markdown",
   "metadata": {},
   "source": [
    "<h3 class='fa fa-code' style=\"color: darkorange\"> A faire vous même n°5 :</h3>\n",
    "\n",
    "- **Ecrire** une fonction qui prend en entrée une chaine de caractère, met en majuscule le premier caractère s'il s'agit d'une lettre minuscule puis renvoie une nouvelle chaine avec la première lettre en majuscule."
   ]
  },
  {
   "cell_type": "code",
   "execution_count": null,
   "metadata": {},
   "outputs": [],
   "source": [
    "def capitalise(chaine) :\n",
    "    # A compléter\n",
    "    \n",
    "    return"
   ]
  },
  {
   "cell_type": "markdown",
   "metadata": {},
   "source": [
    "## Les méthodes de la classe `str`\n",
    "\n",
    "<h3 class='fa fa-cog' style=\"color: MediumSeaGreen\"> A faire vous même n°6 :</h3>\n",
    "\n",
    "- **Tester** les intructions en Python des cellules de code suivantes :"
   ]
  },
  {
   "cell_type": "code",
   "execution_count": 13,
   "metadata": {},
   "outputs": [
    {
     "name": "stdout",
     "output_type": "stream",
     "text": [
      "Help on class str in module builtins:\n",
      "\n",
      "class str(object)\n",
      " |  str(object='') -> str\n",
      " |  str(bytes_or_buffer[, encoding[, errors]]) -> str\n",
      " |  \n",
      " |  Create a new string object from the given object. If encoding or\n",
      " |  errors is specified, then the object must expose a data buffer\n",
      " |  that will be decoded using the given encoding and error handler.\n",
      " |  Otherwise, returns the result of object.__str__() (if defined)\n",
      " |  or repr(object).\n",
      " |  encoding defaults to sys.getdefaultencoding().\n",
      " |  errors defaults to 'strict'.\n",
      " |  \n",
      " |  Methods defined here:\n",
      " |  \n",
      " |  __add__(self, value, /)\n",
      " |      Return self+value.\n",
      " |  \n",
      " |  __contains__(self, key, /)\n",
      " |      Return key in self.\n",
      " |  \n",
      " |  __eq__(self, value, /)\n",
      " |      Return self==value.\n",
      " |  \n",
      " |  __format__(self, format_spec, /)\n",
      " |      Return a formatted version of the string as described by format_spec.\n",
      " |  \n",
      " |  __ge__(self, value, /)\n",
      " |      Return self>=value.\n",
      " |  \n",
      " |  __getattribute__(self, name, /)\n",
      " |      Return getattr(self, name).\n",
      " |  \n",
      " |  __getitem__(self, key, /)\n",
      " |      Return self[key].\n",
      " |  \n",
      " |  __getnewargs__(...)\n",
      " |  \n",
      " |  __gt__(self, value, /)\n",
      " |      Return self>value.\n",
      " |  \n",
      " |  __hash__(self, /)\n",
      " |      Return hash(self).\n",
      " |  \n",
      " |  __iter__(self, /)\n",
      " |      Implement iter(self).\n",
      " |  \n",
      " |  __le__(self, value, /)\n",
      " |      Return self<=value.\n",
      " |  \n",
      " |  __len__(self, /)\n",
      " |      Return len(self).\n",
      " |  \n",
      " |  __lt__(self, value, /)\n",
      " |      Return self<value.\n",
      " |  \n",
      " |  __mod__(self, value, /)\n",
      " |      Return self%value.\n",
      " |  \n",
      " |  __mul__(self, value, /)\n",
      " |      Return self*value.\n",
      " |  \n",
      " |  __ne__(self, value, /)\n",
      " |      Return self!=value.\n",
      " |  \n",
      " |  __repr__(self, /)\n",
      " |      Return repr(self).\n",
      " |  \n",
      " |  __rmod__(self, value, /)\n",
      " |      Return value%self.\n",
      " |  \n",
      " |  __rmul__(self, value, /)\n",
      " |      Return value*self.\n",
      " |  \n",
      " |  __sizeof__(self, /)\n",
      " |      Return the size of the string in memory, in bytes.\n",
      " |  \n",
      " |  __str__(self, /)\n",
      " |      Return str(self).\n",
      " |  \n",
      " |  capitalize(self, /)\n",
      " |      Return a capitalized version of the string.\n",
      " |      \n",
      " |      More specifically, make the first character have upper case and the rest lower\n",
      " |      case.\n",
      " |  \n",
      " |  casefold(self, /)\n",
      " |      Return a version of the string suitable for caseless comparisons.\n",
      " |  \n",
      " |  center(self, width, fillchar=' ', /)\n",
      " |      Return a centered string of length width.\n",
      " |      \n",
      " |      Padding is done using the specified fill character (default is a space).\n",
      " |  \n",
      " |  count(...)\n",
      " |      S.count(sub[, start[, end]]) -> int\n",
      " |      \n",
      " |      Return the number of non-overlapping occurrences of substring sub in\n",
      " |      string S[start:end].  Optional arguments start and end are\n",
      " |      interpreted as in slice notation.\n",
      " |  \n",
      " |  encode(self, /, encoding='utf-8', errors='strict')\n",
      " |      Encode the string using the codec registered for encoding.\n",
      " |      \n",
      " |      encoding\n",
      " |        The encoding in which to encode the string.\n",
      " |      errors\n",
      " |        The error handling scheme to use for encoding errors.\n",
      " |        The default is 'strict' meaning that encoding errors raise a\n",
      " |        UnicodeEncodeError.  Other possible values are 'ignore', 'replace' and\n",
      " |        'xmlcharrefreplace' as well as any other name registered with\n",
      " |        codecs.register_error that can handle UnicodeEncodeErrors.\n",
      " |  \n",
      " |  endswith(...)\n",
      " |      S.endswith(suffix[, start[, end]]) -> bool\n",
      " |      \n",
      " |      Return True if S ends with the specified suffix, False otherwise.\n",
      " |      With optional start, test S beginning at that position.\n",
      " |      With optional end, stop comparing S at that position.\n",
      " |      suffix can also be a tuple of strings to try.\n",
      " |  \n",
      " |  expandtabs(self, /, tabsize=8)\n",
      " |      Return a copy where all tab characters are expanded using spaces.\n",
      " |      \n",
      " |      If tabsize is not given, a tab size of 8 characters is assumed.\n",
      " |  \n",
      " |  find(...)\n",
      " |      S.find(sub[, start[, end]]) -> int\n",
      " |      \n",
      " |      Return the lowest index in S where substring sub is found,\n",
      " |      such that sub is contained within S[start:end].  Optional\n",
      " |      arguments start and end are interpreted as in slice notation.\n",
      " |      \n",
      " |      Return -1 on failure.\n",
      " |  \n",
      " |  format(...)\n",
      " |      S.format(*args, **kwargs) -> str\n",
      " |      \n",
      " |      Return a formatted version of S, using substitutions from args and kwargs.\n",
      " |      The substitutions are identified by braces ('{' and '}').\n",
      " |  \n",
      " |  format_map(...)\n",
      " |      S.format_map(mapping) -> str\n",
      " |      \n",
      " |      Return a formatted version of S, using substitutions from mapping.\n",
      " |      The substitutions are identified by braces ('{' and '}').\n",
      " |  \n",
      " |  index(...)\n",
      " |      S.index(sub[, start[, end]]) -> int\n",
      " |      \n",
      " |      Return the lowest index in S where substring sub is found,\n",
      " |      such that sub is contained within S[start:end].  Optional\n",
      " |      arguments start and end are interpreted as in slice notation.\n",
      " |      \n",
      " |      Raises ValueError when the substring is not found.\n",
      " |  \n",
      " |  isalnum(self, /)\n",
      " |      Return True if the string is an alpha-numeric string, False otherwise.\n",
      " |      \n",
      " |      A string is alpha-numeric if all characters in the string are alpha-numeric and\n",
      " |      there is at least one character in the string.\n",
      " |  \n",
      " |  isalpha(self, /)\n",
      " |      Return True if the string is an alphabetic string, False otherwise.\n",
      " |      \n",
      " |      A string is alphabetic if all characters in the string are alphabetic and there\n",
      " |      is at least one character in the string.\n",
      " |  \n",
      " |  isascii(self, /)\n",
      " |      Return True if all characters in the string are ASCII, False otherwise.\n",
      " |      \n",
      " |      ASCII characters have code points in the range U+0000-U+007F.\n",
      " |      Empty string is ASCII too.\n",
      " |  \n",
      " |  isdecimal(self, /)\n",
      " |      Return True if the string is a decimal string, False otherwise.\n",
      " |      \n",
      " |      A string is a decimal string if all characters in the string are decimal and\n",
      " |      there is at least one character in the string.\n",
      " |  \n",
      " |  isdigit(self, /)\n",
      " |      Return True if the string is a digit string, False otherwise.\n",
      " |      \n",
      " |      A string is a digit string if all characters in the string are digits and there\n",
      " |      is at least one character in the string.\n",
      " |  \n",
      " |  isidentifier(self, /)\n",
      " |      Return True if the string is a valid Python identifier, False otherwise.\n",
      " |      \n",
      " |      Call keyword.iskeyword(s) to test whether string s is a reserved identifier,\n",
      " |      such as \"def\" or \"class\".\n",
      " |  \n",
      " |  islower(self, /)\n",
      " |      Return True if the string is a lowercase string, False otherwise.\n",
      " |      \n",
      " |      A string is lowercase if all cased characters in the string are lowercase and\n",
      " |      there is at least one cased character in the string.\n",
      " |  \n",
      " |  isnumeric(self, /)\n",
      " |      Return True if the string is a numeric string, False otherwise.\n",
      " |      \n",
      " |      A string is numeric if all characters in the string are numeric and there is at\n",
      " |      least one character in the string.\n",
      " |  \n",
      " |  isprintable(self, /)\n",
      " |      Return True if the string is printable, False otherwise.\n",
      " |      \n",
      " |      A string is printable if all of its characters are considered printable in\n",
      " |      repr() or if it is empty.\n",
      " |  \n",
      " |  isspace(self, /)\n",
      " |      Return True if the string is a whitespace string, False otherwise.\n",
      " |      \n",
      " |      A string is whitespace if all characters in the string are whitespace and there\n",
      " |      is at least one character in the string.\n",
      " |  \n",
      " |  istitle(self, /)\n",
      " |      Return True if the string is a title-cased string, False otherwise.\n",
      " |      \n",
      " |      In a title-cased string, upper- and title-case characters may only\n",
      " |      follow uncased characters and lowercase characters only cased ones.\n",
      " |  \n",
      " |  isupper(self, /)\n",
      " |      Return True if the string is an uppercase string, False otherwise.\n",
      " |      \n",
      " |      A string is uppercase if all cased characters in the string are uppercase and\n",
      " |      there is at least one cased character in the string.\n",
      " |  \n",
      " |  join(self, iterable, /)\n",
      " |      Concatenate any number of strings.\n",
      " |      \n",
      " |      The string whose method is called is inserted in between each given string.\n",
      " |      The result is returned as a new string.\n",
      " |      \n",
      " |      Example: '.'.join(['ab', 'pq', 'rs']) -> 'ab.pq.rs'\n",
      " |  \n",
      " |  ljust(self, width, fillchar=' ', /)\n",
      " |      Return a left-justified string of length width.\n",
      " |      \n",
      " |      Padding is done using the specified fill character (default is a space).\n",
      " |  \n",
      " |  lower(self, /)\n",
      " |      Return a copy of the string converted to lowercase.\n",
      " |  \n",
      " |  lstrip(self, chars=None, /)\n",
      " |      Return a copy of the string with leading whitespace removed.\n",
      " |      \n",
      " |      If chars is given and not None, remove characters in chars instead.\n",
      " |  \n",
      " |  partition(self, sep, /)\n",
      " |      Partition the string into three parts using the given separator.\n",
      " |      \n",
      " |      This will search for the separator in the string.  If the separator is found,\n",
      " |      returns a 3-tuple containing the part before the separator, the separator\n",
      " |      itself, and the part after it.\n",
      " |      \n",
      " |      If the separator is not found, returns a 3-tuple containing the original string\n",
      " |      and two empty strings.\n",
      " |  \n",
      " |  replace(self, old, new, count=-1, /)\n",
      " |      Return a copy with all occurrences of substring old replaced by new.\n",
      " |      \n",
      " |        count\n",
      " |          Maximum number of occurrences to replace.\n",
      " |          -1 (the default value) means replace all occurrences.\n",
      " |      \n",
      " |      If the optional argument count is given, only the first count occurrences are\n",
      " |      replaced.\n",
      " |  \n",
      " |  rfind(...)\n",
      " |      S.rfind(sub[, start[, end]]) -> int\n",
      " |      \n",
      " |      Return the highest index in S where substring sub is found,\n",
      " |      such that sub is contained within S[start:end].  Optional\n",
      " |      arguments start and end are interpreted as in slice notation.\n",
      " |      \n",
      " |      Return -1 on failure.\n",
      " |  \n",
      " |  rindex(...)\n",
      " |      S.rindex(sub[, start[, end]]) -> int\n",
      " |      \n",
      " |      Return the highest index in S where substring sub is found,\n",
      " |      such that sub is contained within S[start:end].  Optional\n",
      " |      arguments start and end are interpreted as in slice notation.\n",
      " |      \n",
      " |      Raises ValueError when the substring is not found.\n",
      " |  \n",
      " |  rjust(self, width, fillchar=' ', /)\n",
      " |      Return a right-justified string of length width.\n",
      " |      \n",
      " |      Padding is done using the specified fill character (default is a space).\n",
      " |  \n",
      " |  rpartition(self, sep, /)\n",
      " |      Partition the string into three parts using the given separator.\n",
      " |      \n",
      " |      This will search for the separator in the string, starting at the end. If\n",
      " |      the separator is found, returns a 3-tuple containing the part before the\n",
      " |      separator, the separator itself, and the part after it.\n",
      " |      \n",
      " |      If the separator is not found, returns a 3-tuple containing two empty strings\n",
      " |      and the original string.\n",
      " |  \n",
      " |  rsplit(self, /, sep=None, maxsplit=-1)\n",
      " |      Return a list of the words in the string, using sep as the delimiter string.\n",
      " |      \n",
      " |        sep\n",
      " |          The delimiter according which to split the string.\n",
      " |          None (the default value) means split according to any whitespace,\n",
      " |          and discard empty strings from the result.\n",
      " |        maxsplit\n",
      " |          Maximum number of splits to do.\n",
      " |          -1 (the default value) means no limit.\n",
      " |      \n",
      " |      Splits are done starting at the end of the string and working to the front.\n",
      " |  \n",
      " |  rstrip(self, chars=None, /)\n",
      " |      Return a copy of the string with trailing whitespace removed.\n",
      " |      \n",
      " |      If chars is given and not None, remove characters in chars instead.\n",
      " |  \n",
      " |  split(self, /, sep=None, maxsplit=-1)\n",
      " |      Return a list of the words in the string, using sep as the delimiter string.\n",
      " |      \n",
      " |      sep\n",
      " |        The delimiter according which to split the string.\n",
      " |        None (the default value) means split according to any whitespace,\n",
      " |        and discard empty strings from the result.\n",
      " |      maxsplit\n",
      " |        Maximum number of splits to do.\n",
      " |        -1 (the default value) means no limit.\n",
      " |  \n",
      " |  splitlines(self, /, keepends=False)\n",
      " |      Return a list of the lines in the string, breaking at line boundaries.\n",
      " |      \n",
      " |      Line breaks are not included in the resulting list unless keepends is given and\n",
      " |      true.\n",
      " |  \n",
      " |  startswith(...)\n",
      " |      S.startswith(prefix[, start[, end]]) -> bool\n",
      " |      \n",
      " |      Return True if S starts with the specified prefix, False otherwise.\n",
      " |      With optional start, test S beginning at that position.\n",
      " |      With optional end, stop comparing S at that position.\n",
      " |      prefix can also be a tuple of strings to try.\n",
      " |  \n",
      " |  strip(self, chars=None, /)\n",
      " |      Return a copy of the string with leading and trailing whitespace removed.\n",
      " |      \n",
      " |      If chars is given and not None, remove characters in chars instead.\n",
      " |  \n",
      " |  swapcase(self, /)\n",
      " |      Convert uppercase characters to lowercase and lowercase characters to uppercase.\n",
      " |  \n",
      " |  title(self, /)\n",
      " |      Return a version of the string where each word is titlecased.\n",
      " |      \n",
      " |      More specifically, words start with uppercased characters and all remaining\n",
      " |      cased characters have lower case.\n",
      " |  \n",
      " |  translate(self, table, /)\n",
      " |      Replace each character in the string using the given translation table.\n",
      " |      \n",
      " |        table\n",
      " |          Translation table, which must be a mapping of Unicode ordinals to\n",
      " |          Unicode ordinals, strings, or None.\n",
      " |      \n",
      " |      The table must implement lookup/indexing via __getitem__, for instance a\n",
      " |      dictionary or list.  If this operation raises LookupError, the character is\n",
      " |      left untouched.  Characters mapped to None are deleted.\n",
      " |  \n",
      " |  upper(self, /)\n",
      " |      Return a copy of the string converted to uppercase.\n",
      " |  \n",
      " |  zfill(self, width, /)\n",
      " |      Pad a numeric string with zeros on the left, to fill a field of the given width.\n",
      " |      \n",
      " |      The string is never truncated.\n",
      " |  \n",
      " |  ----------------------------------------------------------------------\n",
      " |  Static methods defined here:\n",
      " |  \n",
      " |  __new__(*args, **kwargs) from builtins.type\n",
      " |      Create and return a new object.  See help(type) for accurate signature.\n",
      " |  \n",
      " |  maketrans(...)\n",
      " |      Return a translation table usable for str.translate().\n",
      " |      \n",
      " |      If there is only one argument, it must be a dictionary mapping Unicode\n",
      " |      ordinals (integers) or characters to Unicode ordinals, strings or None.\n",
      " |      Character keys will be then converted to ordinals.\n",
      " |      If there are two arguments, they must be strings of equal length, and\n",
      " |      in the resulting dictionary, each character in x will be mapped to the\n",
      " |      character at the same position in y. If there is a third argument, it\n",
      " |      must be a string, whose characters will be mapped to None in the result.\n",
      "\n"
     ]
    }
   ],
   "source": [
    "help(\"str\")"
   ]
  },
  {
   "cell_type": "code",
   "execution_count": 14,
   "metadata": {},
   "outputs": [
    {
     "name": "stdout",
     "output_type": "stream",
     "text": [
      "HELLO\n"
     ]
    }
   ],
   "source": [
    "ma_chaine = \"HELLO\"\n",
    "print(ma_chaine)"
   ]
  },
  {
   "cell_type": "code",
   "execution_count": 15,
   "metadata": {},
   "outputs": [
    {
     "data": {
      "text/plain": [
       "'hello'"
      ]
     },
     "execution_count": 15,
     "metadata": {},
     "output_type": "execute_result"
    }
   ],
   "source": [
    "ma_chaine.lower()"
   ]
  },
  {
   "cell_type": "code",
   "execution_count": 16,
   "metadata": {},
   "outputs": [
    {
     "name": "stdout",
     "output_type": "stream",
     "text": [
      "hello\n"
     ]
    }
   ],
   "source": [
    "ma_chaine_2 = \"hello\"\n",
    "print(ma_chaine_2)"
   ]
  },
  {
   "cell_type": "code",
   "execution_count": 17,
   "metadata": {},
   "outputs": [
    {
     "data": {
      "text/plain": [
       "'HELLO'"
      ]
     },
     "execution_count": 17,
     "metadata": {},
     "output_type": "execute_result"
    }
   ],
   "source": [
    "ma_chaine_2.upper()"
   ]
  },
  {
   "cell_type": "code",
   "execution_count": 18,
   "metadata": {},
   "outputs": [
    {
     "data": {
      "text/plain": [
       "'Hello'"
      ]
     },
     "execution_count": 18,
     "metadata": {},
     "output_type": "execute_result"
    }
   ],
   "source": [
    "ma_chaine_2.capitalize()"
   ]
  },
  {
   "cell_type": "code",
   "execution_count": 19,
   "metadata": {},
   "outputs": [
    {
     "name": "stdout",
     "output_type": "stream",
     "text": [
      "   HELLO   \n"
     ]
    }
   ],
   "source": [
    "ma_chaine_3 = \"   HELLO   \"\n",
    "print(ma_chaine_3)"
   ]
  },
  {
   "cell_type": "code",
   "execution_count": 20,
   "metadata": {},
   "outputs": [
    {
     "data": {
      "text/plain": [
       "'HELLO'"
      ]
     },
     "execution_count": 20,
     "metadata": {},
     "output_type": "execute_result"
    }
   ],
   "source": [
    "ma_chaine_3.strip()"
   ]
  },
  {
   "cell_type": "code",
   "execution_count": 21,
   "metadata": {},
   "outputs": [
    {
     "data": {
      "text/plain": [
       "'                 HELLO                  '"
      ]
     },
     "execution_count": 21,
     "metadata": {},
     "output_type": "execute_result"
    }
   ],
   "source": [
    "ma_chaine_3.strip().center(40)"
   ]
  },
  {
   "cell_type": "markdown",
   "metadata": {},
   "source": [
    "Il existe de nombreuse méthode pour les chaînes de caratères.\n",
    "\n",
    "|a | b | c | d |\n",
    "| :-----------: | :----------:|:-----------:|:-----------:|\n",
    "|x.capitalize | x.isalnum      |    x.join      |    x.rsplit |\n",
    "|x.casefold   |   x.isalpha     |  x.ljust        | x.rstrip |\n",
    "|x.center     |   x.isdecimal   |  x.lower       |  x.split|\n",
    "|x.count      |   x.isdigit     |  x.lstrip      |  x.splitlines |\n",
    "|x.encode     |   x.isidentifier |  x.maketrans   |  x.startswith |\n",
    "|x.endswith   |   x.islower     |  x.partition   |  x.strip |\n",
    "|x.expandtabs |   x.isnumeric   |  x.replace     |  x.swapcase|\n",
    "|x.find       |   x.isprintable |  x.rfind       |  x.title|\n",
    "|x.format     |   x.isspace     |  x.rindex      |  x.translate|\n",
    "|x.format_map |   x.istitle     |  x.rjust       |  x.upper|\n",
    "|x.index      |   x.isupper     |  x.rpartition  |  x.zfill|\n",
    "\n",
    "\n",
    "Dans la cellule suivante, placez votre curcseur après le point de `ma_chaine.` puis enfoncer la touche `Tab`, vous devez voir toutes les méthodes possibles..."
   ]
  },
  {
   "cell_type": "code",
   "execution_count": 23,
   "metadata": {},
   "outputs": [
    {
     "data": {
      "text/plain": [
       "<function str.capitalize()>"
      ]
     },
     "execution_count": 23,
     "metadata": {},
     "output_type": "execute_result"
    }
   ],
   "source": [
    "ma_chaine.capitalize"
   ]
  },
  {
   "cell_type": "code",
   "execution_count": 24,
   "metadata": {},
   "outputs": [
    {
     "data": {
      "text/plain": [
       "<function str.count>"
      ]
     },
     "execution_count": 24,
     "metadata": {},
     "output_type": "execute_result"
    }
   ],
   "source": [
    "ma_chaine.count"
   ]
  },
  {
   "cell_type": "code",
   "execution_count": 25,
   "metadata": {},
   "outputs": [
    {
     "data": {
      "text/plain": [
       "<function str.title()>"
      ]
     },
     "execution_count": 25,
     "metadata": {},
     "output_type": "execute_result"
    }
   ],
   "source": [
    "ma_chaine.title"
   ]
  },
  {
   "cell_type": "code",
   "execution_count": 26,
   "metadata": {},
   "outputs": [
    {
     "name": "stdout",
     "output_type": "stream",
     "text": [
      "0\n",
      "-1\n"
     ]
    }
   ],
   "source": [
    "print(ma_chaine.count('e'))  # on indique le nombre de fois où le caractère e apparaît dans la chaîne\n",
    "print(ma_chaine.find('n'))   # on cherche l'indice de la première occurence du caractère v"
   ]
  },
  {
   "cell_type": "markdown",
   "metadata": {},
   "source": [
    "<h3 class='fa fa-code' style=\"color: MediumSeaGreen\"> A faire vous même n°7 :</h3>\n",
    "\n",
    "- **Reprendre** le \"A faire vous même n°5\" en utilisant une méthode de la class `str`."
   ]
  },
  {
   "cell_type": "markdown",
   "metadata": {},
   "source": [
    "<h3 class='fa fa-cog' style=\"color: MediumSeaGreen\"> A faire vous même n°8 :</h3>\n",
    "\n",
    "- **Tester** le script Python de la cellule de code suivante pour le comprendre ;\n",
    "- **Commenter** chaque ligne du code pour expliquer son fonctionnement."
   ]
  },
  {
   "cell_type": "code",
   "execution_count": 30,
   "metadata": {},
   "outputs": [
    {
     "name": "stdout",
     "output_type": "stream",
     "text": [
      "EQWEQW\"EC\"XC\"\n",
      "coucou ca va \n"
     ]
    }
   ],
   "source": [
    "def nouveau(message): # definir une variable\n",
    "    \"\"\" Spécifications:\n",
    "    #à compléter\n",
    "    \n",
    "    \"\"\"\n",
    "    message = message.upper()\n",
    "    m = \"\"\n",
    "    for lettre in message: # pour chaque lettre dans le message\n",
    "        d = ord(lettre) \n",
    "        d = d + 2\n",
    "        m = m + chr(d)\n",
    "    return m\n",
    "\n",
    "message = input(\"Entrez un message\") #entrez un message\n",
    "if message : #si le message\n",
    "    nouveau_message = nouveau(message) \n",
    "    print(nouveau_message) #imprimez le message qu'il renvoie \n",
    "    print(message) #impeimez le message que j'ai mi"
   ]
  },
  {
   "cell_type": "markdown",
   "metadata": {},
   "source": [
    "## Le slicing\n",
    "\n",
    "Le **_slicing_** est une méthode applicable à tous les objets de type liste ordonnée (liste ou chaîne de caractère mais pas aux dictionnaires). ll s'agit d'un \"découpage en tranches\" des éléments d'une liste de manière à récupérer des objets respectant cette découpe.\n",
    "\n",
    "Pour cela, nous devrons spécifier l'indice de l'élément de départ, l'indice de l'élément d'arrivée (qui ne sera pas compris dans la plage) et le pas de déplacement. Pour une variable v donnée, l'écriture se fera en utilisant la notation entre crochets et en séparant chacun des paramètres par le caractère deux-points: **_v[début:fin:pas]_**. Cette écriture peut se traduire par : les caractères de la variable **_v_** depuis l'indice **_début_** jusqu'à l'indice **_fin_** non compris avec un déplacement de **_pas_** caractère(s).  \n",
    "\n",
    "Pour bien comprendre le fonctionnement du slicing, nous commencerons par l'appliquer aux chaînes de caractères avant de voir les listes et les tuples."
   ]
  },
  {
   "cell_type": "code",
   "execution_count": null,
   "metadata": {},
   "outputs": [],
   "source": [
    "une_chaine [1:5] # de l'indice 1 inclus à l'indice 5 exclus"
   ]
  },
  {
   "cell_type": "code",
   "execution_count": null,
   "metadata": {},
   "outputs": [],
   "source": [
    "une_chaine [2:] # de l'indice 2 inclus jusqu'à la fin"
   ]
  },
  {
   "cell_type": "code",
   "execution_count": null,
   "metadata": {},
   "outputs": [],
   "source": [
    "une_chaine [:-1] # du début à l'indice -1 exclus"
   ]
  },
  {
   "cell_type": "code",
   "execution_count": null,
   "metadata": {},
   "outputs": [],
   "source": [
    "une_chaine [::-1] # en partant de la fin et à l'envers vers le début"
   ]
  },
  {
   "cell_type": "code",
   "execution_count": null,
   "metadata": {},
   "outputs": [],
   "source": [
    "une_chaine [::2] # afficher tout par pas de 2"
   ]
  },
  {
   "cell_type": "markdown",
   "metadata": {},
   "source": [
    "<div class=\"alert alert-warning\" >\n",
    "\n",
    "<h1 class='fa fa-code' align=\"center\"> Application 1 : Le chiffre de César</h1>\n",
    "\n",
    "Le chiffre de César est une méthode de chiffrement consistant à décaler les lettres de l'alphabet de quelques crans.\n",
    "\n",
    "Par exemple, si on décale les lettres de 3 rangs (comme le faisait Jules César)\n",
    "\n",
    "<img src=\"https://ericecmorlaix.github.io/img/ChiffreDeCesar.jpg\" alt=\"ChiffreDeCesar.jpg\">\n",
    "</div>"
   ]
  },
  {
   "cell_type": "markdown",
   "metadata": {},
   "source": [
    "<div class = \"alert alert-danger\"> \n",
    "\n",
    "<h3>L'objectif :</h3>\n",
    "\n",
    "- Écrire un programme Python qui implémente le chiffre de César en utilisant les fonctions ord() et chr().\n",
    "\n",
    "- On doit pouvoir choisir le décalage des lettres entre 1 et 25.\n",
    "\n",
    "- L'entrée sera un texte quelconque <u> sans accents et sans ponctuation</u> ; par contre, le texte d'entrée sera composé de majuscules et de minuscules.\n",
    "\n",
    "- Le texte de sortie sera écrit tout en majuscules.\n",
    "\n",
    "- Les espaces du texte d'entrée se retrouveront aux mêmes endroits dans le texte chiffré.\n",
    "\n",
    "- Faites en sorte que l'on puisse crypter, mais aussi décrypter un message.\n",
    "    \n",
    "</div>\n",
    "\n",
    "\n",
    "      "
   ]
  },
  {
   "cell_type": "markdown",
   "metadata": {},
   "source": [
    "<div class = \"alert alert-info\">\n",
    "<h3>Un peu d'aide :</h3>    \n",
    "\n",
    "\n",
    "\n",
    "**La notion de \"modulo\"**\n",
    "\n",
    "Considérons les nombres de $0$ à $25$, il y en a $26$.\n",
    "\n",
    "Lorsqu'on divise un nombre par 26, les restes possibles sont compris entre $0$ et $25$.\n",
    "\n",
    "**Par exemple :**\n",
    "- Dans la division Euclidienne de $17$ par $26$ le reste est $17$ ;\n",
    "- Dans la division Euclidienne de $28$ par $26$ le reste est $ 2$.\n",
    "\n",
    "**En Python : l'opération  28 % 26 donne 2 comme résultat**\n",
    "\n",
    "Sachant que les lettres majuscules sont sur la plage 65 (pour A) à 90 (pour Z).\n",
    "\n",
    "Pour ramener les lettres de l'alphabet sur la plage $[0 ,1,2,...,25]$, il suffit de retirer $65$ au code ASCII de la lettre.\n",
    "\n",
    "Cette opération permet de considérer que les nombres associés aux lettres de l'alphabet vont de $0$ à $25$.\n",
    "    \n",
    "</div>"
   ]
  },
  {
   "cell_type": "markdown",
   "metadata": {},
   "source": [
    "<div class = \"alert alert-success\"> \n",
    "\n",
    "<h3>Appliquons cela au chiffrement de César :</h3>\n",
    "\n",
    "<br>\n",
    "    \n",
    "**Comment se code la lettre $C$ :**\n",
    "\n",
    "- Le code ASCII de $C$ est $67$ ;\n",
    "- On retire $65$, on trouve $2$ ;\n",
    "- On applique le décalage de César : on trouve $5$ ;\n",
    "- On calcule le reste dans la division Euclidienne de $5$ par $26$ : On trouve $5$ ;\n",
    "- On ajoute $65$, on trouve $70$ ;\n",
    "- On transforme ce code ASCII en lettre : $chr(70)$, on trouve $F$.\n",
    "\n",
    "<br>\n",
    "    \n",
    "**Comment se code la lettre $Y$ :**\n",
    "\n",
    "- Le code ASCII de $Y$ est $89$ ;\n",
    "- On retire $65$, on trouve $24$ ;\n",
    "- On applique le décalage de César : on trouve $27$ ;\n",
    "- On calcule le reste dans la division Euclidienne de $27$ par $26$ : On trouve $1$ ;\n",
    "- On ajoute $65$, on trouve $66$ ;\n",
    "- On transforme ce code ASCII en lettre : $chr(66)$, on trouve $B$.\n",
    "</div>\n",
    "\n",
    "\n"
   ]
  },
  {
   "cell_type": "code",
   "execution_count": 2,
   "metadata": {},
   "outputs": [
    {
     "data": {
      "text/plain": [
       "'F'"
      ]
     },
     "execution_count": 2,
     "metadata": {},
     "output_type": "execute_result"
    }
   ],
   "source": [
    "lettre = \"C\"\n",
    "result = ord(lettre) -65 +3\n",
    "result_2 = result % 26\n",
    "result_3 = result_2 +65\n",
    "chr((result_3))\n"
   ]
  },
  {
   "cell_type": "code",
   "execution_count": 1,
   "metadata": {},
   "outputs": [
    {
     "data": {
      "text/plain": [
       "'B'"
      ]
     },
     "execution_count": 1,
     "metadata": {},
     "output_type": "execute_result"
    }
   ],
   "source": [
    "lettre = \"Y\"\n",
    "result = ord(lettre) -65 +3\n",
    "result_2 = result % 26\n",
    "result_3 = result_2 +65\n",
    "chr((result_3))\n"
   ]
  },
  {
   "cell_type": "code",
   "execution_count": 2,
   "metadata": {},
   "outputs": [
    {
     "name": "stdout",
     "output_type": "stream",
     "text": [
      "C\n",
      "C\n"
     ]
    }
   ],
   "source": [
    "# essaie de la fonction cesar, elle ne marche pas \n",
    "phrase = input(\"Ecrivez une mot:\") # On récupère la phrase \n",
    "print(phrase) # On l'imprime pour savoir ce que j'ai mis\n",
    "\n",
    "for lettre in phrase : # pour chaque lettre dans la phrase\n",
    "    #je fait le calcul\n",
    "    result = ord(lettre) -65 +3\n",
    "    result_2 = result % 26\n",
    "    result_3 = result_2 +65\n",
    "    chr((result_3)) \n",
    "\n",
    "print(phrase)"
   ]
  },
  {
   "cell_type": "code",
   "execution_count": 5,
   "metadata": {},
   "outputs": [
    {
     "name": "stdout",
     "output_type": "stream",
     "text": [
      "FRXFRX FD YD\n",
      "coucou ca va\n"
     ]
    }
   ],
   "source": [
    "# ma fonction cesar\n",
    "def nouveau(message): # definir une variable\n",
    "    \"\"\" Spécifications:\n",
    "    \n",
    "    \"\"\"\n",
    "    message = message.upper() #message en majuscule\n",
    "    m = \"\"\n",
    "    for lettre in message: # pour chaque lettre dans le message\n",
    "        if ord(lettre)!=32: #si...\n",
    "            # je fait le calcul\n",
    "            d = ord(lettre) -65 +3 \n",
    "            d = d % 26\n",
    "            d = d+65\n",
    "            m = m + chr(d)\n",
    "        else: #sinon\n",
    "            m = m + \" \" #je met un espace\n",
    "    return m\n",
    "\n",
    "message = input(\"Entrez un message\") #entrez un message\n",
    "if message : #si le message\n",
    "    nouveau_message = nouveau(message) \n",
    "    print(nouveau_message) #imprimez le message qu'il renvoie \n",
    "    print(message) #impeimez le message que j'ai mi"
   ]
  },
  {
   "cell_type": "code",
   "execution_count": 19,
   "metadata": {},
   "outputs": [
    {
     "name": "stdout",
     "output_type": "stream",
     "text": [
      "frxfrx\n"
     ]
    }
   ],
   "source": [
    "#fontion rechercher sur internet\n",
    "# On récupère les données.\n",
    "phrase = input(\"Ecrivez une phrase:\")\n",
    "decalage = int(input(\"Valeur du décalage en chiffres ?\"))  # Conversion\n",
    " \n",
    "maping = {}\n",
    "for i in range(26):  # Pour chaque nombre de 0 à 25\n",
    "    i_caesar = (i + decalage) % 26  # Modulo 26, pour toujours avoir un résultat compris entre 0 et 25 inclus (modulo 26 = reste de la division euclidienne par 26).\n",
    "    # On ajoute à ces nombre la \"valeur\" de la lettre a, et on les convertit en lettres\n",
    "    c_caesar = chr(i_caesar + ord('a'))\n",
    "    c = chr(i + ord('a'))\n",
    "    maping[c] = c_caesar\n",
    "\n",
    "result = \"\"\n",
    "for c in phrase:  # Pour chaque caractère de phrase\n",
    "    result = result + maping[c]\n",
    "print(result)"
   ]
  },
  {
   "cell_type": "markdown",
   "metadata": {},
   "source": [
    "\n",
    "\n",
    "\n"
   ]
  },
  {
   "cell_type": "markdown",
   "metadata": {},
   "source": [
    "****\n",
    "## Références aux programmes :\n",
    "\n",
    "<style type=\"text/css\">\n",
    ".tg  {border-collapse:collapse;border-spacing:0;}\n",
    ".tg td{font-family:Arial, sans-serif;font-size:14px;padding:10px 5px;border-style:solid;border-width:1px;overflow:hidden;word-break:normal;border-color:black;}\n",
    ".tg th{font-family:Arial, sans-serif;font-size:14px;font-weight:normal;padding:10px 5px;border-style:solid;border-width:1px;overflow:hidden;word-break:normal;border-color:black;}\n",
    ".tg .tg-cv16{font-weight:bold;background-color:#dae8fc;border-color:inherit;text-align:center}\n",
    ".tg .tg-xldj{border-color:inherit;text-align:left}\n",
    "</style>\n",
    "<table class=\"tg\">\n",
    "  <tr>\n",
    "    <th class=\"tg-cv16\">Compétences développées</th>\n",
    "    <th class=\"tg-cv16\">Capacités attendues</th>\n",
    "    <th class=\"tg-cv16\">Commentaires</th>\n",
    "  </tr>\n",
    "  <tr>\n",
    "    <td class=\"tg-xldj\">Représentation d’un texte en machine.<br><br>Exemples des encodages ASCII, ISO-8859-1, Unicode</td>\n",
    "    <td class=\"tg-xldj\">Identifier l’intérêt des différents systèmes d’encodage.<br><br>Convertir un fichier texte dans différents formats d’encodage.</td>\n",
    "    <td class=\"tg-xldj\">Aucune connaissance précise des normes d’encodage n’est exigible.</td>\n",
    "  </tr>\n",
    "</table>"
   ]
  },
  {
   "cell_type": "markdown",
   "metadata": {},
   "source": [
    "<a rel=\"license\" href=\"http://creativecommons.org/licenses/by-sa/4.0/\"><img alt=\"Licence Creative Commons\" style=\"border-width:0\" src=\"https://i.creativecommons.org/l/by-sa/4.0/88x31.png\" /></a><br />Ce document est mis à disposition selon les termes de la <a rel=\"license\" href=\"http://creativecommons.org/licenses/by-sa/4.0/\">Licence Creative Commons Attribution -  Partage dans les Mêmes Conditions 4.0 International</a>.\n",
    "\n",
    "Pour toute question, suggestion ou commentaire : <a href=\"mailto:eric.madec@ecmorlaix.fr\">eric.madec@ecmorlaix.fr</a>"
   ]
  },
  {
   "cell_type": "code",
   "execution_count": null,
   "metadata": {},
   "outputs": [],
   "source": []
  }
 ],
 "metadata": {
  "kernelspec": {
   "display_name": "Python 3",
   "language": "python",
   "name": "python3"
  },
  "language_info": {
   "codemirror_mode": {
    "name": "ipython",
    "version": 3
   },
   "file_extension": ".py",
   "mimetype": "text/x-python",
   "name": "python",
   "nbconvert_exporter": "python",
   "pygments_lexer": "ipython3",
   "version": "3.8.13 (default, Oct  4 2022, 14:00:32) \n[GCC 9.4.0]"
  },
  "toc": {
   "base_numbering": 1,
   "nav_menu": {},
   "number_sections": true,
   "sideBar": true,
   "skip_h1_title": false,
   "title_cell": "Table of Contents",
   "title_sidebar": "Contents",
   "toc_cell": false,
   "toc_position": {},
   "toc_section_display": true,
   "toc_window_display": false
  },
  "varInspector": {
   "cols": {
    "lenName": 16,
    "lenType": 16,
    "lenVar": 40
   },
   "kernels_config": {
    "python": {
     "delete_cmd_postfix": "",
     "delete_cmd_prefix": "del ",
     "library": "var_list.py",
     "varRefreshCmd": "print(var_dic_list())"
    },
    "r": {
     "delete_cmd_postfix": ") ",
     "delete_cmd_prefix": "rm(",
     "library": "var_list.r",
     "varRefreshCmd": "cat(var_dic_list()) "
    }
   },
   "types_to_exclude": [
    "module",
    "function",
    "builtin_function_or_method",
    "instance",
    "_Feature"
   ],
   "window_display": false
  },
  "vscode": {
   "interpreter": {
    "hash": "9ac03a0a6051494cc606d484d27d20fce22fb7b4d169f583271e11d5ba46a56e"
   }
  }
 },
 "nbformat": 4,
 "nbformat_minor": 4
}
